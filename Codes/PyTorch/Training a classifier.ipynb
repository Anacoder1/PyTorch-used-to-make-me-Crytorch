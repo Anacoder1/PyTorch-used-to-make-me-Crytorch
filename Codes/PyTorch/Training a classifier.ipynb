{
  "nbformat": 4,
  "nbformat_minor": 0,
  "metadata": {
    "colab": {
      "name": "Untitled5.ipynb",
      "version": "0.3.2",
      "provenance": [],
      "collapsed_sections": []
    },
    "kernelspec": {
      "name": "python3",
      "display_name": "Python 3"
    },
    "accelerator": "GPU"
  },
  "cells": [
    {
      "cell_type": "markdown",
      "metadata": {
        "id": "3U00DltatThi",
        "colab_type": "text"
      },
      "source": [
        "## Loading and normalizing CIFAR10"
      ]
    },
    {
      "cell_type": "code",
      "metadata": {
        "id": "6UXi6A63b8Vd",
        "colab_type": "code",
        "colab": {}
      },
      "source": [
        "import torch\n",
        "import torchvision\n",
        "import torchvision.transforms as transforms"
      ],
      "execution_count": 0,
      "outputs": []
    },
    {
      "cell_type": "code",
      "metadata": {
        "id": "_M_EbwzycUkB",
        "colab_type": "code",
        "colab": {
          "base_uri": "https://localhost:8080/",
          "height": 91
        },
        "outputId": "ce03f8fb-caea-4558-d00f-290d63be0226"
      },
      "source": [
        "transform = transforms.Compose(\n",
        "    [transforms.ToTensor(),\n",
        "     transforms.Normalize((0.5, 0.5, 0.5), (0.5, 0.5, 0.5))]\n",
        ")\n",
        "\n",
        "trainset = torchvision.datasets.CIFAR10(root = './data',\n",
        "                                        train = True,\n",
        "                                        download = True,\n",
        "                                        transform = transform)\n",
        "\n",
        "trainloader = torch.utils.data.DataLoader(trainset, batch_size = 4,\n",
        "                                          shuffle = True,\n",
        "                                          num_workers = 2)\n",
        "\n",
        "testset = torchvision.datasets.CIFAR10(root = './data',\n",
        "                                       train= False,\n",
        "                                       download = True,\n",
        "                                       transform = transform)\n",
        "\n",
        "testloader = torch.utils.data.DataLoader(testset, batch_size = 4,\n",
        "                                         shuffle = False,\n",
        "                                         num_workers = 2)\n",
        "\n",
        "classes = ('plane', 'car', 'bird', 'cat',\n",
        "           'deer', 'dog', 'frog', 'horse',\n",
        "           'ship', 'truck')"
      ],
      "execution_count": 2,
      "outputs": [
        {
          "output_type": "stream",
          "text": [
            "\r0it [00:00, ?it/s]"
          ],
          "name": "stderr"
        },
        {
          "output_type": "stream",
          "text": [
            "Downloading https://www.cs.toronto.edu/~kriz/cifar-10-python.tar.gz to ./data/cifar-10-python.tar.gz\n"
          ],
          "name": "stdout"
        },
        {
          "output_type": "stream",
          "text": [
            "170500096it [00:06, 26758911.53it/s]                               \n"
          ],
          "name": "stderr"
        },
        {
          "output_type": "stream",
          "text": [
            "Files already downloaded and verified\n"
          ],
          "name": "stdout"
        }
      ]
    },
    {
      "cell_type": "markdown",
      "metadata": {
        "id": "ksM3xuMEds7J",
        "colab_type": "text"
      },
      "source": [
        "###Seeing some of the training images for fun."
      ]
    },
    {
      "cell_type": "code",
      "metadata": {
        "id": "FOtbaQ0fdlRM",
        "colab_type": "code",
        "colab": {
          "base_uri": "https://localhost:8080/",
          "height": 157
        },
        "outputId": "ed6bc6ba-76e6-404e-d293-caf56301ed68"
      },
      "source": [
        "import matplotlib.pyplot as plt\n",
        "import numpy as np\n",
        "\n",
        "## functions to show an image\n",
        "\n",
        "def imshow(img):\n",
        "  img = img / 2 + 0.5 ## unnormalize\n",
        "  npimg = img.numpy()\n",
        "  plt.imshow(np.transpose(npimg, (1, 2, 0)))\n",
        "  plt.show()\n",
        "  \n",
        "## get some random training images\n",
        "\n",
        "dataiter = iter(trainloader)\n",
        "images, labels = dataiter.next()\n",
        "\n",
        "## show images\n",
        "\n",
        "imshow(torchvision.utils.make_grid(images))\n",
        "\n",
        "## print labels\n",
        "\n",
        "print(' '.join('%5s' % classes[labels[j]] for j in range(4)))"
      ],
      "execution_count": 3,
      "outputs": [
        {
          "output_type": "display_data",
          "data": {
            "image/png": "[encoded data removed]",
            "text/plain": [
              "<Figure size 432x288 with 1 Axes>"
            ]
          },
          "metadata": {
            "tags": []
          }
        },
        {
          "output_type": "stream",
          "text": [
            "horse plane plane  deer\n"
          ],
          "name": "stdout"
        }
      ]
    },
    {
      "cell_type": "markdown",
      "metadata": {
        "id": "EoA4G5Qee1Ws",
        "colab_type": "text"
      },
      "source": [
        "## Defining a CNN\n",
        "\n",
        "### This will take 3-channel images"
      ]
    },
    {
      "cell_type": "code",
      "metadata": {
        "id": "3gzM2Ew8etV7",
        "colab_type": "code",
        "colab": {}
      },
      "source": [
        "import torch.nn as nn\n",
        "import torch.nn.functional as F\n",
        "\n",
        "class Net(nn.Module):\n",
        "  def __init__(self):\n",
        "    super(Net, self).__init__()\n",
        "    self.conv1 = nn.Conv2d(3, 6, 5)\n",
        "    self.pool = nn.MaxPool2d(2, 2)\n",
        "    self.conv2 = nn.Conv2d(6, 16, 5)\n",
        "    self.fc1 = nn.Linear(16 * 5 * 5, 120)\n",
        "    self.fc2 = nn.Linear(120, 84)\n",
        "    self.fc3 = nn.Linear(84, 10)\n",
        "    \n",
        "  def forward(self, x):\n",
        "    x = self.pool(F.relu(self.conv1(x)))\n",
        "    x = self.pool(F.relu(self.conv2(x)))\n",
        "    x = x.view(-1, 16 * 5 * 5)\n",
        "    x = F.relu(self.fc1(x))\n",
        "    x = F.relu(self.fc2(x))\n",
        "    x = self.fc3(x)\n",
        "    return x\n",
        "  \n",
        "net = Net()"
      ],
      "execution_count": 0,
      "outputs": []
    },
    {
      "cell_type": "markdown",
      "metadata": {
        "id": "JwBK82PegeAE",
        "colab_type": "text"
      },
      "source": [
        "## Defining a Loss function and optimizer"
      ]
    },
    {
      "cell_type": "code",
      "metadata": {
        "id": "j1bLaCf9gbyj",
        "colab_type": "code",
        "colab": {}
      },
      "source": [
        "## Using a Classification Cross-Entropy loss and SGD with momentum\n",
        "\n",
        "import torch.optim as optim\n",
        "\n",
        "criterion = nn.CrossEntropyLoss()\n",
        "optimizer = optim.SGD(net.parameters(), lr = 0.001,\n",
        "                      momentum = 0.9)"
      ],
      "execution_count": 0,
      "outputs": []
    },
    {
      "cell_type": "markdown",
      "metadata": {
        "id": "ykiRaLy0h-6B",
        "colab_type": "text"
      },
      "source": [
        "## Training the network"
      ]
    },
    {
      "cell_type": "code",
      "metadata": {
        "id": "pWuUbjbZhpxP",
        "colab_type": "code",
        "colab": {
          "base_uri": "https://localhost:8080/",
          "height": 249
        },
        "outputId": "df49976c-67bd-4023-826e-c60bae0cb6de"
      },
      "source": [
        "for epoch in range(2):  ## loop over the dataset multiple times\n",
        "  \n",
        "  running_loss = 0.0\n",
        "  for i, data in enumerate(trainloader, 0):\n",
        "    ## get the inputs; data is a list of [inputs, labels]\n",
        "    inputs, labels = data\n",
        "    \n",
        "    ## zero the parameter gradients\n",
        "    optimizer.zero_grad()\n",
        "    \n",
        "    ## forward + backward + optimize\n",
        "    outputs = net(inputs)\n",
        "    loss = criterion(outputs, labels)\n",
        "    loss.backward()\n",
        "    optimizer.step()\n",
        "    \n",
        "    ## print statistics\n",
        "    running_loss += loss.item()\n",
        "    if i % 2000 == 1999:  ## print every 2000 mini-batches\n",
        "      print('[%d, %5d] loss: %.3f' %\n",
        "            (epoch + 1, i + 1, running_loss / 2000))\n",
        "      running_loss = 0.0\n",
        "      \n",
        "print('Finished Training')"
      ],
      "execution_count": 6,
      "outputs": [
        {
          "output_type": "stream",
          "text": [
            "[1,  2000] loss: 2.246\n",
            "[1,  4000] loss: 1.882\n",
            "[1,  6000] loss: 1.664\n",
            "[1,  8000] loss: 1.577\n",
            "[1, 10000] loss: 1.506\n",
            "[1, 12000] loss: 1.442\n",
            "[2,  2000] loss: 1.382\n",
            "[2,  4000] loss: 1.366\n",
            "[2,  6000] loss: 1.314\n",
            "[2,  8000] loss: 1.300\n",
            "[2, 10000] loss: 1.292\n",
            "[2, 12000] loss: 1.282\n",
            "Finished Training\n"
          ],
          "name": "stdout"
        }
      ]
    },
    {
      "cell_type": "markdown",
      "metadata": {
        "id": "Fyty-BpEnuqy",
        "colab_type": "text"
      },
      "source": [
        "## Testing the network on the test data"
      ]
    },
    {
      "cell_type": "markdown",
      "metadata": {
        "id": "GGNGowYun7TQ",
        "colab_type": "text"
      },
      "source": [
        "### 1) We'll predict the class label that the NN outputs, and check it against the ground-truth. If the prediction is correct, we'll add the sample to the list of correct predictions.\n",
        "\n",
        "### Let's display an image from the test set"
      ]
    },
    {
      "cell_type": "code",
      "metadata": {
        "id": "80BMvJdGnPUi",
        "colab_type": "code",
        "colab": {
          "base_uri": "https://localhost:8080/",
          "height": 157
        },
        "outputId": "bff39a5c-edc7-4c20-d4dd-3f40b95411ca"
      },
      "source": [
        "dataiter = iter(testloader)\n",
        "images, labels = dataiter.next()\n",
        "\n",
        "## print images\n",
        "imshow(torchvision.utils.make_grid(images))\n",
        "print('Ground Truth: ', ' '.join('%5s' % classes[labels[j]] for j in range(4)))"
      ],
      "execution_count": 7,
      "outputs": [
        {
          "output_type": "display_data",
          "data": {
            "image/png": "[encoded data removed]",
            "text/plain": [
              "<Figure size 432x288 with 1 Axes>"
            ]
          },
          "metadata": {
            "tags": []
          }
        },
        {
          "output_type": "stream",
          "text": [
            "Ground Truth:    cat  ship  ship plane\n"
          ],
          "name": "stdout"
        }
      ]
    },
    {
      "cell_type": "markdown",
      "metadata": {
        "id": "zzk6WqtRokpb",
        "colab_type": "text"
      },
      "source": [
        "### And what does the NN think these examples above are?"
      ]
    },
    {
      "cell_type": "code",
      "metadata": {
        "id": "WsNCbifxogGM",
        "colab_type": "code",
        "colab": {}
      },
      "source": [
        "outputs = net(images)"
      ],
      "execution_count": 0,
      "outputs": []
    },
    {
      "cell_type": "markdown",
      "metadata": {
        "id": "JGpURf-3ouog",
        "colab_type": "text"
      },
      "source": [
        "### 2) The outputs are energies for the 10 classes. \n",
        "\n",
        "### The higher the energy for a class, the more the network thinks that the image is of the particular class. Let's get the index of the highest energy:"
      ]
    },
    {
      "cell_type": "code",
      "metadata": {
        "id": "5P9JEESlotIf",
        "colab_type": "code",
        "colab": {
          "base_uri": "https://localhost:8080/",
          "height": 35
        },
        "outputId": "8977e138-2617-41b0-f131-0252b7029c2e"
      },
      "source": [
        "_, predicted = torch.max(outputs, 1)\n",
        "\n",
        "print('Predicted: ', ' '.join('%5s' % classes[predicted[j]]\n",
        "                               for j in range(4)))"
      ],
      "execution_count": 9,
      "outputs": [
        {
          "output_type": "stream",
          "text": [
            "Predicted:    cat   car   car plane\n"
          ],
          "name": "stdout"
        }
      ]
    },
    {
      "cell_type": "markdown",
      "metadata": {
        "id": "ccRI-78opah3",
        "colab_type": "text"
      },
      "source": [
        "### 3) Let's look at how the network performs on the whole dataset:"
      ]
    },
    {
      "cell_type": "code",
      "metadata": {
        "id": "mxHgdL_ppRTJ",
        "colab_type": "code",
        "colab": {
          "base_uri": "https://localhost:8080/",
          "height": 35
        },
        "outputId": "fbb32bdf-9fec-4451-d835-0842852b9664"
      },
      "source": [
        "correct = 0\n",
        "total = 0\n",
        "with torch.no_grad():\n",
        "  for data in testloader:\n",
        "    images, labels = data\n",
        "    outputs = net(images)\n",
        "    _, predicted = torch.max(outputs.data, 1)\n",
        "    total += labels.size(0)\n",
        "    correct += (predicted == labels).sum().item()\n",
        "    \n",
        "print('Accuracy of the network on the 10000 test images: %d %%' % (\n",
        "    100 * correct / total\n",
        "))"
      ],
      "execution_count": 10,
      "outputs": [
        {
          "output_type": "stream",
          "text": [
            "Accuracy of the network on the 10000 test images: 56 %\n"
          ],
          "name": "stdout"
        }
      ]
    },
    {
      "cell_type": "markdown",
      "metadata": {
        "id": "b1fpmakZqRQu",
        "colab_type": "text"
      },
      "source": [
        "### 4) Which classes performed well? Which didn't?"
      ]
    },
    {
      "cell_type": "code",
      "metadata": {
        "id": "OrfE6aTKqKtT",
        "colab_type": "code",
        "colab": {
          "base_uri": "https://localhost:8080/",
          "height": 196
        },
        "outputId": "d3f71052-3a24-4167-e036-794504843f88"
      },
      "source": [
        "class_correct = list(0. for i in range(10))\n",
        "class_total = list(0. for i in range(10))\n",
        "\n",
        "with torch.no_grad():\n",
        "  for data in testloader:\n",
        "    images, labels = data\n",
        "    outputs = net(images)\n",
        "    _, predicted = torch.max(outputs, 1)\n",
        "    c = (predicted == labels).squeeze()\n",
        "    for i in range(4):\n",
        "      label = labels[i]\n",
        "      class_correct[label] += c[i].item()\n",
        "      class_total[label] += 1\n",
        "      \n",
        "for i in range(10):\n",
        "  print('Accuracy of %5s: %2d %%' % (\n",
        "      classes[i], 100 * class_correct[i] / class_total[i]\n",
        "  ))"
      ],
      "execution_count": 11,
      "outputs": [
        {
          "output_type": "stream",
          "text": [
            "Accuracy of plane: 58 %\n",
            "Accuracy of   car: 85 %\n",
            "Accuracy of  bird: 44 %\n",
            "Accuracy of   cat: 37 %\n",
            "Accuracy of  deer: 38 %\n",
            "Accuracy of   dog: 67 %\n",
            "Accuracy of  frog: 55 %\n",
            "Accuracy of horse: 61 %\n",
            "Accuracy of  ship: 59 %\n",
            "Accuracy of truck: 53 %\n"
          ],
          "name": "stdout"
        }
      ]
    },
    {
      "cell_type": "markdown",
      "metadata": {
        "id": "UWlygu7Cr5xN",
        "colab_type": "text"
      },
      "source": [
        "## Training on GPU"
      ]
    },
    {
      "cell_type": "markdown",
      "metadata": {
        "id": "qrrotWqHr-JU",
        "colab_type": "text"
      },
      "source": [
        "### Just as we transfer a Tensor onto the GPU, we transfer the neural net onto the GPU\n",
        "\n",
        "### Let's define our device as the first visible cuda device if we have CUDA available:"
      ]
    },
    {
      "cell_type": "code",
      "metadata": {
        "id": "ElF8qKzrraEF",
        "colab_type": "code",
        "colab": {
          "base_uri": "https://localhost:8080/",
          "height": 35
        },
        "outputId": "fda8232e-2ce7-40fa-c405-9812b774ff11"
      },
      "source": [
        "device = torch.device(\"cuda: 0\" if torch.cuda.is_available() else \"cpu\")\n",
        "\n",
        "## Assuming that we are on a CUDA machine, this should print a CUDA device:\n",
        "\n",
        "print(device)"
      ],
      "execution_count": 12,
      "outputs": [
        {
          "output_type": "stream",
          "text": [
            "cuda:0\n"
          ],
          "name": "stdout"
        }
      ]
    },
    {
      "cell_type": "code",
      "metadata": {
        "id": "DlGNQPpJsepS",
        "colab_type": "code",
        "colab": {}
      },
      "source": [
        "## These methods will recursively go over all modules and convert their\n",
        "## parameters and buffers to CUDA tensors\n",
        "\n",
        "net.to(device)\n",
        "\n",
        "## We will have to send the inputs and targets at every step to the GPU too:\n",
        "\n",
        "inputs, labels = data[0].to(device), data[1].to(device)"
      ],
      "execution_count": 0,
      "outputs": []
    }
  ]
}