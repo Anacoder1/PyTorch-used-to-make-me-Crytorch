{
  "nbformat": 4,
  "nbformat_minor": 0,
  "metadata": {
    "colab": {
      "name": "Feedforward Neural Network.ipynb",
      "version": "0.3.2",
      "provenance": [],
      "collapsed_sections": []
    },
    "kernelspec": {
      "name": "python3",
      "display_name": "Python 3"
    },
    "accelerator": "GPU"
  },
  "cells": [
    {
      "cell_type": "code",
      "metadata": {
        "id": "NYgyZ6BV5IH0",
        "colab_type": "code",
        "colab": {}
      },
      "source": [
        "import torch\n",
        "import torch.nn as nn\n",
        "import torchvision\n",
        "import torchvision.transforms as transforms"
      ],
      "execution_count": 0,
      "outputs": []
    },
    {
      "cell_type": "code",
      "metadata": {
        "id": "eW9kKdQU5Tgo",
        "colab_type": "code",
        "colab": {}
      },
      "source": [
        "## Device configuration\n",
        "\n",
        "device = torch.device('cuda' if torch.cuda.is_available() else 'cpu')"
      ],
      "execution_count": 0,
      "outputs": []
    },
    {
      "cell_type": "code",
      "metadata": {
        "id": "JjU6rKEr5bXK",
        "colab_type": "code",
        "colab": {}
      },
      "source": [
        "## Hyper-parameters\n",
        "\n",
        "input_size = 784\n",
        "hidden_size = 500\n",
        "num_classes = 10\n",
        "num_epochs = 5\n",
        "batch_size = 100\n",
        "learning_rate = 0.001"
      ],
      "execution_count": 0,
      "outputs": []
    },
    {
      "cell_type": "code",
      "metadata": {
        "id": "3usKzGDH5s6f",
        "colab_type": "code",
        "colab": {}
      },
      "source": [
        "## MNIST dataset\n",
        "\n",
        "train_dataset = torchvision.datasets.MNIST(root = '../../data',\n",
        "                                           train = True,\n",
        "                                           transform = transforms.ToTensor(),\n",
        "                                           download = True)\n",
        "\n",
        "test_dataset = torchvision.datasets.MNIST(root = '../../data',\n",
        "                                          train = False,\n",
        "                                          transform = transforms.ToTensor())"
      ],
      "execution_count": 0,
      "outputs": []
    },
    {
      "cell_type": "code",
      "metadata": {
        "id": "HOtlc1hz6t7-",
        "colab_type": "code",
        "colab": {}
      },
      "source": [
        "## Data loader\n",
        "\n",
        "train_loader = torch.utils.data.DataLoader(dataset = train_dataset,\n",
        "                                           batch_size = batch_size,\n",
        "                                           shuffle = True)\n",
        "\n",
        "test_loader = torch.utils.data.DataLoader(dataset = test_dataset,\n",
        "                                          batch_size = batch_size,\n",
        "                                          shuffle = False)"
      ],
      "execution_count": 0,
      "outputs": []
    },
    {
      "cell_type": "code",
      "metadata": {
        "id": "44lPfgob7GbI",
        "colab_type": "code",
        "colab": {}
      },
      "source": [
        "## Fully connected neural network with one hidden layer\n",
        "\n",
        "class NeuralNet(nn.Module):\n",
        "  \n",
        "  def __init__(self, input_size, hidden_size, num_classes):\n",
        "    super(NeuralNet, self).__init__()\n",
        "    self.fc1 = nn.Linear(input_size, hidden_size)\n",
        "    self.relu = nn.ReLU()\n",
        "    self.fc2 = nn.Linear(hidden_size, num_classes)\n",
        "    \n",
        "  def forward(self, x):\n",
        "    out = self.fc1(x)\n",
        "    out = self.relu(out)\n",
        "    out = self.fc2(out)\n",
        "    return out\n",
        "  \n",
        "model = NeuralNet(input_size, hidden_size, num_classes).to(device)"
      ],
      "execution_count": 0,
      "outputs": []
    },
    {
      "cell_type": "code",
      "metadata": {
        "id": "pjubWBJ18Rc1",
        "colab_type": "code",
        "colab": {}
      },
      "source": [
        "## Loss and optimizer\n",
        "\n",
        "criterion = nn.CrossEntropyLoss()\n",
        "optimizer = torch.optim.Adam(model.parameters(),\n",
        "                             lr = learning_rate)"
      ],
      "execution_count": 0,
      "outputs": []
    },
    {
      "cell_type": "code",
      "metadata": {
        "id": "8tesjAIt8jXN",
        "colab_type": "code",
        "colab": {
          "base_uri": "https://localhost:8080/",
          "height": 553
        },
        "outputId": "2752cdac-dab5-482b-fb9c-1ae4e38bbec8"
      },
      "source": [
        "## Train the model\n",
        "\n",
        "total_step = len(train_loader)\n",
        "\n",
        "for epoch in range(num_epochs):\n",
        "  for i, (images, labels) in enumerate(train_loader):\n",
        "    \n",
        "    ## Move tensors to the configured device\n",
        "    images = images.reshape(-1, 28 * 28).to(device)\n",
        "    labels = labels.to(device)\n",
        "    \n",
        "    ## Forward pass\n",
        "    outputs = model(images)\n",
        "    loss = criterion(outputs, labels)\n",
        "    \n",
        "    ## Backward pass and optimize\n",
        "    optimizer.zero_grad()\n",
        "    loss.backward()\n",
        "    optimizer.step()\n",
        "    \n",
        "    if (i + 1) % 100 == 0:\n",
        "      print ('Epoch [{} / {}], Step [{} / {}], Loss: {:.4f}'\n",
        "             .format(epoch + 1, num_epochs, i + 1, total_step, loss.item()))"
      ],
      "execution_count": 8,
      "outputs": [
        {
          "output_type": "stream",
          "text": [
            "Epoch [1 / 5], Step [100 / 600], Loss: 0.3397\n",
            "Epoch [1 / 5], Step [200 / 600], Loss: 0.3272\n",
            "Epoch [1 / 5], Step [300 / 600], Loss: 0.1405\n",
            "Epoch [1 / 5], Step [400 / 600], Loss: 0.2678\n",
            "Epoch [1 / 5], Step [500 / 600], Loss: 0.1481\n",
            "Epoch [1 / 5], Step [600 / 600], Loss: 0.1486\n",
            "Epoch [2 / 5], Step [100 / 600], Loss: 0.1791\n",
            "Epoch [2 / 5], Step [200 / 600], Loss: 0.2388\n",
            "Epoch [2 / 5], Step [300 / 600], Loss: 0.1930\n",
            "Epoch [2 / 5], Step [400 / 600], Loss: 0.0441\n",
            "Epoch [2 / 5], Step [500 / 600], Loss: 0.1138\n",
            "Epoch [2 / 5], Step [600 / 600], Loss: 0.1496\n",
            "Epoch [3 / 5], Step [100 / 600], Loss: 0.1298\n",
            "Epoch [3 / 5], Step [200 / 600], Loss: 0.0290\n",
            "Epoch [3 / 5], Step [300 / 600], Loss: 0.0461\n",
            "Epoch [3 / 5], Step [400 / 600], Loss: 0.0357\n",
            "Epoch [3 / 5], Step [500 / 600], Loss: 0.0477\n",
            "Epoch [3 / 5], Step [600 / 600], Loss: 0.0358\n",
            "Epoch [4 / 5], Step [100 / 600], Loss: 0.0782\n",
            "Epoch [4 / 5], Step [200 / 600], Loss: 0.0206\n",
            "Epoch [4 / 5], Step [300 / 600], Loss: 0.0539\n",
            "Epoch [4 / 5], Step [400 / 600], Loss: 0.0452\n",
            "Epoch [4 / 5], Step [500 / 600], Loss: 0.0509\n",
            "Epoch [4 / 5], Step [600 / 600], Loss: 0.0543\n",
            "Epoch [5 / 5], Step [100 / 600], Loss: 0.0236\n",
            "Epoch [5 / 5], Step [200 / 600], Loss: 0.0495\n",
            "Epoch [5 / 5], Step [300 / 600], Loss: 0.0487\n",
            "Epoch [5 / 5], Step [400 / 600], Loss: 0.0448\n",
            "Epoch [5 / 5], Step [500 / 600], Loss: 0.0263\n",
            "Epoch [5 / 5], Step [600 / 600], Loss: 0.0442\n"
          ],
          "name": "stdout"
        }
      ]
    },
    {
      "cell_type": "code",
      "metadata": {
        "id": "BfZzvaKF9og8",
        "colab_type": "code",
        "colab": {
          "base_uri": "https://localhost:8080/",
          "height": 35
        },
        "outputId": "64f0ae99-bd37-4869-e3ab-010ae626e2d9"
      },
      "source": [
        "## Test the model\n",
        "## In test phase, we don't need to compute gradients (for memory efficiency)\n",
        "\n",
        "with torch.no_grad():\n",
        "  \n",
        "  correct = 0\n",
        "  total = 0\n",
        "  for images, labels in test_loader:\n",
        "    images = images.reshape(-1, 28 * 28).to(device)\n",
        "    labels = labels.to(device)\n",
        "    outputs = model(images)\n",
        "    _, predicted = torch.max(outputs.data, 1)\n",
        "    total += labels.size(0)\n",
        "    correct += (predicted == labels).sum().item()\n",
        "    \n",
        "  print('Accuracy of the network on the 10000 test images: {} %'\n",
        "        .format(100 * correct / total))"
      ],
      "execution_count": 9,
      "outputs": [
        {
          "output_type": "stream",
          "text": [
            "Accuracy of the network on the 10000 test images: 97.98 %\n"
          ],
          "name": "stdout"
        }
      ]
    },
    {
      "cell_type": "code",
      "metadata": {
        "id": "puRNulOB-nEQ",
        "colab_type": "code",
        "colab": {}
      },
      "source": [
        "## Save the model checkpoint\n",
        "\n",
        "torch.save(model.state_dict(), 'model.ckpt')"
      ],
      "execution_count": 0,
      "outputs": []
    }
  ]
}