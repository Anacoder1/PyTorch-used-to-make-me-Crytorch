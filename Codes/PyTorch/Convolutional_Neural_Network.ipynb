{
  "nbformat": 4,
  "nbformat_minor": 0,
  "metadata": {
    "colab": {
      "name": "Convolutional Neural Network.ipynb",
      "version": "0.3.2",
      "provenance": [],
      "collapsed_sections": []
    },
    "kernelspec": {
      "name": "python3",
      "display_name": "Python 3"
    },
    "accelerator": "GPU"
  },
  "cells": [
    {
      "cell_type": "code",
      "metadata": {
        "id": "XL3MUyHPD0kE",
        "colab_type": "code",
        "colab": {}
      },
      "source": [
        "import torch\n",
        "import torch.nn as nn\n",
        "import torchvision\n",
        "import torchvision.transforms as transforms"
      ],
      "execution_count": 0,
      "outputs": []
    },
    {
      "cell_type": "code",
      "metadata": {
        "id": "UoPAP73CD_gT",
        "colab_type": "code",
        "colab": {}
      },
      "source": [
        "## Device configuration\n",
        "\n",
        "device = torch.device('cuda:0' if torch.cuda.is_available() else 'cpu')"
      ],
      "execution_count": 0,
      "outputs": []
    },
    {
      "cell_type": "code",
      "metadata": {
        "id": "HXrdrUBUEN1v",
        "colab_type": "code",
        "colab": {}
      },
      "source": [
        "## Hyper-parameters\n",
        "\n",
        "num_epochs = 5\n",
        "num_classes = 10\n",
        "batch_size = 100\n",
        "learning_rate = 0.001"
      ],
      "execution_count": 0,
      "outputs": []
    },
    {
      "cell_type": "code",
      "metadata": {
        "id": "60QZBmgXEZeW",
        "colab_type": "code",
        "colab": {}
      },
      "source": [
        "## MNIST dataset\n",
        "\n",
        "train_dataset = torchvision.datasets.MNIST(root = '../../data',\n",
        "                                           train = True,\n",
        "                                           transform = transforms.ToTensor(),\n",
        "                                           download = True)\n",
        "\n",
        "test_dataset = torchvision.datasets.MNIST(root = '../../data',\n",
        "                                          train = False,\n",
        "                                          transform = transforms.ToTensor())"
      ],
      "execution_count": 0,
      "outputs": []
    },
    {
      "cell_type": "code",
      "metadata": {
        "id": "pPyPV2chEy3E",
        "colab_type": "code",
        "colab": {}
      },
      "source": [
        "## Data loader\n",
        "\n",
        "train_loader = torch.utils.data.DataLoader(dataset = train_dataset,\n",
        "                                           batch_size = batch_size,\n",
        "                                           shuffle = True)\n",
        "\n",
        "test_loader = torch.utils.data.DataLoader(dataset = test_dataset,\n",
        "                                          batch_size = batch_size,\n",
        "                                          shuffle = False)"
      ],
      "execution_count": 0,
      "outputs": []
    },
    {
      "cell_type": "code",
      "metadata": {
        "id": "LTrp8ScHFc6z",
        "colab_type": "code",
        "colab": {}
      },
      "source": [
        "## Convolutional neural network (2 convolutional layers)\n",
        "\n",
        "class ConvNet(nn.Module):\n",
        "  \n",
        "  def __init__(self, num_classes = 10):\n",
        "    super(ConvNet, self).__init__()\n",
        "    self.layer1 = nn.Sequential(\n",
        "        nn.Conv2d(1, 16, kernel_size = 5, stride = 1, padding = 2),\n",
        "        nn.BatchNorm2d(16),\n",
        "        nn.ReLU(),\n",
        "        nn.MaxPool2d(kernel_size = 2, stride = 2)\n",
        "    )\n",
        "    self.layer2 = nn.Sequential(\n",
        "        nn.Conv2d(16, 32, kernel_size = 5, stride = 1, padding = 2),\n",
        "        nn.BatchNorm2d(32),\n",
        "        nn.ReLU(),\n",
        "        nn.MaxPool2d(kernel_size = 2, stride = 2)\n",
        "    )\n",
        "    self.fc = nn.Linear(7 * 7 * 32, num_classes)\n",
        "    \n",
        "  def forward(self, x):\n",
        "    out = self.layer1(x)\n",
        "    out = self.layer2(out)\n",
        "    out = out.reshape(out.size(0), -1)\n",
        "    out = self.fc(out)\n",
        "    return out\n",
        "  \n",
        "model = ConvNet(num_classes).to(device)"
      ],
      "execution_count": 0,
      "outputs": []
    },
    {
      "cell_type": "code",
      "metadata": {
        "id": "r4HYJru_RSZ4",
        "colab_type": "code",
        "colab": {}
      },
      "source": [
        "## Loss and optimizer\n",
        "\n",
        "criterion = nn.CrossEntropyLoss()\n",
        "optimizer = torch.optim.Adam(model.parameters(),\n",
        "                             lr = learning_rate)"
      ],
      "execution_count": 0,
      "outputs": []
    },
    {
      "cell_type": "code",
      "metadata": {
        "id": "UrPunB9IRrfZ",
        "colab_type": "code",
        "colab": {
          "base_uri": "https://localhost:8080/",
          "height": 553
        },
        "outputId": "497b0e26-fcce-4cd4-b011-978ec6f47217"
      },
      "source": [
        "## Train the model\n",
        "\n",
        "total_step = len(train_loader)\n",
        "\n",
        "for epoch in range(num_epochs):\n",
        "  for i, (images, labels) in enumerate(train_loader):\n",
        "    images = images.to(device)\n",
        "    labels = labels.to(device)\n",
        "    \n",
        "    ## Forward pass\n",
        "    outputs = model(images)\n",
        "    loss = criterion(outputs, labels)\n",
        "    \n",
        "    ## Backward pass and optimize\n",
        "    optimizer.zero_grad()\n",
        "    loss.backward()\n",
        "    optimizer.step()\n",
        "    \n",
        "    if (i + 1) % 100 == 0:\n",
        "      print ('Epoch [{} / {}], Step [{} / {}], Loss: {:.4f}'\n",
        "             .format(epoch + 1, num_epochs, i + 1, total_step, loss.item()))"
      ],
      "execution_count": 8,
      "outputs": [
        {
          "output_type": "stream",
          "text": [
            "Epoch [1 / 5], Step [100 / 600], Loss: 0.1530\n",
            "Epoch [1 / 5], Step [200 / 600], Loss: 0.1356\n",
            "Epoch [1 / 5], Step [300 / 600], Loss: 0.0733\n",
            "Epoch [1 / 5], Step [400 / 600], Loss: 0.0388\n",
            "Epoch [1 / 5], Step [500 / 600], Loss: 0.0297\n",
            "Epoch [1 / 5], Step [600 / 600], Loss: 0.0441\n",
            "Epoch [2 / 5], Step [100 / 600], Loss: 0.0428\n",
            "Epoch [2 / 5], Step [200 / 600], Loss: 0.0475\n",
            "Epoch [2 / 5], Step [300 / 600], Loss: 0.0431\n",
            "Epoch [2 / 5], Step [400 / 600], Loss: 0.0310\n",
            "Epoch [2 / 5], Step [500 / 600], Loss: 0.0432\n",
            "Epoch [2 / 5], Step [600 / 600], Loss: 0.0204\n",
            "Epoch [3 / 5], Step [100 / 600], Loss: 0.0057\n",
            "Epoch [3 / 5], Step [200 / 600], Loss: 0.0174\n",
            "Epoch [3 / 5], Step [300 / 600], Loss: 0.0308\n",
            "Epoch [3 / 5], Step [400 / 600], Loss: 0.0782\n",
            "Epoch [3 / 5], Step [500 / 600], Loss: 0.0850\n",
            "Epoch [3 / 5], Step [600 / 600], Loss: 0.0463\n",
            "Epoch [4 / 5], Step [100 / 600], Loss: 0.0172\n",
            "Epoch [4 / 5], Step [200 / 600], Loss: 0.0214\n",
            "Epoch [4 / 5], Step [300 / 600], Loss: 0.0260\n",
            "Epoch [4 / 5], Step [400 / 600], Loss: 0.0052\n",
            "Epoch [4 / 5], Step [500 / 600], Loss: 0.0227\n",
            "Epoch [4 / 5], Step [600 / 600], Loss: 0.0399\n",
            "Epoch [5 / 5], Step [100 / 600], Loss: 0.0213\n",
            "Epoch [5 / 5], Step [200 / 600], Loss: 0.0016\n",
            "Epoch [5 / 5], Step [300 / 600], Loss: 0.0033\n",
            "Epoch [5 / 5], Step [400 / 600], Loss: 0.0046\n",
            "Epoch [5 / 5], Step [500 / 600], Loss: 0.0295\n",
            "Epoch [5 / 5], Step [600 / 600], Loss: 0.0273\n"
          ],
          "name": "stdout"
        }
      ]
    },
    {
      "cell_type": "code",
      "metadata": {
        "id": "2RDDNOW4SeiQ",
        "colab_type": "code",
        "colab": {
          "base_uri": "https://localhost:8080/",
          "height": 35
        },
        "outputId": "90fb1acf-8612-4a7d-a521-954d8d1e5205"
      },
      "source": [
        "## Test the model\n",
        "\n",
        "model.eval()    \n",
        "## eval mode (batchnorm uses moving mean / variance instead of mini-batch mean / variance)\n",
        "\n",
        "with torch.no_grad():\n",
        "  \n",
        "  correct = 0\n",
        "  total = 0\n",
        "  for images, labels in test_loader:\n",
        "    images = images.to(device)\n",
        "    labels = labels.to(device)\n",
        "    outputs = model(images)\n",
        "    _, predicted = torch.max(outputs.data, 1)\n",
        "    total += labels.size(0)\n",
        "    correct += (predicted == labels).sum().item()\n",
        "    \n",
        "  print('Test Accuracy of the model on the 10000 test images: {} %'\n",
        "        .format(100 * correct / total))"
      ],
      "execution_count": 9,
      "outputs": [
        {
          "output_type": "stream",
          "text": [
            "Test Accuracy of the model on the 10000 test images: 98.98 %\n"
          ],
          "name": "stdout"
        }
      ]
    },
    {
      "cell_type": "code",
      "metadata": {
        "id": "vWQhT3gRTjNS",
        "colab_type": "code",
        "colab": {}
      },
      "source": [
        "## Save the model checkpoint\n",
        "\n",
        "torch.save(model.state_dict(), 'model.ckpt')"
      ],
      "execution_count": 0,
      "outputs": []
    }
  ]
}