{
  "nbformat": 4,
  "nbformat_minor": 0,
  "metadata": {
    "colab": {
      "name": "Language Model (RNN-LM).ipynb",
      "version": "0.3.2",
      "provenance": [],
      "collapsed_sections": []
    },
    "kernelspec": {
      "name": "python3",
      "display_name": "Python 3"
    },
    "accelerator": "GPU"
  },
  "cells": [
    {
      "cell_type": "code",
      "metadata": {
        "id": "bOCP41vF3LyQ",
        "colab_type": "code",
        "colab": {}
      },
      "source": [
        "import torch\n",
        "import torch.nn as nn\n",
        "import numpy as np\n",
        "import os\n",
        "from torch.nn.utils import clip_grad_norm_\n"
      ],
      "execution_count": 0,
      "outputs": []
    },
    {
      "cell_type": "code",
      "metadata": {
        "id": "GN820njG40ka",
        "colab_type": "code",
        "colab": {}
      },
      "source": [
        "class Dictionary(object):\n",
        "  \n",
        "  def __init__(self):\n",
        "    self.word2idx = {}\n",
        "    self.idx2word = {}\n",
        "    self.idx = 0\n",
        "    \n",
        "  def add_word(self, word):\n",
        "    if not word in self.word2idx:\n",
        "      self.word2idx[word] = self.idx\n",
        "      self.idx2word[self.idx] = word\n",
        "      self.idx += 1\n",
        "      \n",
        "  def __len__(self):\n",
        "    return len(self.word2idx)"
      ],
      "execution_count": 0,
      "outputs": []
    },
    {
      "cell_type": "code",
      "metadata": {
        "id": "MBAqS4ZE6eRS",
        "colab_type": "code",
        "colab": {}
      },
      "source": [
        "class Corpus(object):\n",
        "  \n",
        "  def __init__(self):\n",
        "    self.dictionary = Dictionary()\n",
        "    \n",
        "  def get_data(self, path, batch_size = 20):\n",
        "    ## Add words to the dictionary\n",
        "    with open(path, 'r') as f:\n",
        "      tokens = 0\n",
        "      for line in f:\n",
        "        words = line.split() + ['<eos>']\n",
        "        tokens += len(words)\n",
        "        for word in words:\n",
        "          self.dictionary.add_word(word)\n",
        "          \n",
        "    ## Tokenize the file content\n",
        "    ids = torch.LongTensor(tokens)\n",
        "    token = 0\n",
        "    with open(path, 'r') as f:\n",
        "      for line in f:\n",
        "        words = line.split() + ['<eos>']\n",
        "        for word in words:\n",
        "          ids[token] = self.dictionary.word2idx[word]\n",
        "          token += 1\n",
        "    num_batches = ids.size(0) // batch_size\n",
        "    ids = ids[:num_batches * batch_size]\n",
        "    return ids.view(batch_size, -1)"
      ],
      "execution_count": 0,
      "outputs": []
    },
    {
      "cell_type": "code",
      "metadata": {
        "id": "5nPYBIkS7tft",
        "colab_type": "code",
        "colab": {}
      },
      "source": [
        "## Device configuration\n",
        "\n",
        "device = torch.device('cuda' if torch.cuda.is_available() else 'cpu')"
      ],
      "execution_count": 0,
      "outputs": []
    },
    {
      "cell_type": "code",
      "metadata": {
        "id": "MrfDZyc18S0p",
        "colab_type": "code",
        "colab": {}
      },
      "source": [
        "## Hyper-parameters\n",
        "\n",
        "embed_size = 128\n",
        "hidden_size = 1024\n",
        "num_layers = 1\n",
        "num_epochs = 5\n",
        "num_samples = 1000    ## number of words to be sampled\n",
        "batch_size = 20\n",
        "seq_length = 30\n",
        "learning_rate = 0.002"
      ],
      "execution_count": 0,
      "outputs": []
    },
    {
      "cell_type": "code",
      "metadata": {
        "id": "4A7KFQeT9c1q",
        "colab_type": "code",
        "colab": {
          "resources": {
            "http://localhost:8080/nbextensions/google.colab/files.js": {
              "data": "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",
              "ok": true,
              "headers": [
                [
                  "content-type",
                  "application/javascript"
                ]
              ],
              "status": 200,
              "status_text": "OK"
            }
          },
          "base_uri": "https://localhost:8080/",
          "height": 76
        },
        "outputId": "300dc2ee-79fd-4f2c-97ee-c9924df48a6c"
      },
      "source": [
        "from google.colab import files\n",
        "\n",
        "uploaded = files.upload()"
      ],
      "execution_count": 8,
      "outputs": [
        {
          "output_type": "display_data",
          "data": {
            "text/html": [
              "\n",
              "     <input type=\"file\" id=\"files-e91c766d-53de-46c1-8248-9be25740a4d2\" name=\"files[]\" multiple disabled />\n",
              "     <output id=\"result-e91c766d-53de-46c1-8248-9be25740a4d2\">\n",
              "      Upload widget is only available when the cell has been executed in the\n",
              "      current browser session. Please rerun this cell to enable.\n",
              "      </output>\n",
              "      <script src=\"/nbextensions/google.colab/files.js\"></script> "
            ],
            "text/plain": [
              "<IPython.core.display.HTML object>"
            ]
          },
          "metadata": {
            "tags": []
          }
        },
        {
          "output_type": "stream",
          "text": [
            "Saving train.txt to train.txt\n"
          ],
          "name": "stdout"
        }
      ]
    },
    {
      "cell_type": "code",
      "metadata": {
        "id": "Wc-HSkhd8nWk",
        "colab_type": "code",
        "colab": {}
      },
      "source": [
        "## Load \"Penn Treebank\" dataset\n",
        "\n",
        "corpus = Corpus()\n",
        "ids = corpus.get_data('train.txt', batch_size)\n",
        "vocab_size = len(corpus.dictionary)\n",
        "num_batches = ids.size(1) // seq_length"
      ],
      "execution_count": 0,
      "outputs": []
    },
    {
      "cell_type": "code",
      "metadata": {
        "id": "ryNNSHf4-SM8",
        "colab_type": "code",
        "colab": {}
      },
      "source": [
        "## RNN based language model\n",
        "\n",
        "class RNNLM(nn.Module):\n",
        "  \n",
        "  def __init__(self, vocab_size, embed_size, hidden_size, num_layers):\n",
        "    super(RNNLM, self).__init__()\n",
        "    self.embed = nn.Embedding(vocab_size, embed_size)\n",
        "    self.lstm = nn.LSTM(embed_size, hidden_size, num_layers,\n",
        "                        batch_first = True)\n",
        "    self.linear = nn.Linear(hidden_size, vocab_size)\n",
        "    \n",
        "  \n",
        "  def forward(self, x, h):\n",
        "    ## Embed word ids to vectors\n",
        "    x = self.embed(x)\n",
        "    \n",
        "    ## Forward propagate LSTM\n",
        "    out, (h, c) = self.lstm(x, h)\n",
        "    \n",
        "    ## Reshape output to (batch_size * sequence_length, hidden_size)\n",
        "    out = out.reshape(out.size(0) * out.size(1), out.size(2))\n",
        "    \n",
        "    ## Decode hidden states of all time steps\n",
        "    out = self.linear(out)\n",
        "    return out, (h, c)\n",
        "  \n",
        "model = RNNLM(vocab_size, embed_size, hidden_size, num_layers).to(device)"
      ],
      "execution_count": 0,
      "outputs": []
    },
    {
      "cell_type": "code",
      "metadata": {
        "id": "ZfZKaR90APF2",
        "colab_type": "code",
        "colab": {}
      },
      "source": [
        "## Loss and optimizer\n",
        "\n",
        "criterion = nn.CrossEntropyLoss()\n",
        "optimizer = torch.optim.Adam(model.parameters(),\n",
        "                             lr = learning_rate)"
      ],
      "execution_count": 0,
      "outputs": []
    },
    {
      "cell_type": "code",
      "metadata": {
        "id": "E4rK3zOcAfmK",
        "colab_type": "code",
        "colab": {}
      },
      "source": [
        "## Truncated backpropagation\n",
        "\n",
        "def detach(states):\n",
        "  return [state.detach() for state in states]"
      ],
      "execution_count": 0,
      "outputs": []
    },
    {
      "cell_type": "code",
      "metadata": {
        "id": "L2CFrOjlArcA",
        "colab_type": "code",
        "colab": {
          "base_uri": "https://localhost:8080/",
          "height": 1000
        },
        "outputId": "577b44ef-9cfa-462e-ff5e-27cda9915665"
      },
      "source": [
        "## Train the model\n",
        "\n",
        "for epoch in range(num_epochs):\n",
        "  \n",
        "  ## Set initial hidden and cell states\n",
        "  states = (torch.zeros(num_layers, batch_size, hidden_size).to(device),\n",
        "            torch.zeros(num_layers, batch_size, hidden_size).to(device))\n",
        "  \n",
        "  for i in range(0, ids.size(1) - seq_length, seq_length):\n",
        "    ## Get mini-batch inputs and targets\n",
        "    inputs = ids[:, i : i + seq_length].to(device)\n",
        "    targets = ids[:, (i + 1) : (i + 1) + seq_length].to(device)\n",
        "    \n",
        "    ## Forward pass\n",
        "    states = detach(states)\n",
        "    outputs, states = model(inputs, states)\n",
        "    loss = criterion(outputs, targets.reshape(-1))\n",
        "    \n",
        "    ## Backward and optimize\n",
        "    model.zero_grad()\n",
        "    loss.backward()\n",
        "    clip_grad_norm_(model.parameters(), 0.5)\n",
        "    optimizer.step()\n",
        "    \n",
        "    step = (i + 1) // seq_length\n",
        "    \n",
        "    if step % 100 == 0:\n",
        "      print ('Epoch [{} / {}], Step [{} / {}], Loss: {:.4f}, Perplexity: {:5.2f}'\n",
        "             .format(epoch + 1, num_epochs, step, num_batches, loss.item(), np.exp(loss.item())))"
      ],
      "execution_count": 13,
      "outputs": [
        {
          "output_type": "stream",
          "text": [
            "Epoch [1 / 5], Step [0 / 1549], Loss: 9.2090, Perplexity: 9986.84\n",
            "Epoch [1 / 5], Step [100 / 1549], Loss: 6.0098, Perplexity: 407.39\n",
            "Epoch [1 / 5], Step [200 / 1549], Loss: 5.9205, Perplexity: 372.59\n",
            "Epoch [1 / 5], Step [300 / 1549], Loss: 5.7510, Perplexity: 314.50\n",
            "Epoch [1 / 5], Step [400 / 1549], Loss: 5.6677, Perplexity: 289.37\n",
            "Epoch [1 / 5], Step [500 / 1549], Loss: 5.2446, Perplexity: 189.55\n",
            "Epoch [1 / 5], Step [600 / 1549], Loss: 5.1792, Perplexity: 177.53\n",
            "Epoch [1 / 5], Step [700 / 1549], Loss: 5.3380, Perplexity: 208.10\n",
            "Epoch [1 / 5], Step [800 / 1549], Loss: 5.1655, Perplexity: 175.13\n",
            "Epoch [1 / 5], Step [900 / 1549], Loss: 5.0486, Perplexity: 155.81\n",
            "Epoch [1 / 5], Step [1000 / 1549], Loss: 5.1518, Perplexity: 172.75\n",
            "Epoch [1 / 5], Step [1100 / 1549], Loss: 5.3514, Perplexity: 210.90\n",
            "Epoch [1 / 5], Step [1200 / 1549], Loss: 5.1728, Perplexity: 176.41\n",
            "Epoch [1 / 5], Step [1300 / 1549], Loss: 5.1092, Perplexity: 165.54\n",
            "Epoch [1 / 5], Step [1400 / 1549], Loss: 4.8041, Perplexity: 122.00\n",
            "Epoch [1 / 5], Step [1500 / 1549], Loss: 5.1530, Perplexity: 172.96\n",
            "Epoch [2 / 5], Step [0 / 1549], Loss: 5.4358, Perplexity: 229.49\n",
            "Epoch [2 / 5], Step [100 / 1549], Loss: 4.5606, Perplexity: 95.64\n",
            "Epoch [2 / 5], Step [200 / 1549], Loss: 4.6787, Perplexity: 107.63\n",
            "Epoch [2 / 5], Step [300 / 1549], Loss: 4.6743, Perplexity: 107.15\n",
            "Epoch [2 / 5], Step [400 / 1549], Loss: 4.5255, Perplexity: 92.34\n",
            "Epoch [2 / 5], Step [500 / 1549], Loss: 4.1418, Perplexity: 62.92\n",
            "Epoch [2 / 5], Step [600 / 1549], Loss: 4.4302, Perplexity: 83.95\n",
            "Epoch [2 / 5], Step [700 / 1549], Loss: 4.3557, Perplexity: 77.92\n",
            "Epoch [2 / 5], Step [800 / 1549], Loss: 4.4209, Perplexity: 83.17\n",
            "Epoch [2 / 5], Step [900 / 1549], Loss: 4.1786, Perplexity: 65.27\n",
            "Epoch [2 / 5], Step [1000 / 1549], Loss: 4.3653, Perplexity: 78.67\n",
            "Epoch [2 / 5], Step [1100 / 1549], Loss: 4.5241, Perplexity: 92.21\n",
            "Epoch [2 / 5], Step [1200 / 1549], Loss: 4.4530, Perplexity: 85.88\n",
            "Epoch [2 / 5], Step [1300 / 1549], Loss: 4.2350, Perplexity: 69.06\n",
            "Epoch [2 / 5], Step [1400 / 1549], Loss: 3.9489, Perplexity: 51.88\n",
            "Epoch [2 / 5], Step [1500 / 1549], Loss: 4.3188, Perplexity: 75.10\n",
            "Epoch [3 / 5], Step [0 / 1549], Loss: 4.4026, Perplexity: 81.66\n",
            "Epoch [3 / 5], Step [100 / 1549], Loss: 3.8430, Perplexity: 46.67\n",
            "Epoch [3 / 5], Step [200 / 1549], Loss: 4.0126, Perplexity: 55.29\n",
            "Epoch [3 / 5], Step [300 / 1549], Loss: 3.9456, Perplexity: 51.71\n",
            "Epoch [3 / 5], Step [400 / 1549], Loss: 3.8483, Perplexity: 46.91\n",
            "Epoch [3 / 5], Step [500 / 1549], Loss: 3.4449, Perplexity: 31.34\n",
            "Epoch [3 / 5], Step [600 / 1549], Loss: 3.8217, Perplexity: 45.68\n",
            "Epoch [3 / 5], Step [700 / 1549], Loss: 3.6856, Perplexity: 39.87\n",
            "Epoch [3 / 5], Step [800 / 1549], Loss: 3.7574, Perplexity: 42.83\n",
            "Epoch [3 / 5], Step [900 / 1549], Loss: 3.5115, Perplexity: 33.50\n",
            "Epoch [3 / 5], Step [1000 / 1549], Loss: 3.6973, Perplexity: 40.34\n",
            "Epoch [3 / 5], Step [1100 / 1549], Loss: 3.8317, Perplexity: 46.14\n",
            "Epoch [3 / 5], Step [1200 / 1549], Loss: 3.7458, Perplexity: 42.34\n",
            "Epoch [3 / 5], Step [1300 / 1549], Loss: 3.4689, Perplexity: 32.10\n",
            "Epoch [3 / 5], Step [1400 / 1549], Loss: 3.2580, Perplexity: 26.00\n",
            "Epoch [3 / 5], Step [1500 / 1549], Loss: 3.6257, Perplexity: 37.55\n",
            "Epoch [4 / 5], Step [0 / 1549], Loss: 3.5416, Perplexity: 34.52\n",
            "Epoch [4 / 5], Step [100 / 1549], Loss: 3.3189, Perplexity: 27.63\n",
            "Epoch [4 / 5], Step [200 / 1549], Loss: 3.3749, Perplexity: 29.22\n",
            "Epoch [4 / 5], Step [300 / 1549], Loss: 3.4453, Perplexity: 31.35\n",
            "Epoch [4 / 5], Step [400 / 1549], Loss: 3.3411, Perplexity: 28.25\n",
            "Epoch [4 / 5], Step [500 / 1549], Loss: 2.9559, Perplexity: 19.22\n",
            "Epoch [4 / 5], Step [600 / 1549], Loss: 3.3464, Perplexity: 28.40\n",
            "Epoch [4 / 5], Step [700 / 1549], Loss: 3.1726, Perplexity: 23.87\n",
            "Epoch [4 / 5], Step [800 / 1549], Loss: 3.2930, Perplexity: 26.92\n",
            "Epoch [4 / 5], Step [900 / 1549], Loss: 3.0399, Perplexity: 20.90\n",
            "Epoch [4 / 5], Step [1000 / 1549], Loss: 3.2166, Perplexity: 24.94\n",
            "Epoch [4 / 5], Step [1100 / 1549], Loss: 3.3126, Perplexity: 27.46\n",
            "Epoch [4 / 5], Step [1200 / 1549], Loss: 3.3247, Perplexity: 27.79\n",
            "Epoch [4 / 5], Step [1300 / 1549], Loss: 3.0122, Perplexity: 20.33\n",
            "Epoch [4 / 5], Step [1400 / 1549], Loss: 2.7684, Perplexity: 15.93\n",
            "Epoch [4 / 5], Step [1500 / 1549], Loss: 3.1688, Perplexity: 23.78\n",
            "Epoch [5 / 5], Step [0 / 1549], Loss: 3.1542, Perplexity: 23.43\n",
            "Epoch [5 / 5], Step [100 / 1549], Loss: 2.9461, Perplexity: 19.03\n",
            "Epoch [5 / 5], Step [200 / 1549], Loss: 3.0182, Perplexity: 20.45\n",
            "Epoch [5 / 5], Step [300 / 1549], Loss: 3.1183, Perplexity: 22.61\n",
            "Epoch [5 / 5], Step [400 / 1549], Loss: 3.0266, Perplexity: 20.63\n",
            "Epoch [5 / 5], Step [500 / 1549], Loss: 2.5585, Perplexity: 12.92\n",
            "Epoch [5 / 5], Step [600 / 1549], Loss: 3.0366, Perplexity: 20.83\n",
            "Epoch [5 / 5], Step [700 / 1549], Loss: 2.8309, Perplexity: 16.96\n",
            "Epoch [5 / 5], Step [800 / 1549], Loss: 2.9435, Perplexity: 18.98\n",
            "Epoch [5 / 5], Step [900 / 1549], Loss: 2.6942, Perplexity: 14.79\n",
            "Epoch [5 / 5], Step [1000 / 1549], Loss: 2.8764, Perplexity: 17.75\n",
            "Epoch [5 / 5], Step [1100 / 1549], Loss: 2.9809, Perplexity: 19.71\n",
            "Epoch [5 / 5], Step [1200 / 1549], Loss: 2.9707, Perplexity: 19.50\n",
            "Epoch [5 / 5], Step [1300 / 1549], Loss: 2.8050, Perplexity: 16.53\n",
            "Epoch [5 / 5], Step [1400 / 1549], Loss: 2.4297, Perplexity: 11.35\n",
            "Epoch [5 / 5], Step [1500 / 1549], Loss: 2.8809, Perplexity: 17.83\n"
          ],
          "name": "stdout"
        }
      ]
    },
    {
      "cell_type": "code",
      "metadata": {
        "id": "kcTqBfP_CSd-",
        "colab_type": "code",
        "colab": {
          "base_uri": "https://localhost:8080/",
          "height": 196
        },
        "outputId": "afebf293-f3fd-4610-d637-9e69241cd11d"
      },
      "source": [
        "## Test the model\n",
        "\n",
        "with torch.no_grad():\n",
        "  with open('sample.txt', 'w') as f:\n",
        "    \n",
        "    ## Set initial hidden and cell states\n",
        "    state = (torch.zeros(num_layers, 1, hidden_size).to(device),\n",
        "             torch.zeros(num_layers, 1, hidden_size).to(device))\n",
        "    \n",
        "    ## Select one word id randomly\n",
        "    prob = torch.ones(vocab_size)\n",
        "    input = torch.multinomial(prob, num_samples = 1).unsqueeze(1).to(device)\n",
        "    \n",
        "    for i in range(num_samples):\n",
        "      ## Forward propagate RNN\n",
        "      output, state = model(input, state)\n",
        "      \n",
        "      ## Sample a word id\n",
        "      prob = output.exp()\n",
        "      word_id = torch.multinomial(prob, num_samples = 1).item()\n",
        "      \n",
        "      ## Fill input with sampled word id for the next time step\n",
        "      input.fill_(word_id)\n",
        "      \n",
        "      ## File write\n",
        "      word = corpus.dictionary.idx2word[word_id]\n",
        "      word = '\\n' if word == '<eos>' else word + ' '\n",
        "      f.write(word)\n",
        "      \n",
        "      if (i + 1) % 100 == 0:\n",
        "        print ('Sampled [{} / {}] words and saved to {}'\n",
        "               .format(i + 1, num_samples, 'sample.txt'))"
      ],
      "execution_count": 14,
      "outputs": [
        {
          "output_type": "stream",
          "text": [
            "Sampled [100 / 1000] words and saved to sample.txt\n",
            "Sampled [200 / 1000] words and saved to sample.txt\n",
            "Sampled [300 / 1000] words and saved to sample.txt\n",
            "Sampled [400 / 1000] words and saved to sample.txt\n",
            "Sampled [500 / 1000] words and saved to sample.txt\n",
            "Sampled [600 / 1000] words and saved to sample.txt\n",
            "Sampled [700 / 1000] words and saved to sample.txt\n",
            "Sampled [800 / 1000] words and saved to sample.txt\n",
            "Sampled [900 / 1000] words and saved to sample.txt\n",
            "Sampled [1000 / 1000] words and saved to sample.txt\n"
          ],
          "name": "stdout"
        }
      ]
    },
    {
      "cell_type": "code",
      "metadata": {
        "id": "4iy9YugkJiBt",
        "colab_type": "code",
        "colab": {}
      },
      "source": [
        "## Save the model checkpoints\n",
        "\n",
        "torch.save(model.state_dict(), 'model.ckpt')"
      ],
      "execution_count": 0,
      "outputs": []
    }
  ]
}