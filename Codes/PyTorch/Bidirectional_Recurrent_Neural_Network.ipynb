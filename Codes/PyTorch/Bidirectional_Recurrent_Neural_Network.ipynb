{
  "nbformat": 4,
  "nbformat_minor": 0,
  "metadata": {
    "colab": {
      "name": "Bidirectional Recurrent Neural Network.ipynb",
      "version": "0.3.2",
      "provenance": [],
      "collapsed_sections": []
    },
    "kernelspec": {
      "name": "python3",
      "display_name": "Python 3"
    },
    "accelerator": "GPU"
  },
  "cells": [
    {
      "cell_type": "code",
      "metadata": {
        "id": "ph4LJtzYwkKA",
        "colab_type": "code",
        "colab": {}
      },
      "source": [
        "import torch\n",
        "import torch.nn as nn\n",
        "import torchvision\n",
        "import torchvision.transforms as transforms"
      ],
      "execution_count": 0,
      "outputs": []
    },
    {
      "cell_type": "code",
      "metadata": {
        "id": "NOGRvMdc2auV",
        "colab_type": "code",
        "colab": {}
      },
      "source": [
        "## Device configuration\n",
        "\n",
        "device = torch.device('cuda' if torch.cuda.is_available() else 'cpu')"
      ],
      "execution_count": 0,
      "outputs": []
    },
    {
      "cell_type": "code",
      "metadata": {
        "id": "JJbHbzXN2mqm",
        "colab_type": "code",
        "colab": {}
      },
      "source": [
        "## Hyper-parameters\n",
        "\n",
        "sequence_length = 28\n",
        "input_size = 28\n",
        "hidden_size = 128\n",
        "num_layers = 2\n",
        "num_classes = 10\n",
        "batch_size = 100\n",
        "num_epochs = 2\n",
        "learning_rate = 0.003"
      ],
      "execution_count": 0,
      "outputs": []
    },
    {
      "cell_type": "code",
      "metadata": {
        "id": "Hme7iwuL249Z",
        "colab_type": "code",
        "colab": {}
      },
      "source": [
        "## MNIST dataset\n",
        "\n",
        "train_dataset = torchvision.datasets.MNIST(root = '../../data/',\n",
        "                                           train = True,\n",
        "                                           transform = transforms.ToTensor(),\n",
        "                                           download = True)\n",
        "\n",
        "test_dataset = torchvision.datasets.MNIST(root = '../../data/',\n",
        "                                          train = False,\n",
        "                                          transform = transforms.ToTensor())"
      ],
      "execution_count": 0,
      "outputs": []
    },
    {
      "cell_type": "code",
      "metadata": {
        "id": "g2Yhgi413bac",
        "colab_type": "code",
        "colab": {}
      },
      "source": [
        "## Data loader\n",
        "\n",
        "train_loader = torch.utils.data.DataLoader(dataset = train_dataset,\n",
        "                                           batch_size = batch_size,\n",
        "                                           shuffle = True)\n",
        "\n",
        "test_loader = torch.utils.data.DataLoader(dataset = test_dataset,\n",
        "                                          batch_size = batch_size,\n",
        "                                          shuffle = False)"
      ],
      "execution_count": 0,
      "outputs": []
    },
    {
      "cell_type": "code",
      "metadata": {
        "id": "3h9Ndmo43sY4",
        "colab_type": "code",
        "colab": {}
      },
      "source": [
        "## Bidirectional recurrent neural network (many to one)\n",
        "\n",
        "class BiRNN(nn.Module):\n",
        "  \n",
        "  def __init__(self, input_size, hidden_size, num_layers, num_classes):\n",
        "    super(BiRNN, self).__init__()\n",
        "    self.hidden_size = hidden_size\n",
        "    self.num_layers = num_layers\n",
        "    self.lstm = nn.LSTM(input_size, hidden_size, num_layers, \n",
        "                        batch_first = True, bidirectional = True)\n",
        "    self.fc = nn.Linear(hidden_size * 2, num_classes)    ## 2 for bidirection\n",
        "    \n",
        "  def forward(self, x):\n",
        "    ## Set initial states\n",
        "    h0 = torch.zeros(self.num_layers * 2, x.size(0), self.hidden_size).to(device)    ## 2 for bidirection\n",
        "    c0 = torch.zeros(self.num_layers * 2, x.size(0), self.hidden_size).to(device)\n",
        "    \n",
        "    ## Forward propagate LSTM\n",
        "    out, _ = self.lstm(x, (h0, c0))    ## out: tensor of shape (batch_size, seq_length, hidden_size * 2)\n",
        "    \n",
        "    ## Decode the hidden state of the last time step\n",
        "    out = self.fc(out[:, -1, :])\n",
        "    return out\n",
        "  \n",
        "model = BiRNN(input_size, hidden_size, num_layers, num_classes).to(device)"
      ],
      "execution_count": 0,
      "outputs": []
    },
    {
      "cell_type": "code",
      "metadata": {
        "id": "eIlGMy2b6Mt1",
        "colab_type": "code",
        "colab": {}
      },
      "source": [
        "## Loss and optimizer\n",
        "\n",
        "criterion = nn.CrossEntropyLoss()\n",
        "optimizer = torch.optim.Adam(model.parameters(),\n",
        "                             lr = learning_rate)"
      ],
      "execution_count": 0,
      "outputs": []
    },
    {
      "cell_type": "code",
      "metadata": {
        "id": "K7Ry1xZO6eKq",
        "colab_type": "code",
        "colab": {
          "base_uri": "https://localhost:8080/",
          "height": 231
        },
        "outputId": "e15052d9-ca2b-499b-e373-baf5f28dbb4e"
      },
      "source": [
        "## Train the model\n",
        "\n",
        "total_step = len(train_loader)\n",
        "\n",
        "for epoch in range(num_epochs):\n",
        "  for i, (images, labels) in enumerate(train_loader):\n",
        "    images = images.reshape(-1, sequence_length, input_size).to(device)\n",
        "    labels = labels.to(device)\n",
        "    \n",
        "    ## Forward pass\n",
        "    outputs = model(images)\n",
        "    loss = criterion(outputs, labels)\n",
        "    \n",
        "    ## Backward pass and optimize\n",
        "    optimizer.zero_grad()\n",
        "    loss.backward()\n",
        "    optimizer.step()\n",
        "    \n",
        "    if (i + 1) % 100 == 0:\n",
        "      print ('Epoch [{} / {}], Step [{} / {}], Loss: {:.4f}'\n",
        "             .format(epoch + 1, num_epochs, i + 1, total_step, loss.item()))"
      ],
      "execution_count": 8,
      "outputs": [
        {
          "output_type": "stream",
          "text": [
            "Epoch [1 / 2], Step [100 / 600], Loss: 0.5402\n",
            "Epoch [1 / 2], Step [200 / 600], Loss: 0.2862\n",
            "Epoch [1 / 2], Step [300 / 600], Loss: 0.2744\n",
            "Epoch [1 / 2], Step [400 / 600], Loss: 0.0969\n",
            "Epoch [1 / 2], Step [500 / 600], Loss: 0.1543\n",
            "Epoch [1 / 2], Step [600 / 600], Loss: 0.0665\n",
            "Epoch [2 / 2], Step [100 / 600], Loss: 0.0743\n",
            "Epoch [2 / 2], Step [200 / 600], Loss: 0.0778\n",
            "Epoch [2 / 2], Step [300 / 600], Loss: 0.0362\n",
            "Epoch [2 / 2], Step [400 / 600], Loss: 0.1241\n",
            "Epoch [2 / 2], Step [500 / 600], Loss: 0.0439\n",
            "Epoch [2 / 2], Step [600 / 600], Loss: 0.0962\n"
          ],
          "name": "stdout"
        }
      ]
    },
    {
      "cell_type": "code",
      "metadata": {
        "id": "A8WFLneY7ZLN",
        "colab_type": "code",
        "colab": {
          "base_uri": "https://localhost:8080/",
          "height": 35
        },
        "outputId": "a0cdb649-5f63-4c1c-e038-6b313f4feda2"
      },
      "source": [
        "## Test the model\n",
        "\n",
        "with torch.no_grad():\n",
        "  \n",
        "  correct = 0\n",
        "  total = 0\n",
        "  for images, labels in test_loader:\n",
        "    images = images.reshape(-1, sequence_length, input_size).to(device)\n",
        "    labels = labels.to(device)\n",
        "    outputs = model(images)\n",
        "    _, predicted = torch.max(outputs.data, 1)\n",
        "    total += labels.size(0)\n",
        "    correct += (predicted == labels).sum().item()\n",
        "    \n",
        "  print('Test Accuracy of the model on the 10000 test images: {} %'\n",
        "        .format(100 * correct / total))"
      ],
      "execution_count": 9,
      "outputs": [
        {
          "output_type": "stream",
          "text": [
            "Test Accuracy of the model on the 10000 test images: 97.79 %\n"
          ],
          "name": "stdout"
        }
      ]
    },
    {
      "cell_type": "code",
      "metadata": {
        "id": "qTT6EQhY8f5r",
        "colab_type": "code",
        "colab": {}
      },
      "source": [
        "## Save the model checkpoint\n",
        "\n",
        "torch.save(model.state_dict(), 'model.ckpt')"
      ],
      "execution_count": 0,
      "outputs": []
    }
  ]
}