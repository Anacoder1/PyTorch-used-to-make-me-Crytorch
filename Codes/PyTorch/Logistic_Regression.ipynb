{
  "nbformat": 4,
  "nbformat_minor": 0,
  "metadata": {
    "colab": {
      "name": "Logistic Regression.ipynb",
      "version": "0.3.2",
      "provenance": [],
      "collapsed_sections": []
    },
    "kernelspec": {
      "name": "python3",
      "display_name": "Python 3"
    },
    "accelerator": "GPU"
  },
  "cells": [
    {
      "cell_type": "code",
      "metadata": {
        "id": "X10XYjxcxUC_",
        "colab_type": "code",
        "colab": {}
      },
      "source": [
        "import torch\n",
        "import torch.nn as nn\n",
        "import torchvision\n",
        "import torchvision.transforms as transforms"
      ],
      "execution_count": 0,
      "outputs": []
    },
    {
      "cell_type": "code",
      "metadata": {
        "id": "XuBE996JxoL8",
        "colab_type": "code",
        "colab": {}
      },
      "source": [
        "## Hyper-parameters\n",
        "\n",
        "input_size = 784\n",
        "num_classes = 10\n",
        "num_epochs = 5\n",
        "batch_size = 100\n",
        "learning_rate = 0.001"
      ],
      "execution_count": 0,
      "outputs": []
    },
    {
      "cell_type": "code",
      "metadata": {
        "id": "hBINlPSHyHDP",
        "colab_type": "code",
        "colab": {
          "base_uri": "https://localhost:8080/",
          "height": 287
        },
        "outputId": "ee8fd6e2-2bd3-4948-afb0-e11217048a86"
      },
      "source": [
        "## MNIST dataset (images and labels)\n",
        "\n",
        "train_dataset = torchvision.datasets.MNIST(root = '../../data',\n",
        "                                           train = True,\n",
        "                                           transform = transforms.ToTensor(),\n",
        "                                           download = True)\n",
        "\n",
        "test_dataset = torchvision.datasets.MNIST(root = '../../data',\n",
        "                                          train = False,\n",
        "                                          transform = transforms.ToTensor())"
      ],
      "execution_count": 3,
      "outputs": [
        {
          "output_type": "stream",
          "text": [
            "\r0it [00:00, ?it/s]"
          ],
          "name": "stderr"
        },
        {
          "output_type": "stream",
          "text": [
            "Downloading http://yann.lecun.com/exdb/mnist/train-images-idx3-ubyte.gz to ../../data/MNIST/raw/train-images-idx3-ubyte.gz\n"
          ],
          "name": "stdout"
        },
        {
          "output_type": "stream",
          "text": [
            "9920512it [00:01, 8188012.06it/s]                            \n"
          ],
          "name": "stderr"
        },
        {
          "output_type": "stream",
          "text": [
            "Extracting ../../data/MNIST/raw/train-images-idx3-ubyte.gz\n"
          ],
          "name": "stdout"
        },
        {
          "output_type": "stream",
          "text": [
            "  0%|          | 0/28881 [00:00<?, ?it/s]"
          ],
          "name": "stderr"
        },
        {
          "output_type": "stream",
          "text": [
            "Downloading http://yann.lecun.com/exdb/mnist/train-labels-idx1-ubyte.gz to ../../data/MNIST/raw/train-labels-idx1-ubyte.gz\n"
          ],
          "name": "stdout"
        },
        {
          "output_type": "stream",
          "text": [
            "32768it [00:00, 135620.42it/s]           \n",
            "  0%|          | 0/1648877 [00:00<?, ?it/s]"
          ],
          "name": "stderr"
        },
        {
          "output_type": "stream",
          "text": [
            "Extracting ../../data/MNIST/raw/train-labels-idx1-ubyte.gz\n",
            "Downloading http://yann.lecun.com/exdb/mnist/t10k-images-idx3-ubyte.gz to ../../data/MNIST/raw/t10k-images-idx3-ubyte.gz\n"
          ],
          "name": "stdout"
        },
        {
          "output_type": "stream",
          "text": [
            "1654784it [00:00, 2219764.74it/s]                            \n",
            "0it [00:00, ?it/s]"
          ],
          "name": "stderr"
        },
        {
          "output_type": "stream",
          "text": [
            "Extracting ../../data/MNIST/raw/t10k-images-idx3-ubyte.gz\n",
            "Downloading http://yann.lecun.com/exdb/mnist/t10k-labels-idx1-ubyte.gz to ../../data/MNIST/raw/t10k-labels-idx1-ubyte.gz\n"
          ],
          "name": "stdout"
        },
        {
          "output_type": "stream",
          "text": [
            "8192it [00:00, 50806.52it/s]            \n"
          ],
          "name": "stderr"
        },
        {
          "output_type": "stream",
          "text": [
            "Extracting ../../data/MNIST/raw/t10k-labels-idx1-ubyte.gz\n",
            "Processing...\n",
            "Done!\n"
          ],
          "name": "stdout"
        }
      ]
    },
    {
      "cell_type": "code",
      "metadata": {
        "id": "H4127S_ey3_Z",
        "colab_type": "code",
        "colab": {}
      },
      "source": [
        "## Data loader (input pipeline)\n",
        "\n",
        "train_loader = torch.utils.data.DataLoader(dataset = train_dataset,\n",
        "                                           batch_size = batch_size,\n",
        "                                           shuffle = True)\n",
        "\n",
        "test_loader = torch.utils.data.DataLoader(dataset = test_dataset,\n",
        "                                          batch_size = batch_size,\n",
        "                                          shuffle = False)"
      ],
      "execution_count": 0,
      "outputs": []
    },
    {
      "cell_type": "code",
      "metadata": {
        "id": "syJW-Bz9zbBz",
        "colab_type": "code",
        "colab": {}
      },
      "source": [
        "## Logistic regression model\n",
        "\n",
        "model = nn.Linear(input_size, num_classes)"
      ],
      "execution_count": 0,
      "outputs": []
    },
    {
      "cell_type": "code",
      "metadata": {
        "id": "yr1jOgVuz3rc",
        "colab_type": "code",
        "colab": {}
      },
      "source": [
        "## Loss and optimizer\n",
        "## nn.CrossEntropyLoss() computes softmax internally\n",
        "\n",
        "criterion = nn.CrossEntropyLoss()\n",
        "optimizer = torch.optim.SGD(model.parameters(), \n",
        "                            lr = learning_rate)"
      ],
      "execution_count": 0,
      "outputs": []
    },
    {
      "cell_type": "code",
      "metadata": {
        "id": "BGP0rMnr0qkV",
        "colab_type": "code",
        "colab": {
          "base_uri": "https://localhost:8080/",
          "height": 553
        },
        "outputId": "96107526-14d0-443f-d55b-935a75bd931a"
      },
      "source": [
        "## Train the model\n",
        "\n",
        "total_step = len(train_loader)\n",
        "\n",
        "for epoch in range(num_epochs):\n",
        "  for i, (images, labels) in enumerate(train_loader):\n",
        "    ## Reshape images to (batch_size, input_size)\n",
        "    images = images.reshape(-1, 28 * 28)\n",
        "    \n",
        "    ## Forward pass\n",
        "    outputs = model(images)\n",
        "    loss = criterion(outputs, labels)\n",
        "    \n",
        "    ## Backward pass and optimize\n",
        "    optimizer.zero_grad()\n",
        "    loss.backward()\n",
        "    optimizer.step()\n",
        "    \n",
        "    if (i + 1) % 100 == 0:\n",
        "      print ('Epoch [{} / {}], Step [{} / {}], Loss: {:.4f}'\n",
        "             .format(epoch+1, num_epochs, i+1, total_step, loss.item()))"
      ],
      "execution_count": 7,
      "outputs": [
        {
          "output_type": "stream",
          "text": [
            "Epoch [1 / 5], Step [100 / 600], Loss: 2.1699\n",
            "Epoch [1 / 5], Step [200 / 600], Loss: 2.0850\n",
            "Epoch [1 / 5], Step [300 / 600], Loss: 2.0012\n",
            "Epoch [1 / 5], Step [400 / 600], Loss: 1.9782\n",
            "Epoch [1 / 5], Step [500 / 600], Loss: 1.8307\n",
            "Epoch [1 / 5], Step [600 / 600], Loss: 1.8130\n",
            "Epoch [2 / 5], Step [100 / 600], Loss: 1.6897\n",
            "Epoch [2 / 5], Step [200 / 600], Loss: 1.7140\n",
            "Epoch [2 / 5], Step [300 / 600], Loss: 1.5641\n",
            "Epoch [2 / 5], Step [400 / 600], Loss: 1.5670\n",
            "Epoch [2 / 5], Step [500 / 600], Loss: 1.4779\n",
            "Epoch [2 / 5], Step [600 / 600], Loss: 1.4182\n",
            "Epoch [3 / 5], Step [100 / 600], Loss: 1.4747\n",
            "Epoch [3 / 5], Step [200 / 600], Loss: 1.3140\n",
            "Epoch [3 / 5], Step [300 / 600], Loss: 1.2854\n",
            "Epoch [3 / 5], Step [400 / 600], Loss: 1.2919\n",
            "Epoch [3 / 5], Step [500 / 600], Loss: 1.1712\n",
            "Epoch [3 / 5], Step [600 / 600], Loss: 1.3322\n",
            "Epoch [4 / 5], Step [100 / 600], Loss: 1.2823\n",
            "Epoch [4 / 5], Step [200 / 600], Loss: 1.1967\n",
            "Epoch [4 / 5], Step [300 / 600], Loss: 1.2976\n",
            "Epoch [4 / 5], Step [400 / 600], Loss: 1.2142\n",
            "Epoch [4 / 5], Step [500 / 600], Loss: 1.1281\n",
            "Epoch [4 / 5], Step [600 / 600], Loss: 1.1142\n",
            "Epoch [5 / 5], Step [100 / 600], Loss: 1.0814\n",
            "Epoch [5 / 5], Step [200 / 600], Loss: 1.1629\n",
            "Epoch [5 / 5], Step [300 / 600], Loss: 0.9501\n",
            "Epoch [5 / 5], Step [400 / 600], Loss: 1.0507\n",
            "Epoch [5 / 5], Step [500 / 600], Loss: 1.0726\n",
            "Epoch [5 / 5], Step [600 / 600], Loss: 1.0138\n"
          ],
          "name": "stdout"
        }
      ]
    },
    {
      "cell_type": "code",
      "metadata": {
        "id": "AlgwYuux2lM6",
        "colab_type": "code",
        "colab": {
          "base_uri": "https://localhost:8080/",
          "height": 35
        },
        "outputId": "47c50202-dadf-4535-dfd3-55ba58913d56"
      },
      "source": [
        "## Test the model\n",
        "## In test phase, we don't need to compute gradients (for memory efficiency)\n",
        "\n",
        "with torch.no_grad():\n",
        "  \n",
        "  correct = 0\n",
        "  total = 0\n",
        "  for images, labels in test_loader:\n",
        "    images = images.reshape(-1, 28 * 28)\n",
        "    outputs = model(images)\n",
        "    _, predicted = torch.max(outputs.data, 1)\n",
        "    total += labels.size(0)\n",
        "    correct += (predicted == labels).sum()\n",
        "    \n",
        "  print('Accuracy of the model on the 10000 test images: {} %'\n",
        "        .format(100 * correct / total))"
      ],
      "execution_count": 8,
      "outputs": [
        {
          "output_type": "stream",
          "text": [
            "Accuracy of the model on the 10000 test images: 82 %\n"
          ],
          "name": "stdout"
        }
      ]
    },
    {
      "cell_type": "code",
      "metadata": {
        "id": "__TaJHVa3us9",
        "colab_type": "code",
        "colab": {}
      },
      "source": [
        "## Save the model checkpoint\n",
        "\n",
        "torch.save(model.state_dict(), 'model.ckpt')"
      ],
      "execution_count": 0,
      "outputs": []
    }
  ]
}