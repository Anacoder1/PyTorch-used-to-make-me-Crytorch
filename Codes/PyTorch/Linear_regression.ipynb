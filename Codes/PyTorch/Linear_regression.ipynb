{
  "nbformat": 4,
  "nbformat_minor": 0,
  "metadata": {
    "colab": {
      "name": "Linear Regression.ipynb",
      "version": "0.3.2",
      "provenance": [],
      "collapsed_sections": []
    },
    "kernelspec": {
      "name": "python3",
      "display_name": "Python 3"
    },
    "accelerator": "GPU"
  },
  "cells": [
    {
      "cell_type": "code",
      "metadata": {
        "id": "IJDzxgKveZQZ",
        "colab_type": "code",
        "colab": {}
      },
      "source": [
        "import torch\n",
        "import torch.nn as nn\n",
        "import numpy as np\n",
        "import matplotlib.pyplot as plt"
      ],
      "execution_count": 0,
      "outputs": []
    },
    {
      "cell_type": "code",
      "metadata": {
        "id": "ywV-_qHbejK2",
        "colab_type": "code",
        "colab": {}
      },
      "source": [
        "## Hyper-parameters\n",
        "\n",
        "input_size = 1\n",
        "output_size = 1\n",
        "num_epochs = 60\n",
        "learning_rate = 0.001"
      ],
      "execution_count": 0,
      "outputs": []
    },
    {
      "cell_type": "code",
      "metadata": {
        "id": "_zl5FCBYeqyA",
        "colab_type": "code",
        "colab": {}
      },
      "source": [
        "## Toy dataset\n",
        "\n",
        "X_train = np.array([[3.3], [4.4], [5.5], [6.71],\n",
        "                    [6.93], [4.168], [9.779], [6.182],\n",
        "                    [7.59], [2.167], [7.042], [10.791],\n",
        "                    [5.313], [7.997], [3.1]],\n",
        "                   dtype = np.float32)\n",
        "\n",
        "Y_train = np.array([[1.7], [2.76], [2.09], [3.19],\n",
        "                    [1.694], [1.573], [3.366], [2.596],\n",
        "                    [2.53], [1.221], [2.827], [3.465],\n",
        "                    [1.65], [2.904], [1.3]],\n",
        "                   dtype = np.float32)"
      ],
      "execution_count": 0,
      "outputs": []
    },
    {
      "cell_type": "code",
      "metadata": {
        "id": "f5U8aIWofg1G",
        "colab_type": "code",
        "colab": {}
      },
      "source": [
        "## Linear regression model\n",
        "\n",
        "model = nn.Linear(input_size, output_size)"
      ],
      "execution_count": 0,
      "outputs": []
    },
    {
      "cell_type": "code",
      "metadata": {
        "id": "7PcGaIDokAdc",
        "colab_type": "code",
        "colab": {}
      },
      "source": [
        "## Loss and optimizer\n",
        "\n",
        "criterion = nn.MSELoss()\n",
        "optimizer = torch.optim.SGD(model.parameters(), \n",
        "                            lr = learning_rate)"
      ],
      "execution_count": 0,
      "outputs": []
    },
    {
      "cell_type": "code",
      "metadata": {
        "id": "m6UhYhSllbVH",
        "colab_type": "code",
        "colab": {
          "base_uri": "https://localhost:8080/",
          "height": 231
        },
        "outputId": "a450902a-d711-4628-8e0b-193c73b67f05"
      },
      "source": [
        "## Train the model\n",
        "\n",
        "for epoch in range(num_epochs):\n",
        "  ## Convert numpy arrays to torch tensors\n",
        "  inputs = torch.from_numpy(X_train)\n",
        "  targets = torch.from_numpy(Y_train)\n",
        "  \n",
        "  ## Forward pass\n",
        "  outputs = model(inputs)\n",
        "  loss = criterion(outputs, targets)\n",
        "  \n",
        "  ## Backward and optimize\n",
        "  optimizer.zero_grad()\n",
        "  loss.backward()\n",
        "  optimizer.step()\n",
        "  \n",
        "  if (epoch + 1) % 5 == 0:\n",
        "    print ('Epoch [{} / {}], Loss: {:.4f}'.format(epoch + 1, num_epochs, loss.item()))"
      ],
      "execution_count": 6,
      "outputs": [
        {
          "output_type": "stream",
          "text": [
            "Epoch [5 / 60], Loss: 6.4155\n",
            "Epoch [10 / 60], Loss: 2.8522\n",
            "Epoch [15 / 60], Loss: 1.4083\n",
            "Epoch [20 / 60], Loss: 0.8229\n",
            "Epoch [25 / 60], Loss: 0.5854\n",
            "Epoch [30 / 60], Loss: 0.4888\n",
            "Epoch [35 / 60], Loss: 0.4493\n",
            "Epoch [40 / 60], Loss: 0.4329\n",
            "Epoch [45 / 60], Loss: 0.4258\n",
            "Epoch [50 / 60], Loss: 0.4226\n",
            "Epoch [55 / 60], Loss: 0.4209\n",
            "Epoch [60 / 60], Loss: 0.4198\n"
          ],
          "name": "stdout"
        }
      ]
    },
    {
      "cell_type": "code",
      "metadata": {
        "id": "94Fn0DYwn7CY",
        "colab_type": "code",
        "colab": {
          "base_uri": "https://localhost:8080/",
          "height": 269
        },
        "outputId": "6d6eed36-d2a5-4e64-feca-c87dee50d22f"
      },
      "source": [
        "## Plot the graph\n",
        "\n",
        "predicted = model(torch.from_numpy(X_train)).detach().numpy()\n",
        "plt.plot(X_train, Y_train, 'ro', label = 'Original data')\n",
        "plt.plot(X_train, predicted, label = 'Fitted line')\n",
        "plt.legend()\n",
        "plt.show()"
      ],
      "execution_count": 7,
      "outputs": [
        {
          "output_type": "display_data",
          "data": {
            "image/png": "[encoded data removed]",
            "text/plain": [
              "<Figure size 432x288 with 1 Axes>"
            ]
          },
          "metadata": {
            "tags": []
          }
        }
      ]
    },
    {
      "cell_type": "code",
      "metadata": {
        "id": "tcj9V6IdotFt",
        "colab_type": "code",
        "colab": {}
      },
      "source": [
        "## Save the model checkpoint\n",
        "\n",
        "torch.save(model.state_dict(), 'model.ckpt')"
      ],
      "execution_count": 0,
      "outputs": []
    }
  ]
}