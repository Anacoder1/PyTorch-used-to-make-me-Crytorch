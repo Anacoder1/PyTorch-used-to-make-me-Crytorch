{
  "nbformat": 4,
  "nbformat_minor": 0,
  "metadata": {
    "colab": {
      "name": "LSGAN_MNIST.ipynb",
      "version": "0.3.2",
      "provenance": [],
      "collapsed_sections": []
    },
    "kernelspec": {
      "name": "python3",
      "display_name": "Python 3"
    },
    "accelerator": "GPU"
  },
  "cells": [
    {
      "cell_type": "code",
      "metadata": {
        "id": "ccP9rnAu7qkd",
        "colab_type": "code",
        "colab": {}
      },
      "source": [
        "from torch.utils.data import DataLoader\n",
        "from torchvision import datasets, transforms\n",
        "\n",
        "import argparse, os, gzip, torch, time, pickle\n",
        "import torch.nn as nn\n",
        "import torch.optim as optim\n",
        "import numpy as np\n",
        "import imageio\n",
        "import matplotlib.pyplot as plt"
      ],
      "execution_count": 0,
      "outputs": []
    },
    {
      "cell_type": "code",
      "metadata": {
        "id": "Vy93yWOs8b5R",
        "colab_type": "code",
        "colab": {}
      },
      "source": [
        "def dataloader(dataset, input_size, batch_size, split = 'train'):\n",
        "  \n",
        "  transform = transforms.Compose([\n",
        "      transforms.ToTensor(),\n",
        "      transforms.Normalize([0.5], [0.5])\n",
        "  ])\n",
        "  \n",
        "  if dataset == 'mnist':\n",
        "    data_loader = DataLoader(\n",
        "        datasets.MNIST('data/mnist', train = True, download = True,\n",
        "                       transform = transform),\n",
        "        batch_size = batch_size,\n",
        "        shuffle = True\n",
        "    )\n",
        "    \n",
        "  elif dataset == 'fashion-mnist':\n",
        "    data_loader = DataLoader(\n",
        "        datasets.FashionMNIST('data/fashion-mnist', train = True, download = True,\n",
        "                              transform = transform),\n",
        "        batch_size = batch_size,\n",
        "        shuffle = True\n",
        "    )\n",
        "    \n",
        "  elif dataset == 'cifar10':\n",
        "    data_loader = DataLoader(\n",
        "        datasets.CIFAR10('data/cifar10', train = True, download = True,\n",
        "                         transform = transform),\n",
        "        batch_size = batch_size,\n",
        "        shuffle = True\n",
        "    )\n",
        "    \n",
        "  elif dataset == 'svhn':\n",
        "    data_loader = DataLoader(\n",
        "        datasets.SVHN('data/svhn', split = split, download = True,\n",
        "                      transform = transform),\n",
        "        batch_size = batch_size,\n",
        "        shuffle = True\n",
        "    )\n",
        "    \n",
        "  elif dataset == 'stl10':\n",
        "    data_loader = DataLoader(\n",
        "        datasets.STL10('data/stl10', split = split, download = True,\n",
        "                       transform = transform),\n",
        "        batch_size = batch_size,\n",
        "        shuffle = True\n",
        "    )\n",
        "    \n",
        "  elif dataset == 'lsun-bed':\n",
        "    data_loader = DataLoader(\n",
        "        datasets.LSUN('data/lsun', classes = ['bedroom-train'],\n",
        "                      transform = transform),\n",
        "        batch_size = batch_size,\n",
        "        shuffle = True\n",
        "    )\n",
        "    \n",
        "  return data_loader"
      ],
      "execution_count": 0,
      "outputs": []
    },
    {
      "cell_type": "code",
      "metadata": {
        "id": "r3k3GNigE67Y",
        "colab_type": "code",
        "colab": {}
      },
      "source": [
        "def load_mnist(dataset):\n",
        "  data_dir = os.path.join(\"./data\", dataset)\n",
        "  \n",
        "  def extract_data(filename, num_data, head_size, data_size):\n",
        "    with gzip.open(filename) as bytestream:\n",
        "      bytestream.read(head_size)\n",
        "      buf = bytestream.read(data_size * num_data)\n",
        "      data = np.frombuffer(buf, dtype = np.uint8).astype(np.float)\n",
        "    return data\n",
        "  \n",
        "  data = extract_data(data_dir + '/train-images-idx3-ubyte.gz', 60000, 16, 28 * 28)\n",
        "  trX = data.reshape((60000, 28, 28, 1))\n",
        "  \n",
        "  data = extract_data(data_dir + '/train-labels-idx1-ubyte.gz', 60000, 8, 1)\n",
        "  trY = data.reshape((60000))\n",
        "  \n",
        "  data = extract_data(data_dir + '/t10k-images-idx3-ubyte.gz', 10000, 16, 28 * 28)\n",
        "  teX = data.reshape((10000, 28, 28, 1))\n",
        "  \n",
        "  data = extract_data(data_dir + '/t10k-labels-idx1-ubyte.gz', 10000, 8, 1)\n",
        "  teY = data.reshape((10000))\n",
        "  \n",
        "  trY = np.asarray(trY).astype(np.int)\n",
        "  teY = np.asarray(teY)\n",
        "  \n",
        "  X = np.concatenate((trX, teX), axis = 0)\n",
        "  y = np.concatenate((trY, teY), axis = 0).astype(np.int)\n",
        "  \n",
        "  seed = 1998\n",
        "  np.random.seed(seed)\n",
        "  np.random.shuffle(X)\n",
        "  np.random.seed(seed)\n",
        "  np.random.shuffle(y)\n",
        "  \n",
        "  y_vec = np.zeros((len(y), 10), dtype = np.float)\n",
        "  for i, label in enumerate(y):\n",
        "    y_vec[i, y[i]] = 1\n",
        "  \n",
        "  \n",
        "  X = X.transpose(0, 3, 1, 2) / 255.\n",
        "  \n",
        "  X = torch.from_numpy(X).type(torch.FloatTensor)\n",
        "  y_vec = torch.from_numpy(y_vec).type(torch.FloatTensor)\n",
        "  return X, y_vec"
      ],
      "execution_count": 0,
      "outputs": []
    },
    {
      "cell_type": "code",
      "metadata": {
        "id": "hi2HhuUuHsiM",
        "colab_type": "code",
        "colab": {}
      },
      "source": [
        "def print_network(net):\n",
        "  num_params = 0\n",
        "  for param in net.parameters():\n",
        "    num_params += param.numel()\n",
        "  print(net)\n",
        "  print('Total number of parameters: %d' % num_params)"
      ],
      "execution_count": 0,
      "outputs": []
    },
    {
      "cell_type": "code",
      "metadata": {
        "id": "xQYB1ksQXgeu",
        "colab_type": "code",
        "colab": {}
      },
      "source": [
        "def save_images(images, size, image_path):\n",
        "  return imsave(images, size, image_path)\n",
        "\n",
        "def imsave(images, size, path):\n",
        "  image = np.squeeze(merge(images, size))\n",
        "  return imageio.imwrite(path, image)"
      ],
      "execution_count": 0,
      "outputs": []
    },
    {
      "cell_type": "code",
      "metadata": {
        "id": "tpQ_FWdFYgIf",
        "colab_type": "code",
        "colab": {}
      },
      "source": [
        "def merge(images, size):\n",
        "  h, w = images.shape[1], images.shape[2]\n",
        "  \n",
        "  if(images.shape[3] in (3, 4)):\n",
        "    c = images.shape[3]\n",
        "    img = np.zeros((h * size[0], w * size[1], c))\n",
        "    for idx, image in enumerate(images):\n",
        "      i = idx % size[1]\n",
        "      j = idx // size[1]\n",
        "      img[j * h: j * h + h, i * w: i * w + w, :] = image\n",
        "    return img\n",
        "  \n",
        "  elif images.shape[3] == 1:\n",
        "    img = np.zeros((h * size[0], w * size[1]))\n",
        "    for idx, image in enumerate(images):\n",
        "      i = idx % size[1]\n",
        "      j = idx // size[1]\n",
        "      img[j * h: j * h + h, i * w: i * w + w] = image[:, :, 0]\n",
        "    return img\n",
        "  \n",
        "  else:\n",
        "    raise ValueError('in merge(images, size) images parameter must have dimensions: HxW or HxWx3 or HxWx4')"
      ],
      "execution_count": 0,
      "outputs": []
    },
    {
      "cell_type": "code",
      "metadata": {
        "id": "cZcg8lDfcUeJ",
        "colab_type": "code",
        "colab": {}
      },
      "source": [
        "def generate_animation(path, num):\n",
        "  images = []\n",
        "  for e in range(num):\n",
        "    img_name = path + '_epoch%03d' % (e + 1) + '.png'\n",
        "    images.append(imageio.imread(img_name))\n",
        "  imageio.mimsave(path + '_generate_animation.gif', images, fps = 5)"
      ],
      "execution_count": 0,
      "outputs": []
    },
    {
      "cell_type": "code",
      "metadata": {
        "id": "_4-RTEEqe4Nx",
        "colab_type": "code",
        "colab": {}
      },
      "source": [
        "def loss_plot(hist, path = 'Train_hist.png', model_name = ''):\n",
        "  \n",
        "  x = range(len(hist['D_loss']))\n",
        "  \n",
        "  y1 = hist['D_loss']\n",
        "  y2 = hist['G_loss']\n",
        "  \n",
        "  plt.plot(x, y1, label = 'D_loss')\n",
        "  plt.plot(x, y2, label = 'G_loss')\n",
        "  \n",
        "  plt.xlabel('Iter')\n",
        "  plt.ylabel('Loss')\n",
        "  \n",
        "  plt.legend(loc = 4)\n",
        "  plt.grid(True)\n",
        "  plt.tight_layout()\n",
        "  \n",
        "  path = os.path.join(path, model_name + '_loss.png')\n",
        "  \n",
        "  plt.savefig(path)\n",
        "  \n",
        "  plt.close()"
      ],
      "execution_count": 0,
      "outputs": []
    },
    {
      "cell_type": "code",
      "metadata": {
        "id": "PHQ9pOJToY8w",
        "colab_type": "code",
        "colab": {}
      },
      "source": [
        "def initialize_weights(net):\n",
        "  \n",
        "  for m in net.modules():\n",
        "    if isinstance(m, nn.Conv2d):\n",
        "      m.weight.data.normal_(0, 0.02)\n",
        "      m.bias.data.zero_()\n",
        "    elif isinstance(m, nn.ConvTranspose2d):\n",
        "      m.weight.data.normal_(0, 0.02)\n",
        "      m.bias.data.zero_()\n",
        "    elif isinstance(m, nn.Linear):\n",
        "      m.weight.data.normal_(0, 0.02)\n",
        "      m.bias.data.zero_()"
      ],
      "execution_count": 0,
      "outputs": []
    },
    {
      "cell_type": "code",
      "metadata": {
        "id": "_uwjpUfaogow",
        "colab_type": "code",
        "colab": {}
      },
      "source": [
        "class generator(nn.Module):\n",
        "  \n",
        "  ## Network Architecture is exactly the same as in infoGAN (https://arxiv.org/abs/1606.03657)\n",
        "  ## Architecture: FC1024_BR-FC7x7x128_BR-(64)4dc2s_BR-(1)4dc2s_S\n",
        "  \n",
        "  def __init__(self, input_dim = 100, output_dim = 1, input_size = 32):\n",
        "    super(generator, self).__init__()\n",
        "    self.input_dim = input_dim\n",
        "    self.output_dim = output_dim\n",
        "    self.input_size = input_size\n",
        "    \n",
        "    self.fc = nn.Sequential(\n",
        "        nn.Linear(self.input_dim, 1024),\n",
        "        nn.BatchNorm1d(1024),\n",
        "        nn.ReLU(),\n",
        "        nn.Linear(1024, 128 * (self.input_size // 4) * (self.input_size // 4)),\n",
        "        nn.BatchNorm1d(128 * (self.input_size // 4) * (self.input_size // 4)),\n",
        "        nn.ReLU(),\n",
        "    )\n",
        "    \n",
        "    self.deconv = nn.Sequential(\n",
        "        nn.ConvTranspose2d(128, 64, 4, 2, 1),\n",
        "        nn.BatchNorm2d(64),\n",
        "        nn.ReLU(),\n",
        "        nn.ConvTranspose2d(64, self.output_dim, 4, 2, 1),\n",
        "        nn.Tanh(),\n",
        "    )\n",
        "    \n",
        "    initialize_weights(self)\n",
        "    \n",
        "    \n",
        "  def forward(self, input):\n",
        "    x = self.fc(input)\n",
        "    x = x.view(-1, 128, (self.input_size // 4), (self.input_size // 4))\n",
        "    x = self.deconv(x)\n",
        "    return x"
      ],
      "execution_count": 0,
      "outputs": []
    },
    {
      "cell_type": "code",
      "metadata": {
        "id": "yZaPhzblvaju",
        "colab_type": "code",
        "colab": {}
      },
      "source": [
        "class discriminator(nn.Module):\n",
        "  \n",
        "  ## Network Architecture is exactly the same as in infoGAN (https://arxiv.org/abs/1606.03657)\n",
        "  ## Architecture: (64)4c2s-(128)4c2s_BL-FC1024_BL-FC1_S\n",
        "  \n",
        "  def __init__(self, input_dim = 1, output_dim = 1, input_size = 32):\n",
        "    super(discriminator, self).__init__()\n",
        "    self.input_dim = input_dim\n",
        "    self.output_dim = output_dim\n",
        "    self.input_size = input_size\n",
        "    \n",
        "    self.conv = nn.Sequential(\n",
        "        nn.Conv2d(self.input_dim, 64, 4, 2, 1),\n",
        "        nn.LeakyReLU(0.2),\n",
        "        nn.Conv2d(64, 128, 4, 2, 1),\n",
        "        nn.BatchNorm2d(128),\n",
        "        nn.LeakyReLU(0.2),\n",
        "    )\n",
        "    \n",
        "    self.fc = nn.Sequential(\n",
        "        nn.Linear(128 * (self.input_size // 4) * (self.input_size // 4), 1024),\n",
        "        nn.BatchNorm1d(1024),\n",
        "        nn.LeakyReLU(0.2),\n",
        "        nn.Linear(1024, self.output_dim),\n",
        "        nn.Sigmoid(),\n",
        "    )\n",
        "    \n",
        "    initialize_weights(self)\n",
        "    \n",
        "  \n",
        "  def forward(self, input):\n",
        "    x = self.conv(input)\n",
        "    x = x.view(-1, 128 * (self.input_size // 4) * (self.input_size // 4))\n",
        "    x = self.fc(x)\n",
        "    \n",
        "    return x"
      ],
      "execution_count": 0,
      "outputs": []
    },
    {
      "cell_type": "code",
      "metadata": {
        "id": "C73WfyKF2IdS",
        "colab_type": "code",
        "colab": {}
      },
      "source": [
        "class LSGAN(object):\n",
        "  \n",
        "  def __init__(self):\n",
        "    ## parameters\n",
        "    self.epoch = 50\n",
        "    self.sample_num = 100\n",
        "    self.batch_size = 64\n",
        "    self.save_dir = 'models'\n",
        "    self.result_dir = 'results'\n",
        "    self.dataset = 'mnist'\n",
        "    self.log_dir = 'logs'\n",
        "    self.gpu_mode = True\n",
        "    self.model_name = 'LSGAN'\n",
        "    self.input_size = 28\n",
        "    self.z_dim = 62\n",
        "    \n",
        "    \n",
        "    ## load dataset\n",
        "    self.data_loader = dataloader(self.dataset,\n",
        "                                  self.input_size,\n",
        "                                  self.batch_size)\n",
        "    data = self.data_loader.__iter__().__next__()[0]\n",
        "    \n",
        "    \n",
        "    ## networks init\n",
        "    self.G = generator(input_dim = self.z_dim,\n",
        "                       output_dim = data.shape[1],\n",
        "                       input_size = self.input_size)\n",
        "    self.D = discriminator(input_dim = data.shape[1],\n",
        "                           output_dim = 1,\n",
        "                           input_size = self.input_size)\n",
        "    self.G_optimizer = optim.Adam(self.G.parameters(),\n",
        "                                  lr = 0.0002,\n",
        "                                  betas = (0.5, 0.999))\n",
        "    self.D_optimizer = optim.Adam(self.D.parameters(),\n",
        "                                  lr = 0.0002,\n",
        "                                  betas = (0.5, 0.999))\n",
        "    \n",
        "    \n",
        "    if self.gpu_mode:\n",
        "      self.G.cuda()\n",
        "      self.D.cuda()\n",
        "      self.MSE_loss = nn.MSELoss().cuda()\n",
        "    else:\n",
        "      self.MSE_loss = nn.MSELoss()\n",
        "      \n",
        "    \n",
        "    print('-----------Networks Architecture------------')\n",
        "    print_network(self.G)\n",
        "    print_network(self.D)\n",
        "    print('--------------------------------------------')\n",
        "    \n",
        "    \n",
        "    ## fixed noise\n",
        "    self.sample_z_ = torch.rand((self.batch_size, self.z_dim))\n",
        "    if self.gpu_mode:\n",
        "      self.sample_z_ = self.sample_z_.cuda()\n",
        "      \n",
        "  \n",
        "  def train(self):\n",
        "    self.train_hist = {}\n",
        "    self.train_hist['D_loss'] = []\n",
        "    self.train_hist['G_loss'] = []\n",
        "    self.train_hist['per_epoch_time'] = []\n",
        "    self.train_hist['total_time'] = []\n",
        "    \n",
        "    self.y_real_, self.y_fake_ = torch.ones(self.batch_size, 1), torch.zeros(self.batch_size, 1)\n",
        "    if self.gpu_mode:\n",
        "      self.y_real_, self.y_fake_ = self.y_real_.cuda(), self.y_fake_.cuda()\n",
        "      \n",
        "    \n",
        "    self.D.train()\n",
        "    print('training start !')\n",
        "    start_time = time.time()\n",
        "    for epoch in range(self.epoch):\n",
        "      self.G.train()\n",
        "      epoch_start_time = time.time()\n",
        "      for iter, (x_, _) in enumerate(self.data_loader):\n",
        "        if iter == self.data_loader.dataset.__len__() // self.batch_size:\n",
        "          break\n",
        "          \n",
        "        z_ = torch.rand((self.batch_size, self.z_dim))\n",
        "        if self.gpu_mode:\n",
        "          x_, z_ = x_.cuda(), z_.cuda()\n",
        "          \n",
        "          \n",
        "        ## update D network\n",
        "        self.D_optimizer.zero_grad()\n",
        "        \n",
        "        D_real = self.D(x_)\n",
        "        D_real_loss = self.MSE_loss(D_real, self.y_real_)\n",
        "        \n",
        "        G_ = self.G(z_)\n",
        "        D_fake = self.D(G_)\n",
        "        D_fake_loss = self.MSE_loss(D_fake, self.y_fake_)\n",
        "        \n",
        "        D_loss = D_real_loss + D_fake_loss\n",
        "        self.train_hist['D_loss'].append(D_loss.item())\n",
        "        \n",
        "        D_loss.backward()\n",
        "        self.D_optimizer.step()\n",
        "        \n",
        "        \n",
        "        ## update G network\n",
        "        self.G_optimizer.zero_grad()\n",
        "        \n",
        "        G_ = self.G(z_)\n",
        "        D_fake = self.D(G_)\n",
        "        G_loss = self.MSE_loss(D_fake, self.y_real_)\n",
        "        self.train_hist['G_loss'].append(G_loss.item())\n",
        "        \n",
        "        G_loss.backward()\n",
        "        self.G_optimizer.step()\n",
        "        \n",
        "        \n",
        "        if ((iter + 1) % 100) == 0:\n",
        "          print(\"Epoch: [%2d] [%4d / %4d] D_loss: %.8f, G_loss: %.8f\" %\n",
        "                ((epoch + 1), (iter + 1), self.data_loader.dataset.__len__() // self.batch_size,\n",
        "                 D_loss.item(), G_loss.item()))\n",
        "          \n",
        "      self.train_hist['per_epoch_time'].append(time.time() - epoch_start_time)\n",
        "      with torch.no_grad():\n",
        "        self.visualize_results((epoch + 1))\n",
        "        \n",
        "    self.train_hist['total_time'].append(time.time() - start_time)\n",
        "    print(\"Avg one epoch time: %.2f, total %d epochs time: %.2f\" % (np.mean(self.train_hist['per_epoch_time']),\n",
        "                                                                    self.epoch, \n",
        "                                                                    self.train_hist['total_time'][0]))\n",
        "    print(\"Training finish! Saved training results\")\n",
        "    \n",
        "    self.save()\n",
        "    \n",
        "    \n",
        "    generate_animation(self.result_dir + '/' + self.dataset + '/' + self.model_name + '/' + self.model_name, \n",
        "                       self.epoch)\n",
        "    \n",
        "    loss_plot(self.train_hist, \n",
        "              os.path.join(self.save_dir, self.dataset, self.model_name),\n",
        "              self.model_name)\n",
        "    \n",
        "  \n",
        "  def visualize_results(self, epoch, fix = True):\n",
        "    self.G.eval()\n",
        "    \n",
        "    if not os.path.exists(self.result_dir + '/' + self.dataset + '/' + self.model_name):\n",
        "      os.makedirs(self.result_dir + '/' + self.dataset + '/' + self.model_name)\n",
        "    \n",
        "    tot_num_samples = min(self.sample_num, self.batch_size)\n",
        "    image_frame_dim = int(np.floor(np.sqrt(tot_num_samples)))\n",
        "    \n",
        "    if fix:\n",
        "      \"\"\" fixed noise \"\"\"\n",
        "      samples = self.G(self.sample_z_)\n",
        "      \n",
        "    else:\n",
        "      \"\"\" random noise \"\"\"\n",
        "      sample_z_ = torch.rand((self.batch_size, self.z_dim))\n",
        "      if self.gpu_mode:\n",
        "        sample_z_ = sample_z_.cuda()\n",
        "        \n",
        "      samples = self.G(sample_z_)\n",
        "      \n",
        "    \n",
        "    if self.gpu_mode:\n",
        "      samples = samples.cpu().data.numpy().transpose(0, 2, 3, 1)\n",
        "    else:\n",
        "      samples = samples.data.numpy().transpose(0, 2, 3, 1)\n",
        "      \n",
        "    \n",
        "    samples = (samples + 1) / 2\n",
        "    save_images(samples[:image_frame_dim * image_frame_dim, :, :, :],\n",
        "                [image_frame_dim, image_frame_dim],\n",
        "                self.result_dir + '/' + self.dataset + '/' + self.model_name + '/' + self.model_name + '_epoch%03d' % epoch + '.png')\n",
        "    \n",
        "  \n",
        "  def save(self):\n",
        "    save_dir = os.path.join(self.save_dir, self.dataset, self.model_name)\n",
        "    \n",
        "    if not os.path.exists(save_dir):\n",
        "      os.makedirs(save_dir)\n",
        "      \n",
        "    torch.save(self.G.state_dict(), os.path.join(save_dir, self.model_name + '_G.pkl'))\n",
        "    torch.save(self.D.state_dict(), os.path.join(save_dir, self.model_name + '_D.pkl'))\n",
        "    \n",
        "    with open(os.path.join(save_dir, self.model_name + '_history.pkl'), 'wb') as f:\n",
        "      pickle.dump(self.train_hist, f)\n",
        "      \n",
        "      \n",
        "  def load(self):\n",
        "    save_dir = os.path.join(self.save_dir, self.dataset, self.model_name)\n",
        "    \n",
        "    self.G.load_state_dict(torch.load(os.path.join(save_dir, self.model_name + '_G.pkl')))\n",
        "    self.D.load_state_dict(torch.load(os.path.join(save_dir, self.model_name + '_D.pkl')))"
      ],
      "execution_count": 0,
      "outputs": []
    },
    {
      "cell_type": "code",
      "metadata": {
        "id": "fUxWuTtqPwqS",
        "colab_type": "code",
        "colab": {
          "base_uri": "https://localhost:8080/",
          "height": 1000
        },
        "outputId": "7e13e69f-ea7e-4e01-b1a2-984de4e21f68"
      },
      "source": [
        "def main():\n",
        "  \n",
        "  lsgan = LSGAN()\n",
        "  \n",
        "  lsgan.train()\n",
        "  print(\" [**] Training finished!\")\n",
        "  \n",
        "  ## visualize learned generator\n",
        "  lsgan.visualize_results(50)\n",
        "  print(\" [**] Testing finished!\")\n",
        "  \n",
        "\n",
        "if __name__ == '__main__':\n",
        "  main()"
      ],
      "execution_count": 13,
      "outputs": [
        {
          "output_type": "stream",
          "text": [
            "\r0it [00:00, ?it/s]"
          ],
          "name": "stderr"
        },
        {
          "output_type": "stream",
          "text": [
            "Downloading http://yann.lecun.com/exdb/mnist/train-images-idx3-ubyte.gz to data/mnist/MNIST/raw/train-images-idx3-ubyte.gz\n"
          ],
          "name": "stdout"
        },
        {
          "output_type": "stream",
          "text": [
            "9920512it [00:01, 8309373.17it/s]                            \n"
          ],
          "name": "stderr"
        },
        {
          "output_type": "stream",
          "text": [
            "Extracting data/mnist/MNIST/raw/train-images-idx3-ubyte.gz\n"
          ],
          "name": "stdout"
        },
        {
          "output_type": "stream",
          "text": [
            "  0%|          | 0/28881 [00:00<?, ?it/s]"
          ],
          "name": "stderr"
        },
        {
          "output_type": "stream",
          "text": [
            "Downloading http://yann.lecun.com/exdb/mnist/train-labels-idx1-ubyte.gz to data/mnist/MNIST/raw/train-labels-idx1-ubyte.gz\n"
          ],
          "name": "stdout"
        },
        {
          "output_type": "stream",
          "text": [
            "32768it [00:00, 133789.84it/s]           \n",
            "  0%|          | 0/1648877 [00:00<?, ?it/s]"
          ],
          "name": "stderr"
        },
        {
          "output_type": "stream",
          "text": [
            "Extracting data/mnist/MNIST/raw/train-labels-idx1-ubyte.gz\n",
            "Downloading http://yann.lecun.com/exdb/mnist/t10k-images-idx3-ubyte.gz to data/mnist/MNIST/raw/t10k-images-idx3-ubyte.gz\n"
          ],
          "name": "stdout"
        },
        {
          "output_type": "stream",
          "text": [
            "1654784it [00:00, 2200848.78it/s]                            \n",
            "0it [00:00, ?it/s]"
          ],
          "name": "stderr"
        },
        {
          "output_type": "stream",
          "text": [
            "Extracting data/mnist/MNIST/raw/t10k-images-idx3-ubyte.gz\n",
            "Downloading http://yann.lecun.com/exdb/mnist/t10k-labels-idx1-ubyte.gz to data/mnist/MNIST/raw/t10k-labels-idx1-ubyte.gz\n"
          ],
          "name": "stdout"
        },
        {
          "output_type": "stream",
          "text": [
            "8192it [00:00, 51789.02it/s]            \n"
          ],
          "name": "stderr"
        },
        {
          "output_type": "stream",
          "text": [
            "Extracting data/mnist/MNIST/raw/t10k-labels-idx1-ubyte.gz\n",
            "Processing...\n",
            "Done!\n",
            "-----------Networks Architecture------------\n",
            "generator(\n",
            "  (fc): Sequential(\n",
            "    (0): Linear(in_features=62, out_features=1024, bias=True)\n",
            "    (1): BatchNorm1d(1024, eps=1e-05, momentum=0.1, affine=True, track_running_stats=True)\n",
            "    (2): ReLU()\n",
            "    (3): Linear(in_features=1024, out_features=6272, bias=True)\n",
            "    (4): BatchNorm1d(6272, eps=1e-05, momentum=0.1, affine=True, track_running_stats=True)\n",
            "    (5): ReLU()\n",
            "  )\n",
            "  (deconv): Sequential(\n",
            "    (0): ConvTranspose2d(128, 64, kernel_size=(4, 4), stride=(2, 2), padding=(1, 1))\n",
            "    (1): BatchNorm2d(64, eps=1e-05, momentum=0.1, affine=True, track_running_stats=True)\n",
            "    (2): ReLU()\n",
            "    (3): ConvTranspose2d(64, 1, kernel_size=(4, 4), stride=(2, 2), padding=(1, 1))\n",
            "    (4): Tanh()\n",
            "  )\n",
            ")\n",
            "Total number of parameters: 6640193\n",
            "discriminator(\n",
            "  (conv): Sequential(\n",
            "    (0): Conv2d(1, 64, kernel_size=(4, 4), stride=(2, 2), padding=(1, 1))\n",
            "    (1): LeakyReLU(negative_slope=0.2)\n",
            "    (2): Conv2d(64, 128, kernel_size=(4, 4), stride=(2, 2), padding=(1, 1))\n",
            "    (3): BatchNorm2d(128, eps=1e-05, momentum=0.1, affine=True, track_running_stats=True)\n",
            "    (4): LeakyReLU(negative_slope=0.2)\n",
            "  )\n",
            "  (fc): Sequential(\n",
            "    (0): Linear(in_features=6272, out_features=1024, bias=True)\n",
            "    (1): BatchNorm1d(1024, eps=1e-05, momentum=0.1, affine=True, track_running_stats=True)\n",
            "    (2): LeakyReLU(negative_slope=0.2)\n",
            "    (3): Linear(in_features=1024, out_features=1, bias=True)\n",
            "    (4): Sigmoid()\n",
            "  )\n",
            ")\n",
            "Total number of parameters: 6559169\n",
            "--------------------------------------------\n",
            "training start !\n",
            "Epoch: [ 1] [ 100 /  937] D_loss: 0.39547169, G_loss: 0.35550651\n",
            "Epoch: [ 1] [ 200 /  937] D_loss: 0.36082035, G_loss: 0.38726655\n",
            "Epoch: [ 1] [ 300 /  937] D_loss: 0.23742270, G_loss: 0.46244627\n",
            "Epoch: [ 1] [ 400 /  937] D_loss: 0.28342628, G_loss: 0.49505350\n",
            "Epoch: [ 1] [ 500 /  937] D_loss: 0.29721889, G_loss: 0.45943391\n",
            "Epoch: [ 1] [ 600 /  937] D_loss: 0.31771052, G_loss: 0.38903266\n",
            "Epoch: [ 1] [ 700 /  937] D_loss: 0.33283556, G_loss: 0.40524203\n",
            "Epoch: [ 1] [ 800 /  937] D_loss: 0.32098818, G_loss: 0.42950100\n",
            "Epoch: [ 1] [ 900 /  937] D_loss: 0.33927202, G_loss: 0.44830030\n"
          ],
          "name": "stdout"
        },
        {
          "output_type": "stream",
          "text": [
            "WARNING:root:Lossy conversion from float64 to uint8. Range [0, 1]. Convert image to uint8 prior to saving to suppress this warning.\n"
          ],
          "name": "stderr"
        },
        {
          "output_type": "stream",
          "text": [
            "Epoch: [ 2] [ 100 /  937] D_loss: 0.32742739, G_loss: 0.43614516\n",
            "Epoch: [ 2] [ 200 /  937] D_loss: 0.34101292, G_loss: 0.40003991\n",
            "Epoch: [ 2] [ 300 /  937] D_loss: 0.30060449, G_loss: 0.45280081\n",
            "Epoch: [ 2] [ 400 /  937] D_loss: 0.35244057, G_loss: 0.42481109\n",
            "Epoch: [ 2] [ 500 /  937] D_loss: 0.33756894, G_loss: 0.44532615\n",
            "Epoch: [ 2] [ 600 /  937] D_loss: 0.34959185, G_loss: 0.46215510\n",
            "Epoch: [ 2] [ 700 /  937] D_loss: 0.30956671, G_loss: 0.46009398\n",
            "Epoch: [ 2] [ 800 /  937] D_loss: 0.34558749, G_loss: 0.40240186\n",
            "Epoch: [ 2] [ 900 /  937] D_loss: 0.40558210, G_loss: 0.40670583\n"
          ],
          "name": "stdout"
        },
        {
          "output_type": "stream",
          "text": [
            "WARNING:root:Lossy conversion from float64 to uint8. Range [0, 1]. Convert image to uint8 prior to saving to suppress this warning.\n"
          ],
          "name": "stderr"
        },
        {
          "output_type": "stream",
          "text": [
            "Epoch: [ 3] [ 100 /  937] D_loss: 0.30702427, G_loss: 0.47134674\n",
            "Epoch: [ 3] [ 200 /  937] D_loss: 0.34918663, G_loss: 0.41519469\n",
            "Epoch: [ 3] [ 300 /  937] D_loss: 0.33422846, G_loss: 0.43204287\n",
            "Epoch: [ 3] [ 400 /  937] D_loss: 0.32186478, G_loss: 0.45153135\n",
            "Epoch: [ 3] [ 500 /  937] D_loss: 0.36511040, G_loss: 0.37028843\n",
            "Epoch: [ 3] [ 600 /  937] D_loss: 0.38845193, G_loss: 0.41953713\n",
            "Epoch: [ 3] [ 700 /  937] D_loss: 0.28204077, G_loss: 0.45710289\n",
            "Epoch: [ 3] [ 800 /  937] D_loss: 0.37181288, G_loss: 0.42189431\n",
            "Epoch: [ 3] [ 900 /  937] D_loss: 0.32315600, G_loss: 0.44566408\n"
          ],
          "name": "stdout"
        },
        {
          "output_type": "stream",
          "text": [
            "WARNING:root:Lossy conversion from float64 to uint8. Range [0, 1]. Convert image to uint8 prior to saving to suppress this warning.\n"
          ],
          "name": "stderr"
        },
        {
          "output_type": "stream",
          "text": [
            "Epoch: [ 4] [ 100 /  937] D_loss: 0.33268666, G_loss: 0.45865133\n",
            "Epoch: [ 4] [ 200 /  937] D_loss: 0.31194678, G_loss: 0.50942391\n",
            "Epoch: [ 4] [ 300 /  937] D_loss: 0.34109995, G_loss: 0.44365752\n",
            "Epoch: [ 4] [ 400 /  937] D_loss: 0.32039011, G_loss: 0.46996891\n",
            "Epoch: [ 4] [ 500 /  937] D_loss: 0.27590361, G_loss: 0.54380202\n",
            "Epoch: [ 4] [ 600 /  937] D_loss: 0.34196562, G_loss: 0.47213310\n",
            "Epoch: [ 4] [ 700 /  937] D_loss: 0.25762850, G_loss: 0.53623617\n",
            "Epoch: [ 4] [ 800 /  937] D_loss: 0.33565682, G_loss: 0.40951449\n",
            "Epoch: [ 4] [ 900 /  937] D_loss: 0.35776591, G_loss: 0.44702798\n"
          ],
          "name": "stdout"
        },
        {
          "output_type": "stream",
          "text": [
            "WARNING:root:Lossy conversion from float64 to uint8. Range [0, 1]. Convert image to uint8 prior to saving to suppress this warning.\n"
          ],
          "name": "stderr"
        },
        {
          "output_type": "stream",
          "text": [
            "Epoch: [ 5] [ 100 /  937] D_loss: 0.29723004, G_loss: 0.49707127\n",
            "Epoch: [ 5] [ 200 /  937] D_loss: 0.34383136, G_loss: 0.51517987\n",
            "Epoch: [ 5] [ 300 /  937] D_loss: 0.23544818, G_loss: 0.51053941\n",
            "Epoch: [ 5] [ 400 /  937] D_loss: 0.37774360, G_loss: 0.45981467\n",
            "Epoch: [ 5] [ 500 /  937] D_loss: 0.32825017, G_loss: 0.44419259\n",
            "Epoch: [ 5] [ 600 /  937] D_loss: 0.25984198, G_loss: 0.54485941\n",
            "Epoch: [ 5] [ 700 /  937] D_loss: 0.26348275, G_loss: 0.55766654\n",
            "Epoch: [ 5] [ 800 /  937] D_loss: 0.33476818, G_loss: 0.48914087\n",
            "Epoch: [ 5] [ 900 /  937] D_loss: 0.26497459, G_loss: 0.54978043\n"
          ],
          "name": "stdout"
        },
        {
          "output_type": "stream",
          "text": [
            "WARNING:root:Lossy conversion from float64 to uint8. Range [0, 1]. Convert image to uint8 prior to saving to suppress this warning.\n"
          ],
          "name": "stderr"
        },
        {
          "output_type": "stream",
          "text": [
            "Epoch: [ 6] [ 100 /  937] D_loss: 0.28836295, G_loss: 0.51457810\n",
            "Epoch: [ 6] [ 200 /  937] D_loss: 0.27073020, G_loss: 0.50168258\n",
            "Epoch: [ 6] [ 300 /  937] D_loss: 0.31313843, G_loss: 0.35182086\n",
            "Epoch: [ 6] [ 400 /  937] D_loss: 0.28651237, G_loss: 0.40720198\n",
            "Epoch: [ 6] [ 500 /  937] D_loss: 0.26715651, G_loss: 0.60933316\n",
            "Epoch: [ 6] [ 600 /  937] D_loss: 0.30277792, G_loss: 0.44225460\n",
            "Epoch: [ 6] [ 700 /  937] D_loss: 0.31704783, G_loss: 0.38866019\n",
            "Epoch: [ 6] [ 800 /  937] D_loss: 0.29496682, G_loss: 0.59641814\n",
            "Epoch: [ 6] [ 900 /  937] D_loss: 0.23443508, G_loss: 0.57306772\n"
          ],
          "name": "stdout"
        },
        {
          "output_type": "stream",
          "text": [
            "WARNING:root:Lossy conversion from float64 to uint8. Range [0, 1]. Convert image to uint8 prior to saving to suppress this warning.\n"
          ],
          "name": "stderr"
        },
        {
          "output_type": "stream",
          "text": [
            "Epoch: [ 7] [ 100 /  937] D_loss: 0.30417508, G_loss: 0.49456370\n",
            "Epoch: [ 7] [ 200 /  937] D_loss: 0.20659900, G_loss: 0.51299906\n",
            "Epoch: [ 7] [ 300 /  937] D_loss: 0.27496853, G_loss: 0.56932694\n",
            "Epoch: [ 7] [ 400 /  937] D_loss: 0.30360401, G_loss: 0.29484975\n",
            "Epoch: [ 7] [ 500 /  937] D_loss: 0.19581804, G_loss: 0.60137737\n",
            "Epoch: [ 7] [ 600 /  937] D_loss: 0.28974581, G_loss: 0.59514427\n",
            "Epoch: [ 7] [ 700 /  937] D_loss: 0.20801216, G_loss: 0.54917908\n",
            "Epoch: [ 7] [ 800 /  937] D_loss: 0.22940591, G_loss: 0.47164929\n",
            "Epoch: [ 7] [ 900 /  937] D_loss: 0.22771412, G_loss: 0.62866342\n"
          ],
          "name": "stdout"
        },
        {
          "output_type": "stream",
          "text": [
            "WARNING:root:Lossy conversion from float64 to uint8. Range [0, 1]. Convert image to uint8 prior to saving to suppress this warning.\n"
          ],
          "name": "stderr"
        },
        {
          "output_type": "stream",
          "text": [
            "Epoch: [ 8] [ 100 /  937] D_loss: 0.31287283, G_loss: 0.43087000\n",
            "Epoch: [ 8] [ 200 /  937] D_loss: 0.39774394, G_loss: 0.54922569\n",
            "Epoch: [ 8] [ 300 /  937] D_loss: 0.25644377, G_loss: 0.29242879\n",
            "Epoch: [ 8] [ 400 /  937] D_loss: 0.23850171, G_loss: 0.69064945\n",
            "Epoch: [ 8] [ 500 /  937] D_loss: 0.24010113, G_loss: 0.47950694\n",
            "Epoch: [ 8] [ 600 /  937] D_loss: 0.25718006, G_loss: 0.59011149\n",
            "Epoch: [ 8] [ 700 /  937] D_loss: 0.26501784, G_loss: 0.43813896\n",
            "Epoch: [ 8] [ 800 /  937] D_loss: 0.23102817, G_loss: 0.64430004\n",
            "Epoch: [ 8] [ 900 /  937] D_loss: 0.27220932, G_loss: 0.54048622\n"
          ],
          "name": "stdout"
        },
        {
          "output_type": "stream",
          "text": [
            "WARNING:root:Lossy conversion from float64 to uint8. Range [0, 1]. Convert image to uint8 prior to saving to suppress this warning.\n"
          ],
          "name": "stderr"
        },
        {
          "output_type": "stream",
          "text": [
            "Epoch: [ 9] [ 100 /  937] D_loss: 0.19561139, G_loss: 0.71957439\n",
            "Epoch: [ 9] [ 200 /  937] D_loss: 0.22381292, G_loss: 0.68401647\n",
            "Epoch: [ 9] [ 300 /  937] D_loss: 0.19391611, G_loss: 0.51686060\n",
            "Epoch: [ 9] [ 400 /  937] D_loss: 0.18001585, G_loss: 0.65006614\n",
            "Epoch: [ 9] [ 500 /  937] D_loss: 0.20706096, G_loss: 0.67412233\n",
            "Epoch: [ 9] [ 600 /  937] D_loss: 0.19913977, G_loss: 0.45379579\n",
            "Epoch: [ 9] [ 700 /  937] D_loss: 0.25385889, G_loss: 0.46083629\n",
            "Epoch: [ 9] [ 800 /  937] D_loss: 0.24340644, G_loss: 0.63692307\n",
            "Epoch: [ 9] [ 900 /  937] D_loss: 0.18260357, G_loss: 0.60708767\n"
          ],
          "name": "stdout"
        },
        {
          "output_type": "stream",
          "text": [
            "WARNING:root:Lossy conversion from float64 to uint8. Range [0, 1]. Convert image to uint8 prior to saving to suppress this warning.\n"
          ],
          "name": "stderr"
        },
        {
          "output_type": "stream",
          "text": [
            "Epoch: [10] [ 100 /  937] D_loss: 0.15504654, G_loss: 0.72165024\n",
            "Epoch: [10] [ 200 /  937] D_loss: 0.18114704, G_loss: 0.54343545\n",
            "Epoch: [10] [ 300 /  937] D_loss: 0.23387268, G_loss: 0.63959122\n",
            "Epoch: [10] [ 400 /  937] D_loss: 0.19425184, G_loss: 0.50982380\n",
            "Epoch: [10] [ 500 /  937] D_loss: 0.23407803, G_loss: 0.53020501\n",
            "Epoch: [10] [ 600 /  937] D_loss: 0.18433996, G_loss: 0.68571889\n",
            "Epoch: [10] [ 700 /  937] D_loss: 0.17014784, G_loss: 0.74432850\n",
            "Epoch: [10] [ 800 /  937] D_loss: 0.36121681, G_loss: 0.58847988\n",
            "Epoch: [10] [ 900 /  937] D_loss: 0.21894695, G_loss: 0.52931428\n"
          ],
          "name": "stdout"
        },
        {
          "output_type": "stream",
          "text": [
            "WARNING:root:Lossy conversion from float64 to uint8. Range [0, 1]. Convert image to uint8 prior to saving to suppress this warning.\n"
          ],
          "name": "stderr"
        },
        {
          "output_type": "stream",
          "text": [
            "Epoch: [11] [ 100 /  937] D_loss: 0.15731174, G_loss: 0.65804625\n",
            "Epoch: [11] [ 200 /  937] D_loss: 0.16236673, G_loss: 0.73333466\n",
            "Epoch: [11] [ 300 /  937] D_loss: 0.15546995, G_loss: 0.67237425\n",
            "Epoch: [11] [ 400 /  937] D_loss: 0.16277677, G_loss: 0.64212000\n",
            "Epoch: [11] [ 500 /  937] D_loss: 0.12497006, G_loss: 0.65420115\n",
            "Epoch: [11] [ 600 /  937] D_loss: 0.18748745, G_loss: 0.65624511\n",
            "Epoch: [11] [ 700 /  937] D_loss: 0.24126987, G_loss: 0.49620134\n",
            "Epoch: [11] [ 800 /  937] D_loss: 0.24300414, G_loss: 0.67153543\n",
            "Epoch: [11] [ 900 /  937] D_loss: 0.24502653, G_loss: 0.71162754\n"
          ],
          "name": "stdout"
        },
        {
          "output_type": "stream",
          "text": [
            "WARNING:root:Lossy conversion from float64 to uint8. Range [0, 1]. Convert image to uint8 prior to saving to suppress this warning.\n"
          ],
          "name": "stderr"
        },
        {
          "output_type": "stream",
          "text": [
            "Epoch: [12] [ 100 /  937] D_loss: 0.27134037, G_loss: 0.59628695\n",
            "Epoch: [12] [ 200 /  937] D_loss: 0.12921229, G_loss: 0.66867167\n",
            "Epoch: [12] [ 300 /  937] D_loss: 0.16942915, G_loss: 0.62315607\n",
            "Epoch: [12] [ 400 /  937] D_loss: 0.10608493, G_loss: 0.67810893\n",
            "Epoch: [12] [ 500 /  937] D_loss: 0.11634687, G_loss: 0.72332835\n",
            "Epoch: [12] [ 600 /  937] D_loss: 0.22791153, G_loss: 0.48531395\n",
            "Epoch: [12] [ 700 /  937] D_loss: 0.18464221, G_loss: 0.79126060\n",
            "Epoch: [12] [ 800 /  937] D_loss: 0.10234669, G_loss: 0.72586143\n",
            "Epoch: [12] [ 900 /  937] D_loss: 0.19681567, G_loss: 0.55675089\n"
          ],
          "name": "stdout"
        },
        {
          "output_type": "stream",
          "text": [
            "WARNING:root:Lossy conversion from float64 to uint8. Range [0, 1]. Convert image to uint8 prior to saving to suppress this warning.\n"
          ],
          "name": "stderr"
        },
        {
          "output_type": "stream",
          "text": [
            "Epoch: [13] [ 100 /  937] D_loss: 0.15890306, G_loss: 0.73389256\n",
            "Epoch: [13] [ 200 /  937] D_loss: 0.12130855, G_loss: 0.70228499\n",
            "Epoch: [13] [ 300 /  937] D_loss: 0.14569218, G_loss: 0.67858493\n",
            "Epoch: [13] [ 400 /  937] D_loss: 0.13423765, G_loss: 0.60441864\n",
            "Epoch: [13] [ 500 /  937] D_loss: 0.18398045, G_loss: 0.72882587\n",
            "Epoch: [13] [ 600 /  937] D_loss: 0.13400838, G_loss: 0.76016295\n",
            "Epoch: [13] [ 700 /  937] D_loss: 0.13894017, G_loss: 0.58733630\n",
            "Epoch: [13] [ 800 /  937] D_loss: 0.17345856, G_loss: 0.78231168\n",
            "Epoch: [13] [ 900 /  937] D_loss: 0.18625480, G_loss: 0.69304973\n"
          ],
          "name": "stdout"
        },
        {
          "output_type": "stream",
          "text": [
            "WARNING:root:Lossy conversion from float64 to uint8. Range [0, 1]. Convert image to uint8 prior to saving to suppress this warning.\n"
          ],
          "name": "stderr"
        },
        {
          "output_type": "stream",
          "text": [
            "Epoch: [14] [ 100 /  937] D_loss: 0.15658070, G_loss: 0.73834932\n",
            "Epoch: [14] [ 200 /  937] D_loss: 0.24446726, G_loss: 0.43088454\n",
            "Epoch: [14] [ 300 /  937] D_loss: 0.18020532, G_loss: 0.57715261\n",
            "Epoch: [14] [ 400 /  937] D_loss: 0.15999191, G_loss: 0.73795247\n",
            "Epoch: [14] [ 500 /  937] D_loss: 0.16797999, G_loss: 0.60968328\n",
            "Epoch: [14] [ 600 /  937] D_loss: 0.12005799, G_loss: 0.69200712\n",
            "Epoch: [14] [ 700 /  937] D_loss: 0.12267926, G_loss: 0.68534005\n",
            "Epoch: [14] [ 800 /  937] D_loss: 0.13233703, G_loss: 0.61658788\n",
            "Epoch: [14] [ 900 /  937] D_loss: 0.25031880, G_loss: 0.38236156\n"
          ],
          "name": "stdout"
        },
        {
          "output_type": "stream",
          "text": [
            "WARNING:root:Lossy conversion from float64 to uint8. Range [0, 1]. Convert image to uint8 prior to saving to suppress this warning.\n"
          ],
          "name": "stderr"
        },
        {
          "output_type": "stream",
          "text": [
            "Epoch: [15] [ 100 /  937] D_loss: 0.13581160, G_loss: 0.68208778\n",
            "Epoch: [15] [ 200 /  937] D_loss: 0.11197919, G_loss: 0.72797918\n",
            "Epoch: [15] [ 300 /  937] D_loss: 0.14600602, G_loss: 0.64235473\n",
            "Epoch: [15] [ 400 /  937] D_loss: 0.12142599, G_loss: 0.69190234\n",
            "Epoch: [15] [ 500 /  937] D_loss: 0.14770824, G_loss: 0.55686831\n",
            "Epoch: [15] [ 600 /  937] D_loss: 0.13047791, G_loss: 0.73464078\n",
            "Epoch: [15] [ 700 /  937] D_loss: 0.13993353, G_loss: 0.74595046\n",
            "Epoch: [15] [ 800 /  937] D_loss: 0.11706114, G_loss: 0.76659334\n",
            "Epoch: [15] [ 900 /  937] D_loss: 0.14486317, G_loss: 0.71387118\n"
          ],
          "name": "stdout"
        },
        {
          "output_type": "stream",
          "text": [
            "WARNING:root:Lossy conversion from float64 to uint8. Range [0, 1]. Convert image to uint8 prior to saving to suppress this warning.\n"
          ],
          "name": "stderr"
        },
        {
          "output_type": "stream",
          "text": [
            "Epoch: [16] [ 100 /  937] D_loss: 0.11891982, G_loss: 0.81615204\n",
            "Epoch: [16] [ 200 /  937] D_loss: 0.11763476, G_loss: 0.77214634\n",
            "Epoch: [16] [ 300 /  937] D_loss: 0.11118747, G_loss: 0.76547754\n",
            "Epoch: [16] [ 400 /  937] D_loss: 0.11801961, G_loss: 0.80231881\n",
            "Epoch: [16] [ 500 /  937] D_loss: 0.10494608, G_loss: 0.78531486\n",
            "Epoch: [16] [ 600 /  937] D_loss: 0.16281435, G_loss: 0.62171084\n",
            "Epoch: [16] [ 700 /  937] D_loss: 0.16544273, G_loss: 0.48187017\n",
            "Epoch: [16] [ 800 /  937] D_loss: 0.11301187, G_loss: 0.79222643\n",
            "Epoch: [16] [ 900 /  937] D_loss: 0.12553096, G_loss: 0.75711346\n"
          ],
          "name": "stdout"
        },
        {
          "output_type": "stream",
          "text": [
            "WARNING:root:Lossy conversion from float64 to uint8. Range [0, 1]. Convert image to uint8 prior to saving to suppress this warning.\n"
          ],
          "name": "stderr"
        },
        {
          "output_type": "stream",
          "text": [
            "Epoch: [17] [ 100 /  937] D_loss: 0.11023316, G_loss: 0.83198118\n",
            "Epoch: [17] [ 200 /  937] D_loss: 0.14608046, G_loss: 0.83163404\n",
            "Epoch: [17] [ 300 /  937] D_loss: 0.09715547, G_loss: 0.72475570\n",
            "Epoch: [17] [ 400 /  937] D_loss: 0.08288503, G_loss: 0.89637578\n",
            "Epoch: [17] [ 500 /  937] D_loss: 0.09735373, G_loss: 0.69097197\n",
            "Epoch: [17] [ 600 /  937] D_loss: 0.22900359, G_loss: 0.69126403\n",
            "Epoch: [17] [ 700 /  937] D_loss: 0.22085361, G_loss: 0.61278743\n",
            "Epoch: [17] [ 800 /  937] D_loss: 0.29806113, G_loss: 0.70085979\n",
            "Epoch: [17] [ 900 /  937] D_loss: 0.11612092, G_loss: 0.83112717\n"
          ],
          "name": "stdout"
        },
        {
          "output_type": "stream",
          "text": [
            "WARNING:root:Lossy conversion from float64 to uint8. Range [0, 1]. Convert image to uint8 prior to saving to suppress this warning.\n"
          ],
          "name": "stderr"
        },
        {
          "output_type": "stream",
          "text": [
            "Epoch: [18] [ 100 /  937] D_loss: 0.10162207, G_loss: 0.84563267\n",
            "Epoch: [18] [ 200 /  937] D_loss: 0.13778566, G_loss: 0.80463123\n",
            "Epoch: [18] [ 300 /  937] D_loss: 0.09097761, G_loss: 0.91160297\n",
            "Epoch: [18] [ 400 /  937] D_loss: 0.12610850, G_loss: 0.58724827\n",
            "Epoch: [18] [ 500 /  937] D_loss: 0.13150528, G_loss: 0.80283237\n",
            "Epoch: [18] [ 600 /  937] D_loss: 0.07757729, G_loss: 0.81289142\n",
            "Epoch: [18] [ 700 /  937] D_loss: 0.09072139, G_loss: 0.61280525\n",
            "Epoch: [18] [ 800 /  937] D_loss: 0.19763991, G_loss: 0.74563992\n",
            "Epoch: [18] [ 900 /  937] D_loss: 0.19439948, G_loss: 0.70235831\n"
          ],
          "name": "stdout"
        },
        {
          "output_type": "stream",
          "text": [
            "WARNING:root:Lossy conversion from float64 to uint8. Range [0, 1]. Convert image to uint8 prior to saving to suppress this warning.\n"
          ],
          "name": "stderr"
        },
        {
          "output_type": "stream",
          "text": [
            "Epoch: [19] [ 100 /  937] D_loss: 0.24349482, G_loss: 0.88516378\n",
            "Epoch: [19] [ 200 /  937] D_loss: 0.09100790, G_loss: 0.81972635\n",
            "Epoch: [19] [ 300 /  937] D_loss: 0.18903421, G_loss: 0.76185900\n",
            "Epoch: [19] [ 400 /  937] D_loss: 0.14398946, G_loss: 0.56406701\n",
            "Epoch: [19] [ 500 /  937] D_loss: 0.13900432, G_loss: 0.77527314\n",
            "Epoch: [19] [ 600 /  937] D_loss: 0.10332018, G_loss: 0.69542283\n",
            "Epoch: [19] [ 700 /  937] D_loss: 0.08456379, G_loss: 0.82683837\n",
            "Epoch: [19] [ 800 /  937] D_loss: 0.07197775, G_loss: 0.81488597\n",
            "Epoch: [19] [ 900 /  937] D_loss: 0.11748523, G_loss: 0.82279938\n"
          ],
          "name": "stdout"
        },
        {
          "output_type": "stream",
          "text": [
            "WARNING:root:Lossy conversion from float64 to uint8. Range [0, 1]. Convert image to uint8 prior to saving to suppress this warning.\n"
          ],
          "name": "stderr"
        },
        {
          "output_type": "stream",
          "text": [
            "Epoch: [20] [ 100 /  937] D_loss: 0.14218768, G_loss: 0.62053412\n",
            "Epoch: [20] [ 200 /  937] D_loss: 0.08193663, G_loss: 0.83566558\n",
            "Epoch: [20] [ 300 /  937] D_loss: 0.07254347, G_loss: 0.75989139\n",
            "Epoch: [20] [ 400 /  937] D_loss: 0.12365712, G_loss: 0.58369482\n",
            "Epoch: [20] [ 500 /  937] D_loss: 0.12526225, G_loss: 0.79907000\n",
            "Epoch: [20] [ 600 /  937] D_loss: 0.23039973, G_loss: 0.79918969\n",
            "Epoch: [20] [ 700 /  937] D_loss: 0.10131267, G_loss: 0.69675702\n",
            "Epoch: [20] [ 800 /  937] D_loss: 0.08935106, G_loss: 0.85950416\n",
            "Epoch: [20] [ 900 /  937] D_loss: 0.07859860, G_loss: 0.77450997\n"
          ],
          "name": "stdout"
        },
        {
          "output_type": "stream",
          "text": [
            "WARNING:root:Lossy conversion from float64 to uint8. Range [0, 1]. Convert image to uint8 prior to saving to suppress this warning.\n"
          ],
          "name": "stderr"
        },
        {
          "output_type": "stream",
          "text": [
            "Epoch: [21] [ 100 /  937] D_loss: 0.08885606, G_loss: 0.78691077\n",
            "Epoch: [21] [ 200 /  937] D_loss: 0.28969511, G_loss: 0.57954001\n",
            "Epoch: [21] [ 300 /  937] D_loss: 0.15200685, G_loss: 0.84353781\n",
            "Epoch: [21] [ 400 /  937] D_loss: 0.13587527, G_loss: 0.74884474\n",
            "Epoch: [21] [ 500 /  937] D_loss: 0.15205443, G_loss: 0.64938068\n",
            "Epoch: [21] [ 600 /  937] D_loss: 0.09540991, G_loss: 0.73212343\n",
            "Epoch: [21] [ 700 /  937] D_loss: 0.10382602, G_loss: 0.82330668\n",
            "Epoch: [21] [ 800 /  937] D_loss: 0.14828321, G_loss: 0.63378942\n",
            "Epoch: [21] [ 900 /  937] D_loss: 0.09458882, G_loss: 0.87199736\n"
          ],
          "name": "stdout"
        },
        {
          "output_type": "stream",
          "text": [
            "WARNING:root:Lossy conversion from float64 to uint8. Range [0, 1]. Convert image to uint8 prior to saving to suppress this warning.\n"
          ],
          "name": "stderr"
        },
        {
          "output_type": "stream",
          "text": [
            "Epoch: [22] [ 100 /  937] D_loss: 0.06810779, G_loss: 0.86454839\n",
            "Epoch: [22] [ 200 /  937] D_loss: 0.05548997, G_loss: 0.81130809\n",
            "Epoch: [22] [ 300 /  937] D_loss: 0.14817539, G_loss: 0.64353800\n",
            "Epoch: [22] [ 400 /  937] D_loss: 0.08171359, G_loss: 0.81223178\n",
            "Epoch: [22] [ 500 /  937] D_loss: 0.10671210, G_loss: 0.81898236\n",
            "Epoch: [22] [ 600 /  937] D_loss: 0.10295190, G_loss: 0.94680369\n",
            "Epoch: [22] [ 700 /  937] D_loss: 0.10474066, G_loss: 0.65751106\n",
            "Epoch: [22] [ 800 /  937] D_loss: 0.14929979, G_loss: 0.65955889\n",
            "Epoch: [22] [ 900 /  937] D_loss: 0.08236976, G_loss: 0.83788472\n"
          ],
          "name": "stdout"
        },
        {
          "output_type": "stream",
          "text": [
            "WARNING:root:Lossy conversion from float64 to uint8. Range [0, 1]. Convert image to uint8 prior to saving to suppress this warning.\n"
          ],
          "name": "stderr"
        },
        {
          "output_type": "stream",
          "text": [
            "Epoch: [23] [ 100 /  937] D_loss: 0.15204926, G_loss: 0.72488391\n",
            "Epoch: [23] [ 200 /  937] D_loss: 0.11385587, G_loss: 0.91228044\n",
            "Epoch: [23] [ 300 /  937] D_loss: 0.11321252, G_loss: 0.77015924\n",
            "Epoch: [23] [ 400 /  937] D_loss: 0.10610359, G_loss: 0.78477120\n",
            "Epoch: [23] [ 500 /  937] D_loss: 0.08367730, G_loss: 0.78940356\n",
            "Epoch: [23] [ 600 /  937] D_loss: 0.24110046, G_loss: 0.47341943\n",
            "Epoch: [23] [ 700 /  937] D_loss: 0.21447325, G_loss: 0.62427187\n",
            "Epoch: [23] [ 800 /  937] D_loss: 0.08325905, G_loss: 0.82351422\n",
            "Epoch: [23] [ 900 /  937] D_loss: 0.15698750, G_loss: 0.63590229\n"
          ],
          "name": "stdout"
        },
        {
          "output_type": "stream",
          "text": [
            "WARNING:root:Lossy conversion from float64 to uint8. Range [0, 1]. Convert image to uint8 prior to saving to suppress this warning.\n"
          ],
          "name": "stderr"
        },
        {
          "output_type": "stream",
          "text": [
            "Epoch: [24] [ 100 /  937] D_loss: 0.12366467, G_loss: 0.76834810\n",
            "Epoch: [24] [ 200 /  937] D_loss: 0.12467238, G_loss: 0.65434742\n",
            "Epoch: [24] [ 300 /  937] D_loss: 0.08335705, G_loss: 0.77819222\n",
            "Epoch: [24] [ 400 /  937] D_loss: 0.11015359, G_loss: 0.73212379\n",
            "Epoch: [24] [ 500 /  937] D_loss: 0.07548469, G_loss: 0.86036229\n",
            "Epoch: [24] [ 600 /  937] D_loss: 0.19062606, G_loss: 0.88515878\n",
            "Epoch: [24] [ 700 /  937] D_loss: 0.08359281, G_loss: 0.74525666\n",
            "Epoch: [24] [ 800 /  937] D_loss: 0.05946046, G_loss: 0.77345598\n",
            "Epoch: [24] [ 900 /  937] D_loss: 0.07771226, G_loss: 0.84974682\n"
          ],
          "name": "stdout"
        },
        {
          "output_type": "stream",
          "text": [
            "WARNING:root:Lossy conversion from float64 to uint8. Range [0, 1]. Convert image to uint8 prior to saving to suppress this warning.\n"
          ],
          "name": "stderr"
        },
        {
          "output_type": "stream",
          "text": [
            "Epoch: [25] [ 100 /  937] D_loss: 0.10488033, G_loss: 0.85509056\n",
            "Epoch: [25] [ 200 /  937] D_loss: 0.12244815, G_loss: 0.80321872\n",
            "Epoch: [25] [ 300 /  937] D_loss: 0.08141803, G_loss: 0.70496988\n",
            "Epoch: [25] [ 400 /  937] D_loss: 0.07952899, G_loss: 0.80292666\n",
            "Epoch: [25] [ 500 /  937] D_loss: 0.15143749, G_loss: 0.67191827\n",
            "Epoch: [25] [ 600 /  937] D_loss: 0.11245772, G_loss: 0.90875983\n",
            "Epoch: [25] [ 700 /  937] D_loss: 0.10261655, G_loss: 0.68271005\n",
            "Epoch: [25] [ 800 /  937] D_loss: 0.08917996, G_loss: 0.67617118\n",
            "Epoch: [25] [ 900 /  937] D_loss: 0.09321827, G_loss: 0.90807867\n"
          ],
          "name": "stdout"
        },
        {
          "output_type": "stream",
          "text": [
            "WARNING:root:Lossy conversion from float64 to uint8. Range [0, 1]. Convert image to uint8 prior to saving to suppress this warning.\n"
          ],
          "name": "stderr"
        },
        {
          "output_type": "stream",
          "text": [
            "Epoch: [26] [ 100 /  937] D_loss: 0.05565781, G_loss: 0.84558928\n",
            "Epoch: [26] [ 200 /  937] D_loss: 0.12865113, G_loss: 0.71918851\n",
            "Epoch: [26] [ 300 /  937] D_loss: 0.12701276, G_loss: 0.71975744\n",
            "Epoch: [26] [ 400 /  937] D_loss: 0.11877152, G_loss: 0.86581045\n",
            "Epoch: [26] [ 500 /  937] D_loss: 0.09591097, G_loss: 0.87904996\n",
            "Epoch: [26] [ 600 /  937] D_loss: 0.09389418, G_loss: 0.78048229\n",
            "Epoch: [26] [ 700 /  937] D_loss: 0.07172215, G_loss: 0.88099074\n",
            "Epoch: [26] [ 800 /  937] D_loss: 0.08781668, G_loss: 0.80796027\n",
            "Epoch: [26] [ 900 /  937] D_loss: 0.11611154, G_loss: 0.85347641\n"
          ],
          "name": "stdout"
        },
        {
          "output_type": "stream",
          "text": [
            "WARNING:root:Lossy conversion from float64 to uint8. Range [0, 1]. Convert image to uint8 prior to saving to suppress this warning.\n"
          ],
          "name": "stderr"
        },
        {
          "output_type": "stream",
          "text": [
            "Epoch: [27] [ 100 /  937] D_loss: 0.12078580, G_loss: 0.88654423\n",
            "Epoch: [27] [ 200 /  937] D_loss: 0.08026342, G_loss: 0.82133317\n",
            "Epoch: [27] [ 300 /  937] D_loss: 0.09937014, G_loss: 0.75170511\n",
            "Epoch: [27] [ 400 /  937] D_loss: 0.15510261, G_loss: 0.63627362\n",
            "Epoch: [27] [ 500 /  937] D_loss: 0.10657367, G_loss: 0.88881654\n",
            "Epoch: [27] [ 600 /  937] D_loss: 0.07692762, G_loss: 0.72310615\n",
            "Epoch: [27] [ 700 /  937] D_loss: 0.09896166, G_loss: 0.71369237\n",
            "Epoch: [27] [ 800 /  937] D_loss: 0.09397456, G_loss: 0.90442741\n",
            "Epoch: [27] [ 900 /  937] D_loss: 0.03651505, G_loss: 0.89463693\n"
          ],
          "name": "stdout"
        },
        {
          "output_type": "stream",
          "text": [
            "WARNING:root:Lossy conversion from float64 to uint8. Range [0, 1]. Convert image to uint8 prior to saving to suppress this warning.\n"
          ],
          "name": "stderr"
        },
        {
          "output_type": "stream",
          "text": [
            "Epoch: [28] [ 100 /  937] D_loss: 0.09841244, G_loss: 0.82390356\n",
            "Epoch: [28] [ 200 /  937] D_loss: 0.14207557, G_loss: 0.80802894\n",
            "Epoch: [28] [ 300 /  937] D_loss: 0.10577376, G_loss: 0.71466851\n",
            "Epoch: [28] [ 400 /  937] D_loss: 0.06788433, G_loss: 0.90405345\n",
            "Epoch: [28] [ 500 /  937] D_loss: 0.10475563, G_loss: 0.57102388\n",
            "Epoch: [28] [ 600 /  937] D_loss: 0.05234312, G_loss: 0.87781495\n",
            "Epoch: [28] [ 700 /  937] D_loss: 0.11994582, G_loss: 0.46557218\n",
            "Epoch: [28] [ 800 /  937] D_loss: 0.15307961, G_loss: 0.87341797\n",
            "Epoch: [28] [ 900 /  937] D_loss: 0.05939881, G_loss: 0.79626846\n"
          ],
          "name": "stdout"
        },
        {
          "output_type": "stream",
          "text": [
            "WARNING:root:Lossy conversion from float64 to uint8. Range [0, 1]. Convert image to uint8 prior to saving to suppress this warning.\n"
          ],
          "name": "stderr"
        },
        {
          "output_type": "stream",
          "text": [
            "Epoch: [29] [ 100 /  937] D_loss: 0.05901513, G_loss: 0.86175478\n",
            "Epoch: [29] [ 200 /  937] D_loss: 0.13457282, G_loss: 0.91922200\n",
            "Epoch: [29] [ 300 /  937] D_loss: 0.15726289, G_loss: 0.56347620\n",
            "Epoch: [29] [ 400 /  937] D_loss: 0.05990409, G_loss: 0.78334260\n",
            "Epoch: [29] [ 500 /  937] D_loss: 0.15025583, G_loss: 0.92644399\n",
            "Epoch: [29] [ 600 /  937] D_loss: 0.07718635, G_loss: 0.76383621\n",
            "Epoch: [29] [ 700 /  937] D_loss: 0.13418493, G_loss: 0.76753724\n",
            "Epoch: [29] [ 800 /  937] D_loss: 0.06803457, G_loss: 0.91354024\n",
            "Epoch: [29] [ 900 /  937] D_loss: 0.07055448, G_loss: 0.85061038\n"
          ],
          "name": "stdout"
        },
        {
          "output_type": "stream",
          "text": [
            "WARNING:root:Lossy conversion from float64 to uint8. Range [0, 1]. Convert image to uint8 prior to saving to suppress this warning.\n"
          ],
          "name": "stderr"
        },
        {
          "output_type": "stream",
          "text": [
            "Epoch: [30] [ 100 /  937] D_loss: 0.04069809, G_loss: 0.91384268\n",
            "Epoch: [30] [ 200 /  937] D_loss: 0.08693469, G_loss: 0.84760040\n",
            "Epoch: [30] [ 300 /  937] D_loss: 0.10301847, G_loss: 0.88864625\n",
            "Epoch: [30] [ 400 /  937] D_loss: 0.05011799, G_loss: 0.82117480\n",
            "Epoch: [30] [ 500 /  937] D_loss: 0.13800207, G_loss: 0.78074944\n",
            "Epoch: [30] [ 600 /  937] D_loss: 0.06301650, G_loss: 0.83111835\n",
            "Epoch: [30] [ 700 /  937] D_loss: 0.08422622, G_loss: 0.81706798\n",
            "Epoch: [30] [ 800 /  937] D_loss: 0.06116467, G_loss: 0.77935988\n",
            "Epoch: [30] [ 900 /  937] D_loss: 0.04631985, G_loss: 0.82406211\n"
          ],
          "name": "stdout"
        },
        {
          "output_type": "stream",
          "text": [
            "WARNING:root:Lossy conversion from float64 to uint8. Range [0, 1]. Convert image to uint8 prior to saving to suppress this warning.\n"
          ],
          "name": "stderr"
        },
        {
          "output_type": "stream",
          "text": [
            "Epoch: [31] [ 100 /  937] D_loss: 0.03190377, G_loss: 0.86338925\n",
            "Epoch: [31] [ 200 /  937] D_loss: 0.04357529, G_loss: 0.85316390\n",
            "Epoch: [31] [ 300 /  937] D_loss: 0.10684194, G_loss: 0.82728863\n",
            "Epoch: [31] [ 400 /  937] D_loss: 0.08845890, G_loss: 0.76602006\n",
            "Epoch: [31] [ 500 /  937] D_loss: 0.07956993, G_loss: 0.92149556\n",
            "Epoch: [31] [ 600 /  937] D_loss: 0.10912769, G_loss: 0.79394597\n",
            "Epoch: [31] [ 700 /  937] D_loss: 0.11042351, G_loss: 0.89616328\n",
            "Epoch: [31] [ 800 /  937] D_loss: 0.03274199, G_loss: 0.78818905\n",
            "Epoch: [31] [ 900 /  937] D_loss: 0.05665440, G_loss: 0.91457033\n"
          ],
          "name": "stdout"
        },
        {
          "output_type": "stream",
          "text": [
            "WARNING:root:Lossy conversion from float64 to uint8. Range [0, 1]. Convert image to uint8 prior to saving to suppress this warning.\n"
          ],
          "name": "stderr"
        },
        {
          "output_type": "stream",
          "text": [
            "Epoch: [32] [ 100 /  937] D_loss: 0.07132798, G_loss: 0.90024865\n",
            "Epoch: [32] [ 200 /  937] D_loss: 0.09782730, G_loss: 0.82998085\n",
            "Epoch: [32] [ 300 /  937] D_loss: 0.07925007, G_loss: 0.85295153\n",
            "Epoch: [32] [ 400 /  937] D_loss: 0.12920520, G_loss: 0.80038869\n",
            "Epoch: [32] [ 500 /  937] D_loss: 0.09374563, G_loss: 0.88789737\n",
            "Epoch: [32] [ 600 /  937] D_loss: 0.07691611, G_loss: 0.82389635\n",
            "Epoch: [32] [ 700 /  937] D_loss: 0.07032587, G_loss: 0.88268936\n",
            "Epoch: [32] [ 800 /  937] D_loss: 0.08500610, G_loss: 0.85213482\n",
            "Epoch: [32] [ 900 /  937] D_loss: 0.09003371, G_loss: 0.89668286\n"
          ],
          "name": "stdout"
        },
        {
          "output_type": "stream",
          "text": [
            "WARNING:root:Lossy conversion from float64 to uint8. Range [0, 1]. Convert image to uint8 prior to saving to suppress this warning.\n"
          ],
          "name": "stderr"
        },
        {
          "output_type": "stream",
          "text": [
            "Epoch: [33] [ 100 /  937] D_loss: 0.07597767, G_loss: 0.93477201\n",
            "Epoch: [33] [ 200 /  937] D_loss: 0.27954903, G_loss: 0.87919283\n",
            "Epoch: [33] [ 300 /  937] D_loss: 0.12150063, G_loss: 0.70527798\n",
            "Epoch: [33] [ 400 /  937] D_loss: 0.11031008, G_loss: 0.67149007\n",
            "Epoch: [33] [ 500 /  937] D_loss: 0.07482739, G_loss: 0.75089526\n",
            "Epoch: [33] [ 600 /  937] D_loss: 0.23784024, G_loss: 0.66985512\n",
            "Epoch: [33] [ 700 /  937] D_loss: 0.09616213, G_loss: 0.78848290\n",
            "Epoch: [33] [ 800 /  937] D_loss: 0.06851637, G_loss: 0.89287233\n",
            "Epoch: [33] [ 900 /  937] D_loss: 0.09460506, G_loss: 0.94400728\n"
          ],
          "name": "stdout"
        },
        {
          "output_type": "stream",
          "text": [
            "WARNING:root:Lossy conversion from float64 to uint8. Range [0, 1]. Convert image to uint8 prior to saving to suppress this warning.\n"
          ],
          "name": "stderr"
        },
        {
          "output_type": "stream",
          "text": [
            "Epoch: [34] [ 100 /  937] D_loss: 0.07918805, G_loss: 0.94021779\n",
            "Epoch: [34] [ 200 /  937] D_loss: 0.15809882, G_loss: 0.66736925\n",
            "Epoch: [34] [ 300 /  937] D_loss: 0.11529552, G_loss: 0.66855329\n",
            "Epoch: [34] [ 400 /  937] D_loss: 0.13141261, G_loss: 0.57213414\n",
            "Epoch: [34] [ 500 /  937] D_loss: 0.05844226, G_loss: 0.89934814\n",
            "Epoch: [34] [ 600 /  937] D_loss: 0.06114275, G_loss: 0.83648485\n",
            "Epoch: [34] [ 700 /  937] D_loss: 0.09253310, G_loss: 0.79566002\n",
            "Epoch: [34] [ 800 /  937] D_loss: 0.14716522, G_loss: 0.60234207\n",
            "Epoch: [34] [ 900 /  937] D_loss: 0.11856668, G_loss: 0.89105880\n"
          ],
          "name": "stdout"
        },
        {
          "output_type": "stream",
          "text": [
            "WARNING:root:Lossy conversion from float64 to uint8. Range [0, 1]. Convert image to uint8 prior to saving to suppress this warning.\n"
          ],
          "name": "stderr"
        },
        {
          "output_type": "stream",
          "text": [
            "Epoch: [35] [ 100 /  937] D_loss: 0.07884581, G_loss: 0.85248148\n",
            "Epoch: [35] [ 200 /  937] D_loss: 0.07856700, G_loss: 0.73705882\n",
            "Epoch: [35] [ 300 /  937] D_loss: 0.05962631, G_loss: 0.88887966\n",
            "Epoch: [35] [ 400 /  937] D_loss: 0.15035376, G_loss: 0.70369130\n",
            "Epoch: [35] [ 500 /  937] D_loss: 0.04030937, G_loss: 0.92898685\n",
            "Epoch: [35] [ 600 /  937] D_loss: 0.05219868, G_loss: 0.91461229\n",
            "Epoch: [35] [ 700 /  937] D_loss: 0.14757594, G_loss: 0.74648356\n",
            "Epoch: [35] [ 800 /  937] D_loss: 0.21052559, G_loss: 0.69989997\n",
            "Epoch: [35] [ 900 /  937] D_loss: 0.11464585, G_loss: 0.69837767\n"
          ],
          "name": "stdout"
        },
        {
          "output_type": "stream",
          "text": [
            "WARNING:root:Lossy conversion from float64 to uint8. Range [0, 1]. Convert image to uint8 prior to saving to suppress this warning.\n"
          ],
          "name": "stderr"
        },
        {
          "output_type": "stream",
          "text": [
            "Epoch: [36] [ 100 /  937] D_loss: 0.10857997, G_loss: 0.73321664\n",
            "Epoch: [36] [ 200 /  937] D_loss: 0.03654446, G_loss: 0.82618874\n",
            "Epoch: [36] [ 300 /  937] D_loss: 0.03473626, G_loss: 0.81614554\n",
            "Epoch: [36] [ 400 /  937] D_loss: 0.04906339, G_loss: 0.80554932\n",
            "Epoch: [36] [ 500 /  937] D_loss: 0.05498333, G_loss: 0.83826113\n",
            "Epoch: [36] [ 600 /  937] D_loss: 0.07509286, G_loss: 0.68340510\n",
            "Epoch: [36] [ 700 /  937] D_loss: 0.07743118, G_loss: 0.90473878\n",
            "Epoch: [36] [ 800 /  937] D_loss: 0.15216655, G_loss: 0.96169591\n",
            "Epoch: [36] [ 900 /  937] D_loss: 0.08406672, G_loss: 0.71007764\n"
          ],
          "name": "stdout"
        },
        {
          "output_type": "stream",
          "text": [
            "WARNING:root:Lossy conversion from float64 to uint8. Range [0, 1]. Convert image to uint8 prior to saving to suppress this warning.\n"
          ],
          "name": "stderr"
        },
        {
          "output_type": "stream",
          "text": [
            "Epoch: [37] [ 100 /  937] D_loss: 0.04623546, G_loss: 0.90544641\n",
            "Epoch: [37] [ 200 /  937] D_loss: 0.05462065, G_loss: 0.84018624\n",
            "Epoch: [37] [ 300 /  937] D_loss: 0.06720806, G_loss: 0.92174566\n",
            "Epoch: [37] [ 400 /  937] D_loss: 0.08857626, G_loss: 0.83074725\n",
            "Epoch: [37] [ 500 /  937] D_loss: 0.08045992, G_loss: 0.86252505\n",
            "Epoch: [37] [ 600 /  937] D_loss: 0.07320227, G_loss: 0.89795077\n",
            "Epoch: [37] [ 700 /  937] D_loss: 0.05882795, G_loss: 0.94543028\n",
            "Epoch: [37] [ 800 /  937] D_loss: 0.05331817, G_loss: 0.94189119\n",
            "Epoch: [37] [ 900 /  937] D_loss: 0.06709838, G_loss: 0.82050437\n"
          ],
          "name": "stdout"
        },
        {
          "output_type": "stream",
          "text": [
            "WARNING:root:Lossy conversion from float64 to uint8. Range [0, 1]. Convert image to uint8 prior to saving to suppress this warning.\n"
          ],
          "name": "stderr"
        },
        {
          "output_type": "stream",
          "text": [
            "Epoch: [38] [ 100 /  937] D_loss: 0.06166057, G_loss: 0.88276988\n",
            "Epoch: [38] [ 200 /  937] D_loss: 0.08510838, G_loss: 0.63870132\n",
            "Epoch: [38] [ 300 /  937] D_loss: 0.24975063, G_loss: 0.88544571\n",
            "Epoch: [38] [ 400 /  937] D_loss: 0.06028308, G_loss: 0.84105730\n",
            "Epoch: [38] [ 500 /  937] D_loss: 0.16610542, G_loss: 0.93340093\n",
            "Epoch: [38] [ 600 /  937] D_loss: 0.04879208, G_loss: 0.93353397\n",
            "Epoch: [38] [ 700 /  937] D_loss: 0.04100654, G_loss: 0.86668307\n",
            "Epoch: [38] [ 800 /  937] D_loss: 0.11895390, G_loss: 0.94300002\n",
            "Epoch: [38] [ 900 /  937] D_loss: 0.09062625, G_loss: 0.89225531\n"
          ],
          "name": "stdout"
        },
        {
          "output_type": "stream",
          "text": [
            "WARNING:root:Lossy conversion from float64 to uint8. Range [0, 1]. Convert image to uint8 prior to saving to suppress this warning.\n"
          ],
          "name": "stderr"
        },
        {
          "output_type": "stream",
          "text": [
            "Epoch: [39] [ 100 /  937] D_loss: 0.09447919, G_loss: 0.76226562\n",
            "Epoch: [39] [ 200 /  937] D_loss: 0.09488153, G_loss: 0.88594478\n",
            "Epoch: [39] [ 300 /  937] D_loss: 0.07078393, G_loss: 0.81214410\n",
            "Epoch: [39] [ 400 /  937] D_loss: 0.08444296, G_loss: 0.78161448\n",
            "Epoch: [39] [ 500 /  937] D_loss: 0.04376736, G_loss: 0.83086729\n",
            "Epoch: [39] [ 600 /  937] D_loss: 0.06334823, G_loss: 0.86340612\n",
            "Epoch: [39] [ 700 /  937] D_loss: 0.10956016, G_loss: 0.74780107\n",
            "Epoch: [39] [ 800 /  937] D_loss: 0.13431376, G_loss: 0.81546766\n",
            "Epoch: [39] [ 900 /  937] D_loss: 0.08374677, G_loss: 0.83268934\n"
          ],
          "name": "stdout"
        },
        {
          "output_type": "stream",
          "text": [
            "WARNING:root:Lossy conversion from float64 to uint8. Range [0, 1]. Convert image to uint8 prior to saving to suppress this warning.\n"
          ],
          "name": "stderr"
        },
        {
          "output_type": "stream",
          "text": [
            "Epoch: [40] [ 100 /  937] D_loss: 0.08321288, G_loss: 0.85734230\n",
            "Epoch: [40] [ 200 /  937] D_loss: 0.06035613, G_loss: 0.85964918\n",
            "Epoch: [40] [ 300 /  937] D_loss: 0.13156565, G_loss: 0.73259020\n",
            "Epoch: [40] [ 400 /  937] D_loss: 0.03771029, G_loss: 0.87671238\n",
            "Epoch: [40] [ 500 /  937] D_loss: 0.07197947, G_loss: 0.89223254\n",
            "Epoch: [40] [ 600 /  937] D_loss: 0.15372196, G_loss: 0.45292872\n",
            "Epoch: [40] [ 700 /  937] D_loss: 0.04679282, G_loss: 0.87027442\n",
            "Epoch: [40] [ 800 /  937] D_loss: 0.06125907, G_loss: 0.90552604\n",
            "Epoch: [40] [ 900 /  937] D_loss: 0.04465773, G_loss: 0.92290509\n"
          ],
          "name": "stdout"
        },
        {
          "output_type": "stream",
          "text": [
            "WARNING:root:Lossy conversion from float64 to uint8. Range [0, 1]. Convert image to uint8 prior to saving to suppress this warning.\n"
          ],
          "name": "stderr"
        },
        {
          "output_type": "stream",
          "text": [
            "Epoch: [41] [ 100 /  937] D_loss: 0.34281099, G_loss: 0.86433619\n",
            "Epoch: [41] [ 200 /  937] D_loss: 0.07576505, G_loss: 0.84460545\n",
            "Epoch: [41] [ 300 /  937] D_loss: 0.07544513, G_loss: 0.83772039\n",
            "Epoch: [41] [ 400 /  937] D_loss: 0.09072106, G_loss: 0.92980772\n",
            "Epoch: [41] [ 500 /  937] D_loss: 0.11626869, G_loss: 0.92446655\n",
            "Epoch: [41] [ 600 /  937] D_loss: 0.03494152, G_loss: 0.89342076\n",
            "Epoch: [41] [ 700 /  937] D_loss: 0.08444440, G_loss: 0.90151799\n",
            "Epoch: [41] [ 800 /  937] D_loss: 0.06673379, G_loss: 0.88202870\n",
            "Epoch: [41] [ 900 /  937] D_loss: 0.07251231, G_loss: 0.91133374\n"
          ],
          "name": "stdout"
        },
        {
          "output_type": "stream",
          "text": [
            "WARNING:root:Lossy conversion from float64 to uint8. Range [0, 1]. Convert image to uint8 prior to saving to suppress this warning.\n"
          ],
          "name": "stderr"
        },
        {
          "output_type": "stream",
          "text": [
            "Epoch: [42] [ 100 /  937] D_loss: 0.06097087, G_loss: 0.79906976\n",
            "Epoch: [42] [ 200 /  937] D_loss: 0.04319608, G_loss: 0.86527801\n",
            "Epoch: [42] [ 300 /  937] D_loss: 0.09895903, G_loss: 0.83012068\n",
            "Epoch: [42] [ 400 /  937] D_loss: 0.06243589, G_loss: 0.89149207\n",
            "Epoch: [42] [ 500 /  937] D_loss: 0.04606969, G_loss: 0.91126359\n",
            "Epoch: [42] [ 600 /  937] D_loss: 0.05885594, G_loss: 0.80383110\n",
            "Epoch: [42] [ 700 /  937] D_loss: 0.05670927, G_loss: 0.80939859\n",
            "Epoch: [42] [ 800 /  937] D_loss: 0.08242974, G_loss: 0.91296959\n",
            "Epoch: [42] [ 900 /  937] D_loss: 0.11601055, G_loss: 0.83056945\n"
          ],
          "name": "stdout"
        },
        {
          "output_type": "stream",
          "text": [
            "WARNING:root:Lossy conversion from float64 to uint8. Range [0, 1]. Convert image to uint8 prior to saving to suppress this warning.\n"
          ],
          "name": "stderr"
        },
        {
          "output_type": "stream",
          "text": [
            "Epoch: [43] [ 100 /  937] D_loss: 0.10118182, G_loss: 0.93207896\n",
            "Epoch: [43] [ 200 /  937] D_loss: 0.06916204, G_loss: 0.87502617\n",
            "Epoch: [43] [ 300 /  937] D_loss: 0.12605740, G_loss: 0.91110849\n",
            "Epoch: [43] [ 400 /  937] D_loss: 0.03847419, G_loss: 0.87526405\n",
            "Epoch: [43] [ 500 /  937] D_loss: 0.04510698, G_loss: 0.85498548\n",
            "Epoch: [43] [ 600 /  937] D_loss: 0.07998227, G_loss: 0.88906443\n",
            "Epoch: [43] [ 700 /  937] D_loss: 0.03984720, G_loss: 0.84192985\n",
            "Epoch: [43] [ 800 /  937] D_loss: 0.11174914, G_loss: 0.69919556\n",
            "Epoch: [43] [ 900 /  937] D_loss: 0.08890043, G_loss: 0.94099927\n"
          ],
          "name": "stdout"
        },
        {
          "output_type": "stream",
          "text": [
            "WARNING:root:Lossy conversion from float64 to uint8. Range [0, 1]. Convert image to uint8 prior to saving to suppress this warning.\n"
          ],
          "name": "stderr"
        },
        {
          "output_type": "stream",
          "text": [
            "Epoch: [44] [ 100 /  937] D_loss: 0.06559479, G_loss: 0.94084382\n",
            "Epoch: [44] [ 200 /  937] D_loss: 0.06146389, G_loss: 0.76874018\n",
            "Epoch: [44] [ 300 /  937] D_loss: 0.14329305, G_loss: 0.61907685\n",
            "Epoch: [44] [ 400 /  937] D_loss: 0.03583746, G_loss: 0.91116482\n",
            "Epoch: [44] [ 500 /  937] D_loss: 0.08997152, G_loss: 0.83776772\n",
            "Epoch: [44] [ 600 /  937] D_loss: 0.15162396, G_loss: 0.70140153\n",
            "Epoch: [44] [ 700 /  937] D_loss: 0.03762691, G_loss: 0.88785136\n",
            "Epoch: [44] [ 800 /  937] D_loss: 0.15963811, G_loss: 0.70525503\n",
            "Epoch: [44] [ 900 /  937] D_loss: 0.20032066, G_loss: 0.67805749\n"
          ],
          "name": "stdout"
        },
        {
          "output_type": "stream",
          "text": [
            "WARNING:root:Lossy conversion from float64 to uint8. Range [0, 1]. Convert image to uint8 prior to saving to suppress this warning.\n"
          ],
          "name": "stderr"
        },
        {
          "output_type": "stream",
          "text": [
            "Epoch: [45] [ 100 /  937] D_loss: 0.08824600, G_loss: 0.91428000\n",
            "Epoch: [45] [ 200 /  937] D_loss: 0.04687756, G_loss: 0.87085330\n",
            "Epoch: [45] [ 300 /  937] D_loss: 0.03012780, G_loss: 0.87744176\n",
            "Epoch: [45] [ 400 /  937] D_loss: 0.03680301, G_loss: 0.88299894\n",
            "Epoch: [45] [ 500 /  937] D_loss: 0.06335063, G_loss: 0.82931888\n",
            "Epoch: [45] [ 600 /  937] D_loss: 0.10252464, G_loss: 0.86640435\n",
            "Epoch: [45] [ 700 /  937] D_loss: 0.05663008, G_loss: 0.91800225\n",
            "Epoch: [45] [ 800 /  937] D_loss: 0.10718170, G_loss: 0.89525241\n",
            "Epoch: [45] [ 900 /  937] D_loss: 0.03532106, G_loss: 0.87455958\n"
          ],
          "name": "stdout"
        },
        {
          "output_type": "stream",
          "text": [
            "WARNING:root:Lossy conversion from float64 to uint8. Range [0, 1]. Convert image to uint8 prior to saving to suppress this warning.\n"
          ],
          "name": "stderr"
        },
        {
          "output_type": "stream",
          "text": [
            "Epoch: [46] [ 100 /  937] D_loss: 0.06922464, G_loss: 0.82284683\n",
            "Epoch: [46] [ 200 /  937] D_loss: 0.03554748, G_loss: 0.88831812\n",
            "Epoch: [46] [ 300 /  937] D_loss: 0.20422299, G_loss: 0.91122591\n",
            "Epoch: [46] [ 400 /  937] D_loss: 0.08411009, G_loss: 0.93757224\n",
            "Epoch: [46] [ 500 /  937] D_loss: 0.03902736, G_loss: 0.86378747\n",
            "Epoch: [46] [ 600 /  937] D_loss: 0.06153444, G_loss: 0.60527813\n",
            "Epoch: [46] [ 700 /  937] D_loss: 0.04582986, G_loss: 0.92061019\n",
            "Epoch: [46] [ 800 /  937] D_loss: 0.06327920, G_loss: 0.88881290\n",
            "Epoch: [46] [ 900 /  937] D_loss: 0.10645580, G_loss: 0.90848505\n"
          ],
          "name": "stdout"
        },
        {
          "output_type": "stream",
          "text": [
            "WARNING:root:Lossy conversion from float64 to uint8. Range [0, 1]. Convert image to uint8 prior to saving to suppress this warning.\n"
          ],
          "name": "stderr"
        },
        {
          "output_type": "stream",
          "text": [
            "Epoch: [47] [ 100 /  937] D_loss: 0.14237131, G_loss: 0.96333367\n",
            "Epoch: [47] [ 200 /  937] D_loss: 0.12900805, G_loss: 0.55643094\n",
            "Epoch: [47] [ 300 /  937] D_loss: 0.15257059, G_loss: 0.49996850\n",
            "Epoch: [47] [ 400 /  937] D_loss: 0.33045918, G_loss: 0.55535436\n",
            "Epoch: [47] [ 500 /  937] D_loss: 0.05798421, G_loss: 0.73630357\n",
            "Epoch: [47] [ 600 /  937] D_loss: 0.08374992, G_loss: 0.86974955\n",
            "Epoch: [47] [ 700 /  937] D_loss: 0.04960972, G_loss: 0.93412751\n",
            "Epoch: [47] [ 800 /  937] D_loss: 0.30794874, G_loss: 0.90725088\n",
            "Epoch: [47] [ 900 /  937] D_loss: 0.08552940, G_loss: 0.79871708\n"
          ],
          "name": "stdout"
        },
        {
          "output_type": "stream",
          "text": [
            "WARNING:root:Lossy conversion from float64 to uint8. Range [0, 1]. Convert image to uint8 prior to saving to suppress this warning.\n"
          ],
          "name": "stderr"
        },
        {
          "output_type": "stream",
          "text": [
            "Epoch: [48] [ 100 /  937] D_loss: 0.03854869, G_loss: 0.91128588\n",
            "Epoch: [48] [ 200 /  937] D_loss: 0.20131567, G_loss: 0.51815939\n",
            "Epoch: [48] [ 300 /  937] D_loss: 0.05299113, G_loss: 0.94989371\n",
            "Epoch: [48] [ 400 /  937] D_loss: 0.07273263, G_loss: 0.69896185\n",
            "Epoch: [48] [ 500 /  937] D_loss: 0.24242367, G_loss: 0.32541707\n",
            "Epoch: [48] [ 600 /  937] D_loss: 0.08120199, G_loss: 0.94890982\n",
            "Epoch: [48] [ 700 /  937] D_loss: 0.03016902, G_loss: 0.91556013\n",
            "Epoch: [48] [ 800 /  937] D_loss: 0.05031827, G_loss: 0.86782587\n",
            "Epoch: [48] [ 900 /  937] D_loss: 0.15511143, G_loss: 0.89283389\n"
          ],
          "name": "stdout"
        },
        {
          "output_type": "stream",
          "text": [
            "WARNING:root:Lossy conversion from float64 to uint8. Range [0, 1]. Convert image to uint8 prior to saving to suppress this warning.\n"
          ],
          "name": "stderr"
        },
        {
          "output_type": "stream",
          "text": [
            "Epoch: [49] [ 100 /  937] D_loss: 0.06132821, G_loss: 0.88278294\n",
            "Epoch: [49] [ 200 /  937] D_loss: 0.02763774, G_loss: 0.87327236\n",
            "Epoch: [49] [ 300 /  937] D_loss: 0.07992268, G_loss: 0.80407113\n",
            "Epoch: [49] [ 400 /  937] D_loss: 0.08278855, G_loss: 0.75148261\n",
            "Epoch: [49] [ 500 /  937] D_loss: 0.04834989, G_loss: 0.93292177\n",
            "Epoch: [49] [ 600 /  937] D_loss: 0.10900897, G_loss: 0.96390963\n",
            "Epoch: [49] [ 700 /  937] D_loss: 0.06689720, G_loss: 0.82754672\n",
            "Epoch: [49] [ 800 /  937] D_loss: 0.10403923, G_loss: 0.96228874\n",
            "Epoch: [49] [ 900 /  937] D_loss: 0.06360510, G_loss: 0.87766320\n"
          ],
          "name": "stdout"
        },
        {
          "output_type": "stream",
          "text": [
            "WARNING:root:Lossy conversion from float64 to uint8. Range [0, 1]. Convert image to uint8 prior to saving to suppress this warning.\n"
          ],
          "name": "stderr"
        },
        {
          "output_type": "stream",
          "text": [
            "Epoch: [50] [ 100 /  937] D_loss: 0.08477409, G_loss: 0.89739269\n",
            "Epoch: [50] [ 200 /  937] D_loss: 0.07044850, G_loss: 0.88876915\n",
            "Epoch: [50] [ 300 /  937] D_loss: 0.13698301, G_loss: 0.61822093\n",
            "Epoch: [50] [ 400 /  937] D_loss: 0.03367744, G_loss: 0.90849185\n",
            "Epoch: [50] [ 500 /  937] D_loss: 0.03433045, G_loss: 0.90633070\n",
            "Epoch: [50] [ 600 /  937] D_loss: 0.08807705, G_loss: 0.90203261\n",
            "Epoch: [50] [ 700 /  937] D_loss: 0.05383072, G_loss: 0.92764342\n",
            "Epoch: [50] [ 800 /  937] D_loss: 0.08274955, G_loss: 0.80534339\n",
            "Epoch: [50] [ 900 /  937] D_loss: 0.13459009, G_loss: 0.78423882\n"
          ],
          "name": "stdout"
        },
        {
          "output_type": "stream",
          "text": [
            "WARNING:root:Lossy conversion from float64 to uint8. Range [0, 1]. Convert image to uint8 prior to saving to suppress this warning.\n"
          ],
          "name": "stderr"
        },
        {
          "output_type": "stream",
          "text": [
            "Avg one epoch time: 46.43, total 50 epochs time: 2322.93\n",
            "Training finish! Saved training results\n"
          ],
          "name": "stdout"
        },
        {
          "output_type": "stream",
          "text": [
            "WARNING:root:Lossy conversion from float64 to uint8. Range [0, 1]. Convert image to uint8 prior to saving to suppress this warning.\n"
          ],
          "name": "stderr"
        },
        {
          "output_type": "stream",
          "text": [
            " [**] Training finished!\n",
            " [**] Testing finished!\n"
          ],
          "name": "stdout"
        }
      ]
    },
    {
      "cell_type": "code",
      "metadata": {
        "id": "Eby9rCDBZbUI",
        "colab_type": "code",
        "colab": {
          "base_uri": "https://localhost:8080/",
          "height": 35
        },
        "outputId": "04f27fe6-b0e1-4cdb-b2e9-1e9b85d9ec65"
      },
      "source": [
        "!ls"
      ],
      "execution_count": 14,
      "outputs": [
        {
          "output_type": "stream",
          "text": [
            "data  models  results  sample_data\n"
          ],
          "name": "stdout"
        }
      ]
    },
    {
      "cell_type": "code",
      "metadata": {
        "id": "Y--3pK_tZeEC",
        "colab_type": "code",
        "colab": {
          "base_uri": "https://localhost:8080/",
          "height": 1000
        },
        "outputId": "2ee306d3-7694-4aa3-9253-15d389228758"
      },
      "source": [
        "for root, dirs, files in os.walk(\".\"):\n",
        "  for filename in files:\n",
        "    print(filename)"
      ],
      "execution_count": 15,
      "outputs": [
        {
          "output_type": "stream",
          "text": [
            "gce\n",
            "active_config\n",
            ".last_update_check.json\n",
            "config_sentinel\n",
            ".metricsUUID\n",
            "16.14.41.015054.log\n",
            "16.14.45.276304.log\n",
            "16.14.31.463203.log\n",
            "16.14.26.516115.log\n",
            "16.14.44.238575.log\n",
            "config_default\n",
            "LSGAN_G.pkl\n",
            "LSGAN_loss.png\n",
            "LSGAN_D.pkl\n",
            "LSGAN_history.pkl\n",
            "t10k-labels-idx1-ubyte\n",
            "t10k-images-idx3-ubyte\n",
            "train-images-idx3-ubyte\n",
            "train-labels-idx1-ubyte\n",
            "test.pt\n",
            "training.pt\n",
            "LSGAN_epoch006.png\n",
            "LSGAN_epoch007.png\n",
            "LSGAN_epoch021.png\n",
            "LSGAN_epoch013.png\n",
            "LSGAN_epoch033.png\n",
            "LSGAN_epoch020.png\n",
            "LSGAN_epoch019.png\n",
            "LSGAN_epoch050.png\n",
            "LSGAN_epoch010.png\n",
            "LSGAN_epoch012.png\n",
            "LSGAN_epoch023.png\n",
            "LSGAN_epoch002.png\n",
            "LSGAN_epoch041.png\n",
            "LSGAN_epoch047.png\n",
            "LSGAN_epoch017.png\n",
            "LSGAN_epoch034.png\n",
            "LSGAN_epoch018.png\n",
            "LSGAN_epoch048.png\n",
            "LSGAN_epoch035.png\n",
            "LSGAN_epoch043.png\n",
            "LSGAN_epoch022.png\n",
            "LSGAN_epoch038.png\n",
            "LSGAN_epoch016.png\n",
            "LSGAN_epoch049.png\n",
            "LSGAN_epoch046.png\n",
            "LSGAN_epoch001.png\n",
            "LSGAN_epoch011.png\n",
            "LSGAN_epoch005.png\n",
            "LSGAN_epoch045.png\n",
            "LSGAN_epoch004.png\n",
            "LSGAN_epoch028.png\n",
            "LSGAN_epoch008.png\n",
            "LSGAN_epoch026.png\n",
            "LSGAN_epoch025.png\n",
            "LSGAN_epoch042.png\n",
            "LSGAN_epoch014.png\n",
            "LSGAN_epoch024.png\n",
            "LSGAN_generate_animation.gif\n",
            "LSGAN_epoch044.png\n",
            "LSGAN_epoch031.png\n",
            "LSGAN_epoch036.png\n",
            "LSGAN_epoch040.png\n",
            "LSGAN_epoch039.png\n",
            "LSGAN_epoch032.png\n",
            "LSGAN_epoch009.png\n",
            "LSGAN_epoch015.png\n",
            "LSGAN_epoch027.png\n",
            "LSGAN_epoch030.png\n",
            "LSGAN_epoch037.png\n",
            "LSGAN_epoch029.png\n",
            "LSGAN_epoch003.png\n",
            "README.md\n",
            "anscombe.json\n",
            "mnist_test.csv\n",
            "california_housing_test.csv\n",
            "california_housing_train.csv\n",
            "mnist_train_small.csv\n"
          ],
          "name": "stdout"
        }
      ]
    },
    {
      "cell_type": "code",
      "metadata": {
        "id": "6caMej8RZnEl",
        "colab_type": "code",
        "colab": {
          "base_uri": "https://localhost:8080/",
          "height": 269
        },
        "outputId": "3a46a31b-1aa1-46ea-9d73-e110ddcd2a62"
      },
      "source": [
        "import cv2\n",
        "import matplotlib.pyplot as plt\n",
        "\n",
        "im = cv2.imread('/content/results/mnist/LSGAN/LSGAN_epoch001.png')\n",
        "im_resized = cv2.resize(im, (224, 224), interpolation = cv2.INTER_LINEAR)\n",
        "\n",
        "plt.imshow(cv2.cvtColor(im_resized, cv2.COLOR_BGR2RGB))\n",
        "plt.show()"
      ],
      "execution_count": 16,
      "outputs": [
        {
          "output_type": "display_data",
          "data": {
            "image/png": "[encoded data removed]",
            "text/plain": [
              "<Figure size 432x288 with 1 Axes>"
            ]
          },
          "metadata": {
            "tags": []
          }
        }
      ]
    },
    {
      "cell_type": "code",
      "metadata": {
        "id": "0xPhc7QeaoHf",
        "colab_type": "code",
        "colab": {
          "base_uri": "https://localhost:8080/",
          "height": 269
        },
        "outputId": "fa238279-5c46-485c-ccd5-4023928c6b12"
      },
      "source": [
        "im = cv2.imread('/content/results/mnist/LSGAN/LSGAN_epoch050.png')\n",
        "im_resized = cv2.resize(im, (224, 224), interpolation = cv2.INTER_LINEAR)\n",
        "\n",
        "plt.imshow(cv2.cvtColor(im_resized, cv2.COLOR_BGR2RGB))\n",
        "plt.show()"
      ],
      "execution_count": 17,
      "outputs": [
        {
          "output_type": "display_data",
          "data": {
            "image/png": "[encoded data removed]",
            "text/plain": [
              "<Figure size 432x288 with 1 Axes>"
            ]
          },
          "metadata": {
            "tags": []
          }
        }
      ]
    },
    {
      "cell_type": "code",
      "metadata": {
        "id": "OKjktpMobADB",
        "colab_type": "code",
        "colab": {
          "base_uri": "https://localhost:8080/",
          "height": 269
        },
        "outputId": "2cd0be4d-3c77-4414-aa3b-fe2d78c8934e"
      },
      "source": [
        "import matplotlib.image as mpimg\n",
        "\n",
        "img = mpimg.imread('/content/models/mnist/LSGAN/LSGAN_loss.png')\n",
        "imgplot = plt.imshow(img)\n",
        "plt.show()"
      ],
      "execution_count": 18,
      "outputs": [
        {
          "output_type": "display_data",
          "data": {
            "image/png": "[encoded data removed]",
            "text/plain": [
              "<Figure size 432x288 with 1 Axes>"
            ]
          },
          "metadata": {
            "tags": []
          }
        }
      ]
    }
  ]
}