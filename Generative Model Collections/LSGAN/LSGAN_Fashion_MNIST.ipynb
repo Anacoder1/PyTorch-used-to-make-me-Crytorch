{
  "nbformat": 4,
  "nbformat_minor": 0,
  "metadata": {
    "colab": {
      "name": "LSGAN_Fashion-MNIST.ipynb",
      "version": "0.3.2",
      "provenance": [],
      "collapsed_sections": []
    },
    "kernelspec": {
      "name": "python3",
      "display_name": "Python 3"
    },
    "accelerator": "GPU"
  },
  "cells": [
    {
      "cell_type": "code",
      "metadata": {
        "id": "ccP9rnAu7qkd",
        "colab_type": "code",
        "colab": {}
      },
      "source": [
        "from torch.utils.data import DataLoader\n",
        "from torchvision import datasets, transforms\n",
        "\n",
        "import argparse, os, gzip, torch, time, pickle\n",
        "import torch.nn as nn\n",
        "import torch.optim as optim\n",
        "import numpy as np\n",
        "import imageio\n",
        "import matplotlib.pyplot as plt"
      ],
      "execution_count": 0,
      "outputs": []
    },
    {
      "cell_type": "code",
      "metadata": {
        "id": "Vy93yWOs8b5R",
        "colab_type": "code",
        "colab": {}
      },
      "source": [
        "def dataloader(dataset, input_size, batch_size, split = 'train'):\n",
        "  \n",
        "  transform = transforms.Compose([\n",
        "      transforms.ToTensor(),\n",
        "      transforms.Normalize([0.5], [0.5])\n",
        "  ])\n",
        "  \n",
        "  if dataset == 'mnist':\n",
        "    data_loader = DataLoader(\n",
        "        datasets.MNIST('data/mnist', train = True, download = True,\n",
        "                       transform = transform),\n",
        "        batch_size = batch_size,\n",
        "        shuffle = True\n",
        "    )\n",
        "    \n",
        "  elif dataset == 'fashion-mnist':\n",
        "    data_loader = DataLoader(\n",
        "        datasets.FashionMNIST('data/fashion-mnist', train = True, download = True,\n",
        "                              transform = transform),\n",
        "        batch_size = batch_size,\n",
        "        shuffle = True\n",
        "    )\n",
        "    \n",
        "  elif dataset == 'cifar10':\n",
        "    data_loader = DataLoader(\n",
        "        datasets.CIFAR10('data/cifar10', train = True, download = True,\n",
        "                         transform = transform),\n",
        "        batch_size = batch_size,\n",
        "        shuffle = True\n",
        "    )\n",
        "    \n",
        "  elif dataset == 'svhn':\n",
        "    data_loader = DataLoader(\n",
        "        datasets.SVHN('data/svhn', split = split, download = True,\n",
        "                      transform = transform),\n",
        "        batch_size = batch_size,\n",
        "        shuffle = True\n",
        "    )\n",
        "    \n",
        "  elif dataset == 'stl10':\n",
        "    data_loader = DataLoader(\n",
        "        datasets.STL10('data/stl10', split = split, download = True,\n",
        "                       transform = transform),\n",
        "        batch_size = batch_size,\n",
        "        shuffle = True\n",
        "    )\n",
        "    \n",
        "  elif dataset == 'lsun-bed':\n",
        "    data_loader = DataLoader(\n",
        "        datasets.LSUN('data/lsun', classes = ['bedroom-train'],\n",
        "                      transform = transform),\n",
        "        batch_size = batch_size,\n",
        "        shuffle = True\n",
        "    )\n",
        "    \n",
        "  return data_loader"
      ],
      "execution_count": 0,
      "outputs": []
    },
    {
      "cell_type": "code",
      "metadata": {
        "id": "r3k3GNigE67Y",
        "colab_type": "code",
        "colab": {}
      },
      "source": [
        "def load_mnist(dataset):\n",
        "  data_dir = os.path.join(\"./data\", dataset)\n",
        "  \n",
        "  def extract_data(filename, num_data, head_size, data_size):\n",
        "    with gzip.open(filename) as bytestream:\n",
        "      bytestream.read(head_size)\n",
        "      buf = bytestream.read(data_size * num_data)\n",
        "      data = np.frombuffer(buf, dtype = np.uint8).astype(np.float)\n",
        "    return data\n",
        "  \n",
        "  data = extract_data(data_dir + '/train-images-idx3-ubyte.gz', 60000, 16, 28 * 28)\n",
        "  trX = data.reshape((60000, 28, 28, 1))\n",
        "  \n",
        "  data = extract_data(data_dir + '/train-labels-idx1-ubyte.gz', 60000, 8, 1)\n",
        "  trY = data.reshape((60000))\n",
        "  \n",
        "  data = extract_data(data_dir + '/t10k-images-idx3-ubyte.gz', 10000, 16, 28 * 28)\n",
        "  teX = data.reshape((10000, 28, 28, 1))\n",
        "  \n",
        "  data = extract_data(data_dir + '/t10k-labels-idx1-ubyte.gz', 10000, 8, 1)\n",
        "  teY = data.reshape((10000))\n",
        "  \n",
        "  trY = np.asarray(trY).astype(np.int)\n",
        "  teY = np.asarray(teY)\n",
        "  \n",
        "  X = np.concatenate((trX, teX), axis = 0)\n",
        "  y = np.concatenate((trY, teY), axis = 0).astype(np.int)\n",
        "  \n",
        "  seed = 1998\n",
        "  np.random.seed(seed)\n",
        "  np.random.shuffle(X)\n",
        "  np.random.seed(seed)\n",
        "  np.random.shuffle(y)\n",
        "  \n",
        "  y_vec = np.zeros((len(y), 10), dtype = np.float)\n",
        "  for i, label in enumerate(y):\n",
        "    y_vec[i, y[i]] = 1\n",
        "  \n",
        "  \n",
        "  X = X.transpose(0, 3, 1, 2) / 255.\n",
        "  \n",
        "  X = torch.from_numpy(X).type(torch.FloatTensor)\n",
        "  y_vec = torch.from_numpy(y_vec).type(torch.FloatTensor)\n",
        "  return X, y_vec"
      ],
      "execution_count": 0,
      "outputs": []
    },
    {
      "cell_type": "code",
      "metadata": {
        "id": "hi2HhuUuHsiM",
        "colab_type": "code",
        "colab": {}
      },
      "source": [
        "def print_network(net):\n",
        "  num_params = 0\n",
        "  for param in net.parameters():\n",
        "    num_params += param.numel()\n",
        "  print(net)\n",
        "  print('Total number of parameters: %d' % num_params)"
      ],
      "execution_count": 0,
      "outputs": []
    },
    {
      "cell_type": "code",
      "metadata": {
        "id": "xQYB1ksQXgeu",
        "colab_type": "code",
        "colab": {}
      },
      "source": [
        "def save_images(images, size, image_path):\n",
        "  return imsave(images, size, image_path)\n",
        "\n",
        "def imsave(images, size, path):\n",
        "  image = np.squeeze(merge(images, size))\n",
        "  return imageio.imwrite(path, image)"
      ],
      "execution_count": 0,
      "outputs": []
    },
    {
      "cell_type": "code",
      "metadata": {
        "id": "tpQ_FWdFYgIf",
        "colab_type": "code",
        "colab": {}
      },
      "source": [
        "def merge(images, size):\n",
        "  h, w = images.shape[1], images.shape[2]\n",
        "  \n",
        "  if(images.shape[3] in (3, 4)):\n",
        "    c = images.shape[3]\n",
        "    img = np.zeros((h * size[0], w * size[1], c))\n",
        "    for idx, image in enumerate(images):\n",
        "      i = idx % size[1]\n",
        "      j = idx // size[1]\n",
        "      img[j * h: j * h + h, i * w: i * w + w, :] = image\n",
        "    return img\n",
        "  \n",
        "  elif images.shape[3] == 1:\n",
        "    img = np.zeros((h * size[0], w * size[1]))\n",
        "    for idx, image in enumerate(images):\n",
        "      i = idx % size[1]\n",
        "      j = idx // size[1]\n",
        "      img[j * h: j * h + h, i * w: i * w + w] = image[:, :, 0]\n",
        "    return img\n",
        "  \n",
        "  else:\n",
        "    raise ValueError('in merge(images, size) images parameter must have dimensions: HxW or HxWx3 or HxWx4')"
      ],
      "execution_count": 0,
      "outputs": []
    },
    {
      "cell_type": "code",
      "metadata": {
        "id": "cZcg8lDfcUeJ",
        "colab_type": "code",
        "colab": {}
      },
      "source": [
        "def generate_animation(path, num):\n",
        "  images = []\n",
        "  for e in range(num):\n",
        "    img_name = path + '_epoch%03d' % (e + 1) + '.png'\n",
        "    images.append(imageio.imread(img_name))\n",
        "  imageio.mimsave(path + '_generate_animation.gif', images, fps = 5)"
      ],
      "execution_count": 0,
      "outputs": []
    },
    {
      "cell_type": "code",
      "metadata": {
        "id": "_4-RTEEqe4Nx",
        "colab_type": "code",
        "colab": {}
      },
      "source": [
        "def loss_plot(hist, path = 'Train_hist.png', model_name = ''):\n",
        "  \n",
        "  x = range(len(hist['D_loss']))\n",
        "  \n",
        "  y1 = hist['D_loss']\n",
        "  y2 = hist['G_loss']\n",
        "  \n",
        "  plt.plot(x, y1, label = 'D_loss')\n",
        "  plt.plot(x, y2, label = 'G_loss')\n",
        "  \n",
        "  plt.xlabel('Iter')\n",
        "  plt.ylabel('Loss')\n",
        "  \n",
        "  plt.legend(loc = 4)\n",
        "  plt.grid(True)\n",
        "  plt.tight_layout()\n",
        "  \n",
        "  path = os.path.join(path, model_name + '_loss.png')\n",
        "  \n",
        "  plt.savefig(path)\n",
        "  \n",
        "  plt.close()"
      ],
      "execution_count": 0,
      "outputs": []
    },
    {
      "cell_type": "code",
      "metadata": {
        "id": "PHQ9pOJToY8w",
        "colab_type": "code",
        "colab": {}
      },
      "source": [
        "def initialize_weights(net):\n",
        "  \n",
        "  for m in net.modules():\n",
        "    if isinstance(m, nn.Conv2d):\n",
        "      m.weight.data.normal_(0, 0.02)\n",
        "      m.bias.data.zero_()\n",
        "    elif isinstance(m, nn.ConvTranspose2d):\n",
        "      m.weight.data.normal_(0, 0.02)\n",
        "      m.bias.data.zero_()\n",
        "    elif isinstance(m, nn.Linear):\n",
        "      m.weight.data.normal_(0, 0.02)\n",
        "      m.bias.data.zero_()"
      ],
      "execution_count": 0,
      "outputs": []
    },
    {
      "cell_type": "code",
      "metadata": {
        "id": "_uwjpUfaogow",
        "colab_type": "code",
        "colab": {}
      },
      "source": [
        "class generator(nn.Module):\n",
        "  \n",
        "  ## Network Architecture is exactly the same as in infoGAN (https://arxiv.org/abs/1606.03657)\n",
        "  ## Architecture: FC1024_BR-FC7x7x128_BR-(64)4dc2s_BR-(1)4dc2s_S\n",
        "  \n",
        "  def __init__(self, input_dim = 100, output_dim = 1, input_size = 32):\n",
        "    super(generator, self).__init__()\n",
        "    self.input_dim = input_dim\n",
        "    self.output_dim = output_dim\n",
        "    self.input_size = input_size\n",
        "    \n",
        "    self.fc = nn.Sequential(\n",
        "        nn.Linear(self.input_dim, 1024),\n",
        "        nn.BatchNorm1d(1024),\n",
        "        nn.ReLU(),\n",
        "        nn.Linear(1024, 128 * (self.input_size // 4) * (self.input_size // 4)),\n",
        "        nn.BatchNorm1d(128 * (self.input_size // 4) * (self.input_size // 4)),\n",
        "        nn.ReLU(),\n",
        "    )\n",
        "    \n",
        "    self.deconv = nn.Sequential(\n",
        "        nn.ConvTranspose2d(128, 64, 4, 2, 1),\n",
        "        nn.BatchNorm2d(64),\n",
        "        nn.ReLU(),\n",
        "        nn.ConvTranspose2d(64, self.output_dim, 4, 2, 1),\n",
        "        nn.Tanh(),\n",
        "    )\n",
        "    \n",
        "    initialize_weights(self)\n",
        "    \n",
        "    \n",
        "  def forward(self, input):\n",
        "    x = self.fc(input)\n",
        "    x = x.view(-1, 128, (self.input_size // 4), (self.input_size // 4))\n",
        "    x = self.deconv(x)\n",
        "    return x"
      ],
      "execution_count": 0,
      "outputs": []
    },
    {
      "cell_type": "code",
      "metadata": {
        "id": "yZaPhzblvaju",
        "colab_type": "code",
        "colab": {}
      },
      "source": [
        "class discriminator(nn.Module):\n",
        "  \n",
        "  ## Network Architecture is exactly the same as in infoGAN (https://arxiv.org/abs/1606.03657)\n",
        "  ## Architecture: (64)4c2s-(128)4c2s_BL-FC1024_BL-FC1_S\n",
        "  \n",
        "  def __init__(self, input_dim = 1, output_dim = 1, input_size = 32):\n",
        "    super(discriminator, self).__init__()\n",
        "    self.input_dim = input_dim\n",
        "    self.output_dim = output_dim\n",
        "    self.input_size = input_size\n",
        "    \n",
        "    self.conv = nn.Sequential(\n",
        "        nn.Conv2d(self.input_dim, 64, 4, 2, 1),\n",
        "        nn.LeakyReLU(0.2),\n",
        "        nn.Conv2d(64, 128, 4, 2, 1),\n",
        "        nn.BatchNorm2d(128),\n",
        "        nn.LeakyReLU(0.2),\n",
        "    )\n",
        "    \n",
        "    self.fc = nn.Sequential(\n",
        "        nn.Linear(128 * (self.input_size // 4) * (self.input_size // 4), 1024),\n",
        "        nn.BatchNorm1d(1024),\n",
        "        nn.LeakyReLU(0.2),\n",
        "        nn.Linear(1024, self.output_dim),\n",
        "        nn.Sigmoid(),\n",
        "    )\n",
        "    \n",
        "    initialize_weights(self)\n",
        "    \n",
        "  \n",
        "  def forward(self, input):\n",
        "    x = self.conv(input)\n",
        "    x = x.view(-1, 128 * (self.input_size // 4) * (self.input_size // 4))\n",
        "    x = self.fc(x)\n",
        "    \n",
        "    return x"
      ],
      "execution_count": 0,
      "outputs": []
    },
    {
      "cell_type": "code",
      "metadata": {
        "id": "C73WfyKF2IdS",
        "colab_type": "code",
        "colab": {}
      },
      "source": [
        "class LSGAN(object):\n",
        "  \n",
        "  def __init__(self):\n",
        "    ## parameters\n",
        "    self.epoch = 50\n",
        "    self.sample_num = 100\n",
        "    self.batch_size = 64\n",
        "    self.save_dir = 'models'\n",
        "    self.result_dir = 'results'\n",
        "    self.dataset = 'fashion-mnist'\n",
        "    self.log_dir = 'logs'\n",
        "    self.gpu_mode = True\n",
        "    self.model_name = 'LSGAN'\n",
        "    self.input_size = 28\n",
        "    self.z_dim = 62\n",
        "    \n",
        "    \n",
        "    ## load dataset\n",
        "    self.data_loader = dataloader(self.dataset,\n",
        "                                  self.input_size,\n",
        "                                  self.batch_size)\n",
        "    data = self.data_loader.__iter__().__next__()[0]\n",
        "    \n",
        "    \n",
        "    ## networks init\n",
        "    self.G = generator(input_dim = self.z_dim,\n",
        "                       output_dim = data.shape[1],\n",
        "                       input_size = self.input_size)\n",
        "    self.D = discriminator(input_dim = data.shape[1],\n",
        "                           output_dim = 1,\n",
        "                           input_size = self.input_size)\n",
        "    self.G_optimizer = optim.Adam(self.G.parameters(),\n",
        "                                  lr = 0.0002,\n",
        "                                  betas = (0.5, 0.999))\n",
        "    self.D_optimizer = optim.Adam(self.D.parameters(),\n",
        "                                  lr = 0.0002,\n",
        "                                  betas = (0.5, 0.999))\n",
        "    \n",
        "    \n",
        "    if self.gpu_mode:\n",
        "      self.G.cuda()\n",
        "      self.D.cuda()\n",
        "      self.MSE_loss = nn.MSELoss().cuda()\n",
        "    else:\n",
        "      self.MSE_loss = nn.MSELoss()\n",
        "      \n",
        "    \n",
        "    print('-----------Networks Architecture------------')\n",
        "    print_network(self.G)\n",
        "    print_network(self.D)\n",
        "    print('--------------------------------------------')\n",
        "    \n",
        "    \n",
        "    ## fixed noise\n",
        "    self.sample_z_ = torch.rand((self.batch_size, self.z_dim))\n",
        "    if self.gpu_mode:\n",
        "      self.sample_z_ = self.sample_z_.cuda()\n",
        "      \n",
        "  \n",
        "  def train(self):\n",
        "    self.train_hist = {}\n",
        "    self.train_hist['D_loss'] = []\n",
        "    self.train_hist['G_loss'] = []\n",
        "    self.train_hist['per_epoch_time'] = []\n",
        "    self.train_hist['total_time'] = []\n",
        "    \n",
        "    self.y_real_, self.y_fake_ = torch.ones(self.batch_size, 1), torch.zeros(self.batch_size, 1)\n",
        "    if self.gpu_mode:\n",
        "      self.y_real_, self.y_fake_ = self.y_real_.cuda(), self.y_fake_.cuda()\n",
        "      \n",
        "    \n",
        "    self.D.train()\n",
        "    print('training start !')\n",
        "    start_time = time.time()\n",
        "    for epoch in range(self.epoch):\n",
        "      self.G.train()\n",
        "      epoch_start_time = time.time()\n",
        "      for iter, (x_, _) in enumerate(self.data_loader):\n",
        "        if iter == self.data_loader.dataset.__len__() // self.batch_size:\n",
        "          break\n",
        "          \n",
        "        z_ = torch.rand((self.batch_size, self.z_dim))\n",
        "        if self.gpu_mode:\n",
        "          x_, z_ = x_.cuda(), z_.cuda()\n",
        "          \n",
        "          \n",
        "        ## update D network\n",
        "        self.D_optimizer.zero_grad()\n",
        "        \n",
        "        D_real = self.D(x_)\n",
        "        D_real_loss = self.MSE_loss(D_real, self.y_real_)\n",
        "        \n",
        "        G_ = self.G(z_)\n",
        "        D_fake = self.D(G_)\n",
        "        D_fake_loss = self.MSE_loss(D_fake, self.y_fake_)\n",
        "        \n",
        "        D_loss = D_real_loss + D_fake_loss\n",
        "        self.train_hist['D_loss'].append(D_loss.item())\n",
        "        \n",
        "        D_loss.backward()\n",
        "        self.D_optimizer.step()\n",
        "        \n",
        "        \n",
        "        ## update G network\n",
        "        self.G_optimizer.zero_grad()\n",
        "        \n",
        "        G_ = self.G(z_)\n",
        "        D_fake = self.D(G_)\n",
        "        G_loss = self.MSE_loss(D_fake, self.y_real_)\n",
        "        self.train_hist['G_loss'].append(G_loss.item())\n",
        "        \n",
        "        G_loss.backward()\n",
        "        self.G_optimizer.step()\n",
        "        \n",
        "        \n",
        "        if ((iter + 1) % 100) == 0:\n",
        "          print(\"Epoch: [%2d] [%4d / %4d] D_loss: %.8f, G_loss: %.8f\" %\n",
        "                ((epoch + 1), (iter + 1), self.data_loader.dataset.__len__() // self.batch_size,\n",
        "                 D_loss.item(), G_loss.item()))\n",
        "          \n",
        "      self.train_hist['per_epoch_time'].append(time.time() - epoch_start_time)\n",
        "      with torch.no_grad():\n",
        "        self.visualize_results((epoch + 1))\n",
        "        \n",
        "    self.train_hist['total_time'].append(time.time() - start_time)\n",
        "    print(\"Avg one epoch time: %.2f, total %d epochs time: %.2f\" % (np.mean(self.train_hist['per_epoch_time']),\n",
        "                                                                    self.epoch, \n",
        "                                                                    self.train_hist['total_time'][0]))\n",
        "    print(\"Training finish! Saved training results\")\n",
        "    \n",
        "    self.save()\n",
        "    \n",
        "    \n",
        "    generate_animation(self.result_dir + '/' + self.dataset + '/' + self.model_name + '/' + self.model_name, \n",
        "                       self.epoch)\n",
        "    \n",
        "    loss_plot(self.train_hist, \n",
        "              os.path.join(self.save_dir, self.dataset, self.model_name),\n",
        "              self.model_name)\n",
        "    \n",
        "  \n",
        "  def visualize_results(self, epoch, fix = True):\n",
        "    self.G.eval()\n",
        "    \n",
        "    if not os.path.exists(self.result_dir + '/' + self.dataset + '/' + self.model_name):\n",
        "      os.makedirs(self.result_dir + '/' + self.dataset + '/' + self.model_name)\n",
        "    \n",
        "    tot_num_samples = min(self.sample_num, self.batch_size)\n",
        "    image_frame_dim = int(np.floor(np.sqrt(tot_num_samples)))\n",
        "    \n",
        "    if fix:\n",
        "      \"\"\" fixed noise \"\"\"\n",
        "      samples = self.G(self.sample_z_)\n",
        "      \n",
        "    else:\n",
        "      \"\"\" random noise \"\"\"\n",
        "      sample_z_ = torch.rand((self.batch_size, self.z_dim))\n",
        "      if self.gpu_mode:\n",
        "        sample_z_ = sample_z_.cuda()\n",
        "        \n",
        "      samples = self.G(sample_z_)\n",
        "      \n",
        "    \n",
        "    if self.gpu_mode:\n",
        "      samples = samples.cpu().data.numpy().transpose(0, 2, 3, 1)\n",
        "    else:\n",
        "      samples = samples.data.numpy().transpose(0, 2, 3, 1)\n",
        "      \n",
        "    \n",
        "    samples = (samples + 1) / 2\n",
        "    save_images(samples[:image_frame_dim * image_frame_dim, :, :, :],\n",
        "                [image_frame_dim, image_frame_dim],\n",
        "                self.result_dir + '/' + self.dataset + '/' + self.model_name + '/' + self.model_name + '_epoch%03d' % epoch + '.png')\n",
        "    \n",
        "  \n",
        "  def save(self):\n",
        "    save_dir = os.path.join(self.save_dir, self.dataset, self.model_name)\n",
        "    \n",
        "    if not os.path.exists(save_dir):\n",
        "      os.makedirs(save_dir)\n",
        "      \n",
        "    torch.save(self.G.state_dict(), os.path.join(save_dir, self.model_name + '_G.pkl'))\n",
        "    torch.save(self.D.state_dict(), os.path.join(save_dir, self.model_name + '_D.pkl'))\n",
        "    \n",
        "    with open(os.path.join(save_dir, self.model_name + '_history.pkl'), 'wb') as f:\n",
        "      pickle.dump(self.train_hist, f)\n",
        "      \n",
        "      \n",
        "  def load(self):\n",
        "    save_dir = os.path.join(self.save_dir, self.dataset, self.model_name)\n",
        "    \n",
        "    self.G.load_state_dict(torch.load(os.path.join(save_dir, self.model_name + '_G.pkl')))\n",
        "    self.D.load_state_dict(torch.load(os.path.join(save_dir, self.model_name + '_D.pkl')))"
      ],
      "execution_count": 0,
      "outputs": []
    },
    {
      "cell_type": "code",
      "metadata": {
        "id": "fUxWuTtqPwqS",
        "colab_type": "code",
        "colab": {
          "base_uri": "https://localhost:8080/",
          "height": 1000
        },
        "outputId": "d5a16b07-1ea4-480c-d1ab-18d8de126431"
      },
      "source": [
        "def main():\n",
        "  \n",
        "  lsgan = LSGAN()\n",
        "  \n",
        "  lsgan.train()\n",
        "  print(\" [**] Training finished!\")\n",
        "  \n",
        "  ## visualize learned generator\n",
        "  lsgan.visualize_results(50)\n",
        "  print(\" [**] Testing finished!\")\n",
        "  \n",
        "\n",
        "if __name__ == '__main__':\n",
        "  main()"
      ],
      "execution_count": 13,
      "outputs": [
        {
          "output_type": "stream",
          "text": [
            "  0%|          | 0/26421880 [00:00<?, ?it/s]"
          ],
          "name": "stderr"
        },
        {
          "output_type": "stream",
          "text": [
            "Downloading http://fashion-mnist.s3-website.eu-central-1.amazonaws.com/train-images-idx3-ubyte.gz to data/fashion-mnist/FashionMNIST/raw/train-images-idx3-ubyte.gz\n"
          ],
          "name": "stdout"
        },
        {
          "output_type": "stream",
          "text": [
            "26427392it [00:00, 69206712.59it/s]                              \n"
          ],
          "name": "stderr"
        },
        {
          "output_type": "stream",
          "text": [
            "Extracting data/fashion-mnist/FashionMNIST/raw/train-images-idx3-ubyte.gz\n"
          ],
          "name": "stdout"
        },
        {
          "output_type": "stream",
          "text": [
            "32768it [00:00, 390661.33it/s]\n",
            "0it [00:00, ?it/s]"
          ],
          "name": "stderr"
        },
        {
          "output_type": "stream",
          "text": [
            "Downloading http://fashion-mnist.s3-website.eu-central-1.amazonaws.com/train-labels-idx1-ubyte.gz to data/fashion-mnist/FashionMNIST/raw/train-labels-idx1-ubyte.gz\n",
            "Extracting data/fashion-mnist/FashionMNIST/raw/train-labels-idx1-ubyte.gz\n",
            "Downloading http://fashion-mnist.s3-website.eu-central-1.amazonaws.com/t10k-images-idx3-ubyte.gz to data/fashion-mnist/FashionMNIST/raw/t10k-images-idx3-ubyte.gz\n"
          ],
          "name": "stdout"
        },
        {
          "output_type": "stream",
          "text": [
            "4423680it [00:00, 25680883.72it/s]                         \n",
            "8192it [00:00, 185821.73it/s]\n"
          ],
          "name": "stderr"
        },
        {
          "output_type": "stream",
          "text": [
            "Extracting data/fashion-mnist/FashionMNIST/raw/t10k-images-idx3-ubyte.gz\n",
            "Downloading http://fashion-mnist.s3-website.eu-central-1.amazonaws.com/t10k-labels-idx1-ubyte.gz to data/fashion-mnist/FashionMNIST/raw/t10k-labels-idx1-ubyte.gz\n",
            "Extracting data/fashion-mnist/FashionMNIST/raw/t10k-labels-idx1-ubyte.gz\n",
            "Processing...\n",
            "Done!\n",
            "-----------Networks Architecture------------\n",
            "generator(\n",
            "  (fc): Sequential(\n",
            "    (0): Linear(in_features=62, out_features=1024, bias=True)\n",
            "    (1): BatchNorm1d(1024, eps=1e-05, momentum=0.1, affine=True, track_running_stats=True)\n",
            "    (2): ReLU()\n",
            "    (3): Linear(in_features=1024, out_features=6272, bias=True)\n",
            "    (4): BatchNorm1d(6272, eps=1e-05, momentum=0.1, affine=True, track_running_stats=True)\n",
            "    (5): ReLU()\n",
            "  )\n",
            "  (deconv): Sequential(\n",
            "    (0): ConvTranspose2d(128, 64, kernel_size=(4, 4), stride=(2, 2), padding=(1, 1))\n",
            "    (1): BatchNorm2d(64, eps=1e-05, momentum=0.1, affine=True, track_running_stats=True)\n",
            "    (2): ReLU()\n",
            "    (3): ConvTranspose2d(64, 1, kernel_size=(4, 4), stride=(2, 2), padding=(1, 1))\n",
            "    (4): Tanh()\n",
            "  )\n",
            ")\n",
            "Total number of parameters: 6640193\n",
            "discriminator(\n",
            "  (conv): Sequential(\n",
            "    (0): Conv2d(1, 64, kernel_size=(4, 4), stride=(2, 2), padding=(1, 1))\n",
            "    (1): LeakyReLU(negative_slope=0.2)\n",
            "    (2): Conv2d(64, 128, kernel_size=(4, 4), stride=(2, 2), padding=(1, 1))\n",
            "    (3): BatchNorm2d(128, eps=1e-05, momentum=0.1, affine=True, track_running_stats=True)\n",
            "    (4): LeakyReLU(negative_slope=0.2)\n",
            "  )\n",
            "  (fc): Sequential(\n",
            "    (0): Linear(in_features=6272, out_features=1024, bias=True)\n",
            "    (1): BatchNorm1d(1024, eps=1e-05, momentum=0.1, affine=True, track_running_stats=True)\n",
            "    (2): LeakyReLU(negative_slope=0.2)\n",
            "    (3): Linear(in_features=1024, out_features=1, bias=True)\n",
            "    (4): Sigmoid()\n",
            "  )\n",
            ")\n",
            "Total number of parameters: 6559169\n",
            "--------------------------------------------\n",
            "training start !\n",
            "Epoch: [ 1] [ 100 /  937] D_loss: 0.33011195, G_loss: 0.38515335\n",
            "Epoch: [ 1] [ 200 /  937] D_loss: 0.29097682, G_loss: 0.43991613\n",
            "Epoch: [ 1] [ 300 /  937] D_loss: 0.30102396, G_loss: 0.43455774\n",
            "Epoch: [ 1] [ 400 /  937] D_loss: 0.29117271, G_loss: 0.45375144\n",
            "Epoch: [ 1] [ 500 /  937] D_loss: 0.30721393, G_loss: 0.42949209\n",
            "Epoch: [ 1] [ 600 /  937] D_loss: 0.29455289, G_loss: 0.44936484\n",
            "Epoch: [ 1] [ 700 /  937] D_loss: 0.29541397, G_loss: 0.43946368\n",
            "Epoch: [ 1] [ 800 /  937] D_loss: 0.31662518, G_loss: 0.44748074\n",
            "Epoch: [ 1] [ 900 /  937] D_loss: 0.34098434, G_loss: 0.40768027\n"
          ],
          "name": "stdout"
        },
        {
          "output_type": "stream",
          "text": [
            "WARNING:root:Lossy conversion from float64 to uint8. Range [0, 1]. Convert image to uint8 prior to saving to suppress this warning.\n"
          ],
          "name": "stderr"
        },
        {
          "output_type": "stream",
          "text": [
            "Epoch: [ 2] [ 100 /  937] D_loss: 0.36815494, G_loss: 0.36408556\n",
            "Epoch: [ 2] [ 200 /  937] D_loss: 0.34050959, G_loss: 0.37662280\n",
            "Epoch: [ 2] [ 300 /  937] D_loss: 0.31692606, G_loss: 0.39221793\n",
            "Epoch: [ 2] [ 400 /  937] D_loss: 0.34153014, G_loss: 0.44670004\n",
            "Epoch: [ 2] [ 500 /  937] D_loss: 0.38886398, G_loss: 0.39594525\n",
            "Epoch: [ 2] [ 600 /  937] D_loss: 0.37645400, G_loss: 0.43511274\n",
            "Epoch: [ 2] [ 700 /  937] D_loss: 0.33764401, G_loss: 0.44681501\n",
            "Epoch: [ 2] [ 800 /  937] D_loss: 0.42090037, G_loss: 0.37040049\n",
            "Epoch: [ 2] [ 900 /  937] D_loss: 0.36881191, G_loss: 0.43578780\n"
          ],
          "name": "stdout"
        },
        {
          "output_type": "stream",
          "text": [
            "WARNING:root:Lossy conversion from float64 to uint8. Range [0, 1]. Convert image to uint8 prior to saving to suppress this warning.\n"
          ],
          "name": "stderr"
        },
        {
          "output_type": "stream",
          "text": [
            "Epoch: [ 3] [ 100 /  937] D_loss: 0.33733678, G_loss: 0.45115206\n",
            "Epoch: [ 3] [ 200 /  937] D_loss: 0.35179189, G_loss: 0.40430561\n",
            "Epoch: [ 3] [ 300 /  937] D_loss: 0.28092459, G_loss: 0.44491935\n",
            "Epoch: [ 3] [ 400 /  937] D_loss: 0.34346297, G_loss: 0.43112928\n",
            "Epoch: [ 3] [ 500 /  937] D_loss: 0.37592757, G_loss: 0.42474666\n",
            "Epoch: [ 3] [ 600 /  937] D_loss: 0.32183066, G_loss: 0.46074915\n",
            "Epoch: [ 3] [ 700 /  937] D_loss: 0.33221436, G_loss: 0.41411820\n",
            "Epoch: [ 3] [ 800 /  937] D_loss: 0.33994237, G_loss: 0.45003578\n",
            "Epoch: [ 3] [ 900 /  937] D_loss: 0.32339740, G_loss: 0.45412028\n"
          ],
          "name": "stdout"
        },
        {
          "output_type": "stream",
          "text": [
            "WARNING:root:Lossy conversion from float64 to uint8. Range [0, 1]. Convert image to uint8 prior to saving to suppress this warning.\n"
          ],
          "name": "stderr"
        },
        {
          "output_type": "stream",
          "text": [
            "Epoch: [ 4] [ 100 /  937] D_loss: 0.31915861, G_loss: 0.42128924\n",
            "Epoch: [ 4] [ 200 /  937] D_loss: 0.33448768, G_loss: 0.47571796\n",
            "Epoch: [ 4] [ 300 /  937] D_loss: 0.28659993, G_loss: 0.45040962\n",
            "Epoch: [ 4] [ 400 /  937] D_loss: 0.36221230, G_loss: 0.44491208\n",
            "Epoch: [ 4] [ 500 /  937] D_loss: 0.33298713, G_loss: 0.44501096\n",
            "Epoch: [ 4] [ 600 /  937] D_loss: 0.31229544, G_loss: 0.46298653\n",
            "Epoch: [ 4] [ 700 /  937] D_loss: 0.39952198, G_loss: 0.48026150\n",
            "Epoch: [ 4] [ 800 /  937] D_loss: 0.28633168, G_loss: 0.48197740\n",
            "Epoch: [ 4] [ 900 /  937] D_loss: 0.33607376, G_loss: 0.47980571\n"
          ],
          "name": "stdout"
        },
        {
          "output_type": "stream",
          "text": [
            "WARNING:root:Lossy conversion from float64 to uint8. Range [0, 1]. Convert image to uint8 prior to saving to suppress this warning.\n"
          ],
          "name": "stderr"
        },
        {
          "output_type": "stream",
          "text": [
            "Epoch: [ 5] [ 100 /  937] D_loss: 0.29845130, G_loss: 0.45637679\n",
            "Epoch: [ 5] [ 200 /  937] D_loss: 0.37017328, G_loss: 0.42463386\n",
            "Epoch: [ 5] [ 300 /  937] D_loss: 0.32008964, G_loss: 0.45367268\n",
            "Epoch: [ 5] [ 400 /  937] D_loss: 0.33809847, G_loss: 0.44767261\n",
            "Epoch: [ 5] [ 500 /  937] D_loss: 0.33078033, G_loss: 0.47844425\n",
            "Epoch: [ 5] [ 600 /  937] D_loss: 0.35583070, G_loss: 0.43047228\n",
            "Epoch: [ 5] [ 700 /  937] D_loss: 0.31582335, G_loss: 0.44390568\n",
            "Epoch: [ 5] [ 800 /  937] D_loss: 0.33779752, G_loss: 0.44739649\n",
            "Epoch: [ 5] [ 900 /  937] D_loss: 0.33672220, G_loss: 0.45332664\n"
          ],
          "name": "stdout"
        },
        {
          "output_type": "stream",
          "text": [
            "WARNING:root:Lossy conversion from float64 to uint8. Range [0, 1]. Convert image to uint8 prior to saving to suppress this warning.\n"
          ],
          "name": "stderr"
        },
        {
          "output_type": "stream",
          "text": [
            "Epoch: [ 6] [ 100 /  937] D_loss: 0.31523484, G_loss: 0.51899451\n",
            "Epoch: [ 6] [ 200 /  937] D_loss: 0.30350095, G_loss: 0.48168749\n",
            "Epoch: [ 6] [ 300 /  937] D_loss: 0.29848045, G_loss: 0.55004680\n",
            "Epoch: [ 6] [ 400 /  937] D_loss: 0.34545574, G_loss: 0.45017627\n",
            "Epoch: [ 6] [ 500 /  937] D_loss: 0.38711852, G_loss: 0.50197476\n",
            "Epoch: [ 6] [ 600 /  937] D_loss: 0.32940036, G_loss: 0.48525539\n",
            "Epoch: [ 6] [ 700 /  937] D_loss: 0.30988771, G_loss: 0.48223937\n",
            "Epoch: [ 6] [ 800 /  937] D_loss: 0.27143285, G_loss: 0.53583419\n",
            "Epoch: [ 6] [ 900 /  937] D_loss: 0.28923696, G_loss: 0.46104178\n"
          ],
          "name": "stdout"
        },
        {
          "output_type": "stream",
          "text": [
            "WARNING:root:Lossy conversion from float64 to uint8. Range [0, 1]. Convert image to uint8 prior to saving to suppress this warning.\n"
          ],
          "name": "stderr"
        },
        {
          "output_type": "stream",
          "text": [
            "Epoch: [ 7] [ 100 /  937] D_loss: 0.30250007, G_loss: 0.48374224\n",
            "Epoch: [ 7] [ 200 /  937] D_loss: 0.30429447, G_loss: 0.51752192\n",
            "Epoch: [ 7] [ 300 /  937] D_loss: 0.31907490, G_loss: 0.47949317\n",
            "Epoch: [ 7] [ 400 /  937] D_loss: 0.39020759, G_loss: 0.43750811\n",
            "Epoch: [ 7] [ 500 /  937] D_loss: 0.29027066, G_loss: 0.52793646\n",
            "Epoch: [ 7] [ 600 /  937] D_loss: 0.31946707, G_loss: 0.45305890\n",
            "Epoch: [ 7] [ 700 /  937] D_loss: 0.36947477, G_loss: 0.47602504\n",
            "Epoch: [ 7] [ 800 /  937] D_loss: 0.33687645, G_loss: 0.46258223\n",
            "Epoch: [ 7] [ 900 /  937] D_loss: 0.32928503, G_loss: 0.46198547\n"
          ],
          "name": "stdout"
        },
        {
          "output_type": "stream",
          "text": [
            "WARNING:root:Lossy conversion from float64 to uint8. Range [0, 1]. Convert image to uint8 prior to saving to suppress this warning.\n"
          ],
          "name": "stderr"
        },
        {
          "output_type": "stream",
          "text": [
            "Epoch: [ 8] [ 100 /  937] D_loss: 0.26525152, G_loss: 0.49179095\n",
            "Epoch: [ 8] [ 200 /  937] D_loss: 0.35322621, G_loss: 0.40879932\n",
            "Epoch: [ 8] [ 300 /  937] D_loss: 0.30598220, G_loss: 0.48959503\n",
            "Epoch: [ 8] [ 400 /  937] D_loss: 0.29382187, G_loss: 0.52455056\n",
            "Epoch: [ 8] [ 500 /  937] D_loss: 0.32080758, G_loss: 0.43620038\n",
            "Epoch: [ 8] [ 600 /  937] D_loss: 0.36047485, G_loss: 0.45231545\n",
            "Epoch: [ 8] [ 700 /  937] D_loss: 0.30853820, G_loss: 0.51152647\n",
            "Epoch: [ 8] [ 800 /  937] D_loss: 0.30503395, G_loss: 0.48843408\n",
            "Epoch: [ 8] [ 900 /  937] D_loss: 0.28673041, G_loss: 0.48937777\n"
          ],
          "name": "stdout"
        },
        {
          "output_type": "stream",
          "text": [
            "WARNING:root:Lossy conversion from float64 to uint8. Range [0, 1]. Convert image to uint8 prior to saving to suppress this warning.\n"
          ],
          "name": "stderr"
        },
        {
          "output_type": "stream",
          "text": [
            "Epoch: [ 9] [ 100 /  937] D_loss: 0.30076855, G_loss: 0.53759098\n",
            "Epoch: [ 9] [ 200 /  937] D_loss: 0.28460538, G_loss: 0.51366413\n",
            "Epoch: [ 9] [ 300 /  937] D_loss: 0.30458656, G_loss: 0.55041337\n",
            "Epoch: [ 9] [ 400 /  937] D_loss: 0.38441890, G_loss: 0.43609142\n",
            "Epoch: [ 9] [ 500 /  937] D_loss: 0.30177641, G_loss: 0.48985377\n",
            "Epoch: [ 9] [ 600 /  937] D_loss: 0.33029589, G_loss: 0.48827106\n",
            "Epoch: [ 9] [ 700 /  937] D_loss: 0.30851424, G_loss: 0.51744831\n",
            "Epoch: [ 9] [ 800 /  937] D_loss: 0.25939137, G_loss: 0.55532098\n",
            "Epoch: [ 9] [ 900 /  937] D_loss: 0.34492788, G_loss: 0.45781648\n"
          ],
          "name": "stdout"
        },
        {
          "output_type": "stream",
          "text": [
            "WARNING:root:Lossy conversion from float64 to uint8. Range [0, 1]. Convert image to uint8 prior to saving to suppress this warning.\n"
          ],
          "name": "stderr"
        },
        {
          "output_type": "stream",
          "text": [
            "Epoch: [10] [ 100 /  937] D_loss: 0.27938849, G_loss: 0.51083726\n",
            "Epoch: [10] [ 200 /  937] D_loss: 0.23782024, G_loss: 0.53266233\n",
            "Epoch: [10] [ 300 /  937] D_loss: 0.30180395, G_loss: 0.58053809\n",
            "Epoch: [10] [ 400 /  937] D_loss: 0.30051690, G_loss: 0.55098164\n",
            "Epoch: [10] [ 500 /  937] D_loss: 0.29614744, G_loss: 0.49930805\n",
            "Epoch: [10] [ 600 /  937] D_loss: 0.29025704, G_loss: 0.53850806\n",
            "Epoch: [10] [ 700 /  937] D_loss: 0.30090344, G_loss: 0.55300617\n",
            "Epoch: [10] [ 800 /  937] D_loss: 0.34819856, G_loss: 0.48052084\n",
            "Epoch: [10] [ 900 /  937] D_loss: 0.28261530, G_loss: 0.51491970\n"
          ],
          "name": "stdout"
        },
        {
          "output_type": "stream",
          "text": [
            "WARNING:root:Lossy conversion from float64 to uint8. Range [0, 1]. Convert image to uint8 prior to saving to suppress this warning.\n"
          ],
          "name": "stderr"
        },
        {
          "output_type": "stream",
          "text": [
            "Epoch: [11] [ 100 /  937] D_loss: 0.24903868, G_loss: 0.54454201\n",
            "Epoch: [11] [ 200 /  937] D_loss: 0.25323328, G_loss: 0.58335304\n",
            "Epoch: [11] [ 300 /  937] D_loss: 0.24877042, G_loss: 0.59347546\n",
            "Epoch: [11] [ 400 /  937] D_loss: 0.26866725, G_loss: 0.58892041\n",
            "Epoch: [11] [ 500 /  937] D_loss: 0.31923968, G_loss: 0.51995122\n",
            "Epoch: [11] [ 600 /  937] D_loss: 0.32692742, G_loss: 0.53357619\n",
            "Epoch: [11] [ 700 /  937] D_loss: 0.39674625, G_loss: 0.56452441\n",
            "Epoch: [11] [ 800 /  937] D_loss: 0.28918809, G_loss: 0.57853544\n",
            "Epoch: [11] [ 900 /  937] D_loss: 0.22776169, G_loss: 0.60168624\n"
          ],
          "name": "stdout"
        },
        {
          "output_type": "stream",
          "text": [
            "WARNING:root:Lossy conversion from float64 to uint8. Range [0, 1]. Convert image to uint8 prior to saving to suppress this warning.\n"
          ],
          "name": "stderr"
        },
        {
          "output_type": "stream",
          "text": [
            "Epoch: [12] [ 100 /  937] D_loss: 0.23730007, G_loss: 0.59939754\n",
            "Epoch: [12] [ 200 /  937] D_loss: 0.34982792, G_loss: 0.51689565\n",
            "Epoch: [12] [ 300 /  937] D_loss: 0.33189243, G_loss: 0.58904886\n",
            "Epoch: [12] [ 400 /  937] D_loss: 0.28363433, G_loss: 0.55020708\n",
            "Epoch: [12] [ 500 /  937] D_loss: 0.31316590, G_loss: 0.51253855\n",
            "Epoch: [12] [ 600 /  937] D_loss: 0.30963099, G_loss: 0.53658164\n",
            "Epoch: [12] [ 700 /  937] D_loss: 0.26186013, G_loss: 0.61092132\n",
            "Epoch: [12] [ 800 /  937] D_loss: 0.23779359, G_loss: 0.55639493\n",
            "Epoch: [12] [ 900 /  937] D_loss: 0.19849990, G_loss: 0.60860562\n"
          ],
          "name": "stdout"
        },
        {
          "output_type": "stream",
          "text": [
            "WARNING:root:Lossy conversion from float64 to uint8. Range [0, 1]. Convert image to uint8 prior to saving to suppress this warning.\n"
          ],
          "name": "stderr"
        },
        {
          "output_type": "stream",
          "text": [
            "Epoch: [13] [ 100 /  937] D_loss: 0.21546611, G_loss: 0.63405240\n",
            "Epoch: [13] [ 200 /  937] D_loss: 0.29678148, G_loss: 0.52529889\n",
            "Epoch: [13] [ 300 /  937] D_loss: 0.24588633, G_loss: 0.57910401\n",
            "Epoch: [13] [ 400 /  937] D_loss: 0.28013450, G_loss: 0.50725663\n",
            "Epoch: [13] [ 500 /  937] D_loss: 0.18571177, G_loss: 0.63508940\n",
            "Epoch: [13] [ 600 /  937] D_loss: 0.22558391, G_loss: 0.58953267\n",
            "Epoch: [13] [ 700 /  937] D_loss: 0.21921968, G_loss: 0.57502162\n",
            "Epoch: [13] [ 800 /  937] D_loss: 0.25660670, G_loss: 0.57221967\n",
            "Epoch: [13] [ 900 /  937] D_loss: 0.22052404, G_loss: 0.63552153\n"
          ],
          "name": "stdout"
        },
        {
          "output_type": "stream",
          "text": [
            "WARNING:root:Lossy conversion from float64 to uint8. Range [0, 1]. Convert image to uint8 prior to saving to suppress this warning.\n"
          ],
          "name": "stderr"
        },
        {
          "output_type": "stream",
          "text": [
            "Epoch: [14] [ 100 /  937] D_loss: 0.23511150, G_loss: 0.62534881\n",
            "Epoch: [14] [ 200 /  937] D_loss: 0.24229085, G_loss: 0.64816439\n",
            "Epoch: [14] [ 300 /  937] D_loss: 0.22870144, G_loss: 0.63696772\n",
            "Epoch: [14] [ 400 /  937] D_loss: 0.25091881, G_loss: 0.53629696\n",
            "Epoch: [14] [ 500 /  937] D_loss: 0.28601259, G_loss: 0.54053640\n",
            "Epoch: [14] [ 600 /  937] D_loss: 0.21877250, G_loss: 0.55268967\n",
            "Epoch: [14] [ 700 /  937] D_loss: 0.21687523, G_loss: 0.64707279\n",
            "Epoch: [14] [ 800 /  937] D_loss: 0.27046439, G_loss: 0.53308523\n",
            "Epoch: [14] [ 900 /  937] D_loss: 0.22990769, G_loss: 0.62464178\n"
          ],
          "name": "stdout"
        },
        {
          "output_type": "stream",
          "text": [
            "WARNING:root:Lossy conversion from float64 to uint8. Range [0, 1]. Convert image to uint8 prior to saving to suppress this warning.\n"
          ],
          "name": "stderr"
        },
        {
          "output_type": "stream",
          "text": [
            "Epoch: [15] [ 100 /  937] D_loss: 0.23107906, G_loss: 0.60017681\n",
            "Epoch: [15] [ 200 /  937] D_loss: 0.22675854, G_loss: 0.53993773\n",
            "Epoch: [15] [ 300 /  937] D_loss: 0.19029227, G_loss: 0.62182295\n",
            "Epoch: [15] [ 400 /  937] D_loss: 0.21380365, G_loss: 0.55776054\n",
            "Epoch: [15] [ 500 /  937] D_loss: 0.22661290, G_loss: 0.57760429\n",
            "Epoch: [15] [ 600 /  937] D_loss: 0.24468121, G_loss: 0.61566228\n",
            "Epoch: [15] [ 700 /  937] D_loss: 0.19581875, G_loss: 0.66887069\n",
            "Epoch: [15] [ 800 /  937] D_loss: 0.28036168, G_loss: 0.62726629\n",
            "Epoch: [15] [ 900 /  937] D_loss: 0.26491976, G_loss: 0.56695771\n"
          ],
          "name": "stdout"
        },
        {
          "output_type": "stream",
          "text": [
            "WARNING:root:Lossy conversion from float64 to uint8. Range [0, 1]. Convert image to uint8 prior to saving to suppress this warning.\n"
          ],
          "name": "stderr"
        },
        {
          "output_type": "stream",
          "text": [
            "Epoch: [16] [ 100 /  937] D_loss: 0.15827417, G_loss: 0.69612050\n",
            "Epoch: [16] [ 200 /  937] D_loss: 0.17645568, G_loss: 0.65895396\n",
            "Epoch: [16] [ 300 /  937] D_loss: 0.20461529, G_loss: 0.63706344\n",
            "Epoch: [16] [ 400 /  937] D_loss: 0.21114208, G_loss: 0.63979918\n",
            "Epoch: [16] [ 500 /  937] D_loss: 0.24092053, G_loss: 0.58290190\n",
            "Epoch: [16] [ 600 /  937] D_loss: 0.24265817, G_loss: 0.62008840\n",
            "Epoch: [16] [ 700 /  937] D_loss: 0.29104275, G_loss: 0.59754682\n",
            "Epoch: [16] [ 800 /  937] D_loss: 0.27164730, G_loss: 0.56783426\n",
            "Epoch: [16] [ 900 /  937] D_loss: 0.17522869, G_loss: 0.68471164\n"
          ],
          "name": "stdout"
        },
        {
          "output_type": "stream",
          "text": [
            "WARNING:root:Lossy conversion from float64 to uint8. Range [0, 1]. Convert image to uint8 prior to saving to suppress this warning.\n"
          ],
          "name": "stderr"
        },
        {
          "output_type": "stream",
          "text": [
            "Epoch: [17] [ 100 /  937] D_loss: 0.18762650, G_loss: 0.60725379\n",
            "Epoch: [17] [ 200 /  937] D_loss: 0.27031755, G_loss: 0.61029685\n",
            "Epoch: [17] [ 300 /  937] D_loss: 0.29404420, G_loss: 0.59677207\n",
            "Epoch: [17] [ 400 /  937] D_loss: 0.25636682, G_loss: 0.60006344\n",
            "Epoch: [17] [ 500 /  937] D_loss: 0.24089274, G_loss: 0.61803329\n",
            "Epoch: [17] [ 600 /  937] D_loss: 0.16510615, G_loss: 0.68785423\n",
            "Epoch: [17] [ 700 /  937] D_loss: 0.16378033, G_loss: 0.68349934\n",
            "Epoch: [17] [ 800 /  937] D_loss: 0.27149934, G_loss: 0.59928101\n",
            "Epoch: [17] [ 900 /  937] D_loss: 0.15730596, G_loss: 0.67573488\n"
          ],
          "name": "stdout"
        },
        {
          "output_type": "stream",
          "text": [
            "WARNING:root:Lossy conversion from float64 to uint8. Range [0, 1]. Convert image to uint8 prior to saving to suppress this warning.\n"
          ],
          "name": "stderr"
        },
        {
          "output_type": "stream",
          "text": [
            "Epoch: [18] [ 100 /  937] D_loss: 0.24194831, G_loss: 0.58588874\n",
            "Epoch: [18] [ 200 /  937] D_loss: 0.19344679, G_loss: 0.69746518\n",
            "Epoch: [18] [ 300 /  937] D_loss: 0.20206502, G_loss: 0.68264174\n",
            "Epoch: [18] [ 400 /  937] D_loss: 0.18343422, G_loss: 0.64049727\n",
            "Epoch: [18] [ 500 /  937] D_loss: 0.22632986, G_loss: 0.61363518\n",
            "Epoch: [18] [ 600 /  937] D_loss: 0.16246784, G_loss: 0.64088631\n",
            "Epoch: [18] [ 700 /  937] D_loss: 0.20559324, G_loss: 0.63783902\n",
            "Epoch: [18] [ 800 /  937] D_loss: 0.25837311, G_loss: 0.62499976\n",
            "Epoch: [18] [ 900 /  937] D_loss: 0.12922668, G_loss: 0.65636754\n"
          ],
          "name": "stdout"
        },
        {
          "output_type": "stream",
          "text": [
            "WARNING:root:Lossy conversion from float64 to uint8. Range [0, 1]. Convert image to uint8 prior to saving to suppress this warning.\n"
          ],
          "name": "stderr"
        },
        {
          "output_type": "stream",
          "text": [
            "Epoch: [19] [ 100 /  937] D_loss: 0.18719995, G_loss: 0.69859302\n",
            "Epoch: [19] [ 200 /  937] D_loss: 0.19734691, G_loss: 0.65680695\n",
            "Epoch: [19] [ 300 /  937] D_loss: 0.24292625, G_loss: 0.63744831\n",
            "Epoch: [19] [ 400 /  937] D_loss: 0.17313004, G_loss: 0.65759420\n",
            "Epoch: [19] [ 500 /  937] D_loss: 0.23119080, G_loss: 0.58133495\n",
            "Epoch: [19] [ 600 /  937] D_loss: 0.26370710, G_loss: 0.57020521\n",
            "Epoch: [19] [ 700 /  937] D_loss: 0.18076925, G_loss: 0.66881812\n",
            "Epoch: [19] [ 800 /  937] D_loss: 0.24772930, G_loss: 0.59261596\n",
            "Epoch: [19] [ 900 /  937] D_loss: 0.27395824, G_loss: 0.55624163\n"
          ],
          "name": "stdout"
        },
        {
          "output_type": "stream",
          "text": [
            "WARNING:root:Lossy conversion from float64 to uint8. Range [0, 1]. Convert image to uint8 prior to saving to suppress this warning.\n"
          ],
          "name": "stderr"
        },
        {
          "output_type": "stream",
          "text": [
            "Epoch: [20] [ 100 /  937] D_loss: 0.21234225, G_loss: 0.64643347\n",
            "Epoch: [20] [ 200 /  937] D_loss: 0.22492741, G_loss: 0.73104465\n",
            "Epoch: [20] [ 300 /  937] D_loss: 0.17115368, G_loss: 0.68105102\n",
            "Epoch: [20] [ 400 /  937] D_loss: 0.22573785, G_loss: 0.58250052\n",
            "Epoch: [20] [ 500 /  937] D_loss: 0.26362950, G_loss: 0.56192863\n",
            "Epoch: [20] [ 600 /  937] D_loss: 0.17637926, G_loss: 0.67767966\n",
            "Epoch: [20] [ 700 /  937] D_loss: 0.26958326, G_loss: 0.55343390\n",
            "Epoch: [20] [ 800 /  937] D_loss: 0.20959824, G_loss: 0.61682695\n",
            "Epoch: [20] [ 900 /  937] D_loss: 0.22185934, G_loss: 0.60062307\n"
          ],
          "name": "stdout"
        },
        {
          "output_type": "stream",
          "text": [
            "WARNING:root:Lossy conversion from float64 to uint8. Range [0, 1]. Convert image to uint8 prior to saving to suppress this warning.\n"
          ],
          "name": "stderr"
        },
        {
          "output_type": "stream",
          "text": [
            "Epoch: [21] [ 100 /  937] D_loss: 0.14263125, G_loss: 0.69537377\n",
            "Epoch: [21] [ 200 /  937] D_loss: 0.19523270, G_loss: 0.66452223\n",
            "Epoch: [21] [ 300 /  937] D_loss: 0.20906347, G_loss: 0.60853565\n",
            "Epoch: [21] [ 400 /  937] D_loss: 0.24227931, G_loss: 0.66879642\n",
            "Epoch: [21] [ 500 /  937] D_loss: 0.25712204, G_loss: 0.62567550\n",
            "Epoch: [21] [ 600 /  937] D_loss: 0.23756966, G_loss: 0.67011184\n",
            "Epoch: [21] [ 700 /  937] D_loss: 0.16479558, G_loss: 0.68930352\n",
            "Epoch: [21] [ 800 /  937] D_loss: 0.21506290, G_loss: 0.61954045\n",
            "Epoch: [21] [ 900 /  937] D_loss: 0.16634840, G_loss: 0.71327168\n"
          ],
          "name": "stdout"
        },
        {
          "output_type": "stream",
          "text": [
            "WARNING:root:Lossy conversion from float64 to uint8. Range [0, 1]. Convert image to uint8 prior to saving to suppress this warning.\n"
          ],
          "name": "stderr"
        },
        {
          "output_type": "stream",
          "text": [
            "Epoch: [22] [ 100 /  937] D_loss: 0.17450652, G_loss: 0.62040347\n",
            "Epoch: [22] [ 200 /  937] D_loss: 0.19517025, G_loss: 0.70687777\n",
            "Epoch: [22] [ 300 /  937] D_loss: 0.16211024, G_loss: 0.63746566\n",
            "Epoch: [22] [ 400 /  937] D_loss: 0.24599086, G_loss: 0.63890278\n",
            "Epoch: [22] [ 500 /  937] D_loss: 0.15064913, G_loss: 0.72531080\n",
            "Epoch: [22] [ 600 /  937] D_loss: 0.19799015, G_loss: 0.72554910\n",
            "Epoch: [22] [ 700 /  937] D_loss: 0.18457131, G_loss: 0.70594126\n",
            "Epoch: [22] [ 800 /  937] D_loss: 0.23760171, G_loss: 0.72706962\n",
            "Epoch: [22] [ 900 /  937] D_loss: 0.18624377, G_loss: 0.71299314\n"
          ],
          "name": "stdout"
        },
        {
          "output_type": "stream",
          "text": [
            "WARNING:root:Lossy conversion from float64 to uint8. Range [0, 1]. Convert image to uint8 prior to saving to suppress this warning.\n"
          ],
          "name": "stderr"
        },
        {
          "output_type": "stream",
          "text": [
            "Epoch: [23] [ 100 /  937] D_loss: 0.17141902, G_loss: 0.71040130\n",
            "Epoch: [23] [ 200 /  937] D_loss: 0.16220945, G_loss: 0.64741802\n",
            "Epoch: [23] [ 300 /  937] D_loss: 0.15915266, G_loss: 0.77740043\n",
            "Epoch: [23] [ 400 /  937] D_loss: 0.15959513, G_loss: 0.69690150\n",
            "Epoch: [23] [ 500 /  937] D_loss: 0.19906779, G_loss: 0.63310063\n",
            "Epoch: [23] [ 600 /  937] D_loss: 0.21641250, G_loss: 0.61031771\n",
            "Epoch: [23] [ 700 /  937] D_loss: 0.24416059, G_loss: 0.59543186\n",
            "Epoch: [23] [ 800 /  937] D_loss: 0.12677452, G_loss: 0.76467288\n",
            "Epoch: [23] [ 900 /  937] D_loss: 0.18232104, G_loss: 0.67242467\n"
          ],
          "name": "stdout"
        },
        {
          "output_type": "stream",
          "text": [
            "WARNING:root:Lossy conversion from float64 to uint8. Range [0, 1]. Convert image to uint8 prior to saving to suppress this warning.\n"
          ],
          "name": "stderr"
        },
        {
          "output_type": "stream",
          "text": [
            "Epoch: [24] [ 100 /  937] D_loss: 0.17281149, G_loss: 0.71848643\n",
            "Epoch: [24] [ 200 /  937] D_loss: 0.12896842, G_loss: 0.74601042\n",
            "Epoch: [24] [ 300 /  937] D_loss: 0.18709373, G_loss: 0.71193969\n",
            "Epoch: [24] [ 400 /  937] D_loss: 0.31294402, G_loss: 0.67877436\n",
            "Epoch: [24] [ 500 /  937] D_loss: 0.22308677, G_loss: 0.71481383\n",
            "Epoch: [24] [ 600 /  937] D_loss: 0.18529554, G_loss: 0.73076999\n",
            "Epoch: [24] [ 700 /  937] D_loss: 0.16769849, G_loss: 0.72804934\n",
            "Epoch: [24] [ 800 /  937] D_loss: 0.19995373, G_loss: 0.57631713\n",
            "Epoch: [24] [ 900 /  937] D_loss: 0.23820333, G_loss: 0.67293167\n"
          ],
          "name": "stdout"
        },
        {
          "output_type": "stream",
          "text": [
            "WARNING:root:Lossy conversion from float64 to uint8. Range [0, 1]. Convert image to uint8 prior to saving to suppress this warning.\n"
          ],
          "name": "stderr"
        },
        {
          "output_type": "stream",
          "text": [
            "Epoch: [25] [ 100 /  937] D_loss: 0.17352445, G_loss: 0.68511045\n",
            "Epoch: [25] [ 200 /  937] D_loss: 0.13371234, G_loss: 0.69428730\n",
            "Epoch: [25] [ 300 /  937] D_loss: 0.23184222, G_loss: 0.65290487\n",
            "Epoch: [25] [ 400 /  937] D_loss: 0.16054572, G_loss: 0.67535752\n",
            "Epoch: [25] [ 500 /  937] D_loss: 0.20893538, G_loss: 0.63082147\n",
            "Epoch: [25] [ 600 /  937] D_loss: 0.15198033, G_loss: 0.72747624\n",
            "Epoch: [25] [ 700 /  937] D_loss: 0.22342306, G_loss: 0.61106950\n",
            "Epoch: [25] [ 800 /  937] D_loss: 0.20150137, G_loss: 0.72068369\n",
            "Epoch: [25] [ 900 /  937] D_loss: 0.16766658, G_loss: 0.72180617\n"
          ],
          "name": "stdout"
        },
        {
          "output_type": "stream",
          "text": [
            "WARNING:root:Lossy conversion from float64 to uint8. Range [0, 1]. Convert image to uint8 prior to saving to suppress this warning.\n"
          ],
          "name": "stderr"
        },
        {
          "output_type": "stream",
          "text": [
            "Epoch: [26] [ 100 /  937] D_loss: 0.17848855, G_loss: 0.70338166\n",
            "Epoch: [26] [ 200 /  937] D_loss: 0.19874001, G_loss: 0.79427058\n",
            "Epoch: [26] [ 300 /  937] D_loss: 0.23216796, G_loss: 0.64409363\n",
            "Epoch: [26] [ 400 /  937] D_loss: 0.24062562, G_loss: 0.65252328\n",
            "Epoch: [26] [ 500 /  937] D_loss: 0.15218718, G_loss: 0.71159089\n",
            "Epoch: [26] [ 600 /  937] D_loss: 0.20267907, G_loss: 0.70057249\n",
            "Epoch: [26] [ 700 /  937] D_loss: 0.16962749, G_loss: 0.74321461\n",
            "Epoch: [26] [ 800 /  937] D_loss: 0.20652612, G_loss: 0.67582464\n",
            "Epoch: [26] [ 900 /  937] D_loss: 0.13540852, G_loss: 0.74633199\n"
          ],
          "name": "stdout"
        },
        {
          "output_type": "stream",
          "text": [
            "WARNING:root:Lossy conversion from float64 to uint8. Range [0, 1]. Convert image to uint8 prior to saving to suppress this warning.\n"
          ],
          "name": "stderr"
        },
        {
          "output_type": "stream",
          "text": [
            "Epoch: [27] [ 100 /  937] D_loss: 0.13848035, G_loss: 0.74640632\n",
            "Epoch: [27] [ 200 /  937] D_loss: 0.18997586, G_loss: 0.80014551\n",
            "Epoch: [27] [ 300 /  937] D_loss: 0.16322371, G_loss: 0.76913679\n",
            "Epoch: [27] [ 400 /  937] D_loss: 0.10946281, G_loss: 0.79414082\n",
            "Epoch: [27] [ 500 /  937] D_loss: 0.15192583, G_loss: 0.67430770\n",
            "Epoch: [27] [ 600 /  937] D_loss: 0.17859332, G_loss: 0.66990221\n",
            "Epoch: [27] [ 700 /  937] D_loss: 0.21627823, G_loss: 0.69868195\n",
            "Epoch: [27] [ 800 /  937] D_loss: 0.16611938, G_loss: 0.72550678\n",
            "Epoch: [27] [ 900 /  937] D_loss: 0.20073311, G_loss: 0.67940426\n"
          ],
          "name": "stdout"
        },
        {
          "output_type": "stream",
          "text": [
            "WARNING:root:Lossy conversion from float64 to uint8. Range [0, 1]. Convert image to uint8 prior to saving to suppress this warning.\n"
          ],
          "name": "stderr"
        },
        {
          "output_type": "stream",
          "text": [
            "Epoch: [28] [ 100 /  937] D_loss: 0.10215293, G_loss: 0.73216081\n",
            "Epoch: [28] [ 200 /  937] D_loss: 0.14309092, G_loss: 0.80377150\n",
            "Epoch: [28] [ 300 /  937] D_loss: 0.11694169, G_loss: 0.71676087\n",
            "Epoch: [28] [ 400 /  937] D_loss: 0.16643555, G_loss: 0.74876624\n",
            "Epoch: [28] [ 500 /  937] D_loss: 0.19097580, G_loss: 0.69706202\n",
            "Epoch: [28] [ 600 /  937] D_loss: 0.16501224, G_loss: 0.71062231\n",
            "Epoch: [28] [ 700 /  937] D_loss: 0.13472621, G_loss: 0.72014654\n",
            "Epoch: [28] [ 800 /  937] D_loss: 0.15660773, G_loss: 0.72215539\n",
            "Epoch: [28] [ 900 /  937] D_loss: 0.27153873, G_loss: 0.73405033\n"
          ],
          "name": "stdout"
        },
        {
          "output_type": "stream",
          "text": [
            "WARNING:root:Lossy conversion from float64 to uint8. Range [0, 1]. Convert image to uint8 prior to saving to suppress this warning.\n"
          ],
          "name": "stderr"
        },
        {
          "output_type": "stream",
          "text": [
            "Epoch: [29] [ 100 /  937] D_loss: 0.14818014, G_loss: 0.71651667\n",
            "Epoch: [29] [ 200 /  937] D_loss: 0.12129077, G_loss: 0.78122962\n",
            "Epoch: [29] [ 300 /  937] D_loss: 0.15776166, G_loss: 0.73194188\n",
            "Epoch: [29] [ 400 /  937] D_loss: 0.21835127, G_loss: 0.58940673\n",
            "Epoch: [29] [ 500 /  937] D_loss: 0.15864095, G_loss: 0.77605653\n",
            "Epoch: [29] [ 600 /  937] D_loss: 0.13235329, G_loss: 0.77755463\n",
            "Epoch: [29] [ 700 /  937] D_loss: 0.16878779, G_loss: 0.80131543\n",
            "Epoch: [29] [ 800 /  937] D_loss: 0.13968451, G_loss: 0.72312343\n",
            "Epoch: [29] [ 900 /  937] D_loss: 0.22754604, G_loss: 0.67035925\n"
          ],
          "name": "stdout"
        },
        {
          "output_type": "stream",
          "text": [
            "WARNING:root:Lossy conversion from float64 to uint8. Range [0, 1]. Convert image to uint8 prior to saving to suppress this warning.\n"
          ],
          "name": "stderr"
        },
        {
          "output_type": "stream",
          "text": [
            "Epoch: [30] [ 100 /  937] D_loss: 0.18407038, G_loss: 0.70879513\n",
            "Epoch: [30] [ 200 /  937] D_loss: 0.17227200, G_loss: 0.70310915\n",
            "Epoch: [30] [ 300 /  937] D_loss: 0.09341560, G_loss: 0.74794197\n",
            "Epoch: [30] [ 400 /  937] D_loss: 0.09770473, G_loss: 0.74469912\n",
            "Epoch: [30] [ 500 /  937] D_loss: 0.16800308, G_loss: 0.72664011\n",
            "Epoch: [30] [ 600 /  937] D_loss: 0.19220437, G_loss: 0.57296348\n",
            "Epoch: [30] [ 700 /  937] D_loss: 0.24834099, G_loss: 0.73171771\n",
            "Epoch: [30] [ 800 /  937] D_loss: 0.12669326, G_loss: 0.73994803\n",
            "Epoch: [30] [ 900 /  937] D_loss: 0.18471634, G_loss: 0.71008849\n"
          ],
          "name": "stdout"
        },
        {
          "output_type": "stream",
          "text": [
            "WARNING:root:Lossy conversion from float64 to uint8. Range [0, 1]. Convert image to uint8 prior to saving to suppress this warning.\n"
          ],
          "name": "stderr"
        },
        {
          "output_type": "stream",
          "text": [
            "Epoch: [31] [ 100 /  937] D_loss: 0.14690909, G_loss: 0.74363619\n",
            "Epoch: [31] [ 200 /  937] D_loss: 0.14143372, G_loss: 0.71068180\n",
            "Epoch: [31] [ 300 /  937] D_loss: 0.24888451, G_loss: 0.71868944\n",
            "Epoch: [31] [ 400 /  937] D_loss: 0.18495134, G_loss: 0.67801535\n",
            "Epoch: [31] [ 500 /  937] D_loss: 0.16528797, G_loss: 0.72647107\n",
            "Epoch: [31] [ 600 /  937] D_loss: 0.11971751, G_loss: 0.79568785\n",
            "Epoch: [31] [ 700 /  937] D_loss: 0.21712597, G_loss: 0.70108187\n",
            "Epoch: [31] [ 800 /  937] D_loss: 0.11998987, G_loss: 0.73775029\n",
            "Epoch: [31] [ 900 /  937] D_loss: 0.17416379, G_loss: 0.75930417\n"
          ],
          "name": "stdout"
        },
        {
          "output_type": "stream",
          "text": [
            "WARNING:root:Lossy conversion from float64 to uint8. Range [0, 1]. Convert image to uint8 prior to saving to suppress this warning.\n"
          ],
          "name": "stderr"
        },
        {
          "output_type": "stream",
          "text": [
            "Epoch: [32] [ 100 /  937] D_loss: 0.11720695, G_loss: 0.80636066\n",
            "Epoch: [32] [ 200 /  937] D_loss: 0.14450774, G_loss: 0.78397298\n",
            "Epoch: [32] [ 300 /  937] D_loss: 0.16944623, G_loss: 0.70039022\n",
            "Epoch: [32] [ 400 /  937] D_loss: 0.18241264, G_loss: 0.67265451\n",
            "Epoch: [32] [ 500 /  937] D_loss: 0.22701359, G_loss: 0.81640530\n",
            "Epoch: [32] [ 600 /  937] D_loss: 0.14447707, G_loss: 0.77833849\n",
            "Epoch: [32] [ 700 /  937] D_loss: 0.17253587, G_loss: 0.69742942\n",
            "Epoch: [32] [ 800 /  937] D_loss: 0.08702561, G_loss: 0.79119080\n",
            "Epoch: [32] [ 900 /  937] D_loss: 0.22683805, G_loss: 0.78202760\n"
          ],
          "name": "stdout"
        },
        {
          "output_type": "stream",
          "text": [
            "WARNING:root:Lossy conversion from float64 to uint8. Range [0, 1]. Convert image to uint8 prior to saving to suppress this warning.\n"
          ],
          "name": "stderr"
        },
        {
          "output_type": "stream",
          "text": [
            "Epoch: [33] [ 100 /  937] D_loss: 0.14789605, G_loss: 0.71332216\n",
            "Epoch: [33] [ 200 /  937] D_loss: 0.13200654, G_loss: 0.74921167\n",
            "Epoch: [33] [ 300 /  937] D_loss: 0.13666816, G_loss: 0.75259805\n",
            "Epoch: [33] [ 400 /  937] D_loss: 0.14272548, G_loss: 0.68625546\n",
            "Epoch: [33] [ 500 /  937] D_loss: 0.21317157, G_loss: 0.73518467\n",
            "Epoch: [33] [ 600 /  937] D_loss: 0.14741609, G_loss: 0.72394204\n",
            "Epoch: [33] [ 700 /  937] D_loss: 0.14671606, G_loss: 0.79192901\n",
            "Epoch: [33] [ 800 /  937] D_loss: 0.15406349, G_loss: 0.76628113\n",
            "Epoch: [33] [ 900 /  937] D_loss: 0.20747799, G_loss: 0.75269026\n"
          ],
          "name": "stdout"
        },
        {
          "output_type": "stream",
          "text": [
            "WARNING:root:Lossy conversion from float64 to uint8. Range [0, 1]. Convert image to uint8 prior to saving to suppress this warning.\n"
          ],
          "name": "stderr"
        },
        {
          "output_type": "stream",
          "text": [
            "Epoch: [34] [ 100 /  937] D_loss: 0.13441271, G_loss: 0.80279088\n",
            "Epoch: [34] [ 200 /  937] D_loss: 0.16303840, G_loss: 0.70130563\n",
            "Epoch: [34] [ 300 /  937] D_loss: 0.08823449, G_loss: 0.79759252\n",
            "Epoch: [34] [ 400 /  937] D_loss: 0.08957734, G_loss: 0.77623212\n",
            "Epoch: [34] [ 500 /  937] D_loss: 0.14564985, G_loss: 0.80002010\n",
            "Epoch: [34] [ 600 /  937] D_loss: 0.22935434, G_loss: 0.74568856\n",
            "Epoch: [34] [ 700 /  937] D_loss: 0.15009880, G_loss: 0.80749130\n",
            "Epoch: [34] [ 800 /  937] D_loss: 0.12763272, G_loss: 0.79674184\n",
            "Epoch: [34] [ 900 /  937] D_loss: 0.07959174, G_loss: 0.80726898\n"
          ],
          "name": "stdout"
        },
        {
          "output_type": "stream",
          "text": [
            "WARNING:root:Lossy conversion from float64 to uint8. Range [0, 1]. Convert image to uint8 prior to saving to suppress this warning.\n"
          ],
          "name": "stderr"
        },
        {
          "output_type": "stream",
          "text": [
            "Epoch: [35] [ 100 /  937] D_loss: 0.10384364, G_loss: 0.81157565\n",
            "Epoch: [35] [ 200 /  937] D_loss: 0.17530596, G_loss: 0.76856273\n",
            "Epoch: [35] [ 300 /  937] D_loss: 0.16381225, G_loss: 0.71696019\n",
            "Epoch: [35] [ 400 /  937] D_loss: 0.14447628, G_loss: 0.76385599\n",
            "Epoch: [35] [ 500 /  937] D_loss: 0.19172652, G_loss: 0.73067236\n",
            "Epoch: [35] [ 600 /  937] D_loss: 0.16386820, G_loss: 0.75329649\n",
            "Epoch: [35] [ 700 /  937] D_loss: 0.17687157, G_loss: 0.75409710\n",
            "Epoch: [35] [ 800 /  937] D_loss: 0.16838913, G_loss: 0.64644837\n",
            "Epoch: [35] [ 900 /  937] D_loss: 0.15801604, G_loss: 0.72729999\n"
          ],
          "name": "stdout"
        },
        {
          "output_type": "stream",
          "text": [
            "WARNING:root:Lossy conversion from float64 to uint8. Range [0, 1]. Convert image to uint8 prior to saving to suppress this warning.\n"
          ],
          "name": "stderr"
        },
        {
          "output_type": "stream",
          "text": [
            "Epoch: [36] [ 100 /  937] D_loss: 0.10520742, G_loss: 0.82756418\n",
            "Epoch: [36] [ 200 /  937] D_loss: 0.14716406, G_loss: 0.79746270\n",
            "Epoch: [36] [ 300 /  937] D_loss: 0.13401817, G_loss: 0.76940429\n",
            "Epoch: [36] [ 400 /  937] D_loss: 0.16700085, G_loss: 0.75228894\n",
            "Epoch: [36] [ 500 /  937] D_loss: 0.20187216, G_loss: 0.64626163\n",
            "Epoch: [36] [ 600 /  937] D_loss: 0.10412958, G_loss: 0.80037475\n",
            "Epoch: [36] [ 700 /  937] D_loss: 0.17204463, G_loss: 0.71752679\n",
            "Epoch: [36] [ 800 /  937] D_loss: 0.14736487, G_loss: 0.72349709\n",
            "Epoch: [36] [ 900 /  937] D_loss: 0.10280796, G_loss: 0.83278400\n"
          ],
          "name": "stdout"
        },
        {
          "output_type": "stream",
          "text": [
            "WARNING:root:Lossy conversion from float64 to uint8. Range [0, 1]. Convert image to uint8 prior to saving to suppress this warning.\n"
          ],
          "name": "stderr"
        },
        {
          "output_type": "stream",
          "text": [
            "Epoch: [37] [ 100 /  937] D_loss: 0.09797242, G_loss: 0.76171601\n",
            "Epoch: [37] [ 200 /  937] D_loss: 0.09769477, G_loss: 0.80265862\n",
            "Epoch: [37] [ 300 /  937] D_loss: 0.08041175, G_loss: 0.77195203\n",
            "Epoch: [37] [ 400 /  937] D_loss: 0.08625860, G_loss: 0.81364131\n",
            "Epoch: [37] [ 500 /  937] D_loss: 0.07486034, G_loss: 0.84583259\n",
            "Epoch: [37] [ 600 /  937] D_loss: 0.19152260, G_loss: 0.72233951\n",
            "Epoch: [37] [ 700 /  937] D_loss: 0.17507523, G_loss: 0.84104007\n",
            "Epoch: [37] [ 800 /  937] D_loss: 0.13708195, G_loss: 0.74740273\n",
            "Epoch: [37] [ 900 /  937] D_loss: 0.15317835, G_loss: 0.65201777\n"
          ],
          "name": "stdout"
        },
        {
          "output_type": "stream",
          "text": [
            "WARNING:root:Lossy conversion from float64 to uint8. Range [0, 1]. Convert image to uint8 prior to saving to suppress this warning.\n"
          ],
          "name": "stderr"
        },
        {
          "output_type": "stream",
          "text": [
            "Epoch: [38] [ 100 /  937] D_loss: 0.16813663, G_loss: 0.77230519\n",
            "Epoch: [38] [ 200 /  937] D_loss: 0.16171750, G_loss: 0.73456013\n",
            "Epoch: [38] [ 300 /  937] D_loss: 0.15395343, G_loss: 0.74963754\n",
            "Epoch: [38] [ 400 /  937] D_loss: 0.15945889, G_loss: 0.79168773\n",
            "Epoch: [38] [ 500 /  937] D_loss: 0.13180327, G_loss: 0.77623188\n",
            "Epoch: [38] [ 600 /  937] D_loss: 0.24384658, G_loss: 0.67553461\n",
            "Epoch: [38] [ 700 /  937] D_loss: 0.10336185, G_loss: 0.73313022\n",
            "Epoch: [38] [ 800 /  937] D_loss: 0.13752964, G_loss: 0.82414776\n",
            "Epoch: [38] [ 900 /  937] D_loss: 0.14637572, G_loss: 0.81419230\n"
          ],
          "name": "stdout"
        },
        {
          "output_type": "stream",
          "text": [
            "WARNING:root:Lossy conversion from float64 to uint8. Range [0, 1]. Convert image to uint8 prior to saving to suppress this warning.\n"
          ],
          "name": "stderr"
        },
        {
          "output_type": "stream",
          "text": [
            "Epoch: [39] [ 100 /  937] D_loss: 0.20727427, G_loss: 0.76257157\n",
            "Epoch: [39] [ 200 /  937] D_loss: 0.12577489, G_loss: 0.79650271\n",
            "Epoch: [39] [ 300 /  937] D_loss: 0.17191257, G_loss: 0.75511509\n",
            "Epoch: [39] [ 400 /  937] D_loss: 0.14960298, G_loss: 0.82683492\n",
            "Epoch: [39] [ 500 /  937] D_loss: 0.15518264, G_loss: 0.74829751\n",
            "Epoch: [39] [ 600 /  937] D_loss: 0.14103593, G_loss: 0.79631150\n",
            "Epoch: [39] [ 700 /  937] D_loss: 0.13504250, G_loss: 0.81185657\n",
            "Epoch: [39] [ 800 /  937] D_loss: 0.12312363, G_loss: 0.73641717\n",
            "Epoch: [39] [ 900 /  937] D_loss: 0.09773362, G_loss: 0.84034693\n"
          ],
          "name": "stdout"
        },
        {
          "output_type": "stream",
          "text": [
            "WARNING:root:Lossy conversion from float64 to uint8. Range [0, 1]. Convert image to uint8 prior to saving to suppress this warning.\n"
          ],
          "name": "stderr"
        },
        {
          "output_type": "stream",
          "text": [
            "Epoch: [40] [ 100 /  937] D_loss: 0.17478259, G_loss: 0.69224852\n",
            "Epoch: [40] [ 200 /  937] D_loss: 0.14604107, G_loss: 0.72787327\n",
            "Epoch: [40] [ 300 /  937] D_loss: 0.14902836, G_loss: 0.79152071\n",
            "Epoch: [40] [ 400 /  937] D_loss: 0.14947811, G_loss: 0.69147164\n",
            "Epoch: [40] [ 500 /  937] D_loss: 0.11886416, G_loss: 0.80340487\n",
            "Epoch: [40] [ 600 /  937] D_loss: 0.11420128, G_loss: 0.82769549\n",
            "Epoch: [40] [ 700 /  937] D_loss: 0.11043510, G_loss: 0.79846489\n",
            "Epoch: [40] [ 800 /  937] D_loss: 0.14997473, G_loss: 0.72210550\n",
            "Epoch: [40] [ 900 /  937] D_loss: 0.06919353, G_loss: 0.80586779\n"
          ],
          "name": "stdout"
        },
        {
          "output_type": "stream",
          "text": [
            "WARNING:root:Lossy conversion from float64 to uint8. Range [0, 1]. Convert image to uint8 prior to saving to suppress this warning.\n"
          ],
          "name": "stderr"
        },
        {
          "output_type": "stream",
          "text": [
            "Epoch: [41] [ 100 /  937] D_loss: 0.16163324, G_loss: 0.85222721\n",
            "Epoch: [41] [ 200 /  937] D_loss: 0.12610447, G_loss: 0.82113975\n",
            "Epoch: [41] [ 300 /  937] D_loss: 0.22265822, G_loss: 0.79887605\n",
            "Epoch: [41] [ 400 /  937] D_loss: 0.11452545, G_loss: 0.84976208\n",
            "Epoch: [41] [ 500 /  937] D_loss: 0.19116481, G_loss: 0.77602929\n",
            "Epoch: [41] [ 600 /  937] D_loss: 0.12225272, G_loss: 0.78450334\n",
            "Epoch: [41] [ 700 /  937] D_loss: 0.09098617, G_loss: 0.78042990\n",
            "Epoch: [41] [ 800 /  937] D_loss: 0.06625743, G_loss: 0.83109450\n",
            "Epoch: [41] [ 900 /  937] D_loss: 0.07523838, G_loss: 0.79367942\n"
          ],
          "name": "stdout"
        },
        {
          "output_type": "stream",
          "text": [
            "WARNING:root:Lossy conversion from float64 to uint8. Range [0, 1]. Convert image to uint8 prior to saving to suppress this warning.\n"
          ],
          "name": "stderr"
        },
        {
          "output_type": "stream",
          "text": [
            "Epoch: [42] [ 100 /  937] D_loss: 0.08158842, G_loss: 0.83043790\n",
            "Epoch: [42] [ 200 /  937] D_loss: 0.09264593, G_loss: 0.82313180\n",
            "Epoch: [42] [ 300 /  937] D_loss: 0.16524059, G_loss: 0.67486620\n",
            "Epoch: [42] [ 400 /  937] D_loss: 0.17681786, G_loss: 0.81227469\n",
            "Epoch: [42] [ 500 /  937] D_loss: 0.07699552, G_loss: 0.84360111\n",
            "Epoch: [42] [ 600 /  937] D_loss: 0.14478338, G_loss: 0.78935850\n",
            "Epoch: [42] [ 700 /  937] D_loss: 0.15193161, G_loss: 0.68852562\n",
            "Epoch: [42] [ 800 /  937] D_loss: 0.16586432, G_loss: 0.73420846\n",
            "Epoch: [42] [ 900 /  937] D_loss: 0.14653902, G_loss: 0.83944321\n"
          ],
          "name": "stdout"
        },
        {
          "output_type": "stream",
          "text": [
            "WARNING:root:Lossy conversion from float64 to uint8. Range [0, 1]. Convert image to uint8 prior to saving to suppress this warning.\n"
          ],
          "name": "stderr"
        },
        {
          "output_type": "stream",
          "text": [
            "Epoch: [43] [ 100 /  937] D_loss: 0.13660638, G_loss: 0.76663935\n",
            "Epoch: [43] [ 200 /  937] D_loss: 0.13146146, G_loss: 0.86777616\n",
            "Epoch: [43] [ 300 /  937] D_loss: 0.08476380, G_loss: 0.80967069\n",
            "Epoch: [43] [ 400 /  937] D_loss: 0.07911396, G_loss: 0.81448680\n",
            "Epoch: [43] [ 500 /  937] D_loss: 0.15081164, G_loss: 0.70826530\n",
            "Epoch: [43] [ 600 /  937] D_loss: 0.13135473, G_loss: 0.83327919\n",
            "Epoch: [43] [ 700 /  937] D_loss: 0.14932787, G_loss: 0.74841905\n",
            "Epoch: [43] [ 800 /  937] D_loss: 0.05676744, G_loss: 0.84921479\n",
            "Epoch: [43] [ 900 /  937] D_loss: 0.10839466, G_loss: 0.80816579\n"
          ],
          "name": "stdout"
        },
        {
          "output_type": "stream",
          "text": [
            "WARNING:root:Lossy conversion from float64 to uint8. Range [0, 1]. Convert image to uint8 prior to saving to suppress this warning.\n"
          ],
          "name": "stderr"
        },
        {
          "output_type": "stream",
          "text": [
            "Epoch: [44] [ 100 /  937] D_loss: 0.07804686, G_loss: 0.82609379\n",
            "Epoch: [44] [ 200 /  937] D_loss: 0.11975415, G_loss: 0.84238088\n",
            "Epoch: [44] [ 300 /  937] D_loss: 0.09479284, G_loss: 0.86062276\n",
            "Epoch: [44] [ 400 /  937] D_loss: 0.13292518, G_loss: 0.78283608\n",
            "Epoch: [44] [ 500 /  937] D_loss: 0.07743697, G_loss: 0.79988301\n",
            "Epoch: [44] [ 600 /  937] D_loss: 0.16196941, G_loss: 0.73586071\n",
            "Epoch: [44] [ 700 /  937] D_loss: 0.08436634, G_loss: 0.82961696\n",
            "Epoch: [44] [ 800 /  937] D_loss: 0.18620411, G_loss: 0.77315962\n",
            "Epoch: [44] [ 900 /  937] D_loss: 0.12155818, G_loss: 0.78600228\n"
          ],
          "name": "stdout"
        },
        {
          "output_type": "stream",
          "text": [
            "WARNING:root:Lossy conversion from float64 to uint8. Range [0, 1]. Convert image to uint8 prior to saving to suppress this warning.\n"
          ],
          "name": "stderr"
        },
        {
          "output_type": "stream",
          "text": [
            "Epoch: [45] [ 100 /  937] D_loss: 0.12905224, G_loss: 0.79938793\n",
            "Epoch: [45] [ 200 /  937] D_loss: 0.07704359, G_loss: 0.84594524\n",
            "Epoch: [45] [ 300 /  937] D_loss: 0.11722192, G_loss: 0.81320047\n",
            "Epoch: [45] [ 400 /  937] D_loss: 0.11494611, G_loss: 0.76012731\n",
            "Epoch: [45] [ 500 /  937] D_loss: 0.14244658, G_loss: 0.87573463\n",
            "Epoch: [45] [ 600 /  937] D_loss: 0.08407654, G_loss: 0.81257904\n",
            "Epoch: [45] [ 700 /  937] D_loss: 0.14702739, G_loss: 0.76041228\n",
            "Epoch: [45] [ 800 /  937] D_loss: 0.10921713, G_loss: 0.84971857\n",
            "Epoch: [45] [ 900 /  937] D_loss: 0.13216688, G_loss: 0.88063395\n"
          ],
          "name": "stdout"
        },
        {
          "output_type": "stream",
          "text": [
            "WARNING:root:Lossy conversion from float64 to uint8. Range [0, 1]. Convert image to uint8 prior to saving to suppress this warning.\n"
          ],
          "name": "stderr"
        },
        {
          "output_type": "stream",
          "text": [
            "Epoch: [46] [ 100 /  937] D_loss: 0.13558498, G_loss: 0.79121900\n",
            "Epoch: [46] [ 200 /  937] D_loss: 0.13486290, G_loss: 0.89876604\n",
            "Epoch: [46] [ 300 /  937] D_loss: 0.06150621, G_loss: 0.85648471\n",
            "Epoch: [46] [ 400 /  937] D_loss: 0.09590464, G_loss: 0.73185778\n",
            "Epoch: [46] [ 500 /  937] D_loss: 0.14359216, G_loss: 0.81224287\n",
            "Epoch: [46] [ 600 /  937] D_loss: 0.16955674, G_loss: 0.80120587\n",
            "Epoch: [46] [ 700 /  937] D_loss: 0.22469164, G_loss: 0.75620663\n",
            "Epoch: [46] [ 800 /  937] D_loss: 0.17898339, G_loss: 0.88100481\n",
            "Epoch: [46] [ 900 /  937] D_loss: 0.13971618, G_loss: 0.83925569\n"
          ],
          "name": "stdout"
        },
        {
          "output_type": "stream",
          "text": [
            "WARNING:root:Lossy conversion from float64 to uint8. Range [0, 1]. Convert image to uint8 prior to saving to suppress this warning.\n"
          ],
          "name": "stderr"
        },
        {
          "output_type": "stream",
          "text": [
            "Epoch: [47] [ 100 /  937] D_loss: 0.20190935, G_loss: 0.74453008\n",
            "Epoch: [47] [ 200 /  937] D_loss: 0.16655825, G_loss: 0.75694084\n",
            "Epoch: [47] [ 300 /  937] D_loss: 0.09960067, G_loss: 0.85693431\n",
            "Epoch: [47] [ 400 /  937] D_loss: 0.08421642, G_loss: 0.82522058\n",
            "Epoch: [47] [ 500 /  937] D_loss: 0.14753518, G_loss: 0.82499456\n",
            "Epoch: [47] [ 600 /  937] D_loss: 0.22123396, G_loss: 0.78259152\n",
            "Epoch: [47] [ 700 /  937] D_loss: 0.07526122, G_loss: 0.85117012\n",
            "Epoch: [47] [ 800 /  937] D_loss: 0.12268332, G_loss: 0.76240999\n",
            "Epoch: [47] [ 900 /  937] D_loss: 0.15282670, G_loss: 0.82667905\n"
          ],
          "name": "stdout"
        },
        {
          "output_type": "stream",
          "text": [
            "WARNING:root:Lossy conversion from float64 to uint8. Range [0, 1]. Convert image to uint8 prior to saving to suppress this warning.\n"
          ],
          "name": "stderr"
        },
        {
          "output_type": "stream",
          "text": [
            "Epoch: [48] [ 100 /  937] D_loss: 0.09578280, G_loss: 0.82074308\n",
            "Epoch: [48] [ 200 /  937] D_loss: 0.11857258, G_loss: 0.82960534\n",
            "Epoch: [48] [ 300 /  937] D_loss: 0.09157410, G_loss: 0.85431570\n",
            "Epoch: [48] [ 400 /  937] D_loss: 0.09456477, G_loss: 0.88638461\n",
            "Epoch: [48] [ 500 /  937] D_loss: 0.09711134, G_loss: 0.76697052\n",
            "Epoch: [48] [ 600 /  937] D_loss: 0.05598576, G_loss: 0.88075870\n",
            "Epoch: [48] [ 700 /  937] D_loss: 0.08641449, G_loss: 0.84613216\n",
            "Epoch: [48] [ 800 /  937] D_loss: 0.09830002, G_loss: 0.80750811\n",
            "Epoch: [48] [ 900 /  937] D_loss: 0.10757113, G_loss: 0.76101810\n"
          ],
          "name": "stdout"
        },
        {
          "output_type": "stream",
          "text": [
            "WARNING:root:Lossy conversion from float64 to uint8. Range [0, 1]. Convert image to uint8 prior to saving to suppress this warning.\n"
          ],
          "name": "stderr"
        },
        {
          "output_type": "stream",
          "text": [
            "Epoch: [49] [ 100 /  937] D_loss: 0.13026081, G_loss: 0.79849309\n",
            "Epoch: [49] [ 200 /  937] D_loss: 0.12303258, G_loss: 0.84687090\n",
            "Epoch: [49] [ 300 /  937] D_loss: 0.08247455, G_loss: 0.84005338\n",
            "Epoch: [49] [ 400 /  937] D_loss: 0.15120009, G_loss: 0.76862890\n",
            "Epoch: [49] [ 500 /  937] D_loss: 0.19987036, G_loss: 0.76966697\n",
            "Epoch: [49] [ 600 /  937] D_loss: 0.15763885, G_loss: 0.76562929\n",
            "Epoch: [49] [ 700 /  937] D_loss: 0.09571670, G_loss: 0.78814119\n",
            "Epoch: [49] [ 800 /  937] D_loss: 0.15923089, G_loss: 0.84012812\n",
            "Epoch: [49] [ 900 /  937] D_loss: 0.12623757, G_loss: 0.84287399\n"
          ],
          "name": "stdout"
        },
        {
          "output_type": "stream",
          "text": [
            "WARNING:root:Lossy conversion from float64 to uint8. Range [0, 1]. Convert image to uint8 prior to saving to suppress this warning.\n"
          ],
          "name": "stderr"
        },
        {
          "output_type": "stream",
          "text": [
            "Epoch: [50] [ 100 /  937] D_loss: 0.11306185, G_loss: 0.83034086\n",
            "Epoch: [50] [ 200 /  937] D_loss: 0.08710816, G_loss: 0.85802162\n",
            "Epoch: [50] [ 300 /  937] D_loss: 0.06504418, G_loss: 0.87285793\n",
            "Epoch: [50] [ 400 /  937] D_loss: 0.08399935, G_loss: 0.83887756\n",
            "Epoch: [50] [ 500 /  937] D_loss: 0.07613706, G_loss: 0.90731686\n",
            "Epoch: [50] [ 600 /  937] D_loss: 0.06518364, G_loss: 0.87945485\n",
            "Epoch: [50] [ 700 /  937] D_loss: 0.10046828, G_loss: 0.86363125\n",
            "Epoch: [50] [ 800 /  937] D_loss: 0.19949567, G_loss: 0.81842327\n",
            "Epoch: [50] [ 900 /  937] D_loss: 0.09194813, G_loss: 0.83414400\n"
          ],
          "name": "stdout"
        },
        {
          "output_type": "stream",
          "text": [
            "WARNING:root:Lossy conversion from float64 to uint8. Range [0, 1]. Convert image to uint8 prior to saving to suppress this warning.\n"
          ],
          "name": "stderr"
        },
        {
          "output_type": "stream",
          "text": [
            "Avg one epoch time: 46.85, total 50 epochs time: 2344.12\n",
            "Training finish! Saved training results\n"
          ],
          "name": "stdout"
        },
        {
          "output_type": "stream",
          "text": [
            "WARNING:root:Lossy conversion from float64 to uint8. Range [0, 1]. Convert image to uint8 prior to saving to suppress this warning.\n"
          ],
          "name": "stderr"
        },
        {
          "output_type": "stream",
          "text": [
            " [**] Training finished!\n",
            " [**] Testing finished!\n"
          ],
          "name": "stdout"
        }
      ]
    },
    {
      "cell_type": "code",
      "metadata": {
        "id": "Eby9rCDBZbUI",
        "colab_type": "code",
        "colab": {
          "base_uri": "https://localhost:8080/",
          "height": 35
        },
        "outputId": "80a0b4d0-c22a-4a62-8f95-014f8301dc5c"
      },
      "source": [
        "!ls"
      ],
      "execution_count": 14,
      "outputs": [
        {
          "output_type": "stream",
          "text": [
            "data  models  results  sample_data\n"
          ],
          "name": "stdout"
        }
      ]
    },
    {
      "cell_type": "code",
      "metadata": {
        "id": "Y--3pK_tZeEC",
        "colab_type": "code",
        "colab": {
          "base_uri": "https://localhost:8080/",
          "height": 1000
        },
        "outputId": "6cf88c72-b651-4434-a8d5-a34b119d178e"
      },
      "source": [
        "for root, dirs, files in os.walk(\".\"):\n",
        "  for filename in files:\n",
        "    print(filename)"
      ],
      "execution_count": 15,
      "outputs": [
        {
          "output_type": "stream",
          "text": [
            "gce\n",
            "active_config\n",
            ".last_update_check.json\n",
            "config_sentinel\n",
            ".metricsUUID\n",
            "16.14.41.015054.log\n",
            "16.14.45.276304.log\n",
            "16.14.31.463203.log\n",
            "16.14.26.516115.log\n",
            "16.14.44.238575.log\n",
            "config_default\n",
            "LSGAN_G.pkl\n",
            "LSGAN_loss.png\n",
            "LSGAN_D.pkl\n",
            "LSGAN_history.pkl\n",
            "LSGAN_G.pkl\n",
            "LSGAN_loss.png\n",
            "LSGAN_D.pkl\n",
            "LSGAN_history.pkl\n",
            "t10k-labels-idx1-ubyte\n",
            "t10k-images-idx3-ubyte\n",
            "train-images-idx3-ubyte\n",
            "train-labels-idx1-ubyte\n",
            "test.pt\n",
            "training.pt\n",
            "t10k-labels-idx1-ubyte\n",
            "t10k-images-idx3-ubyte\n",
            "train-images-idx3-ubyte\n",
            "train-labels-idx1-ubyte\n",
            "test.pt\n",
            "training.pt\n",
            "LSGAN_epoch006.png\n",
            "LSGAN_epoch007.png\n",
            "LSGAN_epoch021.png\n",
            "LSGAN_epoch013.png\n",
            "LSGAN_epoch033.png\n",
            "LSGAN_epoch020.png\n",
            "LSGAN_epoch019.png\n",
            "LSGAN_epoch050.png\n",
            "LSGAN_epoch010.png\n",
            "LSGAN_epoch012.png\n",
            "LSGAN_epoch023.png\n",
            "LSGAN_epoch002.png\n",
            "LSGAN_epoch041.png\n",
            "LSGAN_epoch047.png\n",
            "LSGAN_epoch017.png\n",
            "LSGAN_epoch034.png\n",
            "LSGAN_epoch018.png\n",
            "LSGAN_epoch048.png\n",
            "LSGAN_epoch035.png\n",
            "LSGAN_epoch043.png\n",
            "LSGAN_epoch022.png\n",
            "LSGAN_epoch038.png\n",
            "LSGAN_epoch016.png\n",
            "LSGAN_epoch049.png\n",
            "LSGAN_epoch046.png\n",
            "LSGAN_epoch001.png\n",
            "LSGAN_epoch011.png\n",
            "LSGAN_epoch005.png\n",
            "LSGAN_epoch045.png\n",
            "LSGAN_epoch004.png\n",
            "LSGAN_epoch028.png\n",
            "LSGAN_epoch008.png\n",
            "LSGAN_epoch026.png\n",
            "LSGAN_epoch025.png\n",
            "LSGAN_epoch042.png\n",
            "LSGAN_epoch014.png\n",
            "LSGAN_epoch024.png\n",
            "LSGAN_generate_animation.gif\n",
            "LSGAN_epoch044.png\n",
            "LSGAN_epoch031.png\n",
            "LSGAN_epoch036.png\n",
            "LSGAN_epoch040.png\n",
            "LSGAN_epoch039.png\n",
            "LSGAN_epoch032.png\n",
            "LSGAN_epoch009.png\n",
            "LSGAN_epoch015.png\n",
            "LSGAN_epoch027.png\n",
            "LSGAN_epoch030.png\n",
            "LSGAN_epoch037.png\n",
            "LSGAN_epoch029.png\n",
            "LSGAN_epoch003.png\n",
            "LSGAN_epoch006.png\n",
            "LSGAN_epoch007.png\n",
            "LSGAN_epoch021.png\n",
            "LSGAN_epoch013.png\n",
            "LSGAN_epoch033.png\n",
            "LSGAN_epoch020.png\n",
            "LSGAN_epoch019.png\n",
            "LSGAN_epoch050.png\n",
            "LSGAN_epoch010.png\n",
            "LSGAN_epoch012.png\n",
            "LSGAN_epoch023.png\n",
            "LSGAN_epoch002.png\n",
            "LSGAN_epoch041.png\n",
            "LSGAN_epoch047.png\n",
            "LSGAN_epoch017.png\n",
            "LSGAN_epoch034.png\n",
            "LSGAN_epoch018.png\n",
            "LSGAN_epoch048.png\n",
            "LSGAN_epoch035.png\n",
            "LSGAN_epoch043.png\n",
            "LSGAN_epoch022.png\n",
            "LSGAN_epoch038.png\n",
            "LSGAN_epoch016.png\n",
            "LSGAN_epoch049.png\n",
            "LSGAN_epoch046.png\n",
            "LSGAN_epoch001.png\n",
            "LSGAN_epoch011.png\n",
            "LSGAN_epoch005.png\n",
            "LSGAN_epoch045.png\n",
            "LSGAN_epoch004.png\n",
            "LSGAN_epoch028.png\n",
            "LSGAN_epoch008.png\n",
            "LSGAN_epoch026.png\n",
            "LSGAN_epoch025.png\n",
            "LSGAN_epoch042.png\n",
            "LSGAN_epoch014.png\n",
            "LSGAN_epoch024.png\n",
            "LSGAN_generate_animation.gif\n",
            "LSGAN_epoch044.png\n",
            "LSGAN_epoch031.png\n",
            "LSGAN_epoch036.png\n",
            "LSGAN_epoch040.png\n",
            "LSGAN_epoch039.png\n",
            "LSGAN_epoch032.png\n",
            "LSGAN_epoch009.png\n",
            "LSGAN_epoch015.png\n",
            "LSGAN_epoch027.png\n",
            "LSGAN_epoch030.png\n",
            "LSGAN_epoch037.png\n",
            "LSGAN_epoch029.png\n",
            "LSGAN_epoch003.png\n",
            "README.md\n",
            "anscombe.json\n",
            "mnist_test.csv\n",
            "california_housing_test.csv\n",
            "california_housing_train.csv\n",
            "mnist_train_small.csv\n"
          ],
          "name": "stdout"
        }
      ]
    },
    {
      "cell_type": "code",
      "metadata": {
        "id": "6caMej8RZnEl",
        "colab_type": "code",
        "colab": {
          "base_uri": "https://localhost:8080/",
          "height": 269
        },
        "outputId": "16eac122-087f-4aa6-a3d8-e152d74bae59"
      },
      "source": [
        "import cv2\n",
        "import matplotlib.pyplot as plt\n",
        "\n",
        "im = cv2.imread('/content/results/fashion-mnist/LSGAN/LSGAN_epoch001.png')\n",
        "im_resized = cv2.resize(im, (224, 224), interpolation = cv2.INTER_LINEAR)\n",
        "\n",
        "plt.imshow(cv2.cvtColor(im_resized, cv2.COLOR_BGR2RGB))\n",
        "plt.show()"
      ],
      "execution_count": 16,
      "outputs": [
        {
          "output_type": "display_data",
          "data": {
            "image/png": "[encoded data removed]",
            "text/plain": [
              "<Figure size 432x288 with 1 Axes>"
            ]
          },
          "metadata": {
            "tags": []
          }
        }
      ]
    },
    {
      "cell_type": "code",
      "metadata": {
        "id": "0xPhc7QeaoHf",
        "colab_type": "code",
        "colab": {
          "base_uri": "https://localhost:8080/",
          "height": 269
        },
        "outputId": "c23df7d5-a672-4394-feed-671ed3b9299a"
      },
      "source": [
        "im = cv2.imread('/content/results/fashion-mnist/LSGAN/LSGAN_epoch050.png')\n",
        "im_resized = cv2.resize(im, (224, 224), interpolation = cv2.INTER_LINEAR)\n",
        "\n",
        "plt.imshow(cv2.cvtColor(im_resized, cv2.COLOR_BGR2RGB))\n",
        "plt.show()"
      ],
      "execution_count": 17,
      "outputs": [
        {
          "output_type": "display_data",
          "data": {
            "image/png": "[encoded data removed]",
            "text/plain": [
              "<Figure size 432x288 with 1 Axes>"
            ]
          },
          "metadata": {
            "tags": []
          }
        }
      ]
    },
    {
      "cell_type": "code",
      "metadata": {
        "id": "OKjktpMobADB",
        "colab_type": "code",
        "colab": {
          "base_uri": "https://localhost:8080/",
          "height": 269
        },
        "outputId": "119df010-87a5-49d5-894e-02dbe249a09c"
      },
      "source": [
        "import matplotlib.image as mpimg\n",
        "\n",
        "img = mpimg.imread('/content/models/fashion-mnist/LSGAN/LSGAN_loss.png')\n",
        "imgplot = plt.imshow(img)\n",
        "plt.show()"
      ],
      "execution_count": 18,
      "outputs": [
        {
          "output_type": "display_data",
          "data": {
            "image/png": "[encoded data removed]",
            "text/plain": [
              "<Figure size 432x288 with 1 Axes>"
            ]
          },
          "metadata": {
            "tags": []
          }
        }
      ]
    }
  ]
}