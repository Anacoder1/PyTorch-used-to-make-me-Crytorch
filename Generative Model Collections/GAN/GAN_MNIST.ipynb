{
  "nbformat": 4,
  "nbformat_minor": 0,
  "metadata": {
    "colab": {
      "name": "GAN-MNIST.ipynb",
      "version": "0.3.2",
      "provenance": [],
      "collapsed_sections": []
    },
    "kernelspec": {
      "name": "python3",
      "display_name": "Python 3"
    },
    "accelerator": "GPU"
  },
  "cells": [
    {
      "cell_type": "code",
      "metadata": {
        "id": "3Yi4Zs_Sr2sN",
        "colab_type": "code",
        "colab": {}
      },
      "source": [
        "from torch.utils.data import DataLoader\n",
        "from torchvision import datasets, transforms\n",
        "\n",
        "import argparse, os, gzip, torch, time, pickle\n",
        "import torch.nn as nn\n",
        "import torch.optim as optim\n",
        "import numpy as np\n",
        "import imageio\n",
        "import matplotlib.pyplot as plt"
      ],
      "execution_count": 0,
      "outputs": []
    },
    {
      "cell_type": "code",
      "metadata": {
        "id": "KwOyYmYrs6Mx",
        "colab_type": "code",
        "colab": {}
      },
      "source": [
        "def dataloader(dataset, input_size, batch_size, split = 'train'):\n",
        "  \n",
        "  transform = transforms.Compose([##transforms.Resize((input_size, input_size)),\n",
        "                                  transforms.ToTensor(),\n",
        "                                  transforms.Normalize([0.5], [0.5])\n",
        "#                                   transforms.Normalize(mean = (0.5, 0.5, 0.5),\n",
        "#                                                        std = (0.5, 0.5, 0.5))\n",
        "  ])\n",
        "  \n",
        "  if dataset == 'mnist':\n",
        "    data_loader = DataLoader(\n",
        "        datasets.MNIST('data/mnist', train = True, download = True,\n",
        "                       transform = transform),\n",
        "        batch_size = batch_size,\n",
        "        shuffle = True\n",
        "    )\n",
        "  \n",
        "  elif dataset == 'fashion-mnist':\n",
        "    data_loader = DataLoader(\n",
        "        datasets.FashionMNIST('data/fashion-mnist', train = True, download = True,\n",
        "                              transform = transform),\n",
        "        batch_size = batch_size, \n",
        "        shuffle = True\n",
        "    )\n",
        "    \n",
        "  elif dataset == 'cifar10':\n",
        "    data_loader = DataLoader(\n",
        "        datasets.CIFAR10('data/cifar10', train = True, download = True,\n",
        "                         transform = transform),\n",
        "        batch_size = batch_size,\n",
        "        shuffle = True\n",
        "    )\n",
        "    \n",
        "  elif dataset == 'svhn':\n",
        "    data_loader = DataLoader(\n",
        "        datasets.SVHN('data/svhn', split = split, download = True,\n",
        "                      transform = transform),\n",
        "        batch_size = batch_size,\n",
        "        shuffle = True\n",
        "    )\n",
        "    \n",
        "  elif dataset == 'stl10':\n",
        "    data_loader = DataLoader(\n",
        "        datasets.STL10('data/stl10', split = split, download = True,\n",
        "                       transform = transform),\n",
        "        batch_size = batch_size,\n",
        "        shuffle = True\n",
        "    )\n",
        "    \n",
        "  elif dataset == 'lsun-bed':\n",
        "    data_loader = DataLoader(\n",
        "        datasets.LSUN('data/lsun', classes = ['bedroom_train'],\n",
        "                      transform = transform),\n",
        "        batch_size = batch_size,\n",
        "        shuffle = True\n",
        "    )\n",
        "    \n",
        "  return data_loader"
      ],
      "execution_count": 0,
      "outputs": []
    },
    {
      "cell_type": "code",
      "metadata": {
        "id": "3jFSxlgYjUD1",
        "colab_type": "code",
        "colab": {}
      },
      "source": [
        "def load_mnist(dataset):\n",
        "  data_dir = os.path.join(\"./data\", dataset)\n",
        "  \n",
        "  def extract_data(filename, num_data, head_size, data_size):\n",
        "    with gzip.open(filename) as bytestream:\n",
        "      bytestream.read(head_size)\n",
        "      buf = bytestream.read(data_size * num_data)\n",
        "      data = np.frombuffer(buf, dtype = np.uint8).astype(np.float)\n",
        "    return data\n",
        "  \n",
        "  data = extract_data(data_dir + '/train-images-idx3-ubyte.gz', 60000, 16, 28 * 28)\n",
        "  trX = data.reshape((60000, 28, 28, 1))\n",
        "  \n",
        "  data = extract_data(data_dir + '/train-labels-idx1-ubyte.gz', 60000, 8, 1)\n",
        "  trY = data.reshape((60000))\n",
        "  \n",
        "  data = extract_data(data_dir + '/t10k-images-idx3-ubyte.gz', 10000, 16, 28 * 28)\n",
        "  teX = data.reshape((10000, 28, 28, 1))\n",
        "  \n",
        "  data = extract_data(data_dir + '/t10k-labels-idx1-ubyte.gz', 10000, 8, 1)\n",
        "  teY = data.reshape((10000))\n",
        "  \n",
        "  trY = np.asarray(trY).astype(np.int)\n",
        "  teY = np.asarray(teY)\n",
        "  \n",
        "  X = np.concatenate((trX, teX), axis = 0)\n",
        "  y = np.concatenate((trY, teY), axis = 0).astype(np.int)\n",
        "  \n",
        "  seed = 547\n",
        "  np.random.seed(seed)\n",
        "  np.random.shuffle(X)\n",
        "  np.random.seed(seed)\n",
        "  np.random.shuffle(y)\n",
        "  \n",
        "  y_vec = np.zeros((len(y), 10), dtype = np.float)\n",
        "  for i, label in enumerate(y):\n",
        "    y_vec[i, y[i]] = 1\n",
        "    \n",
        "  \n",
        "  X = X.transpose(0, 3, 1, 2) / 255.\n",
        "  ## y_vec = y_vec.transpose(0, 3, 1, 2)\n",
        "  \n",
        "  \n",
        "  X = torch.from_numpy(X).type(torch.FloatTensor)\n",
        "  y_vec = torch.from_numpy(y_vec).type(torch.FloatTensor)\n",
        "  return X, y_vec\n",
        "  "
      ],
      "execution_count": 0,
      "outputs": []
    },
    {
      "cell_type": "code",
      "metadata": {
        "id": "PlEl_3Vwmn4I",
        "colab_type": "code",
        "colab": {}
      },
      "source": [
        "def load_celebA(dir, transform, batch_size, shuffle):\n",
        "  \n",
        "  \n",
        "##    transform = transforms.Compose([\n",
        "##       transforms.CenterCrop(160),\n",
        "##       transforms.Scale(64),\n",
        "##       transforms.ToTensor(),\n",
        "##       transform.Normalize(mean = (0.5, 0.5, 0.5),\n",
        "##                           std = (0.5, 0.5, 0.5))\n",
        "##    ])\n",
        "\n",
        "##    data_dir = 'data/celebA'    ## this path depends on your computer\n",
        "  \n",
        "  dset = datasets.ImageFolder(dir, transform)\n",
        "  data_loader = torch.utils.data.DataLoader(dset, batch_size, shuffle)\n",
        "  \n",
        "  return data_loader"
      ],
      "execution_count": 0,
      "outputs": []
    },
    {
      "cell_type": "code",
      "metadata": {
        "id": "kVZ0VReGoHox",
        "colab_type": "code",
        "colab": {}
      },
      "source": [
        "def print_network(net):\n",
        "  num_params = 0\n",
        "  for param in net.parameters():\n",
        "    num_params += param.numel()\n",
        "  print(net)\n",
        "  print('Total number of parameters: %d' % num_params)"
      ],
      "execution_count": 0,
      "outputs": []
    },
    {
      "cell_type": "code",
      "metadata": {
        "id": "F5sp-Zp_owK9",
        "colab_type": "code",
        "colab": {}
      },
      "source": [
        "def save_images(images, size, image_path):\n",
        "  return imsave(images, size, image_path)\n",
        "\n",
        "def imsave(images, size, path):\n",
        "  image = np.squeeze(merge(images, size))\n",
        "#   image = image.astype(np.uint8)\n",
        "  return imageio.imwrite(path, image)"
      ],
      "execution_count": 0,
      "outputs": []
    },
    {
      "cell_type": "code",
      "metadata": {
        "id": "Qwb2Ab-npGQJ",
        "colab_type": "code",
        "colab": {}
      },
      "source": [
        "def merge(images, size):\n",
        "  h, w = images.shape[1], images.shape[2]\n",
        "  \n",
        "  if(images.shape[3] in (3, 4)):\n",
        "    c = images.shape[3]\n",
        "    img = np.zeros((h * size[0], w * size[1], c))\n",
        "    for idx, image in enumerate(images):\n",
        "      i = idx % size[1]\n",
        "      j = idx // size[1]\n",
        "      img[j * h: j * h + h, i * w: i * w + w, :] = image\n",
        "    return img\n",
        "  \n",
        "  elif images.shape[3] == 1:\n",
        "    img = np.zeros((h * size[0], w * size[1]))\n",
        "    for idx, image in enumerate(images):\n",
        "      i = idx % size[1]\n",
        "      j = idx // size[1]\n",
        "      img[j * h: j * h + h, i * w: i * w + w] = image[:, :, 0]\n",
        "    return img\n",
        "  \n",
        "  else:\n",
        "    raise ValueError('in merge(images, size) images parameter must have dimensions: HxW or HxWx3 or HxWx4')"
      ],
      "execution_count": 0,
      "outputs": []
    },
    {
      "cell_type": "code",
      "metadata": {
        "id": "REvODEZ6qxaw",
        "colab_type": "code",
        "colab": {}
      },
      "source": [
        "def generate_animation(path, num):\n",
        "  images = []\n",
        "  for e in range(num):\n",
        "    img_name = path + '_epoch%03d' % (e + 1) + '.png'\n",
        "    images.append(imageio.imread(img_name))\n",
        "  imageio.mimsave(path + '_generate_animation.gif', images, fps = 5)"
      ],
      "execution_count": 0,
      "outputs": []
    },
    {
      "cell_type": "code",
      "metadata": {
        "id": "-nwCxnsUsJBK",
        "colab_type": "code",
        "colab": {}
      },
      "source": [
        "def loss_plot(hist, path = 'Train_hist.png', model_name = ''):\n",
        "  \n",
        "  x = range(len(hist['D_loss']))\n",
        "  \n",
        "  y1 = hist['D_loss']\n",
        "  y2 = hist['G_loss']\n",
        "  \n",
        "  plt.plot(x, y1, label = 'D_loss')\n",
        "  plt.plot(x, y2, label = 'G_loss')\n",
        "  \n",
        "  plt.xlabel('Iter')\n",
        "  plt.ylabel('Loss')\n",
        "  \n",
        "  plt.legend(loc = 4)\n",
        "  plt.grid(True)\n",
        "  plt.tight_layout()\n",
        "  \n",
        "  path = os.path.join(path, model_name + '_loss.png')\n",
        "  \n",
        "  plt.savefig(path)\n",
        "  \n",
        "  plt.close()"
      ],
      "execution_count": 0,
      "outputs": []
    },
    {
      "cell_type": "code",
      "metadata": {
        "id": "juq5bWoNtcNE",
        "colab_type": "code",
        "colab": {}
      },
      "source": [
        "def initialize_weights(net):\n",
        "  \n",
        "  for m in net.modules():\n",
        "    if isinstance(m, nn.Conv2d):\n",
        "      m.weight.data.normal_(0, 0.02)\n",
        "      m.bias.data.zero_()\n",
        "    elif isinstance(m, nn.ConvTranspose2d):\n",
        "      m.weight.data.normal_(0, 0.02)\n",
        "      m.bias.data.zero_()\n",
        "    elif isinstance(m, nn.Linear):\n",
        "      m.weight.data.normal_(0, 0.02)\n",
        "      m.bias.data.zero_()"
      ],
      "execution_count": 0,
      "outputs": []
    },
    {
      "cell_type": "code",
      "metadata": {
        "id": "d8BAlOXyuA_H",
        "colab_type": "code",
        "colab": {}
      },
      "source": [
        "class generator(nn.Module):\n",
        "  \n",
        "  ## Network Architecture is exactly same as in infoGAN (https://arxiv.org/abs/1606.03657)\n",
        "  ## Architecture: FC1024_BR-FC7x7x128_BR-(64)4dc2s_BR-(1)4dc2s_S\n",
        "  \n",
        "  def __init__(self, input_dim = 100, output_dim = 1, input_size = 32):\n",
        "    super(generator, self).__init__()\n",
        "    self.input_dim = input_dim\n",
        "    self.output_dim = output_dim\n",
        "    self.input_size = input_size\n",
        "    \n",
        "    self.fc = nn.Sequential(\n",
        "        nn.Linear(self.input_dim, 1024),\n",
        "        nn.BatchNorm1d(1024),\n",
        "        nn.ReLU(),\n",
        "        nn.Linear(1024, 128 * (self.input_size // 4) * (self.input_size // 4)),\n",
        "        nn.BatchNorm1d(128 * (self.input_size // 4) * (self.input_size // 4)),\n",
        "        nn.ReLU(),\n",
        "    )\n",
        "    \n",
        "    self.deconv = nn.Sequential(\n",
        "        nn.ConvTranspose2d(128, 64, 4, 2, 1),\n",
        "        nn.BatchNorm2d(64),\n",
        "        nn.ReLU(),\n",
        "        nn.ConvTranspose2d(64, self.output_dim, 4, 2, 1),\n",
        "        nn.Tanh(),\n",
        "    )\n",
        "    \n",
        "    initialize_weights(self)\n",
        "    \n",
        "  \n",
        "  def forward(self, input):\n",
        "    x = self.fc(input)\n",
        "    x = x.view(-1, 128, (self.input_size // 4), (self.input_size // 4))\n",
        "    x = self.deconv(x)\n",
        "    return x"
      ],
      "execution_count": 0,
      "outputs": []
    },
    {
      "cell_type": "code",
      "metadata": {
        "id": "fnY_Ryf5xg_C",
        "colab_type": "code",
        "colab": {}
      },
      "source": [
        "class discriminator(nn.Module):\n",
        "  \n",
        "  ## Network Architecture is exactly same as in infoGAN (https://arxiv.org/abs/1606.03657)\n",
        "  ## Architecture: (64)4c2s-(128)4c2s_BL-FC1024_BL-FC1_S\n",
        "  \n",
        "  def __init__(self, input_dim = 1, output_dim = 1, input_size = 32):\n",
        "    super(discriminator, self).__init__()\n",
        "    self.input_dim = input_dim\n",
        "    self.output_dim = output_dim\n",
        "    self.input_size = input_size\n",
        "    \n",
        "    self.conv = nn.Sequential(\n",
        "        nn.Conv2d(self.input_dim, 64, 4, 2, 1),\n",
        "        nn.LeakyReLU(0.2),\n",
        "        nn.Conv2d(64, 128, 4, 2, 1),\n",
        "        nn.BatchNorm2d(128),\n",
        "        nn.LeakyReLU(0.2),\n",
        "    )\n",
        "    \n",
        "    self.fc = nn.Sequential(\n",
        "        nn.Linear(128 * (self.input_size // 4) * (self.input_size // 4), 1024),\n",
        "        nn.BatchNorm1d(1024),\n",
        "        nn.LeakyReLU(0.2),\n",
        "        nn.Linear(1024, self.output_dim),\n",
        "        nn.Sigmoid(),\n",
        "    )\n",
        "    \n",
        "    initialize_weights(self)\n",
        "    \n",
        "  \n",
        "  def forward(self, input):\n",
        "    x = self.conv(input)\n",
        "    x = x.view(-1, 128 * (self.input_size // 4) * (self.input_size // 4))\n",
        "    x = self.fc(x)\n",
        "    return x"
      ],
      "execution_count": 0,
      "outputs": []
    },
    {
      "cell_type": "code",
      "metadata": {
        "id": "D7FArnSAy_Nm",
        "colab_type": "code",
        "colab": {}
      },
      "source": [
        "class GAN(object):\n",
        "  \n",
        "  def __init__(self):\n",
        "    ## parameters\n",
        "    self.epoch = 50\n",
        "    self.sample_num = 100\n",
        "    self.batch_size = 64\n",
        "    self.save_dir = 'models'\n",
        "    self.result_dir = 'results'\n",
        "    self.dataset = 'mnist'\n",
        "    self.log_dir = 'logs'\n",
        "    self.gpu_mode = True\n",
        "    self.model_name = 'GAN'\n",
        "    self.input_size = 28\n",
        "    self.z_dim = 62\n",
        "    \n",
        "    \n",
        "    ## load dataset\n",
        "    self.data_loader = dataloader(self.dataset, \n",
        "                                  self.input_size,\n",
        "                                  self.batch_size)\n",
        "    data = self.data_loader.__iter__().__next__()[0]\n",
        "    \n",
        "    \n",
        "    ## networks init\n",
        "    self.G = generator(input_dim = self.z_dim,\n",
        "                       output_dim = data.shape[1],\n",
        "                       input_size = self.input_size)\n",
        "    self.D = discriminator(input_dim = data.shape[1],\n",
        "                           output_dim = 1,\n",
        "                           input_size = self.input_size)\n",
        "    self.G_optimizer = optim.Adam(self.G.parameters(),\n",
        "                                  lr = 0.0002,\n",
        "                                  betas = (0.5, 0.999))\n",
        "    self.D_optimizer = optim.Adam(self.D.parameters(),\n",
        "                                  lr = 0.0002,\n",
        "                                  betas = (0.5, 0.999))\n",
        "    \n",
        "    \n",
        "    if self.gpu_mode:\n",
        "      self.G.cuda()\n",
        "      self.D.cuda()\n",
        "      self.BCE_loss = nn.BCELoss().cuda()\n",
        "    else:\n",
        "      self.BCE_loss = nn.BCELoss()\n",
        "      \n",
        "    \n",
        "    print('----------Networks architecture-----------')\n",
        "    print_network(self.G)\n",
        "    print_network(self.D)\n",
        "    print('------------------------------------------')\n",
        "    \n",
        "    \n",
        "    ## fixed noise\n",
        "    self.sample_z_ = torch.rand((self.batch_size, self.z_dim))\n",
        "    if self.gpu_mode:\n",
        "      self.sample_z_ = self.sample_z_.cuda()\n",
        "      \n",
        "      \n",
        "  def train(self):\n",
        "    self.train_hist = {}\n",
        "    self.train_hist['D_loss'] = []\n",
        "    self.train_hist['G_loss'] = []\n",
        "    self.train_hist['per_epoch_time'] = []\n",
        "    self.train_hist['total_time'] = []\n",
        "    \n",
        "    self.y_real_, self.y_fake_ = torch.ones(self.batch_size, 1), torch.zeros(self.batch_size, 1)\n",
        "    if self.gpu_mode:\n",
        "      self.y_real_, self.y_fake_ = self.y_real_.cuda(), self.y_fake_.cuda()\n",
        "      \n",
        "    self.D.train()\n",
        "    print('training start !')\n",
        "    start_time = time.time()\n",
        "    for epoch in range(self.epoch):\n",
        "      self.G.train()\n",
        "      epoch_start_time = time.time()\n",
        "      for iter, (x_, _) in enumerate(self.data_loader):\n",
        "        if iter == self.data_loader.dataset.__len__() // self.batch_size:\n",
        "          break\n",
        "          \n",
        "        z_ = torch.rand((self.batch_size, self.z_dim))\n",
        "        if self.gpu_mode:\n",
        "          x_, z_ = x_.cuda(), z_.cuda()\n",
        "          \n",
        "        \n",
        "        ## Update D network\n",
        "        self.D_optimizer.zero_grad()\n",
        "        \n",
        "        D_real = self.D(x_)\n",
        "        D_real_loss = self.BCE_loss(D_real, self.y_real_)\n",
        "        \n",
        "        G_ = self.G(z_)\n",
        "        D_fake = self.D(G_)\n",
        "        D_fake_loss = self.BCE_loss(D_fake, self.y_fake_)\n",
        "        \n",
        "        D_loss = D_real_loss + D_fake_loss\n",
        "        self.train_hist['D_loss'].append(D_loss.item())\n",
        "        \n",
        "        D_loss.backward()\n",
        "        self.D_optimizer.step()\n",
        "        \n",
        "        \n",
        "        ## Update G network\n",
        "        self.G_optimizer.zero_grad()\n",
        "        \n",
        "        G_ = self.G(z_)\n",
        "        D_fake = self.D(G_)\n",
        "        G_loss = self.BCE_loss(D_fake, self.y_real_)\n",
        "        self.train_hist['G_loss'].append(G_loss.item())\n",
        "        \n",
        "        G_loss.backward()\n",
        "        self.G_optimizer.step()\n",
        "        \n",
        "        \n",
        "        if ((iter + 1) % 100) == 0:\n",
        "          print(\"Epoch: [%2d] [%4d / %4d] D_loss: %.8f, G_loss: %.8f\" %\n",
        "                ((epoch + 1), (iter + 1), self.data_loader.dataset.__len__() // self.batch_size,\n",
        "                 D_loss.item(), G_loss.item()))\n",
        "          \n",
        "      self.train_hist['per_epoch_time'].append(time.time() - epoch_start_time)\n",
        "      with torch.no_grad():\n",
        "        self.visualize_results((epoch + 1))\n",
        "        \n",
        "    self.train_hist['total_time'].append(time.time() - start_time)\n",
        "    print(\"Avg one epoch time: %.2f, total %d epochs time: %.2f\" % (np.mean(self.train_hist['per_epoch_time']),\n",
        "                                                                   self.epoch, self.train_hist['total_time'][0]))\n",
        "    print(\"Training finish! Saved training results\")\n",
        "    \n",
        "    self.save()\n",
        "    \n",
        "    generate_animation(self.result_dir + '/' + self.dataset + '/' + self.model_name + '/' + self.model_name,\n",
        "                       self.epoch)\n",
        "    loss_plot(self.train_hist, os.path.join(self.save_dir, self.dataset, self.model_name), self.model_name)\n",
        "    \n",
        "    \n",
        "  def visualize_results(self, epoch, fix = True):\n",
        "    self.G.eval()\n",
        "    \n",
        "    if not os.path.exists(self.result_dir + '/' + self.dataset + '/' + self.model_name):\n",
        "      os.makedirs(self.result_dir + '/' + self.dataset + '/' + self.model_name)\n",
        "      \n",
        "    tot_num_samples = min(self.sample_num, self.batch_size)\n",
        "    image_frame_dim = int(np.floor(np.sqrt(tot_num_samples)))\n",
        "    \n",
        "    if fix:\n",
        "      \"\"\" fixed noise \"\"\"\n",
        "      samples = self.G(self.sample_z_)\n",
        "      \n",
        "    else:\n",
        "      \"\"\" random noise \"\"\"\n",
        "      sample_z_ = torch.rand((self.batch_size, self.z_dim))\n",
        "      if self.gpu_mode:\n",
        "        sample_z_ = sample_z_.cuda()\n",
        "        \n",
        "      samples = self.G(sample_z_)\n",
        "      \n",
        "    \n",
        "    if self.gpu_mode:\n",
        "      samples = samples.cpu().data.numpy().transpose(0, 2, 3, 1)\n",
        "    else:\n",
        "      samples = samples.data.numpy().transpose(0, 2, 3, 1)\n",
        "      \n",
        "    \n",
        "    samples = (samples + 1) / 2\n",
        "    save_images(samples[:image_frame_dim * image_frame_dim, :, :, :],\n",
        "                [image_frame_dim, image_frame_dim],\n",
        "                self.result_dir + '/' + self.dataset + '/' + self.model_name + '/' + self.model_name + '_epoch%03d' % epoch + '.png')\n",
        "    \n",
        "    \n",
        "  def save(self):\n",
        "    save_dir = os.path.join(self.save_dir, self.dataset, self.model_name)\n",
        "    \n",
        "    if not os.path.exists(save_dir):\n",
        "      os.makedirs(save_dir)\n",
        "      \n",
        "    torch.save(self.G.state_dict(), os.path.join(save_dir, self.model_name + '_G.pkl'))\n",
        "    torch.save(self.D.state_dict(), os.path.join(save_dir, self.model_name + '_D.pkl'))\n",
        "    \n",
        "    with open(os.path.join(save_dir, self.model_name + '_history.pkl'), 'wb') as f:\n",
        "      pickle.dump(self.train_hist, f)\n",
        "      \n",
        "      \n",
        "  def load(self):\n",
        "    save_dir = os.path.join(self.save_dir, self.dataset, self.model_name)\n",
        "    \n",
        "    self.G.load_state_dict(torch.load(os.path.join(save_dir, self.model_name + '_G.pkl')))\n",
        "    self.D.load_state_dict(torch.load(os.path.join(save_dir, self.model_name + '_D.pkl')))"
      ],
      "execution_count": 0,
      "outputs": []
    },
    {
      "cell_type": "code",
      "metadata": {
        "id": "so27CcsfSijA",
        "colab_type": "code",
        "colab": {
          "base_uri": "https://localhost:8080/",
          "height": 1000
        },
        "outputId": "8bebb361-1456-4008-e84d-a46892db571b"
      },
      "source": [
        "def main():\n",
        "  \n",
        "  gan = GAN()\n",
        "  \n",
        "  gan.train()\n",
        "  print(\" [**] Training finished!\")\n",
        "  \n",
        "  ## visualize learned generator\n",
        "  gan.visualize_results(50)\n",
        "  print(\" [**] Testing finished!\")\n",
        "  \n",
        "if __name__ == '__main__':\n",
        "  main()"
      ],
      "execution_count": 14,
      "outputs": [
        {
          "output_type": "stream",
          "text": [
            "----------Networks architecture-----------\n",
            "generator(\n",
            "  (fc): Sequential(\n",
            "    (0): Linear(in_features=62, out_features=1024, bias=True)\n",
            "    (1): BatchNorm1d(1024, eps=1e-05, momentum=0.1, affine=True, track_running_stats=True)\n",
            "    (2): ReLU()\n",
            "    (3): Linear(in_features=1024, out_features=6272, bias=True)\n",
            "    (4): BatchNorm1d(6272, eps=1e-05, momentum=0.1, affine=True, track_running_stats=True)\n",
            "    (5): ReLU()\n",
            "  )\n",
            "  (deconv): Sequential(\n",
            "    (0): ConvTranspose2d(128, 64, kernel_size=(4, 4), stride=(2, 2), padding=(1, 1))\n",
            "    (1): BatchNorm2d(64, eps=1e-05, momentum=0.1, affine=True, track_running_stats=True)\n",
            "    (2): ReLU()\n",
            "    (3): ConvTranspose2d(64, 1, kernel_size=(4, 4), stride=(2, 2), padding=(1, 1))\n",
            "    (4): Tanh()\n",
            "  )\n",
            ")\n",
            "Total number of parameters: 6640193\n",
            "discriminator(\n",
            "  (conv): Sequential(\n",
            "    (0): Conv2d(1, 64, kernel_size=(4, 4), stride=(2, 2), padding=(1, 1))\n",
            "    (1): LeakyReLU(negative_slope=0.2)\n",
            "    (2): Conv2d(64, 128, kernel_size=(4, 4), stride=(2, 2), padding=(1, 1))\n",
            "    (3): BatchNorm2d(128, eps=1e-05, momentum=0.1, affine=True, track_running_stats=True)\n",
            "    (4): LeakyReLU(negative_slope=0.2)\n",
            "  )\n",
            "  (fc): Sequential(\n",
            "    (0): Linear(in_features=6272, out_features=1024, bias=True)\n",
            "    (1): BatchNorm1d(1024, eps=1e-05, momentum=0.1, affine=True, track_running_stats=True)\n",
            "    (2): LeakyReLU(negative_slope=0.2)\n",
            "    (3): Linear(in_features=1024, out_features=1, bias=True)\n",
            "    (4): Sigmoid()\n",
            "  )\n",
            ")\n",
            "Total number of parameters: 6559169\n",
            "------------------------------------------\n",
            "training start !\n",
            "Epoch: [ 1] [ 100 /  937] D_loss: 1.19181561, G_loss: 0.90275347\n",
            "Epoch: [ 1] [ 200 /  937] D_loss: 1.07361984, G_loss: 1.01218271\n",
            "Epoch: [ 1] [ 300 /  937] D_loss: 0.78723568, G_loss: 1.25532746\n",
            "Epoch: [ 1] [ 400 /  937] D_loss: 0.87649637, G_loss: 1.28972793\n",
            "Epoch: [ 1] [ 500 /  937] D_loss: 0.96362621, G_loss: 1.13810647\n",
            "Epoch: [ 1] [ 600 /  937] D_loss: 0.98639631, G_loss: 1.08515477\n",
            "Epoch: [ 1] [ 700 /  937] D_loss: 0.92470396, G_loss: 1.17626131\n",
            "Epoch: [ 1] [ 800 /  937] D_loss: 1.03706956, G_loss: 1.15629292\n",
            "Epoch: [ 1] [ 900 /  937] D_loss: 1.05091286, G_loss: 1.16406024\n"
          ],
          "name": "stdout"
        },
        {
          "output_type": "stream",
          "text": [
            "WARNING:root:Lossy conversion from float64 to uint8. Range [0, 1]. Convert image to uint8 prior to saving to suppress this warning.\n"
          ],
          "name": "stderr"
        },
        {
          "output_type": "stream",
          "text": [
            "Epoch: [ 2] [ 100 /  937] D_loss: 1.00040114, G_loss: 1.08457923\n",
            "Epoch: [ 2] [ 200 /  937] D_loss: 1.02970088, G_loss: 1.17682827\n",
            "Epoch: [ 2] [ 300 /  937] D_loss: 0.98709643, G_loss: 1.05151987\n",
            "Epoch: [ 2] [ 400 /  937] D_loss: 1.01835787, G_loss: 1.09287238\n",
            "Epoch: [ 2] [ 500 /  937] D_loss: 0.99295622, G_loss: 1.30228043\n",
            "Epoch: [ 2] [ 600 /  937] D_loss: 1.04077899, G_loss: 1.05960417\n",
            "Epoch: [ 2] [ 700 /  937] D_loss: 1.09756660, G_loss: 1.14325285\n",
            "Epoch: [ 2] [ 800 /  937] D_loss: 1.10267305, G_loss: 1.07789838\n",
            "Epoch: [ 2] [ 900 /  937] D_loss: 1.12729669, G_loss: 1.03529644\n"
          ],
          "name": "stdout"
        },
        {
          "output_type": "stream",
          "text": [
            "WARNING:root:Lossy conversion from float64 to uint8. Range [0, 1]. Convert image to uint8 prior to saving to suppress this warning.\n"
          ],
          "name": "stderr"
        },
        {
          "output_type": "stream",
          "text": [
            "Epoch: [ 3] [ 100 /  937] D_loss: 1.07780492, G_loss: 1.04296279\n",
            "Epoch: [ 3] [ 200 /  937] D_loss: 0.86253798, G_loss: 1.28846288\n",
            "Epoch: [ 3] [ 300 /  937] D_loss: 0.98379999, G_loss: 1.20105839\n",
            "Epoch: [ 3] [ 400 /  937] D_loss: 0.95475948, G_loss: 1.20663226\n",
            "Epoch: [ 3] [ 500 /  937] D_loss: 0.98817456, G_loss: 1.12071729\n",
            "Epoch: [ 3] [ 600 /  937] D_loss: 1.02799356, G_loss: 1.11553395\n",
            "Epoch: [ 3] [ 700 /  937] D_loss: 0.98936462, G_loss: 1.14447653\n",
            "Epoch: [ 3] [ 800 /  937] D_loss: 0.98719621, G_loss: 1.35709071\n",
            "Epoch: [ 3] [ 900 /  937] D_loss: 0.91925263, G_loss: 1.31595874\n"
          ],
          "name": "stdout"
        },
        {
          "output_type": "stream",
          "text": [
            "WARNING:root:Lossy conversion from float64 to uint8. Range [0, 1]. Convert image to uint8 prior to saving to suppress this warning.\n"
          ],
          "name": "stderr"
        },
        {
          "output_type": "stream",
          "text": [
            "Epoch: [ 4] [ 100 /  937] D_loss: 0.97542441, G_loss: 0.93076110\n",
            "Epoch: [ 4] [ 200 /  937] D_loss: 0.97875333, G_loss: 1.29332733\n",
            "Epoch: [ 4] [ 300 /  937] D_loss: 0.93100488, G_loss: 1.41517735\n",
            "Epoch: [ 4] [ 400 /  937] D_loss: 0.91252172, G_loss: 1.25305641\n",
            "Epoch: [ 4] [ 500 /  937] D_loss: 0.91826332, G_loss: 1.29233909\n",
            "Epoch: [ 4] [ 600 /  937] D_loss: 0.89857984, G_loss: 1.15714455\n",
            "Epoch: [ 4] [ 700 /  937] D_loss: 0.97727644, G_loss: 1.01497662\n",
            "Epoch: [ 4] [ 800 /  937] D_loss: 0.87613606, G_loss: 1.32360005\n",
            "Epoch: [ 4] [ 900 /  937] D_loss: 1.02312446, G_loss: 1.30268264\n"
          ],
          "name": "stdout"
        },
        {
          "output_type": "stream",
          "text": [
            "WARNING:root:Lossy conversion from float64 to uint8. Range [0, 1]. Convert image to uint8 prior to saving to suppress this warning.\n"
          ],
          "name": "stderr"
        },
        {
          "output_type": "stream",
          "text": [
            "Epoch: [ 5] [ 100 /  937] D_loss: 0.88367790, G_loss: 1.40301490\n",
            "Epoch: [ 5] [ 200 /  937] D_loss: 1.00191069, G_loss: 1.26646161\n",
            "Epoch: [ 5] [ 300 /  937] D_loss: 0.98731399, G_loss: 1.54638815\n",
            "Epoch: [ 5] [ 400 /  937] D_loss: 0.93603790, G_loss: 1.44865477\n",
            "Epoch: [ 5] [ 500 /  937] D_loss: 0.79572678, G_loss: 1.28447294\n",
            "Epoch: [ 5] [ 600 /  937] D_loss: 0.89749694, G_loss: 1.27260232\n",
            "Epoch: [ 5] [ 700 /  937] D_loss: 0.81858695, G_loss: 1.52023196\n",
            "Epoch: [ 5] [ 800 /  937] D_loss: 0.87859941, G_loss: 1.48939812\n",
            "Epoch: [ 5] [ 900 /  937] D_loss: 1.16169095, G_loss: 1.27946806\n"
          ],
          "name": "stdout"
        },
        {
          "output_type": "stream",
          "text": [
            "WARNING:root:Lossy conversion from float64 to uint8. Range [0, 1]. Convert image to uint8 prior to saving to suppress this warning.\n"
          ],
          "name": "stderr"
        },
        {
          "output_type": "stream",
          "text": [
            "Epoch: [ 6] [ 100 /  937] D_loss: 0.80930948, G_loss: 1.33960009\n",
            "Epoch: [ 6] [ 200 /  937] D_loss: 0.83765918, G_loss: 1.37574446\n",
            "Epoch: [ 6] [ 300 /  937] D_loss: 0.77016836, G_loss: 1.44278121\n",
            "Epoch: [ 6] [ 400 /  937] D_loss: 0.76770514, G_loss: 1.32386446\n",
            "Epoch: [ 6] [ 500 /  937] D_loss: 0.81902516, G_loss: 1.62931776\n",
            "Epoch: [ 6] [ 600 /  937] D_loss: 0.75455749, G_loss: 1.43535388\n",
            "Epoch: [ 6] [ 700 /  937] D_loss: 0.66781360, G_loss: 1.64453995\n",
            "Epoch: [ 6] [ 800 /  937] D_loss: 0.79336447, G_loss: 1.59995341\n",
            "Epoch: [ 6] [ 900 /  937] D_loss: 0.79440510, G_loss: 1.30225909\n"
          ],
          "name": "stdout"
        },
        {
          "output_type": "stream",
          "text": [
            "WARNING:root:Lossy conversion from float64 to uint8. Range [0, 1]. Convert image to uint8 prior to saving to suppress this warning.\n"
          ],
          "name": "stderr"
        },
        {
          "output_type": "stream",
          "text": [
            "Epoch: [ 7] [ 100 /  937] D_loss: 0.67435038, G_loss: 1.66639996\n",
            "Epoch: [ 7] [ 200 /  937] D_loss: 1.15538478, G_loss: 0.76429522\n",
            "Epoch: [ 7] [ 300 /  937] D_loss: 0.78742814, G_loss: 1.30453885\n",
            "Epoch: [ 7] [ 400 /  937] D_loss: 0.88699031, G_loss: 1.49437189\n",
            "Epoch: [ 7] [ 500 /  937] D_loss: 0.61601293, G_loss: 1.99749970\n",
            "Epoch: [ 7] [ 600 /  937] D_loss: 0.97007298, G_loss: 1.26833463\n",
            "Epoch: [ 7] [ 700 /  937] D_loss: 0.73546135, G_loss: 1.67161679\n",
            "Epoch: [ 7] [ 800 /  937] D_loss: 0.71875316, G_loss: 1.81914043\n",
            "Epoch: [ 7] [ 900 /  937] D_loss: 0.79707301, G_loss: 1.49945831\n"
          ],
          "name": "stdout"
        },
        {
          "output_type": "stream",
          "text": [
            "WARNING:root:Lossy conversion from float64 to uint8. Range [0, 1]. Convert image to uint8 prior to saving to suppress this warning.\n"
          ],
          "name": "stderr"
        },
        {
          "output_type": "stream",
          "text": [
            "Epoch: [ 8] [ 100 /  937] D_loss: 0.69875407, G_loss: 1.51853907\n",
            "Epoch: [ 8] [ 200 /  937] D_loss: 0.72539371, G_loss: 1.53972054\n",
            "Epoch: [ 8] [ 300 /  937] D_loss: 0.72922349, G_loss: 1.91862535\n",
            "Epoch: [ 8] [ 400 /  937] D_loss: 0.79558170, G_loss: 1.51162004\n",
            "Epoch: [ 8] [ 500 /  937] D_loss: 0.76199520, G_loss: 1.47712564\n",
            "Epoch: [ 8] [ 600 /  937] D_loss: 0.56696182, G_loss: 2.27034140\n",
            "Epoch: [ 8] [ 700 /  937] D_loss: 0.57816875, G_loss: 1.82729828\n",
            "Epoch: [ 8] [ 800 /  937] D_loss: 0.90100592, G_loss: 1.04571569\n",
            "Epoch: [ 8] [ 900 /  937] D_loss: 0.52197802, G_loss: 1.71271944\n"
          ],
          "name": "stdout"
        },
        {
          "output_type": "stream",
          "text": [
            "WARNING:root:Lossy conversion from float64 to uint8. Range [0, 1]. Convert image to uint8 prior to saving to suppress this warning.\n"
          ],
          "name": "stderr"
        },
        {
          "output_type": "stream",
          "text": [
            "Epoch: [ 9] [ 100 /  937] D_loss: 0.59231544, G_loss: 1.72256184\n",
            "Epoch: [ 9] [ 200 /  937] D_loss: 0.88662922, G_loss: 1.29750454\n",
            "Epoch: [ 9] [ 300 /  937] D_loss: 0.90552771, G_loss: 1.02253413\n",
            "Epoch: [ 9] [ 400 /  937] D_loss: 0.62699002, G_loss: 1.90419447\n",
            "Epoch: [ 9] [ 500 /  937] D_loss: 0.68666875, G_loss: 1.48177338\n",
            "Epoch: [ 9] [ 600 /  937] D_loss: 0.72988689, G_loss: 1.55341077\n",
            "Epoch: [ 9] [ 700 /  937] D_loss: 0.63898802, G_loss: 1.83017063\n",
            "Epoch: [ 9] [ 800 /  937] D_loss: 0.70705187, G_loss: 2.04002047\n",
            "Epoch: [ 9] [ 900 /  937] D_loss: 0.50617909, G_loss: 2.03564405\n"
          ],
          "name": "stdout"
        },
        {
          "output_type": "stream",
          "text": [
            "WARNING:root:Lossy conversion from float64 to uint8. Range [0, 1]. Convert image to uint8 prior to saving to suppress this warning.\n"
          ],
          "name": "stderr"
        },
        {
          "output_type": "stream",
          "text": [
            "Epoch: [10] [ 100 /  937] D_loss: 0.70150757, G_loss: 2.05940914\n",
            "Epoch: [10] [ 200 /  937] D_loss: 0.70259535, G_loss: 1.59340250\n",
            "Epoch: [10] [ 300 /  937] D_loss: 0.55879229, G_loss: 2.18870878\n",
            "Epoch: [10] [ 400 /  937] D_loss: 0.60966694, G_loss: 2.60026979\n",
            "Epoch: [10] [ 500 /  937] D_loss: 0.58742267, G_loss: 2.22584295\n",
            "Epoch: [10] [ 600 /  937] D_loss: 0.66750145, G_loss: 2.02598929\n",
            "Epoch: [10] [ 700 /  937] D_loss: 0.57070339, G_loss: 2.36284018\n",
            "Epoch: [10] [ 800 /  937] D_loss: 0.68061924, G_loss: 2.14590669\n",
            "Epoch: [10] [ 900 /  937] D_loss: 0.72352362, G_loss: 1.86796188\n"
          ],
          "name": "stdout"
        },
        {
          "output_type": "stream",
          "text": [
            "WARNING:root:Lossy conversion from float64 to uint8. Range [0, 1]. Convert image to uint8 prior to saving to suppress this warning.\n"
          ],
          "name": "stderr"
        },
        {
          "output_type": "stream",
          "text": [
            "Epoch: [11] [ 100 /  937] D_loss: 0.65388179, G_loss: 1.40692163\n",
            "Epoch: [11] [ 200 /  937] D_loss: 0.58286464, G_loss: 1.63106871\n",
            "Epoch: [11] [ 300 /  937] D_loss: 0.42969567, G_loss: 2.18197060\n",
            "Epoch: [11] [ 400 /  937] D_loss: 0.74859989, G_loss: 1.21510816\n",
            "Epoch: [11] [ 500 /  937] D_loss: 0.60448056, G_loss: 2.32995915\n",
            "Epoch: [11] [ 600 /  937] D_loss: 0.81163037, G_loss: 1.84457171\n",
            "Epoch: [11] [ 700 /  937] D_loss: 0.93988705, G_loss: 2.37202835\n",
            "Epoch: [11] [ 800 /  937] D_loss: 0.48554453, G_loss: 1.97398627\n",
            "Epoch: [11] [ 900 /  937] D_loss: 0.63132554, G_loss: 2.03562236\n"
          ],
          "name": "stdout"
        },
        {
          "output_type": "stream",
          "text": [
            "WARNING:root:Lossy conversion from float64 to uint8. Range [0, 1]. Convert image to uint8 prior to saving to suppress this warning.\n"
          ],
          "name": "stderr"
        },
        {
          "output_type": "stream",
          "text": [
            "Epoch: [12] [ 100 /  937] D_loss: 0.41034085, G_loss: 2.31008291\n",
            "Epoch: [12] [ 200 /  937] D_loss: 0.70075667, G_loss: 2.09716654\n",
            "Epoch: [12] [ 300 /  937] D_loss: 0.47912705, G_loss: 2.34068704\n",
            "Epoch: [12] [ 400 /  937] D_loss: 0.60256720, G_loss: 2.14602661\n",
            "Epoch: [12] [ 500 /  937] D_loss: 0.61497796, G_loss: 1.77141786\n",
            "Epoch: [12] [ 600 /  937] D_loss: 0.56541073, G_loss: 1.77512181\n",
            "Epoch: [12] [ 700 /  937] D_loss: 0.52730697, G_loss: 2.22750378\n",
            "Epoch: [12] [ 800 /  937] D_loss: 0.63523453, G_loss: 2.54598665\n",
            "Epoch: [12] [ 900 /  937] D_loss: 0.56348848, G_loss: 2.21019912\n"
          ],
          "name": "stdout"
        },
        {
          "output_type": "stream",
          "text": [
            "WARNING:root:Lossy conversion from float64 to uint8. Range [0, 1]. Convert image to uint8 prior to saving to suppress this warning.\n"
          ],
          "name": "stderr"
        },
        {
          "output_type": "stream",
          "text": [
            "Epoch: [13] [ 100 /  937] D_loss: 0.54300219, G_loss: 2.10008144\n",
            "Epoch: [13] [ 200 /  937] D_loss: 0.68199831, G_loss: 1.84761846\n",
            "Epoch: [13] [ 300 /  937] D_loss: 0.69123489, G_loss: 1.79097605\n",
            "Epoch: [13] [ 400 /  937] D_loss: 0.68625355, G_loss: 1.53554404\n",
            "Epoch: [13] [ 500 /  937] D_loss: 0.51992083, G_loss: 2.74456382\n",
            "Epoch: [13] [ 600 /  937] D_loss: 0.81857538, G_loss: 1.38575530\n",
            "Epoch: [13] [ 700 /  937] D_loss: 0.72939581, G_loss: 3.08509994\n",
            "Epoch: [13] [ 800 /  937] D_loss: 0.53224993, G_loss: 2.74655390\n",
            "Epoch: [13] [ 900 /  937] D_loss: 0.40296158, G_loss: 2.78491378\n"
          ],
          "name": "stdout"
        },
        {
          "output_type": "stream",
          "text": [
            "WARNING:root:Lossy conversion from float64 to uint8. Range [0, 1]. Convert image to uint8 prior to saving to suppress this warning.\n"
          ],
          "name": "stderr"
        },
        {
          "output_type": "stream",
          "text": [
            "Epoch: [14] [ 100 /  937] D_loss: 0.74483031, G_loss: 2.99154854\n",
            "Epoch: [14] [ 200 /  937] D_loss: 0.73817086, G_loss: 3.23457527\n",
            "Epoch: [14] [ 300 /  937] D_loss: 0.39729193, G_loss: 2.59210920\n",
            "Epoch: [14] [ 400 /  937] D_loss: 0.60026991, G_loss: 2.38661432\n",
            "Epoch: [14] [ 500 /  937] D_loss: 0.50712168, G_loss: 1.93669093\n",
            "Epoch: [14] [ 600 /  937] D_loss: 0.50034183, G_loss: 2.08848310\n",
            "Epoch: [14] [ 700 /  937] D_loss: 0.64660084, G_loss: 1.65660787\n",
            "Epoch: [14] [ 800 /  937] D_loss: 0.67474771, G_loss: 2.57451224\n",
            "Epoch: [14] [ 900 /  937] D_loss: 0.45542687, G_loss: 2.69122362\n"
          ],
          "name": "stdout"
        },
        {
          "output_type": "stream",
          "text": [
            "WARNING:root:Lossy conversion from float64 to uint8. Range [0, 1]. Convert image to uint8 prior to saving to suppress this warning.\n"
          ],
          "name": "stderr"
        },
        {
          "output_type": "stream",
          "text": [
            "Epoch: [15] [ 100 /  937] D_loss: 0.67384964, G_loss: 1.95879948\n",
            "Epoch: [15] [ 200 /  937] D_loss: 0.37777039, G_loss: 2.60466766\n",
            "Epoch: [15] [ 300 /  937] D_loss: 0.54795074, G_loss: 2.79670858\n",
            "Epoch: [15] [ 400 /  937] D_loss: 0.71560681, G_loss: 2.16832304\n",
            "Epoch: [15] [ 500 /  937] D_loss: 0.65224946, G_loss: 2.36670184\n",
            "Epoch: [15] [ 600 /  937] D_loss: 0.48496658, G_loss: 2.58629179\n",
            "Epoch: [15] [ 700 /  937] D_loss: 0.55291766, G_loss: 1.92948902\n",
            "Epoch: [15] [ 800 /  937] D_loss: 0.49193409, G_loss: 2.55416536\n",
            "Epoch: [15] [ 900 /  937] D_loss: 0.61179101, G_loss: 2.39130449\n"
          ],
          "name": "stdout"
        },
        {
          "output_type": "stream",
          "text": [
            "WARNING:root:Lossy conversion from float64 to uint8. Range [0, 1]. Convert image to uint8 prior to saving to suppress this warning.\n"
          ],
          "name": "stderr"
        },
        {
          "output_type": "stream",
          "text": [
            "Epoch: [16] [ 100 /  937] D_loss: 0.50139421, G_loss: 2.30468702\n",
            "Epoch: [16] [ 200 /  937] D_loss: 0.63842660, G_loss: 3.73237133\n",
            "Epoch: [16] [ 300 /  937] D_loss: 0.51575410, G_loss: 1.83722842\n",
            "Epoch: [16] [ 400 /  937] D_loss: 0.66052735, G_loss: 2.42867517\n",
            "Epoch: [16] [ 500 /  937] D_loss: 0.50218952, G_loss: 2.59697771\n",
            "Epoch: [16] [ 600 /  937] D_loss: 0.55186272, G_loss: 1.69780469\n",
            "Epoch: [16] [ 700 /  937] D_loss: 0.42150146, G_loss: 2.13490081\n",
            "Epoch: [16] [ 800 /  937] D_loss: 0.45884120, G_loss: 2.35829926\n",
            "Epoch: [16] [ 900 /  937] D_loss: 0.53462267, G_loss: 2.65656424\n"
          ],
          "name": "stdout"
        },
        {
          "output_type": "stream",
          "text": [
            "WARNING:root:Lossy conversion from float64 to uint8. Range [0, 1]. Convert image to uint8 prior to saving to suppress this warning.\n"
          ],
          "name": "stderr"
        },
        {
          "output_type": "stream",
          "text": [
            "Epoch: [17] [ 100 /  937] D_loss: 0.41253421, G_loss: 2.58423710\n",
            "Epoch: [17] [ 200 /  937] D_loss: 0.45625705, G_loss: 1.96667516\n",
            "Epoch: [17] [ 300 /  937] D_loss: 0.42632908, G_loss: 2.79047012\n",
            "Epoch: [17] [ 400 /  937] D_loss: 0.39294553, G_loss: 2.74770904\n",
            "Epoch: [17] [ 500 /  937] D_loss: 0.54356444, G_loss: 2.17857718\n",
            "Epoch: [17] [ 600 /  937] D_loss: 0.35623935, G_loss: 2.41935873\n",
            "Epoch: [17] [ 700 /  937] D_loss: 0.34824461, G_loss: 2.27307463\n",
            "Epoch: [17] [ 800 /  937] D_loss: 0.37314156, G_loss: 3.12792611\n",
            "Epoch: [17] [ 900 /  937] D_loss: 0.39671382, G_loss: 3.26720190\n"
          ],
          "name": "stdout"
        },
        {
          "output_type": "stream",
          "text": [
            "WARNING:root:Lossy conversion from float64 to uint8. Range [0, 1]. Convert image to uint8 prior to saving to suppress this warning.\n"
          ],
          "name": "stderr"
        },
        {
          "output_type": "stream",
          "text": [
            "Epoch: [18] [ 100 /  937] D_loss: 0.65750921, G_loss: 1.60307479\n",
            "Epoch: [18] [ 200 /  937] D_loss: 0.55110431, G_loss: 2.50588608\n",
            "Epoch: [18] [ 300 /  937] D_loss: 0.74389791, G_loss: 1.48738849\n",
            "Epoch: [18] [ 400 /  937] D_loss: 0.29961437, G_loss: 2.78526902\n",
            "Epoch: [18] [ 500 /  937] D_loss: 0.64493406, G_loss: 1.93760800\n",
            "Epoch: [18] [ 600 /  937] D_loss: 0.45603907, G_loss: 2.63506150\n",
            "Epoch: [18] [ 700 /  937] D_loss: 0.47007522, G_loss: 2.88828468\n",
            "Epoch: [18] [ 800 /  937] D_loss: 0.47972345, G_loss: 1.91120458\n",
            "Epoch: [18] [ 900 /  937] D_loss: 0.20860347, G_loss: 2.83621454\n"
          ],
          "name": "stdout"
        },
        {
          "output_type": "stream",
          "text": [
            "WARNING:root:Lossy conversion from float64 to uint8. Range [0, 1]. Convert image to uint8 prior to saving to suppress this warning.\n"
          ],
          "name": "stderr"
        },
        {
          "output_type": "stream",
          "text": [
            "Epoch: [19] [ 100 /  937] D_loss: 0.32786146, G_loss: 3.30743527\n",
            "Epoch: [19] [ 200 /  937] D_loss: 0.34350032, G_loss: 2.80081582\n",
            "Epoch: [19] [ 300 /  937] D_loss: 0.35309374, G_loss: 2.57021523\n",
            "Epoch: [19] [ 400 /  937] D_loss: 0.53780019, G_loss: 1.84051561\n",
            "Epoch: [19] [ 500 /  937] D_loss: 0.46451539, G_loss: 2.99903965\n",
            "Epoch: [19] [ 600 /  937] D_loss: 0.50522816, G_loss: 2.47688675\n",
            "Epoch: [19] [ 700 /  937] D_loss: 0.40747926, G_loss: 2.41224146\n",
            "Epoch: [19] [ 800 /  937] D_loss: 0.79182559, G_loss: 2.82670259\n",
            "Epoch: [19] [ 900 /  937] D_loss: 0.30549428, G_loss: 2.87097979\n"
          ],
          "name": "stdout"
        },
        {
          "output_type": "stream",
          "text": [
            "WARNING:root:Lossy conversion from float64 to uint8. Range [0, 1]. Convert image to uint8 prior to saving to suppress this warning.\n"
          ],
          "name": "stderr"
        },
        {
          "output_type": "stream",
          "text": [
            "Epoch: [20] [ 100 /  937] D_loss: 0.35907248, G_loss: 2.70115852\n",
            "Epoch: [20] [ 200 /  937] D_loss: 0.23994042, G_loss: 3.05457520\n",
            "Epoch: [20] [ 300 /  937] D_loss: 0.40409410, G_loss: 2.88960171\n",
            "Epoch: [20] [ 400 /  937] D_loss: 0.68595791, G_loss: 2.64615464\n",
            "Epoch: [20] [ 500 /  937] D_loss: 0.62969387, G_loss: 2.50900245\n",
            "Epoch: [20] [ 600 /  937] D_loss: 0.48341841, G_loss: 3.19199371\n",
            "Epoch: [20] [ 700 /  937] D_loss: 0.23138177, G_loss: 3.36818194\n",
            "Epoch: [20] [ 800 /  937] D_loss: 0.44465587, G_loss: 2.32142019\n",
            "Epoch: [20] [ 900 /  937] D_loss: 0.62636805, G_loss: 2.33713865\n"
          ],
          "name": "stdout"
        },
        {
          "output_type": "stream",
          "text": [
            "WARNING:root:Lossy conversion from float64 to uint8. Range [0, 1]. Convert image to uint8 prior to saving to suppress this warning.\n"
          ],
          "name": "stderr"
        },
        {
          "output_type": "stream",
          "text": [
            "Epoch: [21] [ 100 /  937] D_loss: 0.43111914, G_loss: 3.57847977\n",
            "Epoch: [21] [ 200 /  937] D_loss: 0.45304772, G_loss: 2.95410156\n",
            "Epoch: [21] [ 300 /  937] D_loss: 0.37020844, G_loss: 2.59214783\n",
            "Epoch: [21] [ 400 /  937] D_loss: 0.38245234, G_loss: 2.59810781\n",
            "Epoch: [21] [ 500 /  937] D_loss: 0.47299647, G_loss: 2.33180046\n",
            "Epoch: [21] [ 600 /  937] D_loss: 0.35522899, G_loss: 2.30234575\n",
            "Epoch: [21] [ 700 /  937] D_loss: 0.44603890, G_loss: 2.93044806\n",
            "Epoch: [21] [ 800 /  937] D_loss: 0.59043545, G_loss: 3.70325708\n",
            "Epoch: [21] [ 900 /  937] D_loss: 0.31747189, G_loss: 3.12275696\n"
          ],
          "name": "stdout"
        },
        {
          "output_type": "stream",
          "text": [
            "WARNING:root:Lossy conversion from float64 to uint8. Range [0, 1]. Convert image to uint8 prior to saving to suppress this warning.\n"
          ],
          "name": "stderr"
        },
        {
          "output_type": "stream",
          "text": [
            "Epoch: [22] [ 100 /  937] D_loss: 0.30835512, G_loss: 2.92312050\n",
            "Epoch: [22] [ 200 /  937] D_loss: 0.29102537, G_loss: 3.11270094\n",
            "Epoch: [22] [ 300 /  937] D_loss: 0.31003648, G_loss: 3.12938261\n",
            "Epoch: [22] [ 400 /  937] D_loss: 0.43795356, G_loss: 2.56895924\n",
            "Epoch: [22] [ 500 /  937] D_loss: 0.28413087, G_loss: 3.45329833\n",
            "Epoch: [22] [ 600 /  937] D_loss: 0.59388274, G_loss: 1.86409664\n",
            "Epoch: [22] [ 700 /  937] D_loss: 0.29474166, G_loss: 3.11365676\n",
            "Epoch: [22] [ 800 /  937] D_loss: 0.35221377, G_loss: 2.55893040\n",
            "Epoch: [22] [ 900 /  937] D_loss: 0.26667678, G_loss: 3.27332473\n"
          ],
          "name": "stdout"
        },
        {
          "output_type": "stream",
          "text": [
            "WARNING:root:Lossy conversion from float64 to uint8. Range [0, 1]. Convert image to uint8 prior to saving to suppress this warning.\n"
          ],
          "name": "stderr"
        },
        {
          "output_type": "stream",
          "text": [
            "Epoch: [23] [ 100 /  937] D_loss: 0.35269323, G_loss: 3.42293048\n",
            "Epoch: [23] [ 200 /  937] D_loss: 0.22435501, G_loss: 3.22861290\n",
            "Epoch: [23] [ 300 /  937] D_loss: 0.27485558, G_loss: 3.15259671\n",
            "Epoch: [23] [ 400 /  937] D_loss: 0.37590620, G_loss: 3.46220589\n",
            "Epoch: [23] [ 500 /  937] D_loss: 0.34193259, G_loss: 3.11268258\n",
            "Epoch: [23] [ 600 /  937] D_loss: 0.40463707, G_loss: 2.40750432\n",
            "Epoch: [23] [ 700 /  937] D_loss: 0.38107437, G_loss: 2.94033670\n",
            "Epoch: [23] [ 800 /  937] D_loss: 0.36044937, G_loss: 3.27510595\n",
            "Epoch: [23] [ 900 /  937] D_loss: 0.35145849, G_loss: 2.58054233\n"
          ],
          "name": "stdout"
        },
        {
          "output_type": "stream",
          "text": [
            "WARNING:root:Lossy conversion from float64 to uint8. Range [0, 1]. Convert image to uint8 prior to saving to suppress this warning.\n"
          ],
          "name": "stderr"
        },
        {
          "output_type": "stream",
          "text": [
            "Epoch: [24] [ 100 /  937] D_loss: 0.32075435, G_loss: 2.73242140\n",
            "Epoch: [24] [ 200 /  937] D_loss: 0.39832380, G_loss: 2.55419731\n",
            "Epoch: [24] [ 300 /  937] D_loss: 0.30181885, G_loss: 3.53185368\n",
            "Epoch: [24] [ 400 /  937] D_loss: 0.35024208, G_loss: 2.47897291\n",
            "Epoch: [24] [ 500 /  937] D_loss: 0.49597302, G_loss: 2.33159113\n",
            "Epoch: [24] [ 600 /  937] D_loss: 0.53891623, G_loss: 3.95797539\n",
            "Epoch: [24] [ 700 /  937] D_loss: 0.40194735, G_loss: 3.90881038\n",
            "Epoch: [24] [ 800 /  937] D_loss: 0.36046261, G_loss: 3.24712086\n",
            "Epoch: [24] [ 900 /  937] D_loss: 0.29980999, G_loss: 3.02710533\n"
          ],
          "name": "stdout"
        },
        {
          "output_type": "stream",
          "text": [
            "WARNING:root:Lossy conversion from float64 to uint8. Range [0, 1]. Convert image to uint8 prior to saving to suppress this warning.\n"
          ],
          "name": "stderr"
        },
        {
          "output_type": "stream",
          "text": [
            "Epoch: [25] [ 100 /  937] D_loss: 0.34813616, G_loss: 2.41838551\n",
            "Epoch: [25] [ 200 /  937] D_loss: 0.39333373, G_loss: 3.20082235\n",
            "Epoch: [25] [ 300 /  937] D_loss: 0.46712035, G_loss: 2.54083490\n",
            "Epoch: [25] [ 400 /  937] D_loss: 0.30296475, G_loss: 3.09830379\n",
            "Epoch: [25] [ 500 /  937] D_loss: 0.37754774, G_loss: 2.49969053\n",
            "Epoch: [25] [ 600 /  937] D_loss: 0.71276385, G_loss: 2.71807504\n",
            "Epoch: [25] [ 700 /  937] D_loss: 0.94723630, G_loss: 2.98869085\n",
            "Epoch: [25] [ 800 /  937] D_loss: 0.27161235, G_loss: 2.74490619\n",
            "Epoch: [25] [ 900 /  937] D_loss: 0.31268790, G_loss: 2.79722643\n"
          ],
          "name": "stdout"
        },
        {
          "output_type": "stream",
          "text": [
            "WARNING:root:Lossy conversion from float64 to uint8. Range [0, 1]. Convert image to uint8 prior to saving to suppress this warning.\n"
          ],
          "name": "stderr"
        },
        {
          "output_type": "stream",
          "text": [
            "Epoch: [26] [ 100 /  937] D_loss: 0.26457244, G_loss: 2.76545787\n",
            "Epoch: [26] [ 200 /  937] D_loss: 0.45014983, G_loss: 2.31657696\n",
            "Epoch: [26] [ 300 /  937] D_loss: 0.52260554, G_loss: 2.18964481\n",
            "Epoch: [26] [ 400 /  937] D_loss: 0.33479795, G_loss: 3.58032537\n",
            "Epoch: [26] [ 500 /  937] D_loss: 0.48691565, G_loss: 2.44157791\n",
            "Epoch: [26] [ 600 /  937] D_loss: 0.31308582, G_loss: 3.65543413\n",
            "Epoch: [26] [ 700 /  937] D_loss: 0.32821062, G_loss: 2.06673741\n",
            "Epoch: [26] [ 800 /  937] D_loss: 0.33521694, G_loss: 2.88805628\n",
            "Epoch: [26] [ 900 /  937] D_loss: 0.45298070, G_loss: 2.39710498\n"
          ],
          "name": "stdout"
        },
        {
          "output_type": "stream",
          "text": [
            "WARNING:root:Lossy conversion from float64 to uint8. Range [0, 1]. Convert image to uint8 prior to saving to suppress this warning.\n"
          ],
          "name": "stderr"
        },
        {
          "output_type": "stream",
          "text": [
            "Epoch: [27] [ 100 /  937] D_loss: 0.42053047, G_loss: 4.00800037\n",
            "Epoch: [27] [ 200 /  937] D_loss: 0.24574722, G_loss: 3.46715975\n",
            "Epoch: [27] [ 300 /  937] D_loss: 0.42518672, G_loss: 2.38595271\n",
            "Epoch: [27] [ 400 /  937] D_loss: 0.30398321, G_loss: 3.59905052\n",
            "Epoch: [27] [ 500 /  937] D_loss: 0.51383442, G_loss: 2.89899874\n",
            "Epoch: [27] [ 600 /  937] D_loss: 0.27717781, G_loss: 2.82376122\n",
            "Epoch: [27] [ 700 /  937] D_loss: 0.30817151, G_loss: 2.74006462\n",
            "Epoch: [27] [ 800 /  937] D_loss: 0.90046477, G_loss: 2.58993483\n",
            "Epoch: [27] [ 900 /  937] D_loss: 0.36505419, G_loss: 2.75577378\n"
          ],
          "name": "stdout"
        },
        {
          "output_type": "stream",
          "text": [
            "WARNING:root:Lossy conversion from float64 to uint8. Range [0, 1]. Convert image to uint8 prior to saving to suppress this warning.\n"
          ],
          "name": "stderr"
        },
        {
          "output_type": "stream",
          "text": [
            "Epoch: [28] [ 100 /  937] D_loss: 0.34262532, G_loss: 4.14964771\n",
            "Epoch: [28] [ 200 /  937] D_loss: 0.26006430, G_loss: 3.77260876\n",
            "Epoch: [28] [ 300 /  937] D_loss: 0.79584944, G_loss: 2.18682599\n",
            "Epoch: [28] [ 400 /  937] D_loss: 0.57345349, G_loss: 2.58674598\n",
            "Epoch: [28] [ 500 /  937] D_loss: 0.36773884, G_loss: 3.67747974\n",
            "Epoch: [28] [ 600 /  937] D_loss: 0.20229110, G_loss: 3.26442051\n",
            "Epoch: [28] [ 700 /  937] D_loss: 0.20894991, G_loss: 3.43766069\n",
            "Epoch: [28] [ 800 /  937] D_loss: 0.20515573, G_loss: 3.63701224\n",
            "Epoch: [28] [ 900 /  937] D_loss: 0.35119969, G_loss: 3.54185867\n"
          ],
          "name": "stdout"
        },
        {
          "output_type": "stream",
          "text": [
            "WARNING:root:Lossy conversion from float64 to uint8. Range [0, 1]. Convert image to uint8 prior to saving to suppress this warning.\n"
          ],
          "name": "stderr"
        },
        {
          "output_type": "stream",
          "text": [
            "Epoch: [29] [ 100 /  937] D_loss: 0.42529920, G_loss: 3.71082783\n",
            "Epoch: [29] [ 200 /  937] D_loss: 0.20827061, G_loss: 3.64995933\n",
            "Epoch: [29] [ 300 /  937] D_loss: 0.29306057, G_loss: 3.02783132\n",
            "Epoch: [29] [ 400 /  937] D_loss: 0.39806652, G_loss: 3.20131779\n",
            "Epoch: [29] [ 500 /  937] D_loss: 0.31238300, G_loss: 3.13480139\n",
            "Epoch: [29] [ 600 /  937] D_loss: 0.53958869, G_loss: 2.24396586\n",
            "Epoch: [29] [ 700 /  937] D_loss: 0.32852039, G_loss: 2.74852014\n",
            "Epoch: [29] [ 800 /  937] D_loss: 0.41349548, G_loss: 3.26488686\n",
            "Epoch: [29] [ 900 /  937] D_loss: 0.15618280, G_loss: 3.72491693\n"
          ],
          "name": "stdout"
        },
        {
          "output_type": "stream",
          "text": [
            "WARNING:root:Lossy conversion from float64 to uint8. Range [0, 1]. Convert image to uint8 prior to saving to suppress this warning.\n"
          ],
          "name": "stderr"
        },
        {
          "output_type": "stream",
          "text": [
            "Epoch: [30] [ 100 /  937] D_loss: 0.29795143, G_loss: 3.57883501\n",
            "Epoch: [30] [ 200 /  937] D_loss: 0.77710217, G_loss: 4.22837067\n",
            "Epoch: [30] [ 300 /  937] D_loss: 0.22831030, G_loss: 3.18687463\n",
            "Epoch: [30] [ 400 /  937] D_loss: 0.29892921, G_loss: 3.32425642\n",
            "Epoch: [30] [ 500 /  937] D_loss: 0.45149595, G_loss: 2.86669159\n",
            "Epoch: [30] [ 600 /  937] D_loss: 0.25775701, G_loss: 3.18688893\n",
            "Epoch: [30] [ 700 /  937] D_loss: 0.20266891, G_loss: 3.86753416\n",
            "Epoch: [30] [ 800 /  937] D_loss: 0.53784847, G_loss: 2.96178102\n",
            "Epoch: [30] [ 900 /  937] D_loss: 0.36483800, G_loss: 3.53076649\n"
          ],
          "name": "stdout"
        },
        {
          "output_type": "stream",
          "text": [
            "WARNING:root:Lossy conversion from float64 to uint8. Range [0, 1]. Convert image to uint8 prior to saving to suppress this warning.\n"
          ],
          "name": "stderr"
        },
        {
          "output_type": "stream",
          "text": [
            "Epoch: [31] [ 100 /  937] D_loss: 0.22192612, G_loss: 3.32957673\n",
            "Epoch: [31] [ 200 /  937] D_loss: 0.72006184, G_loss: 1.02312469\n",
            "Epoch: [31] [ 300 /  937] D_loss: 0.49981487, G_loss: 4.05725193\n",
            "Epoch: [31] [ 400 /  937] D_loss: 0.25423545, G_loss: 3.08696508\n",
            "Epoch: [31] [ 500 /  937] D_loss: 0.50214177, G_loss: 1.81618154\n",
            "Epoch: [31] [ 600 /  937] D_loss: 0.27905428, G_loss: 3.69554210\n",
            "Epoch: [31] [ 700 /  937] D_loss: 0.24579623, G_loss: 3.59481859\n",
            "Epoch: [31] [ 800 /  937] D_loss: 0.19066535, G_loss: 4.14981937\n",
            "Epoch: [31] [ 900 /  937] D_loss: 0.35213125, G_loss: 4.15416718\n"
          ],
          "name": "stdout"
        },
        {
          "output_type": "stream",
          "text": [
            "WARNING:root:Lossy conversion from float64 to uint8. Range [0, 1]. Convert image to uint8 prior to saving to suppress this warning.\n"
          ],
          "name": "stderr"
        },
        {
          "output_type": "stream",
          "text": [
            "Epoch: [32] [ 100 /  937] D_loss: 0.28414488, G_loss: 2.23984432\n",
            "Epoch: [32] [ 200 /  937] D_loss: 0.29769936, G_loss: 4.50704813\n",
            "Epoch: [32] [ 300 /  937] D_loss: 0.42054117, G_loss: 4.28245640\n",
            "Epoch: [32] [ 400 /  937] D_loss: 0.35944766, G_loss: 2.66583085\n",
            "Epoch: [32] [ 500 /  937] D_loss: 0.43546131, G_loss: 4.01306200\n",
            "Epoch: [32] [ 600 /  937] D_loss: 0.34428778, G_loss: 2.99105787\n",
            "Epoch: [32] [ 700 /  937] D_loss: 0.30316788, G_loss: 2.90150285\n",
            "Epoch: [32] [ 800 /  937] D_loss: 0.28563833, G_loss: 3.42335701\n",
            "Epoch: [32] [ 900 /  937] D_loss: 0.31761265, G_loss: 2.28908539\n"
          ],
          "name": "stdout"
        },
        {
          "output_type": "stream",
          "text": [
            "WARNING:root:Lossy conversion from float64 to uint8. Range [0, 1]. Convert image to uint8 prior to saving to suppress this warning.\n"
          ],
          "name": "stderr"
        },
        {
          "output_type": "stream",
          "text": [
            "Epoch: [33] [ 100 /  937] D_loss: 0.36558703, G_loss: 2.41956234\n",
            "Epoch: [33] [ 200 /  937] D_loss: 0.26220086, G_loss: 3.42362070\n",
            "Epoch: [33] [ 300 /  937] D_loss: 0.18841833, G_loss: 3.70215464\n",
            "Epoch: [33] [ 400 /  937] D_loss: 0.25234810, G_loss: 3.60013151\n",
            "Epoch: [33] [ 500 /  937] D_loss: 0.29240698, G_loss: 3.54138517\n",
            "Epoch: [33] [ 600 /  937] D_loss: 0.30390054, G_loss: 4.70848227\n",
            "Epoch: [33] [ 700 /  937] D_loss: 0.90769559, G_loss: 3.46316051\n",
            "Epoch: [33] [ 800 /  937] D_loss: 0.48143861, G_loss: 4.43593407\n",
            "Epoch: [33] [ 900 /  937] D_loss: 0.27525312, G_loss: 2.49351025\n"
          ],
          "name": "stdout"
        },
        {
          "output_type": "stream",
          "text": [
            "WARNING:root:Lossy conversion from float64 to uint8. Range [0, 1]. Convert image to uint8 prior to saving to suppress this warning.\n"
          ],
          "name": "stderr"
        },
        {
          "output_type": "stream",
          "text": [
            "Epoch: [34] [ 100 /  937] D_loss: 0.18439993, G_loss: 3.44569921\n",
            "Epoch: [34] [ 200 /  937] D_loss: 0.27491510, G_loss: 3.72020769\n",
            "Epoch: [34] [ 300 /  937] D_loss: 0.29656392, G_loss: 3.87349224\n",
            "Epoch: [34] [ 400 /  937] D_loss: 0.17097570, G_loss: 3.55386090\n",
            "Epoch: [34] [ 500 /  937] D_loss: 0.51752836, G_loss: 3.39369035\n",
            "Epoch: [34] [ 600 /  937] D_loss: 0.19175223, G_loss: 3.69317174\n",
            "Epoch: [34] [ 700 /  937] D_loss: 0.38184035, G_loss: 3.40291119\n",
            "Epoch: [34] [ 800 /  937] D_loss: 0.36965802, G_loss: 4.11495304\n",
            "Epoch: [34] [ 900 /  937] D_loss: 0.47945189, G_loss: 4.61907625\n"
          ],
          "name": "stdout"
        },
        {
          "output_type": "stream",
          "text": [
            "WARNING:root:Lossy conversion from float64 to uint8. Range [0, 1]. Convert image to uint8 prior to saving to suppress this warning.\n"
          ],
          "name": "stderr"
        },
        {
          "output_type": "stream",
          "text": [
            "Epoch: [35] [ 100 /  937] D_loss: 0.37620175, G_loss: 4.03313446\n",
            "Epoch: [35] [ 200 /  937] D_loss: 0.23830593, G_loss: 4.40121937\n",
            "Epoch: [35] [ 300 /  937] D_loss: 0.22344440, G_loss: 3.69977236\n",
            "Epoch: [35] [ 400 /  937] D_loss: 0.26796898, G_loss: 3.07616663\n",
            "Epoch: [35] [ 500 /  937] D_loss: 0.34387434, G_loss: 3.41763186\n",
            "Epoch: [35] [ 600 /  937] D_loss: 0.31036279, G_loss: 4.73073101\n",
            "Epoch: [35] [ 700 /  937] D_loss: 0.28132412, G_loss: 2.54971933\n",
            "Epoch: [35] [ 800 /  937] D_loss: 0.24363625, G_loss: 3.45470929\n",
            "Epoch: [35] [ 900 /  937] D_loss: 0.25926572, G_loss: 3.98661900\n"
          ],
          "name": "stdout"
        },
        {
          "output_type": "stream",
          "text": [
            "WARNING:root:Lossy conversion from float64 to uint8. Range [0, 1]. Convert image to uint8 prior to saving to suppress this warning.\n"
          ],
          "name": "stderr"
        },
        {
          "output_type": "stream",
          "text": [
            "Epoch: [36] [ 100 /  937] D_loss: 0.65699875, G_loss: 3.41554785\n",
            "Epoch: [36] [ 200 /  937] D_loss: 0.30971712, G_loss: 3.74596143\n",
            "Epoch: [36] [ 300 /  937] D_loss: 0.32675636, G_loss: 4.20626974\n",
            "Epoch: [36] [ 400 /  937] D_loss: 0.48359954, G_loss: 4.61816692\n",
            "Epoch: [36] [ 500 /  937] D_loss: 0.36251780, G_loss: 3.42992139\n",
            "Epoch: [36] [ 600 /  937] D_loss: 0.38948691, G_loss: 2.65916586\n",
            "Epoch: [36] [ 700 /  937] D_loss: 0.59024650, G_loss: 4.34658527\n",
            "Epoch: [36] [ 800 /  937] D_loss: 0.29103622, G_loss: 2.41138506\n",
            "Epoch: [36] [ 900 /  937] D_loss: 0.23916771, G_loss: 3.04551744\n"
          ],
          "name": "stdout"
        },
        {
          "output_type": "stream",
          "text": [
            "WARNING:root:Lossy conversion from float64 to uint8. Range [0, 1]. Convert image to uint8 prior to saving to suppress this warning.\n"
          ],
          "name": "stderr"
        },
        {
          "output_type": "stream",
          "text": [
            "Epoch: [37] [ 100 /  937] D_loss: 0.21064378, G_loss: 4.03365993\n",
            "Epoch: [37] [ 200 /  937] D_loss: 0.22226626, G_loss: 4.08841038\n",
            "Epoch: [37] [ 300 /  937] D_loss: 0.18812095, G_loss: 3.87005138\n",
            "Epoch: [37] [ 400 /  937] D_loss: 0.26754731, G_loss: 3.97796631\n",
            "Epoch: [37] [ 500 /  937] D_loss: 0.23599069, G_loss: 2.94472837\n",
            "Epoch: [37] [ 600 /  937] D_loss: 0.18001339, G_loss: 2.97319841\n",
            "Epoch: [37] [ 700 /  937] D_loss: 0.21813455, G_loss: 3.68563008\n",
            "Epoch: [37] [ 800 /  937] D_loss: 0.25868982, G_loss: 2.52886462\n",
            "Epoch: [37] [ 900 /  937] D_loss: 0.52412361, G_loss: 4.03228569\n"
          ],
          "name": "stdout"
        },
        {
          "output_type": "stream",
          "text": [
            "WARNING:root:Lossy conversion from float64 to uint8. Range [0, 1]. Convert image to uint8 prior to saving to suppress this warning.\n"
          ],
          "name": "stderr"
        },
        {
          "output_type": "stream",
          "text": [
            "Epoch: [38] [ 100 /  937] D_loss: 0.23626707, G_loss: 3.80860496\n",
            "Epoch: [38] [ 200 /  937] D_loss: 0.34695822, G_loss: 4.24950218\n",
            "Epoch: [38] [ 300 /  937] D_loss: 0.25712490, G_loss: 2.79921699\n",
            "Epoch: [38] [ 400 /  937] D_loss: 0.24513415, G_loss: 4.07858562\n",
            "Epoch: [38] [ 500 /  937] D_loss: 0.45781398, G_loss: 5.63700819\n",
            "Epoch: [38] [ 600 /  937] D_loss: 0.28870955, G_loss: 4.25711966\n",
            "Epoch: [38] [ 700 /  937] D_loss: 0.26063836, G_loss: 2.72457743\n",
            "Epoch: [38] [ 800 /  937] D_loss: 0.34084517, G_loss: 4.19923401\n",
            "Epoch: [38] [ 900 /  937] D_loss: 0.23470506, G_loss: 3.53850245\n"
          ],
          "name": "stdout"
        },
        {
          "output_type": "stream",
          "text": [
            "WARNING:root:Lossy conversion from float64 to uint8. Range [0, 1]. Convert image to uint8 prior to saving to suppress this warning.\n"
          ],
          "name": "stderr"
        },
        {
          "output_type": "stream",
          "text": [
            "Epoch: [39] [ 100 /  937] D_loss: 0.17967647, G_loss: 3.78582859\n",
            "Epoch: [39] [ 200 /  937] D_loss: 0.24018684, G_loss: 3.98518777\n",
            "Epoch: [39] [ 300 /  937] D_loss: 0.19861913, G_loss: 3.65722704\n",
            "Epoch: [39] [ 400 /  937] D_loss: 0.31667864, G_loss: 4.12203503\n",
            "Epoch: [39] [ 500 /  937] D_loss: 0.57595938, G_loss: 6.04856777\n",
            "Epoch: [39] [ 600 /  937] D_loss: 0.22708754, G_loss: 3.32977223\n",
            "Epoch: [39] [ 700 /  937] D_loss: 0.51086450, G_loss: 2.57468176\n",
            "Epoch: [39] [ 800 /  937] D_loss: 0.14762795, G_loss: 3.81901050\n",
            "Epoch: [39] [ 900 /  937] D_loss: 0.30413878, G_loss: 3.88401651\n"
          ],
          "name": "stdout"
        },
        {
          "output_type": "stream",
          "text": [
            "WARNING:root:Lossy conversion from float64 to uint8. Range [0, 1]. Convert image to uint8 prior to saving to suppress this warning.\n"
          ],
          "name": "stderr"
        },
        {
          "output_type": "stream",
          "text": [
            "Epoch: [40] [ 100 /  937] D_loss: 0.31072128, G_loss: 3.21292615\n",
            "Epoch: [40] [ 200 /  937] D_loss: 0.20829171, G_loss: 3.58813858\n",
            "Epoch: [40] [ 300 /  937] D_loss: 0.32221955, G_loss: 5.07246161\n",
            "Epoch: [40] [ 400 /  937] D_loss: 0.25106615, G_loss: 3.91628957\n",
            "Epoch: [40] [ 500 /  937] D_loss: 0.18345448, G_loss: 4.03244305\n",
            "Epoch: [40] [ 600 /  937] D_loss: 0.49931812, G_loss: 3.52710915\n",
            "Epoch: [40] [ 700 /  937] D_loss: 0.26313514, G_loss: 4.10150623\n",
            "Epoch: [40] [ 800 /  937] D_loss: 0.21710266, G_loss: 3.89527750\n",
            "Epoch: [40] [ 900 /  937] D_loss: 0.32139838, G_loss: 2.79514027\n"
          ],
          "name": "stdout"
        },
        {
          "output_type": "stream",
          "text": [
            "WARNING:root:Lossy conversion from float64 to uint8. Range [0, 1]. Convert image to uint8 prior to saving to suppress this warning.\n"
          ],
          "name": "stderr"
        },
        {
          "output_type": "stream",
          "text": [
            "Epoch: [41] [ 100 /  937] D_loss: 0.24538566, G_loss: 3.43715549\n",
            "Epoch: [41] [ 200 /  937] D_loss: 0.29604152, G_loss: 3.05268812\n",
            "Epoch: [41] [ 300 /  937] D_loss: 0.20638487, G_loss: 3.74576116\n",
            "Epoch: [41] [ 400 /  937] D_loss: 0.32882422, G_loss: 3.96306801\n",
            "Epoch: [41] [ 500 /  937] D_loss: 0.31369883, G_loss: 3.54119062\n",
            "Epoch: [41] [ 600 /  937] D_loss: 0.56029075, G_loss: 3.53064442\n",
            "Epoch: [41] [ 700 /  937] D_loss: 0.13595863, G_loss: 3.54689074\n",
            "Epoch: [41] [ 800 /  937] D_loss: 0.20524260, G_loss: 3.42049551\n",
            "Epoch: [41] [ 900 /  937] D_loss: 0.59314924, G_loss: 4.61264515\n"
          ],
          "name": "stdout"
        },
        {
          "output_type": "stream",
          "text": [
            "WARNING:root:Lossy conversion from float64 to uint8. Range [0, 1]. Convert image to uint8 prior to saving to suppress this warning.\n"
          ],
          "name": "stderr"
        },
        {
          "output_type": "stream",
          "text": [
            "Epoch: [42] [ 100 /  937] D_loss: 0.34277961, G_loss: 3.18645978\n",
            "Epoch: [42] [ 200 /  937] D_loss: 0.16864300, G_loss: 3.58700275\n",
            "Epoch: [42] [ 300 /  937] D_loss: 0.38740131, G_loss: 3.20079088\n",
            "Epoch: [42] [ 400 /  937] D_loss: 0.33845019, G_loss: 4.37226677\n",
            "Epoch: [42] [ 500 /  937] D_loss: 0.35891157, G_loss: 5.20521641\n",
            "Epoch: [42] [ 600 /  937] D_loss: 0.28867728, G_loss: 2.86320162\n",
            "Epoch: [42] [ 700 /  937] D_loss: 0.23690143, G_loss: 3.52167964\n",
            "Epoch: [42] [ 800 /  937] D_loss: 0.47458720, G_loss: 4.34924793\n",
            "Epoch: [42] [ 900 /  937] D_loss: 0.18154956, G_loss: 4.06921005\n"
          ],
          "name": "stdout"
        },
        {
          "output_type": "stream",
          "text": [
            "WARNING:root:Lossy conversion from float64 to uint8. Range [0, 1]. Convert image to uint8 prior to saving to suppress this warning.\n"
          ],
          "name": "stderr"
        },
        {
          "output_type": "stream",
          "text": [
            "Epoch: [43] [ 100 /  937] D_loss: 0.19925991, G_loss: 4.18701124\n",
            "Epoch: [43] [ 200 /  937] D_loss: 0.37403208, G_loss: 3.39110661\n",
            "Epoch: [43] [ 300 /  937] D_loss: 0.30870953, G_loss: 3.55001068\n",
            "Epoch: [43] [ 400 /  937] D_loss: 0.89313102, G_loss: 1.79195285\n",
            "Epoch: [43] [ 500 /  937] D_loss: 0.25709319, G_loss: 3.52010870\n",
            "Epoch: [43] [ 600 /  937] D_loss: 0.28049362, G_loss: 3.39045143\n",
            "Epoch: [43] [ 700 /  937] D_loss: 0.16772333, G_loss: 4.03986359\n",
            "Epoch: [43] [ 800 /  937] D_loss: 0.33891454, G_loss: 3.45602131\n",
            "Epoch: [43] [ 900 /  937] D_loss: 0.24127936, G_loss: 3.64133859\n"
          ],
          "name": "stdout"
        },
        {
          "output_type": "stream",
          "text": [
            "WARNING:root:Lossy conversion from float64 to uint8. Range [0, 1]. Convert image to uint8 prior to saving to suppress this warning.\n"
          ],
          "name": "stderr"
        },
        {
          "output_type": "stream",
          "text": [
            "Epoch: [44] [ 100 /  937] D_loss: 0.81739324, G_loss: 6.01424026\n",
            "Epoch: [44] [ 200 /  937] D_loss: 0.23380694, G_loss: 3.32007694\n",
            "Epoch: [44] [ 300 /  937] D_loss: 0.50913477, G_loss: 2.59814358\n",
            "Epoch: [44] [ 400 /  937] D_loss: 0.36895886, G_loss: 3.12625146\n",
            "Epoch: [44] [ 500 /  937] D_loss: 0.25358987, G_loss: 3.75781274\n",
            "Epoch: [44] [ 600 /  937] D_loss: 0.17242439, G_loss: 3.92625570\n",
            "Epoch: [44] [ 700 /  937] D_loss: 0.16393203, G_loss: 4.07025814\n",
            "Epoch: [44] [ 800 /  937] D_loss: 0.28595290, G_loss: 3.01781940\n",
            "Epoch: [44] [ 900 /  937] D_loss: 0.30693635, G_loss: 4.50025082\n"
          ],
          "name": "stdout"
        },
        {
          "output_type": "stream",
          "text": [
            "WARNING:root:Lossy conversion from float64 to uint8. Range [0, 1]. Convert image to uint8 prior to saving to suppress this warning.\n"
          ],
          "name": "stderr"
        },
        {
          "output_type": "stream",
          "text": [
            "Epoch: [45] [ 100 /  937] D_loss: 0.34912097, G_loss: 2.96530437\n",
            "Epoch: [45] [ 200 /  937] D_loss: 0.16704841, G_loss: 4.87366533\n",
            "Epoch: [45] [ 300 /  937] D_loss: 0.16330893, G_loss: 4.04971600\n",
            "Epoch: [45] [ 400 /  937] D_loss: 0.19417627, G_loss: 4.21803617\n",
            "Epoch: [45] [ 500 /  937] D_loss: 0.18033379, G_loss: 4.22450876\n",
            "Epoch: [45] [ 600 /  937] D_loss: 0.25142294, G_loss: 4.67785025\n",
            "Epoch: [45] [ 700 /  937] D_loss: 0.32959980, G_loss: 4.58839226\n",
            "Epoch: [45] [ 800 /  937] D_loss: 0.31235138, G_loss: 4.66613007\n",
            "Epoch: [45] [ 900 /  937] D_loss: 0.19941315, G_loss: 3.36136913\n"
          ],
          "name": "stdout"
        },
        {
          "output_type": "stream",
          "text": [
            "WARNING:root:Lossy conversion from float64 to uint8. Range [0, 1]. Convert image to uint8 prior to saving to suppress this warning.\n"
          ],
          "name": "stderr"
        },
        {
          "output_type": "stream",
          "text": [
            "Epoch: [46] [ 100 /  937] D_loss: 0.47917482, G_loss: 3.04112220\n",
            "Epoch: [46] [ 200 /  937] D_loss: 0.30143625, G_loss: 3.33310032\n",
            "Epoch: [46] [ 300 /  937] D_loss: 0.22944126, G_loss: 4.24651766\n",
            "Epoch: [46] [ 400 /  937] D_loss: 0.32477728, G_loss: 4.50963306\n",
            "Epoch: [46] [ 500 /  937] D_loss: 0.16860901, G_loss: 3.64385271\n",
            "Epoch: [46] [ 600 /  937] D_loss: 0.19369136, G_loss: 3.65073633\n",
            "Epoch: [46] [ 700 /  937] D_loss: 0.21033999, G_loss: 3.03820610\n",
            "Epoch: [46] [ 800 /  937] D_loss: 0.45746082, G_loss: 3.06617713\n",
            "Epoch: [46] [ 900 /  937] D_loss: 0.35083535, G_loss: 2.94977403\n"
          ],
          "name": "stdout"
        },
        {
          "output_type": "stream",
          "text": [
            "WARNING:root:Lossy conversion from float64 to uint8. Range [0, 1]. Convert image to uint8 prior to saving to suppress this warning.\n"
          ],
          "name": "stderr"
        },
        {
          "output_type": "stream",
          "text": [
            "Epoch: [47] [ 100 /  937] D_loss: 0.28332737, G_loss: 3.82385683\n",
            "Epoch: [47] [ 200 /  937] D_loss: 0.24975108, G_loss: 3.29275846\n",
            "Epoch: [47] [ 300 /  937] D_loss: 0.14859472, G_loss: 4.02892399\n",
            "Epoch: [47] [ 400 /  937] D_loss: 0.26152375, G_loss: 3.01880360\n",
            "Epoch: [47] [ 500 /  937] D_loss: 0.35822076, G_loss: 3.20565677\n",
            "Epoch: [47] [ 600 /  937] D_loss: 0.18199483, G_loss: 3.02314639\n",
            "Epoch: [47] [ 700 /  937] D_loss: 0.49193564, G_loss: 2.16681290\n",
            "Epoch: [47] [ 800 /  937] D_loss: 0.08746311, G_loss: 4.73411751\n",
            "Epoch: [47] [ 900 /  937] D_loss: 0.47732067, G_loss: 4.75249958\n"
          ],
          "name": "stdout"
        },
        {
          "output_type": "stream",
          "text": [
            "WARNING:root:Lossy conversion from float64 to uint8. Range [0, 1]. Convert image to uint8 prior to saving to suppress this warning.\n"
          ],
          "name": "stderr"
        },
        {
          "output_type": "stream",
          "text": [
            "Epoch: [48] [ 100 /  937] D_loss: 0.19511572, G_loss: 3.27562976\n",
            "Epoch: [48] [ 200 /  937] D_loss: 0.34231603, G_loss: 4.11794138\n",
            "Epoch: [48] [ 300 /  937] D_loss: 0.33653763, G_loss: 4.31974125\n",
            "Epoch: [48] [ 400 /  937] D_loss: 0.22664233, G_loss: 3.64423680\n",
            "Epoch: [48] [ 500 /  937] D_loss: 0.25052395, G_loss: 3.67514253\n",
            "Epoch: [48] [ 600 /  937] D_loss: 0.71171176, G_loss: 5.40899134\n",
            "Epoch: [48] [ 700 /  937] D_loss: 0.18695390, G_loss: 3.89156342\n",
            "Epoch: [48] [ 800 /  937] D_loss: 0.22508730, G_loss: 3.15839100\n",
            "Epoch: [48] [ 900 /  937] D_loss: 0.36452866, G_loss: 5.20341587\n"
          ],
          "name": "stdout"
        },
        {
          "output_type": "stream",
          "text": [
            "WARNING:root:Lossy conversion from float64 to uint8. Range [0, 1]. Convert image to uint8 prior to saving to suppress this warning.\n"
          ],
          "name": "stderr"
        },
        {
          "output_type": "stream",
          "text": [
            "Epoch: [49] [ 100 /  937] D_loss: 0.25532603, G_loss: 4.54451275\n",
            "Epoch: [49] [ 200 /  937] D_loss: 0.22463457, G_loss: 4.02135849\n",
            "Epoch: [49] [ 300 /  937] D_loss: 0.21807428, G_loss: 2.82922697\n",
            "Epoch: [49] [ 400 /  937] D_loss: 0.27715492, G_loss: 3.99274039\n",
            "Epoch: [49] [ 500 /  937] D_loss: 0.19040099, G_loss: 3.58145618\n",
            "Epoch: [49] [ 600 /  937] D_loss: 0.22733700, G_loss: 3.80780458\n",
            "Epoch: [49] [ 700 /  937] D_loss: 0.35903108, G_loss: 3.91882014\n",
            "Epoch: [49] [ 800 /  937] D_loss: 0.31164521, G_loss: 4.19550848\n",
            "Epoch: [49] [ 900 /  937] D_loss: 0.35881868, G_loss: 5.19456482\n"
          ],
          "name": "stdout"
        },
        {
          "output_type": "stream",
          "text": [
            "WARNING:root:Lossy conversion from float64 to uint8. Range [0, 1]. Convert image to uint8 prior to saving to suppress this warning.\n"
          ],
          "name": "stderr"
        },
        {
          "output_type": "stream",
          "text": [
            "Epoch: [50] [ 100 /  937] D_loss: 0.24142164, G_loss: 4.68803358\n",
            "Epoch: [50] [ 200 /  937] D_loss: 0.23230018, G_loss: 3.18120050\n",
            "Epoch: [50] [ 300 /  937] D_loss: 0.27675816, G_loss: 4.16920376\n",
            "Epoch: [50] [ 400 /  937] D_loss: 0.36108193, G_loss: 4.75672007\n",
            "Epoch: [50] [ 500 /  937] D_loss: 0.24631715, G_loss: 3.91024446\n",
            "Epoch: [50] [ 600 /  937] D_loss: 0.27508971, G_loss: 3.38769293\n",
            "Epoch: [50] [ 700 /  937] D_loss: 0.22482120, G_loss: 3.69644880\n",
            "Epoch: [50] [ 800 /  937] D_loss: 0.15476209, G_loss: 3.80668545\n",
            "Epoch: [50] [ 900 /  937] D_loss: 0.25082913, G_loss: 3.98726177\n"
          ],
          "name": "stdout"
        },
        {
          "output_type": "stream",
          "text": [
            "WARNING:root:Lossy conversion from float64 to uint8. Range [0, 1]. Convert image to uint8 prior to saving to suppress this warning.\n"
          ],
          "name": "stderr"
        },
        {
          "output_type": "stream",
          "text": [
            "Avg one epoch time: 22.42, total 50 epochs time: 1122.61\n",
            "Training finish! Saved training results\n"
          ],
          "name": "stdout"
        },
        {
          "output_type": "stream",
          "text": [
            "WARNING:root:Lossy conversion from float64 to uint8. Range [0, 1]. Convert image to uint8 prior to saving to suppress this warning.\n"
          ],
          "name": "stderr"
        },
        {
          "output_type": "stream",
          "text": [
            " [**] Training finished!\n",
            " [**] Testing finished!\n"
          ],
          "name": "stdout"
        }
      ]
    },
    {
      "cell_type": "code",
      "metadata": {
        "id": "MLjgsszQUS7v",
        "colab_type": "code",
        "colab": {
          "base_uri": "https://localhost:8080/",
          "height": 35
        },
        "outputId": "376a8c13-f168-4b20-cade-f11a12bc65d8"
      },
      "source": [
        "!ls"
      ],
      "execution_count": 15,
      "outputs": [
        {
          "output_type": "stream",
          "text": [
            "data  models  results  sample_data\n"
          ],
          "name": "stdout"
        }
      ]
    },
    {
      "cell_type": "code",
      "metadata": {
        "id": "Z3Na3G-f7bFp",
        "colab_type": "code",
        "colab": {
          "base_uri": "https://localhost:8080/",
          "height": 1000
        },
        "outputId": "4ffdd2f4-e982-479c-ce04-90f989b43b26"
      },
      "source": [
        "for root, dirs, files in os.walk(\".\"):\n",
        "  for filename in files:\n",
        "    print(filename)"
      ],
      "execution_count": 16,
      "outputs": [
        {
          "output_type": "stream",
          "text": [
            "active_config\n",
            "gce\n",
            ".last_update_check.json\n",
            "config_sentinel\n",
            ".metricsUUID\n",
            "16.14.45.276304.log\n",
            "16.14.41.015054.log\n",
            "16.14.44.238575.log\n",
            "16.14.31.463203.log\n",
            "16.14.26.516115.log\n",
            "config_default\n",
            "GAN_epoch047.png\n",
            "GAN_epoch040.png\n",
            "GAN_epoch038.png\n",
            "GAN_epoch014.png\n",
            "GAN_epoch001.png\n",
            "GAN_epoch046.png\n",
            "GAN_epoch026.png\n",
            "GAN_epoch011.png\n",
            "GAN_epoch039.png\n",
            "GAN_epoch033.png\n",
            "GAN_epoch028.png\n",
            "GAN_epoch034.png\n",
            "GAN_epoch036.png\n",
            "GAN_generate_animation.gif\n",
            "GAN_epoch021.png\n",
            "GAN_epoch049.png\n",
            "GAN_epoch015.png\n",
            "GAN_epoch007.png\n",
            "GAN_epoch018.png\n",
            "GAN_epoch006.png\n",
            "GAN_epoch003.png\n",
            "GAN_epoch027.png\n",
            "GAN_epoch009.png\n",
            "GAN_epoch002.png\n",
            "GAN_epoch035.png\n",
            "GAN_epoch042.png\n",
            "GAN_epoch041.png\n",
            "GAN_epoch016.png\n",
            "GAN_epoch050.png\n",
            "GAN_epoch022.png\n",
            "GAN_epoch025.png\n",
            "GAN_epoch012.png\n",
            "GAN_epoch005.png\n",
            "GAN_epoch048.png\n",
            "GAN_epoch030.png\n",
            "GAN_epoch008.png\n",
            "GAN_epoch029.png\n",
            "GAN_epoch024.png\n",
            "GAN_epoch013.png\n",
            "GAN_epoch043.png\n",
            "GAN_epoch010.png\n",
            "GAN_epoch037.png\n",
            "GAN_epoch045.png\n",
            "GAN_epoch017.png\n",
            "GAN_epoch031.png\n",
            "GAN_epoch023.png\n",
            "GAN_epoch020.png\n",
            "GAN_epoch019.png\n",
            "GAN_epoch032.png\n",
            "GAN_epoch044.png\n",
            "GAN_epoch004.png\n",
            "GAN_history.pkl\n",
            "GAN_loss.png\n",
            "GAN_D.pkl\n",
            "GAN_G.pkl\n",
            "t10k-images-idx3-ubyte\n",
            "train-images-idx3-ubyte\n",
            "t10k-labels-idx1-ubyte\n",
            "train-labels-idx1-ubyte\n",
            "test.pt\n",
            "training.pt\n",
            "README.md\n",
            "anscombe.json\n",
            "california_housing_test.csv\n",
            "california_housing_train.csv\n",
            "mnist_test.csv\n",
            "mnist_train_small.csv\n"
          ],
          "name": "stdout"
        }
      ]
    },
    {
      "cell_type": "code",
      "metadata": {
        "id": "mAewf7e18RS5",
        "colab_type": "code",
        "colab": {
          "base_uri": "https://localhost:8080/",
          "height": 269
        },
        "outputId": "e3adae01-78f9-4820-c0ad-e9fb6fc9c695"
      },
      "source": [
        "import cv2\n",
        "import matplotlib.pyplot as plt\n",
        "\n",
        "im = cv2.imread('/content/results/mnist/GAN/GAN_epoch001.png')\n",
        "im_resized = cv2.resize(im, (224, 224), interpolation=cv2.INTER_LINEAR)\n",
        "\n",
        "\n",
        "plt.imshow(cv2.cvtColor(im_resized, cv2.COLOR_BGR2RGB))\n",
        "plt.show()"
      ],
      "execution_count": 17,
      "outputs": [
        {
          "output_type": "display_data",
          "data": {
            "image/png": "[encoded data removed]",
            "text/plain": [
              "<Figure size 432x288 with 1 Axes>"
            ]
          },
          "metadata": {
            "tags": []
          }
        }
      ]
    },
    {
      "cell_type": "code",
      "metadata": {
        "id": "bDKe-UD19FLx",
        "colab_type": "code",
        "colab": {
          "base_uri": "https://localhost:8080/",
          "height": 269
        },
        "outputId": "60d01072-9de1-4048-f520-21ef7b265b23"
      },
      "source": [
        "im = cv2.imread('/content/results/mnist/GAN/GAN_epoch050.png')\n",
        "im_resized = cv2.resize(im, (224, 224), interpolation=cv2.INTER_LINEAR)\n",
        "\n",
        "plt.imshow(cv2.cvtColor(im_resized, cv2.COLOR_BGR2RGB))\n",
        "plt.show()"
      ],
      "execution_count": 18,
      "outputs": [
        {
          "output_type": "display_data",
          "data": {
            "image/png": "[encoded data removed]",
            "text/plain": [
              "<Figure size 432x288 with 1 Axes>"
            ]
          },
          "metadata": {
            "tags": []
          }
        }
      ]
    },
    {
      "cell_type": "code",
      "metadata": {
        "id": "HgG6tzwBKTVW",
        "colab_type": "code",
        "colab": {
          "base_uri": "https://localhost:8080/",
          "height": 269
        },
        "outputId": "3cb42d9f-47a3-4be3-e250-ca2405a1dcb5"
      },
      "source": [
        "import matplotlib.image as mpimg\n",
        "img=mpimg.imread('/content/models/mnist/GAN/GAN_loss.png')\n",
        "imgplot = plt.imshow(img)\n",
        "plt.show()"
      ],
      "execution_count": 27,
      "outputs": [
        {
          "output_type": "display_data",
          "data": {
            "image/png": "[encoded data removed]",
            "text/plain": [
              "<Figure size 432x288 with 1 Axes>"
            ]
          },
          "metadata": {
            "tags": []
          }
        }
      ]
    }
  ]
}