{
  "nbformat": 4,
  "nbformat_minor": 0,
  "metadata": {
    "colab": {
      "name": "GAN-Fashion_MNIST.ipynb",
      "version": "0.3.2",
      "provenance": [],
      "collapsed_sections": []
    },
    "kernelspec": {
      "name": "python3",
      "display_name": "Python 3"
    },
    "accelerator": "GPU"
  },
  "cells": [
    {
      "cell_type": "code",
      "metadata": {
        "id": "3Yi4Zs_Sr2sN",
        "colab_type": "code",
        "colab": {}
      },
      "source": [
        "from torch.utils.data import DataLoader\n",
        "from torchvision import datasets, transforms\n",
        "\n",
        "import argparse, os, gzip, torch, time, pickle\n",
        "import torch.nn as nn\n",
        "import torch.optim as optim\n",
        "import numpy as np\n",
        "import imageio\n",
        "import matplotlib.pyplot as plt"
      ],
      "execution_count": 0,
      "outputs": []
    },
    {
      "cell_type": "code",
      "metadata": {
        "id": "KwOyYmYrs6Mx",
        "colab_type": "code",
        "colab": {}
      },
      "source": [
        "def dataloader(dataset, input_size, batch_size, split = 'train'):\n",
        "  \n",
        "  transform = transforms.Compose([##transforms.Resize((input_size, input_size)),\n",
        "                                  transforms.ToTensor(),\n",
        "                                  transforms.Normalize([0.5], [0.5])\n",
        "#                                   transforms.Normalize(mean = (0.5, 0.5, 0.5),\n",
        "#                                                        std = (0.5, 0.5, 0.5))\n",
        "  ])\n",
        "  \n",
        "  if dataset == 'mnist':\n",
        "    data_loader = DataLoader(\n",
        "        datasets.MNIST('data/mnist', train = True, download = True,\n",
        "                       transform = transform),\n",
        "        batch_size = batch_size,\n",
        "        shuffle = True\n",
        "    )\n",
        "  \n",
        "  elif dataset == 'fashion-mnist':\n",
        "    data_loader = DataLoader(\n",
        "        datasets.FashionMNIST('data/fashion-mnist', train = True, download = True,\n",
        "                              transform = transform),\n",
        "        batch_size = batch_size, \n",
        "        shuffle = True\n",
        "    )\n",
        "    \n",
        "  elif dataset == 'cifar10':\n",
        "    data_loader = DataLoader(\n",
        "        datasets.CIFAR10('data/cifar10', train = True, download = True,\n",
        "                         transform = transform),\n",
        "        batch_size = batch_size,\n",
        "        shuffle = True\n",
        "    )\n",
        "    \n",
        "  elif dataset == 'svhn':\n",
        "    data_loader = DataLoader(\n",
        "        datasets.SVHN('data/svhn', split = split, download = True,\n",
        "                      transform = transform),\n",
        "        batch_size = batch_size,\n",
        "        shuffle = True\n",
        "    )\n",
        "    \n",
        "  elif dataset == 'stl10':\n",
        "    data_loader = DataLoader(\n",
        "        datasets.STL10('data/stl10', split = split, download = True,\n",
        "                       transform = transform),\n",
        "        batch_size = batch_size,\n",
        "        shuffle = True\n",
        "    )\n",
        "    \n",
        "  elif dataset == 'lsun-bed':\n",
        "    data_loader = DataLoader(\n",
        "        datasets.LSUN('data/lsun', classes = ['bedroom_train'],\n",
        "                      transform = transform),\n",
        "        batch_size = batch_size,\n",
        "        shuffle = True\n",
        "    )\n",
        "    \n",
        "  return data_loader"
      ],
      "execution_count": 0,
      "outputs": []
    },
    {
      "cell_type": "code",
      "metadata": {
        "id": "3jFSxlgYjUD1",
        "colab_type": "code",
        "colab": {}
      },
      "source": [
        "def load_mnist(dataset):\n",
        "  data_dir = os.path.join(\"./data\", dataset)\n",
        "  \n",
        "  def extract_data(filename, num_data, head_size, data_size):\n",
        "    with gzip.open(filename) as bytestream:\n",
        "      bytestream.read(head_size)\n",
        "      buf = bytestream.read(data_size * num_data)\n",
        "      data = np.frombuffer(buf, dtype = np.uint8).astype(np.float)\n",
        "    return data\n",
        "  \n",
        "  data = extract_data(data_dir + '/train-images-idx3-ubyte.gz', 60000, 16, 28 * 28)\n",
        "  trX = data.reshape((60000, 28, 28, 1))\n",
        "  \n",
        "  data = extract_data(data_dir + '/train-labels-idx1-ubyte.gz', 60000, 8, 1)\n",
        "  trY = data.reshape((60000))\n",
        "  \n",
        "  data = extract_data(data_dir + '/t10k-images-idx3-ubyte.gz', 10000, 16, 28 * 28)\n",
        "  teX = data.reshape((10000, 28, 28, 1))\n",
        "  \n",
        "  data = extract_data(data_dir + '/t10k-labels-idx1-ubyte.gz', 10000, 8, 1)\n",
        "  teY = data.reshape((10000))\n",
        "  \n",
        "  trY = np.asarray(trY).astype(np.int)\n",
        "  teY = np.asarray(teY)\n",
        "  \n",
        "  X = np.concatenate((trX, teX), axis = 0)\n",
        "  y = np.concatenate((trY, teY), axis = 0).astype(np.int)\n",
        "  \n",
        "  seed = 547\n",
        "  np.random.seed(seed)\n",
        "  np.random.shuffle(X)\n",
        "  np.random.seed(seed)\n",
        "  np.random.shuffle(y)\n",
        "  \n",
        "  y_vec = np.zeros((len(y), 10), dtype = np.float)\n",
        "  for i, label in enumerate(y):\n",
        "    y_vec[i, y[i]] = 1\n",
        "    \n",
        "  \n",
        "  X = X.transpose(0, 3, 1, 2) / 255.\n",
        "  ## y_vec = y_vec.transpose(0, 3, 1, 2)\n",
        "  \n",
        "  \n",
        "  X = torch.from_numpy(X).type(torch.FloatTensor)\n",
        "  y_vec = torch.from_numpy(y_vec).type(torch.FloatTensor)\n",
        "  return X, y_vec\n",
        "  "
      ],
      "execution_count": 0,
      "outputs": []
    },
    {
      "cell_type": "code",
      "metadata": {
        "id": "PlEl_3Vwmn4I",
        "colab_type": "code",
        "colab": {}
      },
      "source": [
        "def load_celebA(dir, transform, batch_size, shuffle):\n",
        "  \n",
        "  \n",
        "##    transform = transforms.Compose([\n",
        "##       transforms.CenterCrop(160),\n",
        "##       transforms.Scale(64),\n",
        "##       transforms.ToTensor(),\n",
        "##       transform.Normalize(mean = (0.5, 0.5, 0.5),\n",
        "##                           std = (0.5, 0.5, 0.5))\n",
        "##    ])\n",
        "\n",
        "##    data_dir = 'data/celebA'    ## this path depends on your computer\n",
        "  \n",
        "  dset = datasets.ImageFolder(dir, transform)\n",
        "  data_loader = torch.utils.data.DataLoader(dset, batch_size, shuffle)\n",
        "  \n",
        "  return data_loader"
      ],
      "execution_count": 0,
      "outputs": []
    },
    {
      "cell_type": "code",
      "metadata": {
        "id": "kVZ0VReGoHox",
        "colab_type": "code",
        "colab": {}
      },
      "source": [
        "def print_network(net):\n",
        "  num_params = 0\n",
        "  for param in net.parameters():\n",
        "    num_params += param.numel()\n",
        "  print(net)\n",
        "  print('Total number of parameters: %d' % num_params)"
      ],
      "execution_count": 0,
      "outputs": []
    },
    {
      "cell_type": "code",
      "metadata": {
        "id": "F5sp-Zp_owK9",
        "colab_type": "code",
        "colab": {}
      },
      "source": [
        "def save_images(images, size, image_path):\n",
        "  return imsave(images, size, image_path)\n",
        "\n",
        "def imsave(images, size, path):\n",
        "  image = np.squeeze(merge(images, size))\n",
        "#   image = image.astype(np.uint8)\n",
        "  return imageio.imwrite(path, image)"
      ],
      "execution_count": 0,
      "outputs": []
    },
    {
      "cell_type": "code",
      "metadata": {
        "id": "Qwb2Ab-npGQJ",
        "colab_type": "code",
        "colab": {}
      },
      "source": [
        "def merge(images, size):\n",
        "  h, w = images.shape[1], images.shape[2]\n",
        "  \n",
        "  if(images.shape[3] in (3, 4)):\n",
        "    c = images.shape[3]\n",
        "    img = np.zeros((h * size[0], w * size[1], c))\n",
        "    for idx, image in enumerate(images):\n",
        "      i = idx % size[1]\n",
        "      j = idx // size[1]\n",
        "      img[j * h: j * h + h, i * w: i * w + w, :] = image\n",
        "    return img\n",
        "  \n",
        "  elif images.shape[3] == 1:\n",
        "    img = np.zeros((h * size[0], w * size[1]))\n",
        "    for idx, image in enumerate(images):\n",
        "      i = idx % size[1]\n",
        "      j = idx // size[1]\n",
        "      img[j * h: j * h + h, i * w: i * w + w] = image[:, :, 0]\n",
        "    return img\n",
        "  \n",
        "  else:\n",
        "    raise ValueError('in merge(images, size) images parameter must have dimensions: HxW or HxWx3 or HxWx4')"
      ],
      "execution_count": 0,
      "outputs": []
    },
    {
      "cell_type": "code",
      "metadata": {
        "id": "REvODEZ6qxaw",
        "colab_type": "code",
        "colab": {}
      },
      "source": [
        "def generate_animation(path, num):\n",
        "  images = []\n",
        "  for e in range(num):\n",
        "    img_name = path + '_epoch%03d' % (e + 1) + '.png'\n",
        "    images.append(imageio.imread(img_name))\n",
        "  imageio.mimsave(path + '_generate_animation.gif', images, fps = 5)"
      ],
      "execution_count": 0,
      "outputs": []
    },
    {
      "cell_type": "code",
      "metadata": {
        "id": "-nwCxnsUsJBK",
        "colab_type": "code",
        "colab": {}
      },
      "source": [
        "def loss_plot(hist, path = 'Train_hist.png', model_name = ''):\n",
        "  \n",
        "  x = range(len(hist['D_loss']))\n",
        "  \n",
        "  y1 = hist['D_loss']\n",
        "  y2 = hist['G_loss']\n",
        "  \n",
        "  plt.plot(x, y1, label = 'D_loss')\n",
        "  plt.plot(x, y2, label = 'G_loss')\n",
        "  \n",
        "  plt.xlabel('Iter')\n",
        "  plt.ylabel('Loss')\n",
        "  \n",
        "  plt.legend(loc = 4)\n",
        "  plt.grid(True)\n",
        "  plt.tight_layout()\n",
        "  \n",
        "  path = os.path.join(path, model_name + '_loss.png')\n",
        "  \n",
        "  plt.savefig(path)\n",
        "  \n",
        "  plt.close()"
      ],
      "execution_count": 0,
      "outputs": []
    },
    {
      "cell_type": "code",
      "metadata": {
        "id": "juq5bWoNtcNE",
        "colab_type": "code",
        "colab": {}
      },
      "source": [
        "def initialize_weights(net):\n",
        "  \n",
        "  for m in net.modules():\n",
        "    if isinstance(m, nn.Conv2d):\n",
        "      m.weight.data.normal_(0, 0.02)\n",
        "      m.bias.data.zero_()\n",
        "    elif isinstance(m, nn.ConvTranspose2d):\n",
        "      m.weight.data.normal_(0, 0.02)\n",
        "      m.bias.data.zero_()\n",
        "    elif isinstance(m, nn.Linear):\n",
        "      m.weight.data.normal_(0, 0.02)\n",
        "      m.bias.data.zero_()"
      ],
      "execution_count": 0,
      "outputs": []
    },
    {
      "cell_type": "code",
      "metadata": {
        "id": "d8BAlOXyuA_H",
        "colab_type": "code",
        "colab": {}
      },
      "source": [
        "class generator(nn.Module):\n",
        "  \n",
        "  ## Network Architecture is exactly same as in infoGAN (https://arxiv.org/abs/1606.03657)\n",
        "  ## Architecture: FC1024_BR-FC7x7x128_BR-(64)4dc2s_BR-(1)4dc2s_S\n",
        "  \n",
        "  def __init__(self, input_dim = 100, output_dim = 1, input_size = 32):\n",
        "    super(generator, self).__init__()\n",
        "    self.input_dim = input_dim\n",
        "    self.output_dim = output_dim\n",
        "    self.input_size = input_size\n",
        "    \n",
        "    self.fc = nn.Sequential(\n",
        "        nn.Linear(self.input_dim, 1024),\n",
        "        nn.BatchNorm1d(1024),\n",
        "        nn.ReLU(),\n",
        "        nn.Linear(1024, 128 * (self.input_size // 4) * (self.input_size // 4)),\n",
        "        nn.BatchNorm1d(128 * (self.input_size // 4) * (self.input_size // 4)),\n",
        "        nn.ReLU(),\n",
        "    )\n",
        "    \n",
        "    self.deconv = nn.Sequential(\n",
        "        nn.ConvTranspose2d(128, 64, 4, 2, 1),\n",
        "        nn.BatchNorm2d(64),\n",
        "        nn.ReLU(),\n",
        "        nn.ConvTranspose2d(64, self.output_dim, 4, 2, 1),\n",
        "        nn.Tanh(),\n",
        "    )\n",
        "    \n",
        "    initialize_weights(self)\n",
        "    \n",
        "  \n",
        "  def forward(self, input):\n",
        "    x = self.fc(input)\n",
        "    x = x.view(-1, 128, (self.input_size // 4), (self.input_size // 4))\n",
        "    x = self.deconv(x)\n",
        "    return x"
      ],
      "execution_count": 0,
      "outputs": []
    },
    {
      "cell_type": "code",
      "metadata": {
        "id": "fnY_Ryf5xg_C",
        "colab_type": "code",
        "colab": {}
      },
      "source": [
        "class discriminator(nn.Module):\n",
        "  \n",
        "  ## Network Architecture is exactly same as in infoGAN (https://arxiv.org/abs/1606.03657)\n",
        "  ## Architecture: (64)4c2s-(128)4c2s_BL-FC1024_BL-FC1_S\n",
        "  \n",
        "  def __init__(self, input_dim = 1, output_dim = 1, input_size = 32):\n",
        "    super(discriminator, self).__init__()\n",
        "    self.input_dim = input_dim\n",
        "    self.output_dim = output_dim\n",
        "    self.input_size = input_size\n",
        "    \n",
        "    self.conv = nn.Sequential(\n",
        "        nn.Conv2d(self.input_dim, 64, 4, 2, 1),\n",
        "        nn.LeakyReLU(0.2),\n",
        "        nn.Conv2d(64, 128, 4, 2, 1),\n",
        "        nn.BatchNorm2d(128),\n",
        "        nn.LeakyReLU(0.2),\n",
        "    )\n",
        "    \n",
        "    self.fc = nn.Sequential(\n",
        "        nn.Linear(128 * (self.input_size // 4) * (self.input_size // 4), 1024),\n",
        "        nn.BatchNorm1d(1024),\n",
        "        nn.LeakyReLU(0.2),\n",
        "        nn.Linear(1024, self.output_dim),\n",
        "        nn.Sigmoid(),\n",
        "    )\n",
        "    \n",
        "    initialize_weights(self)\n",
        "    \n",
        "  \n",
        "  def forward(self, input):\n",
        "    x = self.conv(input)\n",
        "    x = x.view(-1, 128 * (self.input_size // 4) * (self.input_size // 4))\n",
        "    x = self.fc(x)\n",
        "    return x"
      ],
      "execution_count": 0,
      "outputs": []
    },
    {
      "cell_type": "code",
      "metadata": {
        "id": "D7FArnSAy_Nm",
        "colab_type": "code",
        "colab": {}
      },
      "source": [
        "class GAN(object):\n",
        "  \n",
        "  def __init__(self):\n",
        "    ## parameters\n",
        "    self.epoch = 50\n",
        "    self.sample_num = 100\n",
        "    self.batch_size = 64\n",
        "    self.save_dir = 'models'\n",
        "    self.result_dir = 'results'\n",
        "    self.dataset = 'fashion-mnist'\n",
        "    self.log_dir = 'logs'\n",
        "    self.gpu_mode = True\n",
        "    self.model_name = 'GAN'\n",
        "    self.input_size = 28\n",
        "    self.z_dim = 62\n",
        "    \n",
        "    \n",
        "    ## load dataset\n",
        "    self.data_loader = dataloader(self.dataset, \n",
        "                                  self.input_size,\n",
        "                                  self.batch_size)\n",
        "    data = self.data_loader.__iter__().__next__()[0]\n",
        "    \n",
        "    \n",
        "    ## networks init\n",
        "    self.G = generator(input_dim = self.z_dim,\n",
        "                       output_dim = data.shape[1],\n",
        "                       input_size = self.input_size)\n",
        "    self.D = discriminator(input_dim = data.shape[1],\n",
        "                           output_dim = 1,\n",
        "                           input_size = self.input_size)\n",
        "    self.G_optimizer = optim.Adam(self.G.parameters(),\n",
        "                                  lr = 0.0002,\n",
        "                                  betas = (0.5, 0.999))\n",
        "    self.D_optimizer = optim.Adam(self.D.parameters(),\n",
        "                                  lr = 0.0002,\n",
        "                                  betas = (0.5, 0.999))\n",
        "    \n",
        "    \n",
        "    if self.gpu_mode:\n",
        "      self.G.cuda()\n",
        "      self.D.cuda()\n",
        "      self.BCE_loss = nn.BCELoss().cuda()\n",
        "    else:\n",
        "      self.BCE_loss = nn.BCELoss()\n",
        "      \n",
        "    \n",
        "    print('----------Networks architecture-----------')\n",
        "    print_network(self.G)\n",
        "    print_network(self.D)\n",
        "    print('------------------------------------------')\n",
        "    \n",
        "    \n",
        "    ## fixed noise\n",
        "    self.sample_z_ = torch.rand((self.batch_size, self.z_dim))\n",
        "    if self.gpu_mode:\n",
        "      self.sample_z_ = self.sample_z_.cuda()\n",
        "      \n",
        "      \n",
        "  def train(self):\n",
        "    self.train_hist = {}\n",
        "    self.train_hist['D_loss'] = []\n",
        "    self.train_hist['G_loss'] = []\n",
        "    self.train_hist['per_epoch_time'] = []\n",
        "    self.train_hist['total_time'] = []\n",
        "    \n",
        "    self.y_real_, self.y_fake_ = torch.ones(self.batch_size, 1), torch.zeros(self.batch_size, 1)\n",
        "    if self.gpu_mode:\n",
        "      self.y_real_, self.y_fake_ = self.y_real_.cuda(), self.y_fake_.cuda()\n",
        "      \n",
        "    self.D.train()\n",
        "    print('training start !')\n",
        "    start_time = time.time()\n",
        "    for epoch in range(self.epoch):\n",
        "      self.G.train()\n",
        "      epoch_start_time = time.time()\n",
        "      for iter, (x_, _) in enumerate(self.data_loader):\n",
        "        if iter == self.data_loader.dataset.__len__() // self.batch_size:\n",
        "          break\n",
        "          \n",
        "        z_ = torch.rand((self.batch_size, self.z_dim))\n",
        "        if self.gpu_mode:\n",
        "          x_, z_ = x_.cuda(), z_.cuda()\n",
        "          \n",
        "        \n",
        "        ## Update D network\n",
        "        self.D_optimizer.zero_grad()\n",
        "        \n",
        "        D_real = self.D(x_)\n",
        "        D_real_loss = self.BCE_loss(D_real, self.y_real_)\n",
        "        \n",
        "        G_ = self.G(z_)\n",
        "        D_fake = self.D(G_)\n",
        "        D_fake_loss = self.BCE_loss(D_fake, self.y_fake_)\n",
        "        \n",
        "        D_loss = D_real_loss + D_fake_loss\n",
        "        self.train_hist['D_loss'].append(D_loss.item())\n",
        "        \n",
        "        D_loss.backward()\n",
        "        self.D_optimizer.step()\n",
        "        \n",
        "        \n",
        "        ## Update G network\n",
        "        self.G_optimizer.zero_grad()\n",
        "        \n",
        "        G_ = self.G(z_)\n",
        "        D_fake = self.D(G_)\n",
        "        G_loss = self.BCE_loss(D_fake, self.y_real_)\n",
        "        self.train_hist['G_loss'].append(G_loss.item())\n",
        "        \n",
        "        G_loss.backward()\n",
        "        self.G_optimizer.step()\n",
        "        \n",
        "        \n",
        "        if ((iter + 1) % 100) == 0:\n",
        "          print(\"Epoch: [%2d] [%4d / %4d] D_loss: %.8f, G_loss: %.8f\" %\n",
        "                ((epoch + 1), (iter + 1), self.data_loader.dataset.__len__() // self.batch_size,\n",
        "                 D_loss.item(), G_loss.item()))\n",
        "          \n",
        "      self.train_hist['per_epoch_time'].append(time.time() - epoch_start_time)\n",
        "      with torch.no_grad():\n",
        "        self.visualize_results((epoch + 1))\n",
        "        \n",
        "    self.train_hist['total_time'].append(time.time() - start_time)\n",
        "    print(\"Avg one epoch time: %.2f, total %d epochs time: %.2f\" % (np.mean(self.train_hist['per_epoch_time']),\n",
        "                                                                   self.epoch, self.train_hist['total_time'][0]))\n",
        "    print(\"Training finish! Saved training results\")\n",
        "    \n",
        "    self.save()\n",
        "    \n",
        "    generate_animation(self.result_dir + '/' + self.dataset + '/' + self.model_name + '/' + self.model_name,\n",
        "                       self.epoch)\n",
        "    loss_plot(self.train_hist, os.path.join(self.save_dir, self.dataset, self.model_name), self.model_name)\n",
        "    \n",
        "    \n",
        "  def visualize_results(self, epoch, fix = True):\n",
        "    self.G.eval()\n",
        "    \n",
        "    if not os.path.exists(self.result_dir + '/' + self.dataset + '/' + self.model_name):\n",
        "      os.makedirs(self.result_dir + '/' + self.dataset + '/' + self.model_name)\n",
        "      \n",
        "    tot_num_samples = min(self.sample_num, self.batch_size)\n",
        "    image_frame_dim = int(np.floor(np.sqrt(tot_num_samples)))\n",
        "    \n",
        "    if fix:\n",
        "      \"\"\" fixed noise \"\"\"\n",
        "      samples = self.G(self.sample_z_)\n",
        "      \n",
        "    else:\n",
        "      \"\"\" random noise \"\"\"\n",
        "      sample_z_ = torch.rand((self.batch_size, self.z_dim))\n",
        "      if self.gpu_mode:\n",
        "        sample_z_ = sample_z_.cuda()\n",
        "        \n",
        "      samples = self.G(sample_z_)\n",
        "      \n",
        "    \n",
        "    if self.gpu_mode:\n",
        "      samples = samples.cpu().data.numpy().transpose(0, 2, 3, 1)\n",
        "    else:\n",
        "      samples = samples.data.numpy().transpose(0, 2, 3, 1)\n",
        "      \n",
        "    \n",
        "    samples = (samples + 1) / 2\n",
        "    save_images(samples[:image_frame_dim * image_frame_dim, :, :, :],\n",
        "                [image_frame_dim, image_frame_dim],\n",
        "                self.result_dir + '/' + self.dataset + '/' + self.model_name + '/' + self.model_name + '_epoch%03d' % epoch + '.png')\n",
        "    \n",
        "    \n",
        "  def save(self):\n",
        "    save_dir = os.path.join(self.save_dir, self.dataset, self.model_name)\n",
        "    \n",
        "    if not os.path.exists(save_dir):\n",
        "      os.makedirs(save_dir)\n",
        "      \n",
        "    torch.save(self.G.state_dict(), os.path.join(save_dir, self.model_name + '_G.pkl'))\n",
        "    torch.save(self.D.state_dict(), os.path.join(save_dir, self.model_name + '_D.pkl'))\n",
        "    \n",
        "    with open(os.path.join(save_dir, self.model_name + '_history.pkl'), 'wb') as f:\n",
        "      pickle.dump(self.train_hist, f)\n",
        "      \n",
        "      \n",
        "  def load(self):\n",
        "    save_dir = os.path.join(self.save_dir, self.dataset, self.model_name)\n",
        "    \n",
        "    self.G.load_state_dict(torch.load(os.path.join(save_dir, self.model_name + '_G.pkl')))\n",
        "    self.D.load_state_dict(torch.load(os.path.join(save_dir, self.model_name + '_D.pkl')))"
      ],
      "execution_count": 0,
      "outputs": []
    },
    {
      "cell_type": "code",
      "metadata": {
        "id": "so27CcsfSijA",
        "colab_type": "code",
        "colab": {
          "base_uri": "https://localhost:8080/",
          "height": 1000
        },
        "outputId": "7ebd74e1-1fe6-4c91-c178-77eff5a61247"
      },
      "source": [
        "def main():\n",
        "  \n",
        "  gan = GAN()\n",
        "  \n",
        "  gan.train()\n",
        "  print(\" [**] Training finished!\")\n",
        "  \n",
        "  ## visualize learned generator\n",
        "  gan.visualize_results(50)\n",
        "  print(\" [**] Testing finished!\")\n",
        "  \n",
        "if __name__ == '__main__':\n",
        "  main()"
      ],
      "execution_count": 14,
      "outputs": [
        {
          "output_type": "stream",
          "text": [
            "\r0it [00:00, ?it/s]"
          ],
          "name": "stderr"
        },
        {
          "output_type": "stream",
          "text": [
            "Downloading http://fashion-mnist.s3-website.eu-central-1.amazonaws.com/train-images-idx3-ubyte.gz to data/fashion-mnist/FashionMNIST/raw/train-images-idx3-ubyte.gz\n"
          ],
          "name": "stdout"
        },
        {
          "output_type": "stream",
          "text": [
            "26427392it [00:01, 13862109.15it/s]                             \n"
          ],
          "name": "stderr"
        },
        {
          "output_type": "stream",
          "text": [
            "Extracting data/fashion-mnist/FashionMNIST/raw/train-images-idx3-ubyte.gz\n"
          ],
          "name": "stdout"
        },
        {
          "output_type": "stream",
          "text": [
            "\r0it [00:00, ?it/s]"
          ],
          "name": "stderr"
        },
        {
          "output_type": "stream",
          "text": [
            "Downloading http://fashion-mnist.s3-website.eu-central-1.amazonaws.com/train-labels-idx1-ubyte.gz to data/fashion-mnist/FashionMNIST/raw/train-labels-idx1-ubyte.gz\n"
          ],
          "name": "stdout"
        },
        {
          "output_type": "stream",
          "text": [
            "32768it [00:00, 96465.92it/s]                            \n",
            "0it [00:00, ?it/s]"
          ],
          "name": "stderr"
        },
        {
          "output_type": "stream",
          "text": [
            "Extracting data/fashion-mnist/FashionMNIST/raw/train-labels-idx1-ubyte.gz\n",
            "Downloading http://fashion-mnist.s3-website.eu-central-1.amazonaws.com/t10k-images-idx3-ubyte.gz to data/fashion-mnist/FashionMNIST/raw/t10k-images-idx3-ubyte.gz\n"
          ],
          "name": "stdout"
        },
        {
          "output_type": "stream",
          "text": [
            "4423680it [00:01, 3917519.71it/s]                             \n",
            "0it [00:00, ?it/s]"
          ],
          "name": "stderr"
        },
        {
          "output_type": "stream",
          "text": [
            "Extracting data/fashion-mnist/FashionMNIST/raw/t10k-images-idx3-ubyte.gz\n",
            "Downloading http://fashion-mnist.s3-website.eu-central-1.amazonaws.com/t10k-labels-idx1-ubyte.gz to data/fashion-mnist/FashionMNIST/raw/t10k-labels-idx1-ubyte.gz\n"
          ],
          "name": "stdout"
        },
        {
          "output_type": "stream",
          "text": [
            "8192it [00:00, 29542.61it/s]            \n"
          ],
          "name": "stderr"
        },
        {
          "output_type": "stream",
          "text": [
            "Extracting data/fashion-mnist/FashionMNIST/raw/t10k-labels-idx1-ubyte.gz\n",
            "Processing...\n",
            "Done!\n",
            "----------Networks architecture-----------\n",
            "generator(\n",
            "  (fc): Sequential(\n",
            "    (0): Linear(in_features=62, out_features=1024, bias=True)\n",
            "    (1): BatchNorm1d(1024, eps=1e-05, momentum=0.1, affine=True, track_running_stats=True)\n",
            "    (2): ReLU()\n",
            "    (3): Linear(in_features=1024, out_features=6272, bias=True)\n",
            "    (4): BatchNorm1d(6272, eps=1e-05, momentum=0.1, affine=True, track_running_stats=True)\n",
            "    (5): ReLU()\n",
            "  )\n",
            "  (deconv): Sequential(\n",
            "    (0): ConvTranspose2d(128, 64, kernel_size=(4, 4), stride=(2, 2), padding=(1, 1))\n",
            "    (1): BatchNorm2d(64, eps=1e-05, momentum=0.1, affine=True, track_running_stats=True)\n",
            "    (2): ReLU()\n",
            "    (3): ConvTranspose2d(64, 1, kernel_size=(4, 4), stride=(2, 2), padding=(1, 1))\n",
            "    (4): Tanh()\n",
            "  )\n",
            ")\n",
            "Total number of parameters: 6640193\n",
            "discriminator(\n",
            "  (conv): Sequential(\n",
            "    (0): Conv2d(1, 64, kernel_size=(4, 4), stride=(2, 2), padding=(1, 1))\n",
            "    (1): LeakyReLU(negative_slope=0.2)\n",
            "    (2): Conv2d(64, 128, kernel_size=(4, 4), stride=(2, 2), padding=(1, 1))\n",
            "    (3): BatchNorm2d(128, eps=1e-05, momentum=0.1, affine=True, track_running_stats=True)\n",
            "    (4): LeakyReLU(negative_slope=0.2)\n",
            "  )\n",
            "  (fc): Sequential(\n",
            "    (0): Linear(in_features=6272, out_features=1024, bias=True)\n",
            "    (1): BatchNorm1d(1024, eps=1e-05, momentum=0.1, affine=True, track_running_stats=True)\n",
            "    (2): LeakyReLU(negative_slope=0.2)\n",
            "    (3): Linear(in_features=1024, out_features=1, bias=True)\n",
            "    (4): Sigmoid()\n",
            "  )\n",
            ")\n",
            "Total number of parameters: 6559169\n",
            "------------------------------------------\n",
            "training start !\n",
            "Epoch: [ 1] [ 100 /  937] D_loss: 1.10119033, G_loss: 0.98635715\n",
            "Epoch: [ 1] [ 200 /  937] D_loss: 0.84679139, G_loss: 1.13011336\n",
            "Epoch: [ 1] [ 300 /  937] D_loss: 0.82201707, G_loss: 1.26641893\n",
            "Epoch: [ 1] [ 400 /  937] D_loss: 0.96927327, G_loss: 1.18315363\n",
            "Epoch: [ 1] [ 500 /  937] D_loss: 0.89901626, G_loss: 1.14902782\n",
            "Epoch: [ 1] [ 600 /  937] D_loss: 1.04619801, G_loss: 1.15772176\n",
            "Epoch: [ 1] [ 700 /  937] D_loss: 0.96627295, G_loss: 1.16705298\n",
            "Epoch: [ 1] [ 800 /  937] D_loss: 0.90149736, G_loss: 1.12040699\n",
            "Epoch: [ 1] [ 900 /  937] D_loss: 1.06490028, G_loss: 1.20996356\n"
          ],
          "name": "stdout"
        },
        {
          "output_type": "stream",
          "text": [
            "WARNING:root:Lossy conversion from float64 to uint8. Range [0, 1]. Convert image to uint8 prior to saving to suppress this warning.\n"
          ],
          "name": "stderr"
        },
        {
          "output_type": "stream",
          "text": [
            "Epoch: [ 2] [ 100 /  937] D_loss: 0.99319917, G_loss: 1.12165844\n",
            "Epoch: [ 2] [ 200 /  937] D_loss: 1.03327119, G_loss: 1.03222430\n",
            "Epoch: [ 2] [ 300 /  937] D_loss: 1.07386422, G_loss: 1.12418878\n",
            "Epoch: [ 2] [ 400 /  937] D_loss: 1.08233786, G_loss: 1.03182697\n",
            "Epoch: [ 2] [ 500 /  937] D_loss: 1.04676723, G_loss: 1.10002637\n",
            "Epoch: [ 2] [ 600 /  937] D_loss: 1.02536941, G_loss: 1.19930983\n",
            "Epoch: [ 2] [ 700 /  937] D_loss: 1.15412426, G_loss: 1.14824796\n",
            "Epoch: [ 2] [ 800 /  937] D_loss: 0.96363914, G_loss: 1.17417872\n",
            "Epoch: [ 2] [ 900 /  937] D_loss: 0.96950066, G_loss: 1.31322289\n"
          ],
          "name": "stdout"
        },
        {
          "output_type": "stream",
          "text": [
            "WARNING:root:Lossy conversion from float64 to uint8. Range [0, 1]. Convert image to uint8 prior to saving to suppress this warning.\n"
          ],
          "name": "stderr"
        },
        {
          "output_type": "stream",
          "text": [
            "Epoch: [ 3] [ 100 /  937] D_loss: 1.03054821, G_loss: 1.09577489\n",
            "Epoch: [ 3] [ 200 /  937] D_loss: 1.05416524, G_loss: 1.13066185\n",
            "Epoch: [ 3] [ 300 /  937] D_loss: 0.98714304, G_loss: 1.12658870\n",
            "Epoch: [ 3] [ 400 /  937] D_loss: 1.10756421, G_loss: 1.15920568\n",
            "Epoch: [ 3] [ 500 /  937] D_loss: 0.84855163, G_loss: 1.26560307\n",
            "Epoch: [ 3] [ 600 /  937] D_loss: 0.98717755, G_loss: 1.14615989\n",
            "Epoch: [ 3] [ 700 /  937] D_loss: 1.06436229, G_loss: 1.18983185\n",
            "Epoch: [ 3] [ 800 /  937] D_loss: 1.03415442, G_loss: 1.18895340\n",
            "Epoch: [ 3] [ 900 /  937] D_loss: 1.10443330, G_loss: 1.21246910\n"
          ],
          "name": "stdout"
        },
        {
          "output_type": "stream",
          "text": [
            "WARNING:root:Lossy conversion from float64 to uint8. Range [0, 1]. Convert image to uint8 prior to saving to suppress this warning.\n"
          ],
          "name": "stderr"
        },
        {
          "output_type": "stream",
          "text": [
            "Epoch: [ 4] [ 100 /  937] D_loss: 0.97693288, G_loss: 1.12324917\n",
            "Epoch: [ 4] [ 200 /  937] D_loss: 1.04573917, G_loss: 1.18342602\n",
            "Epoch: [ 4] [ 300 /  937] D_loss: 0.95645654, G_loss: 1.25245082\n",
            "Epoch: [ 4] [ 400 /  937] D_loss: 0.95831794, G_loss: 1.20194936\n",
            "Epoch: [ 4] [ 500 /  937] D_loss: 1.14983773, G_loss: 1.08373308\n",
            "Epoch: [ 4] [ 600 /  937] D_loss: 0.99325919, G_loss: 1.38948572\n",
            "Epoch: [ 4] [ 700 /  937] D_loss: 0.94967389, G_loss: 1.40201235\n",
            "Epoch: [ 4] [ 800 /  937] D_loss: 1.03245544, G_loss: 1.30574346\n",
            "Epoch: [ 4] [ 900 /  937] D_loss: 1.06418085, G_loss: 1.09694743\n"
          ],
          "name": "stdout"
        },
        {
          "output_type": "stream",
          "text": [
            "WARNING:root:Lossy conversion from float64 to uint8. Range [0, 1]. Convert image to uint8 prior to saving to suppress this warning.\n"
          ],
          "name": "stderr"
        },
        {
          "output_type": "stream",
          "text": [
            "Epoch: [ 5] [ 100 /  937] D_loss: 0.94490993, G_loss: 1.29339528\n",
            "Epoch: [ 5] [ 200 /  937] D_loss: 0.96404207, G_loss: 1.34932828\n",
            "Epoch: [ 5] [ 300 /  937] D_loss: 0.95488226, G_loss: 1.38983595\n",
            "Epoch: [ 5] [ 400 /  937] D_loss: 0.93418103, G_loss: 1.22316909\n",
            "Epoch: [ 5] [ 500 /  937] D_loss: 0.94136935, G_loss: 1.32107043\n",
            "Epoch: [ 5] [ 600 /  937] D_loss: 0.99658740, G_loss: 1.19689572\n",
            "Epoch: [ 5] [ 700 /  937] D_loss: 0.93677604, G_loss: 1.29797995\n",
            "Epoch: [ 5] [ 800 /  937] D_loss: 1.01300621, G_loss: 1.08320367\n",
            "Epoch: [ 5] [ 900 /  937] D_loss: 0.95400274, G_loss: 1.25255632\n"
          ],
          "name": "stdout"
        },
        {
          "output_type": "stream",
          "text": [
            "WARNING:root:Lossy conversion from float64 to uint8. Range [0, 1]. Convert image to uint8 prior to saving to suppress this warning.\n"
          ],
          "name": "stderr"
        },
        {
          "output_type": "stream",
          "text": [
            "Epoch: [ 6] [ 100 /  937] D_loss: 0.92149752, G_loss: 1.12687588\n",
            "Epoch: [ 6] [ 200 /  937] D_loss: 1.07361913, G_loss: 1.18717504\n",
            "Epoch: [ 6] [ 300 /  937] D_loss: 0.98313129, G_loss: 1.07130837\n",
            "Epoch: [ 6] [ 400 /  937] D_loss: 1.15583944, G_loss: 1.14906406\n",
            "Epoch: [ 6] [ 500 /  937] D_loss: 1.01479959, G_loss: 1.25591469\n",
            "Epoch: [ 6] [ 600 /  937] D_loss: 0.88664281, G_loss: 1.30880284\n",
            "Epoch: [ 6] [ 700 /  937] D_loss: 0.93827492, G_loss: 1.24080610\n",
            "Epoch: [ 6] [ 800 /  937] D_loss: 0.93113339, G_loss: 1.34690201\n",
            "Epoch: [ 6] [ 900 /  937] D_loss: 1.06150782, G_loss: 1.16262627\n"
          ],
          "name": "stdout"
        },
        {
          "output_type": "stream",
          "text": [
            "WARNING:root:Lossy conversion from float64 to uint8. Range [0, 1]. Convert image to uint8 prior to saving to suppress this warning.\n"
          ],
          "name": "stderr"
        },
        {
          "output_type": "stream",
          "text": [
            "Epoch: [ 7] [ 100 /  937] D_loss: 0.92248702, G_loss: 1.47179341\n",
            "Epoch: [ 7] [ 200 /  937] D_loss: 0.86295176, G_loss: 1.34595370\n",
            "Epoch: [ 7] [ 300 /  937] D_loss: 0.94213510, G_loss: 1.20227408\n",
            "Epoch: [ 7] [ 400 /  937] D_loss: 0.97148108, G_loss: 1.28524828\n",
            "Epoch: [ 7] [ 500 /  937] D_loss: 0.90439647, G_loss: 1.14190114\n",
            "Epoch: [ 7] [ 600 /  937] D_loss: 0.90369987, G_loss: 1.37029815\n",
            "Epoch: [ 7] [ 700 /  937] D_loss: 1.01663435, G_loss: 1.40496099\n",
            "Epoch: [ 7] [ 800 /  937] D_loss: 0.88750219, G_loss: 1.42581058\n",
            "Epoch: [ 7] [ 900 /  937] D_loss: 0.83848107, G_loss: 1.47599471\n"
          ],
          "name": "stdout"
        },
        {
          "output_type": "stream",
          "text": [
            "WARNING:root:Lossy conversion from float64 to uint8. Range [0, 1]. Convert image to uint8 prior to saving to suppress this warning.\n"
          ],
          "name": "stderr"
        },
        {
          "output_type": "stream",
          "text": [
            "Epoch: [ 8] [ 100 /  937] D_loss: 0.95867181, G_loss: 1.37370133\n",
            "Epoch: [ 8] [ 200 /  937] D_loss: 0.87194991, G_loss: 1.37829733\n",
            "Epoch: [ 8] [ 300 /  937] D_loss: 1.03004384, G_loss: 1.42956161\n",
            "Epoch: [ 8] [ 400 /  937] D_loss: 0.99772465, G_loss: 1.17970097\n",
            "Epoch: [ 8] [ 500 /  937] D_loss: 0.95594347, G_loss: 1.54169226\n",
            "Epoch: [ 8] [ 600 /  937] D_loss: 0.82380801, G_loss: 1.37483072\n",
            "Epoch: [ 8] [ 700 /  937] D_loss: 0.83835900, G_loss: 1.36117244\n",
            "Epoch: [ 8] [ 800 /  937] D_loss: 0.99715501, G_loss: 1.46180046\n",
            "Epoch: [ 8] [ 900 /  937] D_loss: 0.97940922, G_loss: 1.49519241\n"
          ],
          "name": "stdout"
        },
        {
          "output_type": "stream",
          "text": [
            "WARNING:root:Lossy conversion from float64 to uint8. Range [0, 1]. Convert image to uint8 prior to saving to suppress this warning.\n"
          ],
          "name": "stderr"
        },
        {
          "output_type": "stream",
          "text": [
            "Epoch: [ 9] [ 100 /  937] D_loss: 0.78636700, G_loss: 1.48869407\n",
            "Epoch: [ 9] [ 200 /  937] D_loss: 0.76737481, G_loss: 1.49412560\n",
            "Epoch: [ 9] [ 300 /  937] D_loss: 0.96065372, G_loss: 1.36835599\n",
            "Epoch: [ 9] [ 400 /  937] D_loss: 0.84852207, G_loss: 1.57700992\n",
            "Epoch: [ 9] [ 500 /  937] D_loss: 0.96483541, G_loss: 1.49519956\n",
            "Epoch: [ 9] [ 600 /  937] D_loss: 1.12251842, G_loss: 1.49191105\n",
            "Epoch: [ 9] [ 700 /  937] D_loss: 0.87147444, G_loss: 1.46718776\n",
            "Epoch: [ 9] [ 800 /  937] D_loss: 0.75361174, G_loss: 1.58730459\n",
            "Epoch: [ 9] [ 900 /  937] D_loss: 1.01711750, G_loss: 1.46948373\n"
          ],
          "name": "stdout"
        },
        {
          "output_type": "stream",
          "text": [
            "WARNING:root:Lossy conversion from float64 to uint8. Range [0, 1]. Convert image to uint8 prior to saving to suppress this warning.\n"
          ],
          "name": "stderr"
        },
        {
          "output_type": "stream",
          "text": [
            "Epoch: [10] [ 100 /  937] D_loss: 0.86685348, G_loss: 1.43345428\n",
            "Epoch: [10] [ 200 /  937] D_loss: 0.84067750, G_loss: 1.42210042\n",
            "Epoch: [10] [ 300 /  937] D_loss: 0.86482948, G_loss: 1.39827943\n",
            "Epoch: [10] [ 400 /  937] D_loss: 1.07498395, G_loss: 1.21996117\n",
            "Epoch: [10] [ 500 /  937] D_loss: 0.95597094, G_loss: 1.62723041\n",
            "Epoch: [10] [ 600 /  937] D_loss: 0.86808205, G_loss: 1.30545235\n",
            "Epoch: [10] [ 700 /  937] D_loss: 0.97767413, G_loss: 1.58457661\n",
            "Epoch: [10] [ 800 /  937] D_loss: 0.73137701, G_loss: 1.39447987\n",
            "Epoch: [10] [ 900 /  937] D_loss: 0.90357697, G_loss: 1.58602273\n"
          ],
          "name": "stdout"
        },
        {
          "output_type": "stream",
          "text": [
            "WARNING:root:Lossy conversion from float64 to uint8. Range [0, 1]. Convert image to uint8 prior to saving to suppress this warning.\n"
          ],
          "name": "stderr"
        },
        {
          "output_type": "stream",
          "text": [
            "Epoch: [11] [ 100 /  937] D_loss: 0.87884778, G_loss: 1.37986088\n",
            "Epoch: [11] [ 200 /  937] D_loss: 0.74090302, G_loss: 1.59607339\n",
            "Epoch: [11] [ 300 /  937] D_loss: 0.77156687, G_loss: 1.56997550\n",
            "Epoch: [11] [ 400 /  937] D_loss: 0.75543404, G_loss: 1.56445730\n",
            "Epoch: [11] [ 500 /  937] D_loss: 0.85337371, G_loss: 1.46311426\n",
            "Epoch: [11] [ 600 /  937] D_loss: 0.97440463, G_loss: 1.55345345\n",
            "Epoch: [11] [ 700 /  937] D_loss: 0.90626502, G_loss: 1.62659621\n",
            "Epoch: [11] [ 800 /  937] D_loss: 0.72232223, G_loss: 1.48734307\n",
            "Epoch: [11] [ 900 /  937] D_loss: 0.85109437, G_loss: 1.54460776\n"
          ],
          "name": "stdout"
        },
        {
          "output_type": "stream",
          "text": [
            "WARNING:root:Lossy conversion from float64 to uint8. Range [0, 1]. Convert image to uint8 prior to saving to suppress this warning.\n"
          ],
          "name": "stderr"
        },
        {
          "output_type": "stream",
          "text": [
            "Epoch: [12] [ 100 /  937] D_loss: 0.80329406, G_loss: 1.75875354\n",
            "Epoch: [12] [ 200 /  937] D_loss: 0.73239410, G_loss: 1.64270782\n",
            "Epoch: [12] [ 300 /  937] D_loss: 0.95628822, G_loss: 1.41192448\n",
            "Epoch: [12] [ 400 /  937] D_loss: 0.86947662, G_loss: 1.51375556\n",
            "Epoch: [12] [ 500 /  937] D_loss: 0.80990452, G_loss: 1.86756182\n",
            "Epoch: [12] [ 600 /  937] D_loss: 0.71150225, G_loss: 1.69154561\n",
            "Epoch: [12] [ 700 /  937] D_loss: 0.75708139, G_loss: 1.82169557\n",
            "Epoch: [12] [ 800 /  937] D_loss: 0.76418543, G_loss: 1.72510147\n",
            "Epoch: [12] [ 900 /  937] D_loss: 0.82561368, G_loss: 1.53910923\n"
          ],
          "name": "stdout"
        },
        {
          "output_type": "stream",
          "text": [
            "WARNING:root:Lossy conversion from float64 to uint8. Range [0, 1]. Convert image to uint8 prior to saving to suppress this warning.\n"
          ],
          "name": "stderr"
        },
        {
          "output_type": "stream",
          "text": [
            "Epoch: [13] [ 100 /  937] D_loss: 0.83601117, G_loss: 1.47174454\n",
            "Epoch: [13] [ 200 /  937] D_loss: 0.82821077, G_loss: 1.57307017\n",
            "Epoch: [13] [ 300 /  937] D_loss: 0.86771595, G_loss: 1.74761200\n",
            "Epoch: [13] [ 400 /  937] D_loss: 0.71849161, G_loss: 1.64537668\n",
            "Epoch: [13] [ 500 /  937] D_loss: 0.75769413, G_loss: 1.47750533\n",
            "Epoch: [13] [ 600 /  937] D_loss: 0.80017209, G_loss: 1.73855817\n",
            "Epoch: [13] [ 700 /  937] D_loss: 0.87249392, G_loss: 1.46806538\n",
            "Epoch: [13] [ 800 /  937] D_loss: 0.67233318, G_loss: 2.05260062\n",
            "Epoch: [13] [ 900 /  937] D_loss: 0.81804848, G_loss: 1.49160981\n"
          ],
          "name": "stdout"
        },
        {
          "output_type": "stream",
          "text": [
            "WARNING:root:Lossy conversion from float64 to uint8. Range [0, 1]. Convert image to uint8 prior to saving to suppress this warning.\n"
          ],
          "name": "stderr"
        },
        {
          "output_type": "stream",
          "text": [
            "Epoch: [14] [ 100 /  937] D_loss: 0.91203463, G_loss: 1.58438373\n",
            "Epoch: [14] [ 200 /  937] D_loss: 0.65138406, G_loss: 1.88111496\n",
            "Epoch: [14] [ 300 /  937] D_loss: 0.84325439, G_loss: 1.85523665\n",
            "Epoch: [14] [ 400 /  937] D_loss: 0.70349288, G_loss: 1.71630251\n",
            "Epoch: [14] [ 500 /  937] D_loss: 0.81661552, G_loss: 1.67004180\n",
            "Epoch: [14] [ 600 /  937] D_loss: 0.99803114, G_loss: 1.84014583\n",
            "Epoch: [14] [ 700 /  937] D_loss: 0.82365578, G_loss: 1.67531192\n",
            "Epoch: [14] [ 800 /  937] D_loss: 0.72751844, G_loss: 1.77716756\n",
            "Epoch: [14] [ 900 /  937] D_loss: 0.94175136, G_loss: 1.76795244\n"
          ],
          "name": "stdout"
        },
        {
          "output_type": "stream",
          "text": [
            "WARNING:root:Lossy conversion from float64 to uint8. Range [0, 1]. Convert image to uint8 prior to saving to suppress this warning.\n"
          ],
          "name": "stderr"
        },
        {
          "output_type": "stream",
          "text": [
            "Epoch: [15] [ 100 /  937] D_loss: 0.83742011, G_loss: 2.01470041\n",
            "Epoch: [15] [ 200 /  937] D_loss: 0.81670082, G_loss: 1.81479430\n",
            "Epoch: [15] [ 300 /  937] D_loss: 0.65170443, G_loss: 1.73202014\n",
            "Epoch: [15] [ 400 /  937] D_loss: 0.89938712, G_loss: 1.48895526\n",
            "Epoch: [15] [ 500 /  937] D_loss: 0.81774735, G_loss: 1.86490333\n",
            "Epoch: [15] [ 600 /  937] D_loss: 0.84193313, G_loss: 1.52888703\n",
            "Epoch: [15] [ 700 /  937] D_loss: 0.70482349, G_loss: 2.05321598\n",
            "Epoch: [15] [ 800 /  937] D_loss: 0.71529353, G_loss: 1.82980466\n",
            "Epoch: [15] [ 900 /  937] D_loss: 0.72511178, G_loss: 1.69928479\n"
          ],
          "name": "stdout"
        },
        {
          "output_type": "stream",
          "text": [
            "WARNING:root:Lossy conversion from float64 to uint8. Range [0, 1]. Convert image to uint8 prior to saving to suppress this warning.\n"
          ],
          "name": "stderr"
        },
        {
          "output_type": "stream",
          "text": [
            "Epoch: [16] [ 100 /  937] D_loss: 0.72356343, G_loss: 1.83960795\n",
            "Epoch: [16] [ 200 /  937] D_loss: 0.69564843, G_loss: 1.92871547\n",
            "Epoch: [16] [ 300 /  937] D_loss: 0.73475832, G_loss: 1.82638597\n",
            "Epoch: [16] [ 400 /  937] D_loss: 0.61043084, G_loss: 1.88311791\n",
            "Epoch: [16] [ 500 /  937] D_loss: 0.69839805, G_loss: 1.92098236\n",
            "Epoch: [16] [ 600 /  937] D_loss: 0.84649801, G_loss: 1.55532122\n",
            "Epoch: [16] [ 700 /  937] D_loss: 0.56744015, G_loss: 2.04561472\n",
            "Epoch: [16] [ 800 /  937] D_loss: 0.74069118, G_loss: 1.78838313\n",
            "Epoch: [16] [ 900 /  937] D_loss: 0.92983425, G_loss: 1.67239189\n"
          ],
          "name": "stdout"
        },
        {
          "output_type": "stream",
          "text": [
            "WARNING:root:Lossy conversion from float64 to uint8. Range [0, 1]. Convert image to uint8 prior to saving to suppress this warning.\n"
          ],
          "name": "stderr"
        },
        {
          "output_type": "stream",
          "text": [
            "Epoch: [17] [ 100 /  937] D_loss: 0.54826725, G_loss: 1.97426391\n",
            "Epoch: [17] [ 200 /  937] D_loss: 0.70744741, G_loss: 1.93072999\n",
            "Epoch: [17] [ 300 /  937] D_loss: 0.75768602, G_loss: 2.05606747\n",
            "Epoch: [17] [ 400 /  937] D_loss: 0.68149847, G_loss: 1.90716982\n",
            "Epoch: [17] [ 500 /  937] D_loss: 0.83880401, G_loss: 1.93825018\n",
            "Epoch: [17] [ 600 /  937] D_loss: 0.72217071, G_loss: 1.75427234\n",
            "Epoch: [17] [ 700 /  937] D_loss: 0.65954381, G_loss: 1.82608366\n",
            "Epoch: [17] [ 800 /  937] D_loss: 0.68060303, G_loss: 1.85933888\n",
            "Epoch: [17] [ 900 /  937] D_loss: 0.66726303, G_loss: 2.02352023\n"
          ],
          "name": "stdout"
        },
        {
          "output_type": "stream",
          "text": [
            "WARNING:root:Lossy conversion from float64 to uint8. Range [0, 1]. Convert image to uint8 prior to saving to suppress this warning.\n"
          ],
          "name": "stderr"
        },
        {
          "output_type": "stream",
          "text": [
            "Epoch: [18] [ 100 /  937] D_loss: 0.71319377, G_loss: 2.22129297\n",
            "Epoch: [18] [ 200 /  937] D_loss: 0.59704536, G_loss: 2.03921700\n",
            "Epoch: [18] [ 300 /  937] D_loss: 0.59754920, G_loss: 2.07437015\n",
            "Epoch: [18] [ 400 /  937] D_loss: 0.75465822, G_loss: 1.92995715\n",
            "Epoch: [18] [ 500 /  937] D_loss: 0.60057795, G_loss: 1.94629478\n",
            "Epoch: [18] [ 600 /  937] D_loss: 0.91736054, G_loss: 1.59408641\n",
            "Epoch: [18] [ 700 /  937] D_loss: 0.69897223, G_loss: 1.65554392\n",
            "Epoch: [18] [ 800 /  937] D_loss: 0.65589690, G_loss: 1.92844093\n",
            "Epoch: [18] [ 900 /  937] D_loss: 0.58141464, G_loss: 1.96844518\n"
          ],
          "name": "stdout"
        },
        {
          "output_type": "stream",
          "text": [
            "WARNING:root:Lossy conversion from float64 to uint8. Range [0, 1]. Convert image to uint8 prior to saving to suppress this warning.\n"
          ],
          "name": "stderr"
        },
        {
          "output_type": "stream",
          "text": [
            "Epoch: [19] [ 100 /  937] D_loss: 0.60361904, G_loss: 2.23984098\n",
            "Epoch: [19] [ 200 /  937] D_loss: 0.71388018, G_loss: 1.61211073\n",
            "Epoch: [19] [ 300 /  937] D_loss: 0.73768032, G_loss: 2.00718880\n",
            "Epoch: [19] [ 400 /  937] D_loss: 0.68683201, G_loss: 1.85464859\n",
            "Epoch: [19] [ 500 /  937] D_loss: 0.59320199, G_loss: 1.96920156\n",
            "Epoch: [19] [ 600 /  937] D_loss: 0.83836168, G_loss: 1.60541642\n",
            "Epoch: [19] [ 700 /  937] D_loss: 1.06342530, G_loss: 2.27823496\n",
            "Epoch: [19] [ 800 /  937] D_loss: 0.73531199, G_loss: 1.93225276\n",
            "Epoch: [19] [ 900 /  937] D_loss: 0.58854795, G_loss: 2.11486602\n"
          ],
          "name": "stdout"
        },
        {
          "output_type": "stream",
          "text": [
            "WARNING:root:Lossy conversion from float64 to uint8. Range [0, 1]. Convert image to uint8 prior to saving to suppress this warning.\n"
          ],
          "name": "stderr"
        },
        {
          "output_type": "stream",
          "text": [
            "Epoch: [20] [ 100 /  937] D_loss: 0.57845604, G_loss: 2.13968825\n",
            "Epoch: [20] [ 200 /  937] D_loss: 0.91151571, G_loss: 1.90410972\n",
            "Epoch: [20] [ 300 /  937] D_loss: 0.52627450, G_loss: 2.41847038\n",
            "Epoch: [20] [ 400 /  937] D_loss: 0.51765203, G_loss: 2.27337718\n",
            "Epoch: [20] [ 500 /  937] D_loss: 0.63823241, G_loss: 1.83108664\n",
            "Epoch: [20] [ 600 /  937] D_loss: 0.72931135, G_loss: 2.14554763\n",
            "Epoch: [20] [ 700 /  937] D_loss: 0.64191175, G_loss: 1.91662395\n",
            "Epoch: [20] [ 800 /  937] D_loss: 0.83757710, G_loss: 1.67764378\n",
            "Epoch: [20] [ 900 /  937] D_loss: 0.71439064, G_loss: 2.32851505\n"
          ],
          "name": "stdout"
        },
        {
          "output_type": "stream",
          "text": [
            "WARNING:root:Lossy conversion from float64 to uint8. Range [0, 1]. Convert image to uint8 prior to saving to suppress this warning.\n"
          ],
          "name": "stderr"
        },
        {
          "output_type": "stream",
          "text": [
            "Epoch: [21] [ 100 /  937] D_loss: 0.66518819, G_loss: 2.19161081\n",
            "Epoch: [21] [ 200 /  937] D_loss: 0.51283008, G_loss: 2.14518976\n",
            "Epoch: [21] [ 300 /  937] D_loss: 0.63963854, G_loss: 2.16550112\n",
            "Epoch: [21] [ 400 /  937] D_loss: 0.71982127, G_loss: 2.01496983\n",
            "Epoch: [21] [ 500 /  937] D_loss: 0.64961034, G_loss: 2.11017823\n",
            "Epoch: [21] [ 600 /  937] D_loss: 0.68263555, G_loss: 2.04580522\n",
            "Epoch: [21] [ 700 /  937] D_loss: 0.62102753, G_loss: 2.18967700\n",
            "Epoch: [21] [ 800 /  937] D_loss: 0.62442410, G_loss: 2.08361530\n",
            "Epoch: [21] [ 900 /  937] D_loss: 0.51414847, G_loss: 2.22358894\n"
          ],
          "name": "stdout"
        },
        {
          "output_type": "stream",
          "text": [
            "WARNING:root:Lossy conversion from float64 to uint8. Range [0, 1]. Convert image to uint8 prior to saving to suppress this warning.\n"
          ],
          "name": "stderr"
        },
        {
          "output_type": "stream",
          "text": [
            "Epoch: [22] [ 100 /  937] D_loss: 0.59670734, G_loss: 2.27140617\n",
            "Epoch: [22] [ 200 /  937] D_loss: 0.52690369, G_loss: 2.39788866\n",
            "Epoch: [22] [ 300 /  937] D_loss: 0.70619857, G_loss: 2.00628042\n",
            "Epoch: [22] [ 400 /  937] D_loss: 0.82637793, G_loss: 1.71534705\n",
            "Epoch: [22] [ 500 /  937] D_loss: 0.46556666, G_loss: 2.32220173\n",
            "Epoch: [22] [ 600 /  937] D_loss: 0.84343624, G_loss: 1.87071252\n",
            "Epoch: [22] [ 700 /  937] D_loss: 0.83671498, G_loss: 1.82669306\n",
            "Epoch: [22] [ 800 /  937] D_loss: 0.68703747, G_loss: 2.40701580\n",
            "Epoch: [22] [ 900 /  937] D_loss: 0.80812305, G_loss: 1.80629241\n"
          ],
          "name": "stdout"
        },
        {
          "output_type": "stream",
          "text": [
            "WARNING:root:Lossy conversion from float64 to uint8. Range [0, 1]. Convert image to uint8 prior to saving to suppress this warning.\n"
          ],
          "name": "stderr"
        },
        {
          "output_type": "stream",
          "text": [
            "Epoch: [23] [ 100 /  937] D_loss: 1.10727334, G_loss: 2.04314756\n",
            "Epoch: [23] [ 200 /  937] D_loss: 0.63254106, G_loss: 1.93586278\n",
            "Epoch: [23] [ 300 /  937] D_loss: 0.71294260, G_loss: 2.23552680\n",
            "Epoch: [23] [ 400 /  937] D_loss: 0.57700592, G_loss: 2.30641699\n",
            "Epoch: [23] [ 500 /  937] D_loss: 0.81867743, G_loss: 2.76594877\n",
            "Epoch: [23] [ 600 /  937] D_loss: 0.42713755, G_loss: 2.59462404\n",
            "Epoch: [23] [ 700 /  937] D_loss: 0.78332508, G_loss: 1.86772466\n",
            "Epoch: [23] [ 800 /  937] D_loss: 0.60968900, G_loss: 2.06926894\n",
            "Epoch: [23] [ 900 /  937] D_loss: 0.51802087, G_loss: 2.21117783\n"
          ],
          "name": "stdout"
        },
        {
          "output_type": "stream",
          "text": [
            "WARNING:root:Lossy conversion from float64 to uint8. Range [0, 1]. Convert image to uint8 prior to saving to suppress this warning.\n"
          ],
          "name": "stderr"
        },
        {
          "output_type": "stream",
          "text": [
            "Epoch: [24] [ 100 /  937] D_loss: 0.56531119, G_loss: 2.29903626\n",
            "Epoch: [24] [ 200 /  937] D_loss: 0.63805187, G_loss: 2.01364684\n",
            "Epoch: [24] [ 300 /  937] D_loss: 0.55661845, G_loss: 1.89227676\n",
            "Epoch: [24] [ 400 /  937] D_loss: 0.57188326, G_loss: 2.28044939\n",
            "Epoch: [24] [ 500 /  937] D_loss: 0.66815227, G_loss: 2.07129741\n",
            "Epoch: [24] [ 600 /  937] D_loss: 0.70981348, G_loss: 2.65633965\n",
            "Epoch: [24] [ 700 /  937] D_loss: 0.61969465, G_loss: 1.77975059\n",
            "Epoch: [24] [ 800 /  937] D_loss: 0.51000810, G_loss: 2.09091139\n",
            "Epoch: [24] [ 900 /  937] D_loss: 0.67168057, G_loss: 2.45216751\n"
          ],
          "name": "stdout"
        },
        {
          "output_type": "stream",
          "text": [
            "WARNING:root:Lossy conversion from float64 to uint8. Range [0, 1]. Convert image to uint8 prior to saving to suppress this warning.\n"
          ],
          "name": "stderr"
        },
        {
          "output_type": "stream",
          "text": [
            "Epoch: [25] [ 100 /  937] D_loss: 0.65894079, G_loss: 1.76826203\n",
            "Epoch: [25] [ 200 /  937] D_loss: 0.56976253, G_loss: 2.33009028\n",
            "Epoch: [25] [ 300 /  937] D_loss: 0.64021814, G_loss: 2.40805840\n",
            "Epoch: [25] [ 400 /  937] D_loss: 0.58686274, G_loss: 1.90077412\n",
            "Epoch: [25] [ 500 /  937] D_loss: 0.72996283, G_loss: 2.31598616\n",
            "Epoch: [25] [ 600 /  937] D_loss: 0.79460418, G_loss: 2.06678724\n",
            "Epoch: [25] [ 700 /  937] D_loss: 0.58329117, G_loss: 2.30388141\n",
            "Epoch: [25] [ 800 /  937] D_loss: 0.60416710, G_loss: 2.36208963\n",
            "Epoch: [25] [ 900 /  937] D_loss: 0.57120180, G_loss: 2.22606087\n"
          ],
          "name": "stdout"
        },
        {
          "output_type": "stream",
          "text": [
            "WARNING:root:Lossy conversion from float64 to uint8. Range [0, 1]. Convert image to uint8 prior to saving to suppress this warning.\n"
          ],
          "name": "stderr"
        },
        {
          "output_type": "stream",
          "text": [
            "Epoch: [26] [ 100 /  937] D_loss: 0.49861547, G_loss: 2.42176151\n",
            "Epoch: [26] [ 200 /  937] D_loss: 0.47933102, G_loss: 2.69250393\n",
            "Epoch: [26] [ 300 /  937] D_loss: 0.57960391, G_loss: 2.47896624\n",
            "Epoch: [26] [ 400 /  937] D_loss: 0.71927881, G_loss: 2.14988184\n",
            "Epoch: [26] [ 500 /  937] D_loss: 0.81297904, G_loss: 2.08181000\n",
            "Epoch: [26] [ 600 /  937] D_loss: 0.60268682, G_loss: 2.33276200\n",
            "Epoch: [26] [ 700 /  937] D_loss: 0.47606456, G_loss: 2.57623243\n",
            "Epoch: [26] [ 800 /  937] D_loss: 0.47865075, G_loss: 2.43013287\n",
            "Epoch: [26] [ 900 /  937] D_loss: 0.66310799, G_loss: 2.38370228\n"
          ],
          "name": "stdout"
        },
        {
          "output_type": "stream",
          "text": [
            "WARNING:root:Lossy conversion from float64 to uint8. Range [0, 1]. Convert image to uint8 prior to saving to suppress this warning.\n"
          ],
          "name": "stderr"
        },
        {
          "output_type": "stream",
          "text": [
            "Epoch: [27] [ 100 /  937] D_loss: 0.61278081, G_loss: 2.02954197\n",
            "Epoch: [27] [ 200 /  937] D_loss: 0.69015801, G_loss: 2.40127850\n",
            "Epoch: [27] [ 300 /  937] D_loss: 0.65450954, G_loss: 2.75780344\n",
            "Epoch: [27] [ 400 /  937] D_loss: 0.72651410, G_loss: 2.47898173\n",
            "Epoch: [27] [ 500 /  937] D_loss: 0.55029279, G_loss: 2.31704760\n",
            "Epoch: [27] [ 600 /  937] D_loss: 0.53241169, G_loss: 2.44868588\n",
            "Epoch: [27] [ 700 /  937] D_loss: 0.36663356, G_loss: 2.81375647\n",
            "Epoch: [27] [ 800 /  937] D_loss: 0.68326753, G_loss: 2.14673948\n",
            "Epoch: [27] [ 900 /  937] D_loss: 0.76736122, G_loss: 1.74725795\n"
          ],
          "name": "stdout"
        },
        {
          "output_type": "stream",
          "text": [
            "WARNING:root:Lossy conversion from float64 to uint8. Range [0, 1]. Convert image to uint8 prior to saving to suppress this warning.\n"
          ],
          "name": "stderr"
        },
        {
          "output_type": "stream",
          "text": [
            "Epoch: [28] [ 100 /  937] D_loss: 0.64001566, G_loss: 2.38484049\n",
            "Epoch: [28] [ 200 /  937] D_loss: 0.62005872, G_loss: 2.31940794\n",
            "Epoch: [28] [ 300 /  937] D_loss: 0.58384359, G_loss: 2.46476936\n",
            "Epoch: [28] [ 400 /  937] D_loss: 0.82213479, G_loss: 1.98665190\n",
            "Epoch: [28] [ 500 /  937] D_loss: 0.47812265, G_loss: 2.63277936\n",
            "Epoch: [28] [ 600 /  937] D_loss: 0.54168570, G_loss: 2.20281243\n",
            "Epoch: [28] [ 700 /  937] D_loss: 0.47029155, G_loss: 2.53796482\n",
            "Epoch: [28] [ 800 /  937] D_loss: 0.57820016, G_loss: 2.79733372\n",
            "Epoch: [28] [ 900 /  937] D_loss: 0.59096980, G_loss: 2.20627618\n"
          ],
          "name": "stdout"
        },
        {
          "output_type": "stream",
          "text": [
            "WARNING:root:Lossy conversion from float64 to uint8. Range [0, 1]. Convert image to uint8 prior to saving to suppress this warning.\n"
          ],
          "name": "stderr"
        },
        {
          "output_type": "stream",
          "text": [
            "Epoch: [29] [ 100 /  937] D_loss: 0.47500670, G_loss: 2.75505209\n",
            "Epoch: [29] [ 200 /  937] D_loss: 0.72796738, G_loss: 2.05025291\n",
            "Epoch: [29] [ 300 /  937] D_loss: 0.57842141, G_loss: 2.46327567\n",
            "Epoch: [29] [ 400 /  937] D_loss: 0.77177614, G_loss: 3.15123606\n",
            "Epoch: [29] [ 500 /  937] D_loss: 0.44927996, G_loss: 2.57597589\n",
            "Epoch: [29] [ 600 /  937] D_loss: 0.66544449, G_loss: 2.37711740\n",
            "Epoch: [29] [ 700 /  937] D_loss: 0.71442473, G_loss: 1.88752890\n",
            "Epoch: [29] [ 800 /  937] D_loss: 0.61836928, G_loss: 2.47973871\n",
            "Epoch: [29] [ 900 /  937] D_loss: 0.42151082, G_loss: 2.60027266\n"
          ],
          "name": "stdout"
        },
        {
          "output_type": "stream",
          "text": [
            "WARNING:root:Lossy conversion from float64 to uint8. Range [0, 1]. Convert image to uint8 prior to saving to suppress this warning.\n"
          ],
          "name": "stderr"
        },
        {
          "output_type": "stream",
          "text": [
            "Epoch: [30] [ 100 /  937] D_loss: 0.70725322, G_loss: 1.88314152\n",
            "Epoch: [30] [ 200 /  937] D_loss: 0.65422499, G_loss: 2.11715984\n",
            "Epoch: [30] [ 300 /  937] D_loss: 0.49486423, G_loss: 2.64573383\n",
            "Epoch: [30] [ 400 /  937] D_loss: 0.47706938, G_loss: 2.87435842\n",
            "Epoch: [30] [ 500 /  937] D_loss: 0.48388854, G_loss: 2.92953730\n",
            "Epoch: [30] [ 600 /  937] D_loss: 0.48744905, G_loss: 2.78663778\n",
            "Epoch: [30] [ 700 /  937] D_loss: 0.51559508, G_loss: 2.95929122\n",
            "Epoch: [30] [ 800 /  937] D_loss: 0.56073731, G_loss: 2.40117788\n",
            "Epoch: [30] [ 900 /  937] D_loss: 0.56738365, G_loss: 2.29403925\n"
          ],
          "name": "stdout"
        },
        {
          "output_type": "stream",
          "text": [
            "WARNING:root:Lossy conversion from float64 to uint8. Range [0, 1]. Convert image to uint8 prior to saving to suppress this warning.\n"
          ],
          "name": "stderr"
        },
        {
          "output_type": "stream",
          "text": [
            "Epoch: [31] [ 100 /  937] D_loss: 0.42256835, G_loss: 2.65449071\n",
            "Epoch: [31] [ 200 /  937] D_loss: 0.53753430, G_loss: 2.36902165\n",
            "Epoch: [31] [ 300 /  937] D_loss: 0.53619635, G_loss: 2.29294777\n",
            "Epoch: [31] [ 400 /  937] D_loss: 0.46669263, G_loss: 2.75371981\n",
            "Epoch: [31] [ 500 /  937] D_loss: 0.55962098, G_loss: 2.58515072\n",
            "Epoch: [31] [ 600 /  937] D_loss: 0.46572423, G_loss: 2.82685399\n",
            "Epoch: [31] [ 700 /  937] D_loss: 0.62205142, G_loss: 2.73102450\n",
            "Epoch: [31] [ 800 /  937] D_loss: 0.58899689, G_loss: 2.32456326\n",
            "Epoch: [31] [ 900 /  937] D_loss: 0.58367980, G_loss: 2.40779185\n"
          ],
          "name": "stdout"
        },
        {
          "output_type": "stream",
          "text": [
            "WARNING:root:Lossy conversion from float64 to uint8. Range [0, 1]. Convert image to uint8 prior to saving to suppress this warning.\n"
          ],
          "name": "stderr"
        },
        {
          "output_type": "stream",
          "text": [
            "Epoch: [32] [ 100 /  937] D_loss: 0.58677506, G_loss: 2.60726762\n",
            "Epoch: [32] [ 200 /  937] D_loss: 0.31398976, G_loss: 2.92677212\n",
            "Epoch: [32] [ 300 /  937] D_loss: 0.54993820, G_loss: 2.24891949\n",
            "Epoch: [32] [ 400 /  937] D_loss: 0.60384607, G_loss: 2.40146208\n",
            "Epoch: [32] [ 500 /  937] D_loss: 0.62214577, G_loss: 2.32346368\n",
            "Epoch: [32] [ 600 /  937] D_loss: 0.61822259, G_loss: 2.37246656\n",
            "Epoch: [32] [ 700 /  937] D_loss: 0.47672898, G_loss: 2.34259319\n",
            "Epoch: [32] [ 800 /  937] D_loss: 0.42136660, G_loss: 2.48532796\n",
            "Epoch: [32] [ 900 /  937] D_loss: 0.50489712, G_loss: 2.61159992\n"
          ],
          "name": "stdout"
        },
        {
          "output_type": "stream",
          "text": [
            "WARNING:root:Lossy conversion from float64 to uint8. Range [0, 1]. Convert image to uint8 prior to saving to suppress this warning.\n"
          ],
          "name": "stderr"
        },
        {
          "output_type": "stream",
          "text": [
            "Epoch: [33] [ 100 /  937] D_loss: 0.41507369, G_loss: 2.95647693\n",
            "Epoch: [33] [ 200 /  937] D_loss: 0.63305867, G_loss: 1.82946348\n",
            "Epoch: [33] [ 300 /  937] D_loss: 0.62295622, G_loss: 2.36538529\n",
            "Epoch: [33] [ 400 /  937] D_loss: 0.41726997, G_loss: 2.90396833\n",
            "Epoch: [33] [ 500 /  937] D_loss: 0.49348152, G_loss: 2.91351485\n",
            "Epoch: [33] [ 600 /  937] D_loss: 0.40769356, G_loss: 2.70969677\n",
            "Epoch: [33] [ 700 /  937] D_loss: 0.60280240, G_loss: 2.84836125\n",
            "Epoch: [33] [ 800 /  937] D_loss: 0.30572629, G_loss: 2.98566008\n",
            "Epoch: [33] [ 900 /  937] D_loss: 0.37874284, G_loss: 2.67804623\n"
          ],
          "name": "stdout"
        },
        {
          "output_type": "stream",
          "text": [
            "WARNING:root:Lossy conversion from float64 to uint8. Range [0, 1]. Convert image to uint8 prior to saving to suppress this warning.\n"
          ],
          "name": "stderr"
        },
        {
          "output_type": "stream",
          "text": [
            "Epoch: [34] [ 100 /  937] D_loss: 0.47698301, G_loss: 2.60141325\n",
            "Epoch: [34] [ 200 /  937] D_loss: 0.38332558, G_loss: 2.77100897\n",
            "Epoch: [34] [ 300 /  937] D_loss: 0.66382563, G_loss: 2.37666249\n",
            "Epoch: [34] [ 400 /  937] D_loss: 0.49569392, G_loss: 2.74314070\n",
            "Epoch: [34] [ 500 /  937] D_loss: 0.35968941, G_loss: 2.71235251\n",
            "Epoch: [34] [ 600 /  937] D_loss: 0.36935192, G_loss: 2.59741759\n",
            "Epoch: [34] [ 700 /  937] D_loss: 0.38512260, G_loss: 2.79563451\n",
            "Epoch: [34] [ 800 /  937] D_loss: 0.42719162, G_loss: 2.52133703\n",
            "Epoch: [34] [ 900 /  937] D_loss: 0.61301303, G_loss: 2.45269132\n"
          ],
          "name": "stdout"
        },
        {
          "output_type": "stream",
          "text": [
            "WARNING:root:Lossy conversion from float64 to uint8. Range [0, 1]. Convert image to uint8 prior to saving to suppress this warning.\n"
          ],
          "name": "stderr"
        },
        {
          "output_type": "stream",
          "text": [
            "Epoch: [35] [ 100 /  937] D_loss: 0.29845136, G_loss: 2.99740863\n",
            "Epoch: [35] [ 200 /  937] D_loss: 0.53403908, G_loss: 2.90996313\n",
            "Epoch: [35] [ 300 /  937] D_loss: 0.48655906, G_loss: 2.57836819\n",
            "Epoch: [35] [ 400 /  937] D_loss: 0.61721790, G_loss: 2.05774593\n",
            "Epoch: [35] [ 500 /  937] D_loss: 0.45847204, G_loss: 2.68162727\n",
            "Epoch: [35] [ 600 /  937] D_loss: 0.51937008, G_loss: 2.76651740\n",
            "Epoch: [35] [ 700 /  937] D_loss: 0.68565035, G_loss: 2.68206263\n",
            "Epoch: [35] [ 800 /  937] D_loss: 0.45313710, G_loss: 2.39518356\n",
            "Epoch: [35] [ 900 /  937] D_loss: 0.55336118, G_loss: 2.52552176\n"
          ],
          "name": "stdout"
        },
        {
          "output_type": "stream",
          "text": [
            "WARNING:root:Lossy conversion from float64 to uint8. Range [0, 1]. Convert image to uint8 prior to saving to suppress this warning.\n"
          ],
          "name": "stderr"
        },
        {
          "output_type": "stream",
          "text": [
            "Epoch: [36] [ 100 /  937] D_loss: 0.39072412, G_loss: 3.24630880\n",
            "Epoch: [36] [ 200 /  937] D_loss: 0.38009927, G_loss: 2.85771847\n",
            "Epoch: [36] [ 300 /  937] D_loss: 0.34541279, G_loss: 2.96499014\n",
            "Epoch: [36] [ 400 /  937] D_loss: 0.40637788, G_loss: 2.91460466\n",
            "Epoch: [36] [ 500 /  937] D_loss: 0.50901932, G_loss: 2.50315189\n",
            "Epoch: [36] [ 600 /  937] D_loss: 0.37001047, G_loss: 3.44266129\n",
            "Epoch: [36] [ 700 /  937] D_loss: 0.55867308, G_loss: 2.99952650\n",
            "Epoch: [36] [ 800 /  937] D_loss: 0.40736771, G_loss: 2.83801174\n",
            "Epoch: [36] [ 900 /  937] D_loss: 0.54566914, G_loss: 2.47526884\n"
          ],
          "name": "stdout"
        },
        {
          "output_type": "stream",
          "text": [
            "WARNING:root:Lossy conversion from float64 to uint8. Range [0, 1]. Convert image to uint8 prior to saving to suppress this warning.\n"
          ],
          "name": "stderr"
        },
        {
          "output_type": "stream",
          "text": [
            "Epoch: [37] [ 100 /  937] D_loss: 0.41072616, G_loss: 2.87931681\n",
            "Epoch: [37] [ 200 /  937] D_loss: 0.39131665, G_loss: 3.05970240\n",
            "Epoch: [37] [ 300 /  937] D_loss: 0.59002745, G_loss: 3.08509207\n",
            "Epoch: [37] [ 400 /  937] D_loss: 0.42066592, G_loss: 2.77841306\n",
            "Epoch: [37] [ 500 /  937] D_loss: 0.53914404, G_loss: 3.24385977\n",
            "Epoch: [37] [ 600 /  937] D_loss: 0.51570719, G_loss: 3.21936655\n",
            "Epoch: [37] [ 700 /  937] D_loss: 0.34372896, G_loss: 2.98661709\n",
            "Epoch: [37] [ 800 /  937] D_loss: 0.40620753, G_loss: 3.13356400\n",
            "Epoch: [37] [ 900 /  937] D_loss: 0.49666187, G_loss: 2.63026428\n"
          ],
          "name": "stdout"
        },
        {
          "output_type": "stream",
          "text": [
            "WARNING:root:Lossy conversion from float64 to uint8. Range [0, 1]. Convert image to uint8 prior to saving to suppress this warning.\n"
          ],
          "name": "stderr"
        },
        {
          "output_type": "stream",
          "text": [
            "Epoch: [38] [ 100 /  937] D_loss: 0.32561740, G_loss: 3.06204081\n",
            "Epoch: [38] [ 200 /  937] D_loss: 0.36909020, G_loss: 2.67542362\n",
            "Epoch: [38] [ 300 /  937] D_loss: 0.46803796, G_loss: 3.37817264\n",
            "Epoch: [38] [ 400 /  937] D_loss: 0.44727367, G_loss: 2.50409794\n",
            "Epoch: [38] [ 500 /  937] D_loss: 0.52138484, G_loss: 3.18217301\n",
            "Epoch: [38] [ 600 /  937] D_loss: 0.65835750, G_loss: 2.82757187\n",
            "Epoch: [38] [ 700 /  937] D_loss: 0.63607657, G_loss: 2.28777266\n",
            "Epoch: [38] [ 800 /  937] D_loss: 0.59830564, G_loss: 2.76790857\n",
            "Epoch: [38] [ 900 /  937] D_loss: 0.52892095, G_loss: 2.88758278\n"
          ],
          "name": "stdout"
        },
        {
          "output_type": "stream",
          "text": [
            "WARNING:root:Lossy conversion from float64 to uint8. Range [0, 1]. Convert image to uint8 prior to saving to suppress this warning.\n"
          ],
          "name": "stderr"
        },
        {
          "output_type": "stream",
          "text": [
            "Epoch: [39] [ 100 /  937] D_loss: 0.34949285, G_loss: 3.07979250\n",
            "Epoch: [39] [ 200 /  937] D_loss: 0.61207843, G_loss: 3.19981050\n",
            "Epoch: [39] [ 300 /  937] D_loss: 0.41479769, G_loss: 2.59279442\n",
            "Epoch: [39] [ 400 /  937] D_loss: 0.45838827, G_loss: 2.78126264\n",
            "Epoch: [39] [ 500 /  937] D_loss: 0.45600632, G_loss: 3.10513973\n",
            "Epoch: [39] [ 600 /  937] D_loss: 0.41608477, G_loss: 2.51936293\n",
            "Epoch: [39] [ 700 /  937] D_loss: 0.42363089, G_loss: 2.94091797\n",
            "Epoch: [39] [ 800 /  937] D_loss: 0.43556273, G_loss: 3.12931395\n",
            "Epoch: [39] [ 900 /  937] D_loss: 0.61440533, G_loss: 3.11508870\n"
          ],
          "name": "stdout"
        },
        {
          "output_type": "stream",
          "text": [
            "WARNING:root:Lossy conversion from float64 to uint8. Range [0, 1]. Convert image to uint8 prior to saving to suppress this warning.\n"
          ],
          "name": "stderr"
        },
        {
          "output_type": "stream",
          "text": [
            "Epoch: [40] [ 100 /  937] D_loss: 0.55599439, G_loss: 3.01113200\n",
            "Epoch: [40] [ 200 /  937] D_loss: 0.27325106, G_loss: 3.23725843\n",
            "Epoch: [40] [ 300 /  937] D_loss: 0.36070818, G_loss: 3.07935190\n",
            "Epoch: [40] [ 400 /  937] D_loss: 0.57646859, G_loss: 2.50139117\n",
            "Epoch: [40] [ 500 /  937] D_loss: 0.43545699, G_loss: 2.46986675\n",
            "Epoch: [40] [ 600 /  937] D_loss: 0.36524996, G_loss: 3.33510256\n",
            "Epoch: [40] [ 700 /  937] D_loss: 0.37711000, G_loss: 3.07766390\n",
            "Epoch: [40] [ 800 /  937] D_loss: 0.39414632, G_loss: 3.82866645\n",
            "Epoch: [40] [ 900 /  937] D_loss: 0.48368260, G_loss: 2.12039852\n"
          ],
          "name": "stdout"
        },
        {
          "output_type": "stream",
          "text": [
            "WARNING:root:Lossy conversion from float64 to uint8. Range [0, 1]. Convert image to uint8 prior to saving to suppress this warning.\n"
          ],
          "name": "stderr"
        },
        {
          "output_type": "stream",
          "text": [
            "Epoch: [41] [ 100 /  937] D_loss: 0.54247421, G_loss: 2.55866718\n",
            "Epoch: [41] [ 200 /  937] D_loss: 0.42188799, G_loss: 2.77011132\n",
            "Epoch: [41] [ 300 /  937] D_loss: 0.44495353, G_loss: 2.99076629\n",
            "Epoch: [41] [ 400 /  937] D_loss: 0.34970295, G_loss: 3.21499443\n",
            "Epoch: [41] [ 500 /  937] D_loss: 0.37577298, G_loss: 3.08698940\n",
            "Epoch: [41] [ 600 /  937] D_loss: 0.55469722, G_loss: 3.02537251\n",
            "Epoch: [41] [ 700 /  937] D_loss: 0.39931637, G_loss: 2.52287745\n",
            "Epoch: [41] [ 800 /  937] D_loss: 0.41249016, G_loss: 3.03824472\n",
            "Epoch: [41] [ 900 /  937] D_loss: 0.51881170, G_loss: 2.69167423\n"
          ],
          "name": "stdout"
        },
        {
          "output_type": "stream",
          "text": [
            "WARNING:root:Lossy conversion from float64 to uint8. Range [0, 1]. Convert image to uint8 prior to saving to suppress this warning.\n"
          ],
          "name": "stderr"
        },
        {
          "output_type": "stream",
          "text": [
            "Epoch: [42] [ 100 /  937] D_loss: 0.40284055, G_loss: 2.56250572\n",
            "Epoch: [42] [ 200 /  937] D_loss: 0.26427329, G_loss: 3.75127864\n",
            "Epoch: [42] [ 300 /  937] D_loss: 0.59998512, G_loss: 3.07658362\n",
            "Epoch: [42] [ 400 /  937] D_loss: 0.60017312, G_loss: 2.77672052\n",
            "Epoch: [42] [ 500 /  937] D_loss: 0.35153612, G_loss: 3.28831005\n",
            "Epoch: [42] [ 600 /  937] D_loss: 0.41955125, G_loss: 3.00677156\n",
            "Epoch: [42] [ 700 /  937] D_loss: 0.47362316, G_loss: 2.98387504\n",
            "Epoch: [42] [ 800 /  937] D_loss: 0.32255816, G_loss: 3.57765222\n",
            "Epoch: [42] [ 900 /  937] D_loss: 0.43425816, G_loss: 2.98752069\n"
          ],
          "name": "stdout"
        },
        {
          "output_type": "stream",
          "text": [
            "WARNING:root:Lossy conversion from float64 to uint8. Range [0, 1]. Convert image to uint8 prior to saving to suppress this warning.\n"
          ],
          "name": "stderr"
        },
        {
          "output_type": "stream",
          "text": [
            "Epoch: [43] [ 100 /  937] D_loss: 0.31254366, G_loss: 3.43521881\n",
            "Epoch: [43] [ 200 /  937] D_loss: 0.61454141, G_loss: 2.44551063\n",
            "Epoch: [43] [ 300 /  937] D_loss: 0.76724577, G_loss: 2.75312948\n",
            "Epoch: [43] [ 400 /  937] D_loss: 0.50667298, G_loss: 2.96669054\n",
            "Epoch: [43] [ 500 /  937] D_loss: 0.39540839, G_loss: 2.43420219\n",
            "Epoch: [43] [ 600 /  937] D_loss: 0.47925290, G_loss: 2.81265950\n",
            "Epoch: [43] [ 700 /  937] D_loss: 0.47266227, G_loss: 3.13855481\n",
            "Epoch: [43] [ 800 /  937] D_loss: 0.38974702, G_loss: 2.61240768\n",
            "Epoch: [43] [ 900 /  937] D_loss: 0.35745946, G_loss: 3.31317282\n"
          ],
          "name": "stdout"
        },
        {
          "output_type": "stream",
          "text": [
            "WARNING:root:Lossy conversion from float64 to uint8. Range [0, 1]. Convert image to uint8 prior to saving to suppress this warning.\n"
          ],
          "name": "stderr"
        },
        {
          "output_type": "stream",
          "text": [
            "Epoch: [44] [ 100 /  937] D_loss: 0.33617789, G_loss: 4.10978508\n",
            "Epoch: [44] [ 200 /  937] D_loss: 0.45045641, G_loss: 3.46561241\n",
            "Epoch: [44] [ 300 /  937] D_loss: 0.39945933, G_loss: 3.19282889\n",
            "Epoch: [44] [ 400 /  937] D_loss: 0.41613582, G_loss: 2.94468355\n",
            "Epoch: [44] [ 500 /  937] D_loss: 0.38007402, G_loss: 2.80906153\n",
            "Epoch: [44] [ 600 /  937] D_loss: 0.49487776, G_loss: 3.01514387\n",
            "Epoch: [44] [ 700 /  937] D_loss: 0.26705793, G_loss: 3.35164404\n",
            "Epoch: [44] [ 800 /  937] D_loss: 0.47264647, G_loss: 3.23522592\n",
            "Epoch: [44] [ 900 /  937] D_loss: 0.28741843, G_loss: 3.50817800\n"
          ],
          "name": "stdout"
        },
        {
          "output_type": "stream",
          "text": [
            "WARNING:root:Lossy conversion from float64 to uint8. Range [0, 1]. Convert image to uint8 prior to saving to suppress this warning.\n"
          ],
          "name": "stderr"
        },
        {
          "output_type": "stream",
          "text": [
            "Epoch: [45] [ 100 /  937] D_loss: 0.33017659, G_loss: 3.21583486\n",
            "Epoch: [45] [ 200 /  937] D_loss: 0.38694113, G_loss: 3.03395629\n",
            "Epoch: [45] [ 300 /  937] D_loss: 0.52745181, G_loss: 3.28316617\n",
            "Epoch: [45] [ 400 /  937] D_loss: 0.30983174, G_loss: 3.22977829\n",
            "Epoch: [45] [ 500 /  937] D_loss: 0.67796838, G_loss: 3.25155592\n",
            "Epoch: [45] [ 600 /  937] D_loss: 0.43598619, G_loss: 3.08588862\n",
            "Epoch: [45] [ 700 /  937] D_loss: 0.57510525, G_loss: 2.30647969\n",
            "Epoch: [45] [ 800 /  937] D_loss: 0.27160811, G_loss: 3.75257158\n",
            "Epoch: [45] [ 900 /  937] D_loss: 0.25368190, G_loss: 3.32850337\n"
          ],
          "name": "stdout"
        },
        {
          "output_type": "stream",
          "text": [
            "WARNING:root:Lossy conversion from float64 to uint8. Range [0, 1]. Convert image to uint8 prior to saving to suppress this warning.\n"
          ],
          "name": "stderr"
        },
        {
          "output_type": "stream",
          "text": [
            "Epoch: [46] [ 100 /  937] D_loss: 0.52572966, G_loss: 2.35102296\n",
            "Epoch: [46] [ 200 /  937] D_loss: 0.48598126, G_loss: 3.35222769\n",
            "Epoch: [46] [ 300 /  937] D_loss: 0.51474756, G_loss: 3.62013674\n",
            "Epoch: [46] [ 400 /  937] D_loss: 0.40728325, G_loss: 3.27383256\n",
            "Epoch: [46] [ 500 /  937] D_loss: 0.28202820, G_loss: 2.84058762\n",
            "Epoch: [46] [ 600 /  937] D_loss: 0.51824147, G_loss: 2.57036686\n",
            "Epoch: [46] [ 700 /  937] D_loss: 0.43586498, G_loss: 3.17588806\n",
            "Epoch: [46] [ 800 /  937] D_loss: 0.37621444, G_loss: 3.36270118\n",
            "Epoch: [46] [ 900 /  937] D_loss: 0.45700741, G_loss: 3.05936956\n"
          ],
          "name": "stdout"
        },
        {
          "output_type": "stream",
          "text": [
            "WARNING:root:Lossy conversion from float64 to uint8. Range [0, 1]. Convert image to uint8 prior to saving to suppress this warning.\n"
          ],
          "name": "stderr"
        },
        {
          "output_type": "stream",
          "text": [
            "Epoch: [47] [ 100 /  937] D_loss: 0.56871819, G_loss: 3.25227070\n",
            "Epoch: [47] [ 200 /  937] D_loss: 0.56095892, G_loss: 2.66583610\n",
            "Epoch: [47] [ 300 /  937] D_loss: 0.37860116, G_loss: 2.76855707\n",
            "Epoch: [47] [ 400 /  937] D_loss: 0.56171560, G_loss: 3.40576792\n",
            "Epoch: [47] [ 500 /  937] D_loss: 0.30685002, G_loss: 3.21786880\n",
            "Epoch: [47] [ 600 /  937] D_loss: 0.40342203, G_loss: 3.15105820\n",
            "Epoch: [47] [ 700 /  937] D_loss: 0.51906717, G_loss: 2.89639854\n",
            "Epoch: [47] [ 800 /  937] D_loss: 0.29467735, G_loss: 3.10361481\n",
            "Epoch: [47] [ 900 /  937] D_loss: 0.43579638, G_loss: 2.87321997\n"
          ],
          "name": "stdout"
        },
        {
          "output_type": "stream",
          "text": [
            "WARNING:root:Lossy conversion from float64 to uint8. Range [0, 1]. Convert image to uint8 prior to saving to suppress this warning.\n"
          ],
          "name": "stderr"
        },
        {
          "output_type": "stream",
          "text": [
            "Epoch: [48] [ 100 /  937] D_loss: 0.47399074, G_loss: 3.56574464\n",
            "Epoch: [48] [ 200 /  937] D_loss: 0.30547971, G_loss: 3.41176796\n",
            "Epoch: [48] [ 300 /  937] D_loss: 0.44189754, G_loss: 3.38263988\n",
            "Epoch: [48] [ 400 /  937] D_loss: 0.58265340, G_loss: 2.60551786\n",
            "Epoch: [48] [ 500 /  937] D_loss: 0.42267984, G_loss: 2.56112075\n",
            "Epoch: [48] [ 600 /  937] D_loss: 0.36428055, G_loss: 3.09654284\n",
            "Epoch: [48] [ 700 /  937] D_loss: 0.28456956, G_loss: 3.21688461\n",
            "Epoch: [48] [ 800 /  937] D_loss: 0.39735007, G_loss: 2.49609160\n",
            "Epoch: [48] [ 900 /  937] D_loss: 0.40309709, G_loss: 3.02066207\n"
          ],
          "name": "stdout"
        },
        {
          "output_type": "stream",
          "text": [
            "WARNING:root:Lossy conversion from float64 to uint8. Range [0, 1]. Convert image to uint8 prior to saving to suppress this warning.\n"
          ],
          "name": "stderr"
        },
        {
          "output_type": "stream",
          "text": [
            "Epoch: [49] [ 100 /  937] D_loss: 0.36563337, G_loss: 3.06839085\n",
            "Epoch: [49] [ 200 /  937] D_loss: 0.29921621, G_loss: 3.36634398\n",
            "Epoch: [49] [ 300 /  937] D_loss: 0.43805075, G_loss: 3.30965185\n",
            "Epoch: [49] [ 400 /  937] D_loss: 0.35746992, G_loss: 3.44502115\n",
            "Epoch: [49] [ 500 /  937] D_loss: 0.50276601, G_loss: 3.32005239\n",
            "Epoch: [49] [ 600 /  937] D_loss: 0.52308202, G_loss: 2.97011852\n",
            "Epoch: [49] [ 700 /  937] D_loss: 0.47944140, G_loss: 3.19385529\n",
            "Epoch: [49] [ 800 /  937] D_loss: 0.50139546, G_loss: 2.93751407\n",
            "Epoch: [49] [ 900 /  937] D_loss: 0.42214563, G_loss: 2.94642901\n"
          ],
          "name": "stdout"
        },
        {
          "output_type": "stream",
          "text": [
            "WARNING:root:Lossy conversion from float64 to uint8. Range [0, 1]. Convert image to uint8 prior to saving to suppress this warning.\n"
          ],
          "name": "stderr"
        },
        {
          "output_type": "stream",
          "text": [
            "Epoch: [50] [ 100 /  937] D_loss: 0.31014949, G_loss: 3.06001711\n",
            "Epoch: [50] [ 200 /  937] D_loss: 0.20022631, G_loss: 3.55547738\n",
            "Epoch: [50] [ 300 /  937] D_loss: 0.32551610, G_loss: 3.54234219\n",
            "Epoch: [50] [ 400 /  937] D_loss: 0.32248542, G_loss: 2.67325997\n",
            "Epoch: [50] [ 500 /  937] D_loss: 0.40126663, G_loss: 2.95618939\n",
            "Epoch: [50] [ 600 /  937] D_loss: 0.32500321, G_loss: 3.32596493\n",
            "Epoch: [50] [ 700 /  937] D_loss: 0.68506753, G_loss: 2.36630869\n",
            "Epoch: [50] [ 800 /  937] D_loss: 0.49729437, G_loss: 3.04530668\n",
            "Epoch: [50] [ 900 /  937] D_loss: 0.42353934, G_loss: 3.07672691\n"
          ],
          "name": "stdout"
        },
        {
          "output_type": "stream",
          "text": [
            "WARNING:root:Lossy conversion from float64 to uint8. Range [0, 1]. Convert image to uint8 prior to saving to suppress this warning.\n"
          ],
          "name": "stderr"
        },
        {
          "output_type": "stream",
          "text": [
            "Avg one epoch time: 22.04, total 50 epochs time: 1103.22\n",
            "Training finish! Saved training results\n"
          ],
          "name": "stdout"
        },
        {
          "output_type": "stream",
          "text": [
            "WARNING:root:Lossy conversion from float64 to uint8. Range [0, 1]. Convert image to uint8 prior to saving to suppress this warning.\n"
          ],
          "name": "stderr"
        },
        {
          "output_type": "stream",
          "text": [
            " [**] Training finished!\n",
            " [**] Testing finished!\n"
          ],
          "name": "stdout"
        }
      ]
    },
    {
      "cell_type": "code",
      "metadata": {
        "id": "MLjgsszQUS7v",
        "colab_type": "code",
        "colab": {
          "base_uri": "https://localhost:8080/",
          "height": 35
        },
        "outputId": "e9f8d4ca-f4b6-4be2-a96f-3fa0b2b27c43"
      },
      "source": [
        "!ls"
      ],
      "execution_count": 15,
      "outputs": [
        {
          "output_type": "stream",
          "text": [
            "data  models  results  sample_data\n"
          ],
          "name": "stdout"
        }
      ]
    },
    {
      "cell_type": "code",
      "metadata": {
        "id": "Z3Na3G-f7bFp",
        "colab_type": "code",
        "colab": {
          "base_uri": "https://localhost:8080/",
          "height": 1000
        },
        "outputId": "b532c30d-4027-4ec0-bbd8-591c5809b396"
      },
      "source": [
        "for root, dirs, files in os.walk(\".\"):\n",
        "  for filename in files:\n",
        "    print(filename)"
      ],
      "execution_count": 16,
      "outputs": [
        {
          "output_type": "stream",
          "text": [
            "gce\n",
            "active_config\n",
            ".last_update_check.json\n",
            "config_sentinel\n",
            ".metricsUUID\n",
            "16.14.41.015054.log\n",
            "16.14.45.276304.log\n",
            "16.14.31.463203.log\n",
            "16.14.26.516115.log\n",
            "16.14.44.238575.log\n",
            "config_default\n",
            "GAN_D.pkl\n",
            "GAN_G.pkl\n",
            "GAN_history.pkl\n",
            "GAN_loss.png\n",
            "t10k-labels-idx1-ubyte\n",
            "t10k-images-idx3-ubyte\n",
            "train-images-idx3-ubyte\n",
            "train-labels-idx1-ubyte\n",
            "test.pt\n",
            "training.pt\n",
            "GAN_epoch024.png\n",
            "GAN_epoch015.png\n",
            "GAN_epoch012.png\n",
            "GAN_epoch029.png\n",
            "GAN_epoch004.png\n",
            "GAN_epoch039.png\n",
            "GAN_epoch011.png\n",
            "GAN_epoch049.png\n",
            "GAN_epoch047.png\n",
            "GAN_epoch018.png\n",
            "GAN_epoch025.png\n",
            "GAN_epoch036.png\n",
            "GAN_epoch030.png\n",
            "GAN_epoch034.png\n",
            "GAN_epoch040.png\n",
            "GAN_epoch008.png\n",
            "GAN_epoch035.png\n",
            "GAN_epoch026.png\n",
            "GAN_epoch027.png\n",
            "GAN_epoch013.png\n",
            "GAN_epoch043.png\n",
            "GAN_epoch050.png\n",
            "GAN_epoch017.png\n",
            "GAN_epoch006.png\n",
            "GAN_epoch003.png\n",
            "GAN_epoch044.png\n",
            "GAN_epoch019.png\n",
            "GAN_epoch010.png\n",
            "GAN_epoch045.png\n",
            "GAN_epoch028.png\n",
            "GAN_epoch031.png\n",
            "GAN_epoch046.png\n",
            "GAN_epoch022.png\n",
            "GAN_epoch014.png\n",
            "GAN_epoch037.png\n",
            "GAN_epoch032.png\n",
            "GAN_epoch023.png\n",
            "GAN_epoch038.png\n",
            "GAN_epoch005.png\n",
            "GAN_epoch021.png\n",
            "GAN_epoch001.png\n",
            "GAN_epoch007.png\n",
            "GAN_epoch041.png\n",
            "GAN_epoch033.png\n",
            "GAN_epoch020.png\n",
            "GAN_epoch009.png\n",
            "GAN_epoch048.png\n",
            "GAN_epoch002.png\n",
            "GAN_epoch016.png\n",
            "GAN_generate_animation.gif\n",
            "GAN_epoch042.png\n",
            "README.md\n",
            "anscombe.json\n",
            "mnist_test.csv\n",
            "california_housing_test.csv\n",
            "california_housing_train.csv\n",
            "mnist_train_small.csv\n"
          ],
          "name": "stdout"
        }
      ]
    },
    {
      "cell_type": "code",
      "metadata": {
        "id": "mAewf7e18RS5",
        "colab_type": "code",
        "colab": {
          "base_uri": "https://localhost:8080/",
          "height": 269
        },
        "outputId": "fe857d59-f245-433e-dd69-31536074b2c1"
      },
      "source": [
        "import cv2\n",
        "import matplotlib.pyplot as plt\n",
        "\n",
        "im = cv2.imread('/content/results/fashion-mnist/GAN/GAN_epoch001.png')\n",
        "im_resized = cv2.resize(im, (224, 224), interpolation=cv2.INTER_LINEAR)\n",
        "\n",
        "\n",
        "plt.imshow(cv2.cvtColor(im_resized, cv2.COLOR_BGR2RGB))\n",
        "plt.show()"
      ],
      "execution_count": 18,
      "outputs": [
        {
          "output_type": "display_data",
          "data": {
            "image/png": "[encoded data removed]",
            "text/plain": [
              "<Figure size 432x288 with 1 Axes>"
            ]
          },
          "metadata": {
            "tags": []
          }
        }
      ]
    },
    {
      "cell_type": "code",
      "metadata": {
        "id": "bDKe-UD19FLx",
        "colab_type": "code",
        "colab": {
          "base_uri": "https://localhost:8080/",
          "height": 269
        },
        "outputId": "3a2d2c3e-a6e5-4003-e747-1392b4013ddd"
      },
      "source": [
        "im = cv2.imread('/content/results/fashion-mnist/GAN/GAN_epoch050.png')\n",
        "im_resized = cv2.resize(im, (224, 224), interpolation=cv2.INTER_LINEAR)\n",
        "\n",
        "plt.imshow(cv2.cvtColor(im_resized, cv2.COLOR_BGR2RGB))\n",
        "plt.show()"
      ],
      "execution_count": 19,
      "outputs": [
        {
          "output_type": "display_data",
          "data": {
            "image/png": "[encoded data removed]",
            "text/plain": [
              "<Figure size 432x288 with 1 Axes>"
            ]
          },
          "metadata": {
            "tags": []
          }
        }
      ]
    },
    {
      "cell_type": "code",
      "metadata": {
        "id": "HgG6tzwBKTVW",
        "colab_type": "code",
        "colab": {
          "base_uri": "https://localhost:8080/",
          "height": 269
        },
        "outputId": "cd8842d4-451d-443e-936b-6be163bd5187"
      },
      "source": [
        "import matplotlib.image as mpimg\n",
        "img=mpimg.imread('/content/models/fashion-mnist/GAN/GAN_loss.png')\n",
        "imgplot = plt.imshow(img)\n",
        "plt.show()"
      ],
      "execution_count": 20,
      "outputs": [
        {
          "output_type": "display_data",
          "data": {
            "image/png": "[encoded data removed]",
            "text/plain": [
              "<Figure size 432x288 with 1 Axes>"
            ]
          },
          "metadata": {
            "tags": []
          }
        }
      ]
    }
  ]
}